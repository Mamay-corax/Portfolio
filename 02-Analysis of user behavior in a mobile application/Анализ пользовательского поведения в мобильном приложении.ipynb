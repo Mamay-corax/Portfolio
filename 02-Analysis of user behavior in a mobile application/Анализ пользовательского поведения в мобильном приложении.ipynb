{
 "cells": [
  {
   "cell_type": "markdown",
   "metadata": {},
   "source": [
    "<h3> Мобильное приложение продаж продуктов питания <a class=\"tocSkip\"> </h3>\n",
    "\n",
    "**Цель проекта:** отследить поведение пользователей приложения, построить воронку событий и оценить результаты A/A/B-теста.\n",
    "    \n",
    "**Входные данные:** Логи действий пользователей, то есть, события с привязкой к индентификатор:\n",
    "    \n",
    "    1) Название события;\n",
    "    2) Уникальный идентификатор события;\n",
    "    3) Время события;\n",
    "    4) Группа эксперимента.\n",
    "    \n",
    "**Работа состоит из:**\n",
    "* Загрузки данных, ознакомления с ними;\n",
    "    \n",
    "* Подготовки и предобработки данных, удаления дублируемой информации;\n",
    "    \n",
    "* Анализа и проверки данных;\n",
    "    \n",
    "* Изучения и составления воронки событий;\n",
    "    \n",
    "* Оценки результатов эксперимента A/A/B-теста.\n",
    "    \n",
    "*Проект подготовил: Мамаев П.Р.*"
   ]
  },
  {
   "cell_type": "markdown",
   "metadata": {},
   "source": [
    "## Загрузка данных"
   ]
  },
  {
   "cell_type": "markdown",
   "metadata": {},
   "source": [
    "### Импортируем необходимые для работы библиотеки"
   ]
  },
  {
   "cell_type": "code",
   "execution_count": 1,
   "metadata": {},
   "outputs": [],
   "source": [
    "import pandas as pd\n",
    "import scipy.stats as st\n",
    "import datetime as dt\n",
    "import math as mth\n",
    "import numpy as np\n",
    "import matplotlib.pyplot as plt\n",
    "import plotly.express as px\n",
    "import seaborn as sns"
   ]
  },
  {
   "cell_type": "markdown",
   "metadata": {},
   "source": [
    "### Загрузим логи данных"
   ]
  },
  {
   "cell_type": "code",
   "execution_count": 2,
   "metadata": {},
   "outputs": [],
   "source": [
    "log = pd.read_csv('/datasets/logs_exp.csv',  sep='\\t')"
   ]
  },
  {
   "cell_type": "markdown",
   "metadata": {},
   "source": [
    "### Изучим общую информацию"
   ]
  },
  {
   "cell_type": "code",
   "execution_count": 3,
   "metadata": {},
   "outputs": [
    {
     "data": {
      "text/html": [
       "<div>\n",
       "<style scoped>\n",
       "    .dataframe tbody tr th:only-of-type {\n",
       "        vertical-align: middle;\n",
       "    }\n",
       "\n",
       "    .dataframe tbody tr th {\n",
       "        vertical-align: top;\n",
       "    }\n",
       "\n",
       "    .dataframe thead th {\n",
       "        text-align: right;\n",
       "    }\n",
       "</style>\n",
       "<table border=\"1\" class=\"dataframe\">\n",
       "  <thead>\n",
       "    <tr style=\"text-align: right;\">\n",
       "      <th></th>\n",
       "      <th>EventName</th>\n",
       "      <th>DeviceIDHash</th>\n",
       "      <th>EventTimestamp</th>\n",
       "      <th>ExpId</th>\n",
       "    </tr>\n",
       "  </thead>\n",
       "  <tbody>\n",
       "    <tr>\n",
       "      <th>0</th>\n",
       "      <td>MainScreenAppear</td>\n",
       "      <td>4575588528974610257</td>\n",
       "      <td>1564029816</td>\n",
       "      <td>246</td>\n",
       "    </tr>\n",
       "    <tr>\n",
       "      <th>1</th>\n",
       "      <td>MainScreenAppear</td>\n",
       "      <td>7416695313311560658</td>\n",
       "      <td>1564053102</td>\n",
       "      <td>246</td>\n",
       "    </tr>\n",
       "    <tr>\n",
       "      <th>2</th>\n",
       "      <td>PaymentScreenSuccessful</td>\n",
       "      <td>3518123091307005509</td>\n",
       "      <td>1564054127</td>\n",
       "      <td>248</td>\n",
       "    </tr>\n",
       "    <tr>\n",
       "      <th>3</th>\n",
       "      <td>CartScreenAppear</td>\n",
       "      <td>3518123091307005509</td>\n",
       "      <td>1564054127</td>\n",
       "      <td>248</td>\n",
       "    </tr>\n",
       "    <tr>\n",
       "      <th>4</th>\n",
       "      <td>PaymentScreenSuccessful</td>\n",
       "      <td>6217807653094995999</td>\n",
       "      <td>1564055322</td>\n",
       "      <td>248</td>\n",
       "    </tr>\n",
       "    <tr>\n",
       "      <th>5</th>\n",
       "      <td>CartScreenAppear</td>\n",
       "      <td>6217807653094995999</td>\n",
       "      <td>1564055323</td>\n",
       "      <td>248</td>\n",
       "    </tr>\n",
       "    <tr>\n",
       "      <th>6</th>\n",
       "      <td>OffersScreenAppear</td>\n",
       "      <td>8351860793733343758</td>\n",
       "      <td>1564066242</td>\n",
       "      <td>246</td>\n",
       "    </tr>\n",
       "    <tr>\n",
       "      <th>7</th>\n",
       "      <td>MainScreenAppear</td>\n",
       "      <td>5682100281902512875</td>\n",
       "      <td>1564085677</td>\n",
       "      <td>246</td>\n",
       "    </tr>\n",
       "    <tr>\n",
       "      <th>8</th>\n",
       "      <td>MainScreenAppear</td>\n",
       "      <td>1850981295691852772</td>\n",
       "      <td>1564086702</td>\n",
       "      <td>247</td>\n",
       "    </tr>\n",
       "    <tr>\n",
       "      <th>9</th>\n",
       "      <td>MainScreenAppear</td>\n",
       "      <td>5407636962369102641</td>\n",
       "      <td>1564112112</td>\n",
       "      <td>246</td>\n",
       "    </tr>\n",
       "  </tbody>\n",
       "</table>\n",
       "</div>"
      ],
      "text/plain": [
       "                 EventName         DeviceIDHash  EventTimestamp  ExpId\n",
       "0         MainScreenAppear  4575588528974610257      1564029816    246\n",
       "1         MainScreenAppear  7416695313311560658      1564053102    246\n",
       "2  PaymentScreenSuccessful  3518123091307005509      1564054127    248\n",
       "3         CartScreenAppear  3518123091307005509      1564054127    248\n",
       "4  PaymentScreenSuccessful  6217807653094995999      1564055322    248\n",
       "5         CartScreenAppear  6217807653094995999      1564055323    248\n",
       "6       OffersScreenAppear  8351860793733343758      1564066242    246\n",
       "7         MainScreenAppear  5682100281902512875      1564085677    246\n",
       "8         MainScreenAppear  1850981295691852772      1564086702    247\n",
       "9         MainScreenAppear  5407636962369102641      1564112112    246"
      ]
     },
     "execution_count": 3,
     "metadata": {},
     "output_type": "execute_result"
    }
   ],
   "source": [
    "log.head(10)"
   ]
  },
  {
   "cell_type": "code",
   "execution_count": 4,
   "metadata": {},
   "outputs": [
    {
     "name": "stdout",
     "output_type": "stream",
     "text": [
      "<class 'pandas.core.frame.DataFrame'>\n",
      "RangeIndex: 244126 entries, 0 to 244125\n",
      "Data columns (total 4 columns):\n",
      " #   Column          Non-Null Count   Dtype \n",
      "---  ------          --------------   ----- \n",
      " 0   EventName       244126 non-null  object\n",
      " 1   DeviceIDHash    244126 non-null  int64 \n",
      " 2   EventTimestamp  244126 non-null  int64 \n",
      " 3   ExpId           244126 non-null  int64 \n",
      "dtypes: int64(3), object(1)\n",
      "memory usage: 7.5+ MB\n"
     ]
    }
   ],
   "source": [
    "log.info()"
   ]
  },
  {
   "cell_type": "markdown",
   "metadata": {},
   "source": [
    "Изменим названия столбцов и переведём на нижний регистр.\n",
    "\n",
    "Формат столбца с датой изменим на читабельный для человека. \n",
    "\n",
    "Всего у нас чуть более *244* тысяч записей."
   ]
  },
  {
   "cell_type": "markdown",
   "metadata": {},
   "source": [
    "## Подготовка и предобработка данных"
   ]
  },
  {
   "cell_type": "markdown",
   "metadata": {},
   "source": [
    "### Изменение регистра и формата данных"
   ]
  },
  {
   "cell_type": "code",
   "execution_count": 5,
   "metadata": {},
   "outputs": [],
   "source": [
    "log.columns = ['event_name', 'user_id', 'dt', 'group']\n",
    "log['dt'] = pd.to_datetime(log['dt'], unit='s')"
   ]
  },
  {
   "cell_type": "code",
   "execution_count": 6,
   "metadata": {},
   "outputs": [
    {
     "data": {
      "text/html": [
       "<div>\n",
       "<style scoped>\n",
       "    .dataframe tbody tr th:only-of-type {\n",
       "        vertical-align: middle;\n",
       "    }\n",
       "\n",
       "    .dataframe tbody tr th {\n",
       "        vertical-align: top;\n",
       "    }\n",
       "\n",
       "    .dataframe thead th {\n",
       "        text-align: right;\n",
       "    }\n",
       "</style>\n",
       "<table border=\"1\" class=\"dataframe\">\n",
       "  <thead>\n",
       "    <tr style=\"text-align: right;\">\n",
       "      <th></th>\n",
       "      <th>event_name</th>\n",
       "      <th>user_id</th>\n",
       "      <th>dt</th>\n",
       "      <th>group</th>\n",
       "    </tr>\n",
       "  </thead>\n",
       "  <tbody>\n",
       "    <tr>\n",
       "      <th>0</th>\n",
       "      <td>MainScreenAppear</td>\n",
       "      <td>4575588528974610257</td>\n",
       "      <td>2019-07-25 04:43:36</td>\n",
       "      <td>246</td>\n",
       "    </tr>\n",
       "    <tr>\n",
       "      <th>1</th>\n",
       "      <td>MainScreenAppear</td>\n",
       "      <td>7416695313311560658</td>\n",
       "      <td>2019-07-25 11:11:42</td>\n",
       "      <td>246</td>\n",
       "    </tr>\n",
       "    <tr>\n",
       "      <th>2</th>\n",
       "      <td>PaymentScreenSuccessful</td>\n",
       "      <td>3518123091307005509</td>\n",
       "      <td>2019-07-25 11:28:47</td>\n",
       "      <td>248</td>\n",
       "    </tr>\n",
       "    <tr>\n",
       "      <th>3</th>\n",
       "      <td>CartScreenAppear</td>\n",
       "      <td>3518123091307005509</td>\n",
       "      <td>2019-07-25 11:28:47</td>\n",
       "      <td>248</td>\n",
       "    </tr>\n",
       "    <tr>\n",
       "      <th>4</th>\n",
       "      <td>PaymentScreenSuccessful</td>\n",
       "      <td>6217807653094995999</td>\n",
       "      <td>2019-07-25 11:48:42</td>\n",
       "      <td>248</td>\n",
       "    </tr>\n",
       "  </tbody>\n",
       "</table>\n",
       "</div>"
      ],
      "text/plain": [
       "                event_name              user_id                  dt  group\n",
       "0         MainScreenAppear  4575588528974610257 2019-07-25 04:43:36    246\n",
       "1         MainScreenAppear  7416695313311560658 2019-07-25 11:11:42    246\n",
       "2  PaymentScreenSuccessful  3518123091307005509 2019-07-25 11:28:47    248\n",
       "3         CartScreenAppear  3518123091307005509 2019-07-25 11:28:47    248\n",
       "4  PaymentScreenSuccessful  6217807653094995999 2019-07-25 11:48:42    248"
      ]
     },
     "execution_count": 6,
     "metadata": {},
     "output_type": "execute_result"
    }
   ],
   "source": [
    "log.head()"
   ]
  },
  {
   "cell_type": "markdown",
   "metadata": {},
   "source": [
    "Названия столбцов изменены, формат записи времени в `dt` также изменён."
   ]
  },
  {
   "cell_type": "markdown",
   "metadata": {},
   "source": [
    "### Поиск пропусков и дубликатов"
   ]
  },
  {
   "cell_type": "code",
   "execution_count": 7,
   "metadata": {},
   "outputs": [
    {
     "data": {
      "text/plain": [
       "event_name    0\n",
       "user_id       0\n",
       "dt            0\n",
       "group         0\n",
       "dtype: int64"
      ]
     },
     "execution_count": 7,
     "metadata": {},
     "output_type": "execute_result"
    }
   ],
   "source": [
    "log.isna().sum()"
   ]
  },
  {
   "cell_type": "markdown",
   "metadata": {},
   "source": [
    "Пропуски отсутствуют, замечательно."
   ]
  },
  {
   "cell_type": "code",
   "execution_count": 8,
   "metadata": {},
   "outputs": [
    {
     "data": {
      "text/plain": [
       "413"
      ]
     },
     "execution_count": 8,
     "metadata": {},
     "output_type": "execute_result"
    }
   ],
   "source": [
    "log.duplicated().sum()"
   ]
  },
  {
   "cell_type": "markdown",
   "metadata": {},
   "source": [
    "Но, к сожалению, 413 записей дублируются. Однако, исходя из того, что записей у нас более 244 тысяч, 413 ничтожно малое число. Можем спокойно избавиться от них."
   ]
  },
  {
   "cell_type": "code",
   "execution_count": 9,
   "metadata": {},
   "outputs": [],
   "source": [
    "log = log.drop_duplicates()"
   ]
  },
  {
   "cell_type": "markdown",
   "metadata": {},
   "source": [
    "### Добавление столбца с датой"
   ]
  },
  {
   "cell_type": "markdown",
   "metadata": {},
   "source": [
    "Для удобства дальнейшей работы, добавим ещё один столбец с датой."
   ]
  },
  {
   "cell_type": "code",
   "execution_count": 10,
   "metadata": {},
   "outputs": [
    {
     "data": {
      "text/html": [
       "<div>\n",
       "<style scoped>\n",
       "    .dataframe tbody tr th:only-of-type {\n",
       "        vertical-align: middle;\n",
       "    }\n",
       "\n",
       "    .dataframe tbody tr th {\n",
       "        vertical-align: top;\n",
       "    }\n",
       "\n",
       "    .dataframe thead th {\n",
       "        text-align: right;\n",
       "    }\n",
       "</style>\n",
       "<table border=\"1\" class=\"dataframe\">\n",
       "  <thead>\n",
       "    <tr style=\"text-align: right;\">\n",
       "      <th></th>\n",
       "      <th>event_name</th>\n",
       "      <th>user_id</th>\n",
       "      <th>dt</th>\n",
       "      <th>group</th>\n",
       "      <th>date</th>\n",
       "    </tr>\n",
       "  </thead>\n",
       "  <tbody>\n",
       "    <tr>\n",
       "      <th>0</th>\n",
       "      <td>MainScreenAppear</td>\n",
       "      <td>4575588528974610257</td>\n",
       "      <td>2019-07-25 04:43:36</td>\n",
       "      <td>246</td>\n",
       "      <td>2019-07-25</td>\n",
       "    </tr>\n",
       "    <tr>\n",
       "      <th>1</th>\n",
       "      <td>MainScreenAppear</td>\n",
       "      <td>7416695313311560658</td>\n",
       "      <td>2019-07-25 11:11:42</td>\n",
       "      <td>246</td>\n",
       "      <td>2019-07-25</td>\n",
       "    </tr>\n",
       "    <tr>\n",
       "      <th>2</th>\n",
       "      <td>PaymentScreenSuccessful</td>\n",
       "      <td>3518123091307005509</td>\n",
       "      <td>2019-07-25 11:28:47</td>\n",
       "      <td>248</td>\n",
       "      <td>2019-07-25</td>\n",
       "    </tr>\n",
       "    <tr>\n",
       "      <th>3</th>\n",
       "      <td>CartScreenAppear</td>\n",
       "      <td>3518123091307005509</td>\n",
       "      <td>2019-07-25 11:28:47</td>\n",
       "      <td>248</td>\n",
       "      <td>2019-07-25</td>\n",
       "    </tr>\n",
       "    <tr>\n",
       "      <th>4</th>\n",
       "      <td>PaymentScreenSuccessful</td>\n",
       "      <td>6217807653094995999</td>\n",
       "      <td>2019-07-25 11:48:42</td>\n",
       "      <td>248</td>\n",
       "      <td>2019-07-25</td>\n",
       "    </tr>\n",
       "  </tbody>\n",
       "</table>\n",
       "</div>"
      ],
      "text/plain": [
       "                event_name              user_id                  dt  group  \\\n",
       "0         MainScreenAppear  4575588528974610257 2019-07-25 04:43:36    246   \n",
       "1         MainScreenAppear  7416695313311560658 2019-07-25 11:11:42    246   \n",
       "2  PaymentScreenSuccessful  3518123091307005509 2019-07-25 11:28:47    248   \n",
       "3         CartScreenAppear  3518123091307005509 2019-07-25 11:28:47    248   \n",
       "4  PaymentScreenSuccessful  6217807653094995999 2019-07-25 11:48:42    248   \n",
       "\n",
       "        date  \n",
       "0 2019-07-25  \n",
       "1 2019-07-25  \n",
       "2 2019-07-25  \n",
       "3 2019-07-25  \n",
       "4 2019-07-25  "
      ]
     },
     "execution_count": 10,
     "metadata": {},
     "output_type": "execute_result"
    }
   ],
   "source": [
    "log['date'] = log['dt'].dt.date\n",
    "log['date'] = pd.to_datetime(log['date'], format='%Y-%m-%d')\n",
    "log.head()"
   ]
  },
  {
   "cell_type": "markdown",
   "metadata": {},
   "source": [
    "Отлично, теперь данные готовы и можно приступать к анализу."
   ]
  },
  {
   "cell_type": "markdown",
   "metadata": {},
   "source": [
    "### Вывод по п.2"
   ]
  },
  {
   "cell_type": "markdown",
   "metadata": {},
   "source": [
    "Данные таблицы были успешно загружены, изучены и переведены в удобный для работы формат. Также был выполнен поиск пропусков и дубликатов в таблице. Пропуски отсутствовали, дублируемая информаци была удалена, добавили отдельный столбец с датой."
   ]
  },
  {
   "cell_type": "markdown",
   "metadata": {},
   "source": [
    "## Анализ и проверка данных"
   ]
  },
  {
   "cell_type": "markdown",
   "metadata": {},
   "source": [
    "### Анализ данных"
   ]
  },
  {
   "cell_type": "markdown",
   "metadata": {},
   "source": [
    "#### Количество событий в таблице"
   ]
  },
  {
   "cell_type": "markdown",
   "metadata": {},
   "source": [
    "Так как в распоряжении мы имеем файл с логами событий, значит, каждая его строка и есть отдельно событие.\n"
   ]
  },
  {
   "cell_type": "code",
   "execution_count": 11,
   "metadata": {},
   "outputs": [
    {
     "name": "stdout",
     "output_type": "stream",
     "text": [
      "<class 'pandas.core.frame.DataFrame'>\n",
      "Int64Index: 243713 entries, 0 to 244125\n",
      "Data columns (total 5 columns):\n",
      " #   Column      Non-Null Count   Dtype         \n",
      "---  ------      --------------   -----         \n",
      " 0   event_name  243713 non-null  object        \n",
      " 1   user_id     243713 non-null  int64         \n",
      " 2   dt          243713 non-null  datetime64[ns]\n",
      " 3   group       243713 non-null  int64         \n",
      " 4   date        243713 non-null  datetime64[ns]\n",
      "dtypes: datetime64[ns](2), int64(2), object(1)\n",
      "memory usage: 11.2+ MB\n"
     ]
    }
   ],
   "source": [
    "log.info()"
   ]
  },
  {
   "cell_type": "markdown",
   "metadata": {},
   "source": [
    "Всего **243713** событий в таблице."
   ]
  },
  {
   "cell_type": "markdown",
   "metadata": {},
   "source": [
    "#### Количество пользователей в таблице"
   ]
  },
  {
   "cell_type": "code",
   "execution_count": 12,
   "metadata": {},
   "outputs": [
    {
     "data": {
      "text/plain": [
       "7551"
      ]
     },
     "execution_count": 12,
     "metadata": {},
     "output_type": "execute_result"
    }
   ],
   "source": [
    "uniq_users = log['user_id'].nunique()\n",
    "uniq_users"
   ]
  },
  {
   "cell_type": "markdown",
   "metadata": {},
   "source": [
    "**7551** уникальный пользователь в таблице на данный момент."
   ]
  },
  {
   "cell_type": "markdown",
   "metadata": {},
   "source": [
    "#### Среднее количество событий на пользователя"
   ]
  },
  {
   "cell_type": "code",
   "execution_count": 13,
   "metadata": {},
   "outputs": [
    {
     "data": {
      "text/plain": [
       "dt    32.275593\n",
       "dtype: float64"
      ]
     },
     "execution_count": 13,
     "metadata": {},
     "output_type": "execute_result"
    }
   ],
   "source": [
    "event_per_user = log.pivot_table(index='user_id', values='dt', aggfunc='count')\n",
    "event_per_user.mean()"
   ]
  },
  {
   "cell_type": "markdown",
   "metadata": {},
   "source": [
    "Среднее количество событий на одного пользователя равно *32*."
   ]
  },
  {
   "cell_type": "markdown",
   "metadata": {},
   "source": [
    "#### Временной диапазон"
   ]
  },
  {
   "cell_type": "markdown",
   "metadata": {},
   "source": [
    "Для начала, определим длительность теста, найдем минимальную и максимальную дату."
   ]
  },
  {
   "cell_type": "code",
   "execution_count": 14,
   "metadata": {},
   "outputs": [
    {
     "data": {
      "text/plain": [
       "(Timestamp('2019-07-25 00:00:00'), Timestamp('2019-08-07 00:00:00'))"
      ]
     },
     "execution_count": 14,
     "metadata": {},
     "output_type": "execute_result"
    }
   ],
   "source": [
    "min_date = log['date'].min()\n",
    "max_date = log['date'].max()\n",
    "min_date, max_date"
   ]
  },
  {
   "cell_type": "code",
   "execution_count": 15,
   "metadata": {},
   "outputs": [
    {
     "data": {
      "text/plain": [
       "Timedelta('13 days 00:00:00')"
      ]
     },
     "execution_count": 15,
     "metadata": {},
     "output_type": "execute_result"
    }
   ],
   "source": [
    "max_date - min_date"
   ]
  },
  {
   "cell_type": "markdown",
   "metadata": {},
   "source": [
    "Тест начался `25 июля 2019`, закончился `7 августа 2019`. Длился тест `13 дней`.\n",
    "\n",
    "Теперь найдем распределение количества событий по дате в зависимости от группы эксперимента."
   ]
  },
  {
   "cell_type": "code",
   "execution_count": 16,
   "metadata": {},
   "outputs": [
    {
     "data": {
      "image/png": "[encoded data removed]",
      "text/plain": [
       "<Figure size 1080x360 with 1 Axes>"
      ]
     },
     "metadata": {
      "needs_background": "light"
     },
     "output_type": "display_data"
    }
   ],
   "source": [
    "group_by_date = (\n",
    "    log\n",
    "    .pivot_table(index='date', columns='group', values='dt', aggfunc='count')\n",
    "    .plot(grid=True, style='-o', figsize=(15, 5), alpha=0.6, legend=True,)\n",
    ")\n",
    "plt.title('Распределение количества событий по дате в зависимости от группы эксперимента')\n",
    "plt.xlabel('Дата')\n",
    "plt.ylabel('Количество событий')\n",
    "plt.show()"
   ]
  },
  {
   "cell_type": "markdown",
   "metadata": {},
   "source": [
    "И графика видно, что в первую неделю событий минимальное количество, зато во второй половине теста их для каждой группы всегда более 10 тысяч. Проблема может быть в том, что события \"доезжают\" только позже из-за некоторых ошибок на сервере.\n",
    "\n",
    "Ещё на графике видно, что экспериментальная группа 248 с другим шрифтом совершает больше других групп событий в течение периода работы теста."
   ]
  },
  {
   "cell_type": "markdown",
   "metadata": {},
   "source": [
    "Построим гистрограмму распределения количества событий по часам 31 июля."
   ]
  },
  {
   "cell_type": "code",
   "execution_count": 17,
   "metadata": {},
   "outputs": [
    {
     "data": {
      "image/png": "[encoded data removed]",
      "text/plain": [
       "<Figure size 1080x360 with 1 Axes>"
      ]
     },
     "metadata": {
      "needs_background": "light"
     },
     "output_type": "display_data"
    }
   ],
   "source": [
    "july_31 = log.query('date == \"2019-07-31\"')\n",
    "july_31['dt'].dt.hour.hist(bins=24, figsize=(15, 5))\n",
    "plt.xticks(range(0, 23))\n",
    "plt.title('Распределение количества событий по часам 31 июля')\n",
    "plt.xlabel('Время в часах')\n",
    "plt.ylabel('Количество событий')\n",
    "plt.show()"
   ]
  },
  {
   "cell_type": "markdown",
   "metadata": {},
   "source": [
    "Из графика гистограммы видно, что бОльшее количество событий 31 июля приходится на ночное время.\n",
    "\n",
    "Для сравнения, построим график распределения событий для 1 августа."
   ]
  },
  {
   "cell_type": "code",
   "execution_count": 18,
   "metadata": {},
   "outputs": [
    {
     "data": {
      "image/png": "[encoded data removed]",
      "text/plain": [
       "<Figure size 1080x360 with 1 Axes>"
      ]
     },
     "metadata": {
      "needs_background": "light"
     },
     "output_type": "display_data"
    }
   ],
   "source": [
    "august_1 = log.query('date == \"2019-08-01\"')\n",
    "august_1['dt'].dt.hour.hist(bins=24, figsize=(15, 5))\n",
    "plt.xticks(range(0, 23))\n",
    "plt.title('Распределение количества событий по часам 31 июля')\n",
    "plt.xlabel('Время в часах')\n",
    "plt.ylabel('Количество событий')\n",
    "plt.show()"
   ]
  },
  {
   "cell_type": "markdown",
   "metadata": {},
   "source": [
    "Тогда как для 1 августа основное количество событий приходится на дневное время суток. Данные за июль будут искажать основную информацию, потому именно от них лучше избавиться."
   ]
  },
  {
   "cell_type": "markdown",
   "metadata": {},
   "source": [
    "### Проверка данных"
   ]
  },
  {
   "cell_type": "markdown",
   "metadata": {},
   "source": [
    "#### Количество потерянных данных"
   ]
  },
  {
   "cell_type": "code",
   "execution_count": 19,
   "metadata": {},
   "outputs": [],
   "source": [
    "wasted_log = log.query(\"date <= '2019-07-31'\") #занесли всю потерянную информацию в отдельную таблицу"
   ]
  },
  {
   "cell_type": "code",
   "execution_count": 20,
   "metadata": {},
   "outputs": [
    {
     "data": {
      "text/html": [
       "<div>\n",
       "<style scoped>\n",
       "    .dataframe tbody tr th:only-of-type {\n",
       "        vertical-align: middle;\n",
       "    }\n",
       "\n",
       "    .dataframe tbody tr th {\n",
       "        vertical-align: top;\n",
       "    }\n",
       "\n",
       "    .dataframe thead th {\n",
       "        text-align: right;\n",
       "    }\n",
       "</style>\n",
       "<table border=\"1\" class=\"dataframe\">\n",
       "  <thead>\n",
       "    <tr style=\"text-align: right;\">\n",
       "      <th></th>\n",
       "      <th>event_name</th>\n",
       "      <th>user_id</th>\n",
       "      <th>dt</th>\n",
       "      <th>group</th>\n",
       "      <th>date</th>\n",
       "    </tr>\n",
       "  </thead>\n",
       "  <tbody>\n",
       "    <tr>\n",
       "      <th>0</th>\n",
       "      <td>MainScreenAppear</td>\n",
       "      <td>4575588528974610257</td>\n",
       "      <td>2019-07-25 04:43:36</td>\n",
       "      <td>246</td>\n",
       "      <td>2019-07-25</td>\n",
       "    </tr>\n",
       "    <tr>\n",
       "      <th>1</th>\n",
       "      <td>MainScreenAppear</td>\n",
       "      <td>7416695313311560658</td>\n",
       "      <td>2019-07-25 11:11:42</td>\n",
       "      <td>246</td>\n",
       "      <td>2019-07-25</td>\n",
       "    </tr>\n",
       "    <tr>\n",
       "      <th>2</th>\n",
       "      <td>PaymentScreenSuccessful</td>\n",
       "      <td>3518123091307005509</td>\n",
       "      <td>2019-07-25 11:28:47</td>\n",
       "      <td>248</td>\n",
       "      <td>2019-07-25</td>\n",
       "    </tr>\n",
       "    <tr>\n",
       "      <th>3</th>\n",
       "      <td>CartScreenAppear</td>\n",
       "      <td>3518123091307005509</td>\n",
       "      <td>2019-07-25 11:28:47</td>\n",
       "      <td>248</td>\n",
       "      <td>2019-07-25</td>\n",
       "    </tr>\n",
       "    <tr>\n",
       "      <th>4</th>\n",
       "      <td>PaymentScreenSuccessful</td>\n",
       "      <td>6217807653094995999</td>\n",
       "      <td>2019-07-25 11:48:42</td>\n",
       "      <td>248</td>\n",
       "      <td>2019-07-25</td>\n",
       "    </tr>\n",
       "    <tr>\n",
       "      <th>...</th>\n",
       "      <td>...</td>\n",
       "      <td>...</td>\n",
       "      <td>...</td>\n",
       "      <td>...</td>\n",
       "      <td>...</td>\n",
       "    </tr>\n",
       "    <tr>\n",
       "      <th>2823</th>\n",
       "      <td>OffersScreenAppear</td>\n",
       "      <td>2413191300976302222</td>\n",
       "      <td>2019-07-31 23:54:55</td>\n",
       "      <td>247</td>\n",
       "      <td>2019-07-31</td>\n",
       "    </tr>\n",
       "    <tr>\n",
       "      <th>2824</th>\n",
       "      <td>MainScreenAppear</td>\n",
       "      <td>5505110279185484837</td>\n",
       "      <td>2019-07-31 23:57:30</td>\n",
       "      <td>247</td>\n",
       "      <td>2019-07-31</td>\n",
       "    </tr>\n",
       "    <tr>\n",
       "      <th>2825</th>\n",
       "      <td>MainScreenAppear</td>\n",
       "      <td>5505110279185484837</td>\n",
       "      <td>2019-07-31 23:57:42</td>\n",
       "      <td>247</td>\n",
       "      <td>2019-07-31</td>\n",
       "    </tr>\n",
       "    <tr>\n",
       "      <th>2826</th>\n",
       "      <td>MainScreenAppear</td>\n",
       "      <td>5505110279185484837</td>\n",
       "      <td>2019-07-31 23:57:52</td>\n",
       "      <td>247</td>\n",
       "      <td>2019-07-31</td>\n",
       "    </tr>\n",
       "    <tr>\n",
       "      <th>2827</th>\n",
       "      <td>MainScreenAppear</td>\n",
       "      <td>2413191300976302222</td>\n",
       "      <td>2019-07-31 23:59:59</td>\n",
       "      <td>247</td>\n",
       "      <td>2019-07-31</td>\n",
       "    </tr>\n",
       "  </tbody>\n",
       "</table>\n",
       "<p>2826 rows × 5 columns</p>\n",
       "</div>"
      ],
      "text/plain": [
       "                   event_name              user_id                  dt  group  \\\n",
       "0            MainScreenAppear  4575588528974610257 2019-07-25 04:43:36    246   \n",
       "1            MainScreenAppear  7416695313311560658 2019-07-25 11:11:42    246   \n",
       "2     PaymentScreenSuccessful  3518123091307005509 2019-07-25 11:28:47    248   \n",
       "3            CartScreenAppear  3518123091307005509 2019-07-25 11:28:47    248   \n",
       "4     PaymentScreenSuccessful  6217807653094995999 2019-07-25 11:48:42    248   \n",
       "...                       ...                  ...                 ...    ...   \n",
       "2823       OffersScreenAppear  2413191300976302222 2019-07-31 23:54:55    247   \n",
       "2824         MainScreenAppear  5505110279185484837 2019-07-31 23:57:30    247   \n",
       "2825         MainScreenAppear  5505110279185484837 2019-07-31 23:57:42    247   \n",
       "2826         MainScreenAppear  5505110279185484837 2019-07-31 23:57:52    247   \n",
       "2827         MainScreenAppear  2413191300976302222 2019-07-31 23:59:59    247   \n",
       "\n",
       "           date  \n",
       "0    2019-07-25  \n",
       "1    2019-07-25  \n",
       "2    2019-07-25  \n",
       "3    2019-07-25  \n",
       "4    2019-07-25  \n",
       "...         ...  \n",
       "2823 2019-07-31  \n",
       "2824 2019-07-31  \n",
       "2825 2019-07-31  \n",
       "2826 2019-07-31  \n",
       "2827 2019-07-31  \n",
       "\n",
       "[2826 rows x 5 columns]"
      ]
     },
     "execution_count": 20,
     "metadata": {},
     "output_type": "execute_result"
    }
   ],
   "source": [
    "wasted_log"
   ]
  },
  {
   "cell_type": "markdown",
   "metadata": {},
   "source": [
    "По итогу нашего среза мы потеряли 2826 событий. Сгруппируем их по событиям."
   ]
  },
  {
   "cell_type": "code",
   "execution_count": 21,
   "metadata": {},
   "outputs": [
    {
     "data": {
      "text/html": [
       "<div>\n",
       "<style scoped>\n",
       "    .dataframe tbody tr th:only-of-type {\n",
       "        vertical-align: middle;\n",
       "    }\n",
       "\n",
       "    .dataframe tbody tr th {\n",
       "        vertical-align: top;\n",
       "    }\n",
       "\n",
       "    .dataframe thead th {\n",
       "        text-align: right;\n",
       "    }\n",
       "</style>\n",
       "<table border=\"1\" class=\"dataframe\">\n",
       "  <thead>\n",
       "    <tr style=\"text-align: right;\">\n",
       "      <th></th>\n",
       "      <th>event_cnt</th>\n",
       "      <th>wasted_ratio</th>\n",
       "    </tr>\n",
       "    <tr>\n",
       "      <th>event_name</th>\n",
       "      <th></th>\n",
       "      <th></th>\n",
       "    </tr>\n",
       "  </thead>\n",
       "  <tbody>\n",
       "    <tr>\n",
       "      <th>MainScreenAppear</th>\n",
       "      <td>1773</td>\n",
       "      <td>0.73</td>\n",
       "    </tr>\n",
       "    <tr>\n",
       "      <th>OffersScreenAppear</th>\n",
       "      <td>475</td>\n",
       "      <td>0.19</td>\n",
       "    </tr>\n",
       "    <tr>\n",
       "      <th>CartScreenAppear</th>\n",
       "      <td>365</td>\n",
       "      <td>0.15</td>\n",
       "    </tr>\n",
       "    <tr>\n",
       "      <th>PaymentScreenSuccessful</th>\n",
       "      <td>200</td>\n",
       "      <td>0.08</td>\n",
       "    </tr>\n",
       "    <tr>\n",
       "      <th>Tutorial</th>\n",
       "      <td>13</td>\n",
       "      <td>0.01</td>\n",
       "    </tr>\n",
       "  </tbody>\n",
       "</table>\n",
       "</div>"
      ],
      "text/plain": [
       "                         event_cnt  wasted_ratio\n",
       "event_name                                      \n",
       "MainScreenAppear              1773          0.73\n",
       "OffersScreenAppear             475          0.19\n",
       "CartScreenAppear               365          0.15\n",
       "PaymentScreenSuccessful        200          0.08\n",
       "Tutorial                        13          0.01"
      ]
     },
     "execution_count": 21,
     "metadata": {},
     "output_type": "execute_result"
    }
   ],
   "source": [
    "wasted_events = wasted_log.groupby('event_name').agg({'user_id':'count'}).rename(columns={'user_id':'event_cnt'})\n",
    "wasted_events['wasted_ratio'] = (wasted_events['event_cnt'] / len(log) * 100).round(2)\n",
    "wasted_events.sort_values(by='event_cnt', ascending=False)"
   ]
  },
  {
   "cell_type": "markdown",
   "metadata": {},
   "source": [
    "И большинство из них - cобытия, связанные с переходом на главный экран, *1773* подобных события. Меньше всего потеряли событий с *Руководством*. Добавили столбец с процентным отношением количества потерянных событий от общего числа событий. В сумме - чуть более одного процента всех событий.\n",
    "\n",
    "Теперь посчитаем количество потерянных пользователей в абсолютных и относительных показателях."
   ]
  },
  {
   "cell_type": "code",
   "execution_count": 22,
   "metadata": {},
   "outputs": [
    {
     "name": "stdout",
     "output_type": "stream",
     "text": [
      "Количество пользователей до среза данных:  7551\n",
      "Количество пользователей до среза данных:  7534\n",
      "Количество потерянных пользователей:  17\n",
      "Что составляет 0.23 % от изначального числа пользователей\n"
     ]
    }
   ],
   "source": [
    "users_cnt_before_slice = log['user_id'].nunique()\n",
    "print('Количество пользователей до среза данных: ', users_cnt_before_slice)\n",
    "\n",
    "log = log.query('date >= \"2019-08-01\"') #срезали ненужные данные для дальнешей работы\n",
    "\n",
    "users_cnt_after_slice = log['user_id'].nunique()\n",
    "print('Количество пользователей до среза данных: ', users_cnt_after_slice)\n",
    "print('Количество потерянных пользователей: ', users_cnt_before_slice - users_cnt_after_slice)\n",
    "print('Что составляет', \"{0:.2f}\".format((users_cnt_before_slice - users_cnt_after_slice) / users_cnt_before_slice * 100), '% от изначального числа пользователей')"
   ]
  },
  {
   "cell_type": "markdown",
   "metadata": {},
   "source": [
    "#### Количество пользователей из разных групп"
   ]
  },
  {
   "cell_type": "code",
   "execution_count": 23,
   "metadata": {},
   "outputs": [
    {
     "data": {
      "text/html": [
       "<div>\n",
       "<style scoped>\n",
       "    .dataframe tbody tr th:only-of-type {\n",
       "        vertical-align: middle;\n",
       "    }\n",
       "\n",
       "    .dataframe tbody tr th {\n",
       "        vertical-align: top;\n",
       "    }\n",
       "\n",
       "    .dataframe thead th {\n",
       "        text-align: right;\n",
       "    }\n",
       "</style>\n",
       "<table border=\"1\" class=\"dataframe\">\n",
       "  <thead>\n",
       "    <tr style=\"text-align: right;\">\n",
       "      <th></th>\n",
       "      <th>user_id</th>\n",
       "    </tr>\n",
       "    <tr>\n",
       "      <th>group</th>\n",
       "      <th></th>\n",
       "    </tr>\n",
       "  </thead>\n",
       "  <tbody>\n",
       "    <tr>\n",
       "      <th>246</th>\n",
       "      <td>2484</td>\n",
       "    </tr>\n",
       "    <tr>\n",
       "      <th>247</th>\n",
       "      <td>2513</td>\n",
       "    </tr>\n",
       "    <tr>\n",
       "      <th>248</th>\n",
       "      <td>2537</td>\n",
       "    </tr>\n",
       "  </tbody>\n",
       "</table>\n",
       "</div>"
      ],
      "text/plain": [
       "       user_id\n",
       "group         \n",
       "246       2484\n",
       "247       2513\n",
       "248       2537"
      ]
     },
     "execution_count": 23,
     "metadata": {},
     "output_type": "execute_result"
    }
   ],
   "source": [
    "grouped_users = (\n",
    "    log\n",
    "    .groupby('group')\n",
    "    .agg({'user_id':'nunique'})\n",
    ")\n",
    "grouped_users"
   ]
  },
  {
   "cell_type": "markdown",
   "metadata": {},
   "source": [
    "Группы у нас примерно равны, наибольшая экспериментальная. Невозможно добиться идеального соотношения пользователей в группах в условиях реального эксперимента, потому наше максимальное отличие в чуть более 50 пользователей можем считать нормальным.\n",
    "\n",
    "Теперь заново посчитаем общее количество уникальных пользователей."
   ]
  },
  {
   "cell_type": "code",
   "execution_count": 24,
   "metadata": {},
   "outputs": [
    {
     "data": {
      "text/plain": [
       "7534"
      ]
     },
     "execution_count": 24,
     "metadata": {},
     "output_type": "execute_result"
    }
   ],
   "source": [
    "uniq_users = log['user_id'].nunique()\n",
    "uniq_users"
   ]
  },
  {
   "cell_type": "markdown",
   "metadata": {},
   "source": [
    "Как я и писал выше, после среза мы потеряли всего 17 пользователей. Нас это устраивает."
   ]
  },
  {
   "cell_type": "markdown",
   "metadata": {},
   "source": [
    "### Вывод по п. 3"
   ]
  },
  {
   "cell_type": "markdown",
   "metadata": {},
   "source": [
    "* Событий в таблице столько же, сколько и строчек таблицы. Изначально 243713, теперь 240887.\n",
    "* До среза у нас 7551 пользователь, после - 7434.\n",
    "* Среднее количество событий на пользователя - 32.\n",
    "* Тест проходил 13 дней, из которых половину времени почти никаких событий в таблицу не попадало. Скорее всего, это вызвано техническими проблемами. От пустого временного промежутка пришлось избавиться."
   ]
  },
  {
   "cell_type": "markdown",
   "metadata": {},
   "source": [
    "## Изучение воронки событий"
   ]
  },
  {
   "cell_type": "markdown",
   "metadata": {},
   "source": [
    "### Частота событий"
   ]
  },
  {
   "cell_type": "markdown",
   "metadata": {},
   "source": [
    "Сначала посчитаем сколько раз встречается определённое событие в логах."
   ]
  },
  {
   "cell_type": "code",
   "execution_count": 25,
   "metadata": {},
   "outputs": [
    {
     "data": {
      "text/html": [
       "<div>\n",
       "<style scoped>\n",
       "    .dataframe tbody tr th:only-of-type {\n",
       "        vertical-align: middle;\n",
       "    }\n",
       "\n",
       "    .dataframe tbody tr th {\n",
       "        vertical-align: top;\n",
       "    }\n",
       "\n",
       "    .dataframe thead th {\n",
       "        text-align: right;\n",
       "    }\n",
       "</style>\n",
       "<table border=\"1\" class=\"dataframe\">\n",
       "  <thead>\n",
       "    <tr style=\"text-align: right;\">\n",
       "      <th></th>\n",
       "      <th>event_cnt</th>\n",
       "    </tr>\n",
       "    <tr>\n",
       "      <th>event_name</th>\n",
       "      <th></th>\n",
       "    </tr>\n",
       "  </thead>\n",
       "  <tbody>\n",
       "    <tr>\n",
       "      <th>MainScreenAppear</th>\n",
       "      <td>117328</td>\n",
       "    </tr>\n",
       "    <tr>\n",
       "      <th>OffersScreenAppear</th>\n",
       "      <td>46333</td>\n",
       "    </tr>\n",
       "    <tr>\n",
       "      <th>CartScreenAppear</th>\n",
       "      <td>42303</td>\n",
       "    </tr>\n",
       "    <tr>\n",
       "      <th>PaymentScreenSuccessful</th>\n",
       "      <td>33918</td>\n",
       "    </tr>\n",
       "    <tr>\n",
       "      <th>Tutorial</th>\n",
       "      <td>1005</td>\n",
       "    </tr>\n",
       "  </tbody>\n",
       "</table>\n",
       "</div>"
      ],
      "text/plain": [
       "                         event_cnt\n",
       "event_name                        \n",
       "MainScreenAppear            117328\n",
       "OffersScreenAppear           46333\n",
       "CartScreenAppear             42303\n",
       "PaymentScreenSuccessful      33918\n",
       "Tutorial                      1005"
      ]
     },
     "execution_count": 25,
     "metadata": {},
     "output_type": "execute_result"
    }
   ],
   "source": [
    "event_freq = (\n",
    "    log.groupby('event_name')\n",
    "    .agg({'user_id':'count'})\n",
    "    .sort_values(by='user_id', ascending=False)\n",
    "    .rename(columns={'user_id':'event_cnt'})\n",
    ")\n",
    "event_freq"
   ]
  },
  {
   "cell_type": "markdown",
   "metadata": {},
   "source": [
    "### Частота событий по пользователям"
   ]
  },
  {
   "cell_type": "markdown",
   "metadata": {},
   "source": [
    "Теперь посчитаем количество уникальных пользователей, которые совершали каждое из этих событий."
   ]
  },
  {
   "cell_type": "code",
   "execution_count": 26,
   "metadata": {},
   "outputs": [
    {
     "data": {
      "text/html": [
       "<div>\n",
       "<style scoped>\n",
       "    .dataframe tbody tr th:only-of-type {\n",
       "        vertical-align: middle;\n",
       "    }\n",
       "\n",
       "    .dataframe tbody tr th {\n",
       "        vertical-align: top;\n",
       "    }\n",
       "\n",
       "    .dataframe thead th {\n",
       "        text-align: right;\n",
       "    }\n",
       "</style>\n",
       "<table border=\"1\" class=\"dataframe\">\n",
       "  <thead>\n",
       "    <tr style=\"text-align: right;\">\n",
       "      <th></th>\n",
       "      <th>user_cnt</th>\n",
       "    </tr>\n",
       "    <tr>\n",
       "      <th>event_name</th>\n",
       "      <th></th>\n",
       "    </tr>\n",
       "  </thead>\n",
       "  <tbody>\n",
       "    <tr>\n",
       "      <th>MainScreenAppear</th>\n",
       "      <td>7419</td>\n",
       "    </tr>\n",
       "    <tr>\n",
       "      <th>OffersScreenAppear</th>\n",
       "      <td>4593</td>\n",
       "    </tr>\n",
       "    <tr>\n",
       "      <th>CartScreenAppear</th>\n",
       "      <td>3734</td>\n",
       "    </tr>\n",
       "    <tr>\n",
       "      <th>PaymentScreenSuccessful</th>\n",
       "      <td>3539</td>\n",
       "    </tr>\n",
       "    <tr>\n",
       "      <th>Tutorial</th>\n",
       "      <td>840</td>\n",
       "    </tr>\n",
       "  </tbody>\n",
       "</table>\n",
       "</div>"
      ],
      "text/plain": [
       "                         user_cnt\n",
       "event_name                       \n",
       "MainScreenAppear             7419\n",
       "OffersScreenAppear           4593\n",
       "CartScreenAppear             3734\n",
       "PaymentScreenSuccessful      3539\n",
       "Tutorial                      840"
      ]
     },
     "execution_count": 26,
     "metadata": {},
     "output_type": "execute_result"
    }
   ],
   "source": [
    "event_freq_per_user = (\n",
    "    log\n",
    "    .groupby('event_name')\n",
    "    .agg({'user_id':'nunique'})\n",
    "    .sort_values(by='user_id', ascending=False)\n",
    "    .rename(columns={'user_id':'user_cnt'})\n",
    ")\n",
    "event_freq_per_user"
   ]
  },
  {
   "cell_type": "markdown",
   "metadata": {},
   "source": [
    "Далее найдём долю пользователей, которые хоть раз совершали событие. Разделим таблицу с частотой событий на количество уникальных пользователей. Умномножим на 100 для получения процентов и округлим результат."
   ]
  },
  {
   "cell_type": "code",
   "execution_count": 27,
   "metadata": {},
   "outputs": [
    {
     "data": {
      "text/html": [
       "<div>\n",
       "<style scoped>\n",
       "    .dataframe tbody tr th:only-of-type {\n",
       "        vertical-align: middle;\n",
       "    }\n",
       "\n",
       "    .dataframe tbody tr th {\n",
       "        vertical-align: top;\n",
       "    }\n",
       "\n",
       "    .dataframe thead th {\n",
       "        text-align: right;\n",
       "    }\n",
       "</style>\n",
       "<table border=\"1\" class=\"dataframe\">\n",
       "  <thead>\n",
       "    <tr style=\"text-align: right;\">\n",
       "      <th></th>\n",
       "      <th>event_name</th>\n",
       "      <th>user_cnt</th>\n",
       "    </tr>\n",
       "  </thead>\n",
       "  <tbody>\n",
       "    <tr>\n",
       "      <th>0</th>\n",
       "      <td>MainScreenAppear</td>\n",
       "      <td>98.47</td>\n",
       "    </tr>\n",
       "    <tr>\n",
       "      <th>1</th>\n",
       "      <td>OffersScreenAppear</td>\n",
       "      <td>60.96</td>\n",
       "    </tr>\n",
       "    <tr>\n",
       "      <th>2</th>\n",
       "      <td>CartScreenAppear</td>\n",
       "      <td>49.56</td>\n",
       "    </tr>\n",
       "    <tr>\n",
       "      <th>3</th>\n",
       "      <td>PaymentScreenSuccessful</td>\n",
       "      <td>46.97</td>\n",
       "    </tr>\n",
       "    <tr>\n",
       "      <th>4</th>\n",
       "      <td>Tutorial</td>\n",
       "      <td>11.15</td>\n",
       "    </tr>\n",
       "  </tbody>\n",
       "</table>\n",
       "</div>"
      ],
      "text/plain": [
       "                event_name  user_cnt\n",
       "0         MainScreenAppear     98.47\n",
       "1       OffersScreenAppear     60.96\n",
       "2         CartScreenAppear     49.56\n",
       "3  PaymentScreenSuccessful     46.97\n",
       "4                 Tutorial     11.15"
      ]
     },
     "execution_count": 27,
     "metadata": {},
     "output_type": "execute_result"
    }
   ],
   "source": [
    "event_share = (event_freq_per_user / uniq_users * 100).round(2).reset_index()\n",
    "event_share"
   ]
  },
  {
   "cell_type": "markdown",
   "metadata": {},
   "source": [
    "* 98% пользователей перешли на главную страницу;\n",
    "* 61% пользователей просмотрели страницу с предложениями;\n",
    "* 49% пользователей перешли в корзину;\n",
    "* 47% пользователей дошли до страницы оплаты;\n",
    "* И лишь 11% пользователей перешли на страницу с руководством."
   ]
  },
  {
   "cell_type": "markdown",
   "metadata": {},
   "source": [
    "По таблице с долями видно, как развивается воронка событий: \n",
    "    \n",
    "    1) Сначала пользователь оказывается на главной странице;\n",
    "    2) Затем он выбирает необходимые продукты и добавляет их в корзину;\n",
    "    3) Далее переходит на страницу с корзиной, сверяется;\n",
    "    4) Последним этапом является страница с успешной оплатой;\n",
    "Руководство не является полноценным этапом воронки, так как пользователю может быть интуитивно понятно как пользоваться приложением, да и перейти на эту страницу можно с любого другого этапа.\n",
    "По этой причине, в дальнейшем, не будем учитывать страницу с руководством."
   ]
  },
  {
   "cell_type": "code",
   "execution_count": 28,
   "metadata": {},
   "outputs": [],
   "source": [
    "log = log.query('event_name != \"Tutorial\"')\n",
    "event_freq_per_user = event_freq_per_user.query('event_name != \"Tutorial\"')"
   ]
  },
  {
   "cell_type": "markdown",
   "metadata": {},
   "source": [
    "### Доли пользователей на каждом этапе относительно предыдущего"
   ]
  },
  {
   "cell_type": "markdown",
   "metadata": {},
   "source": [
    "Теперь найдем доли пользователей на каждом этапе относительно предыдущего этапа."
   ]
  },
  {
   "cell_type": "code",
   "execution_count": 29,
   "metadata": {},
   "outputs": [
    {
     "data": {
      "text/html": [
       "<div>\n",
       "<style scoped>\n",
       "    .dataframe tbody tr th:only-of-type {\n",
       "        vertical-align: middle;\n",
       "    }\n",
       "\n",
       "    .dataframe tbody tr th {\n",
       "        vertical-align: top;\n",
       "    }\n",
       "\n",
       "    .dataframe thead th {\n",
       "        text-align: right;\n",
       "    }\n",
       "</style>\n",
       "<table border=\"1\" class=\"dataframe\">\n",
       "  <thead>\n",
       "    <tr style=\"text-align: right;\">\n",
       "      <th></th>\n",
       "      <th>user_cnt</th>\n",
       "    </tr>\n",
       "    <tr>\n",
       "      <th>event_name</th>\n",
       "      <th></th>\n",
       "    </tr>\n",
       "  </thead>\n",
       "  <tbody>\n",
       "    <tr>\n",
       "      <th>MainScreenAppear</th>\n",
       "      <td>NaN</td>\n",
       "    </tr>\n",
       "    <tr>\n",
       "      <th>OffersScreenAppear</th>\n",
       "      <td>61.91</td>\n",
       "    </tr>\n",
       "    <tr>\n",
       "      <th>CartScreenAppear</th>\n",
       "      <td>81.30</td>\n",
       "    </tr>\n",
       "    <tr>\n",
       "      <th>PaymentScreenSuccessful</th>\n",
       "      <td>94.78</td>\n",
       "    </tr>\n",
       "  </tbody>\n",
       "</table>\n",
       "</div>"
      ],
      "text/plain": [
       "                         user_cnt\n",
       "event_name                       \n",
       "MainScreenAppear              NaN\n",
       "OffersScreenAppear          61.91\n",
       "CartScreenAppear            81.30\n",
       "PaymentScreenSuccessful     94.78"
      ]
     },
     "execution_count": 29,
     "metadata": {},
     "output_type": "execute_result"
    }
   ],
   "source": [
    "(event_freq_per_user / event_freq_per_user.shift() * 100).round(2)"
   ]
  },
  {
   "cell_type": "markdown",
   "metadata": {},
   "source": [
    "Распишу подробнее:\n",
    "* Из 7534 уникального пользователя за время теста 98% перешли на главную страницу. Это мы знаем из предыдущего расчёта;\n",
    "* Из тех 98% пользователей только 62% заходят на страницу с выбором продуктов;\n",
    "* Далее, из тех, кто находился на странице с продуктами уже 81% процент переходили в корзину;\n",
    "* И вот из тех 81% пользователей, которые уже находились в корзине, почти 95% успешно оплачивали заказ.\n",
    "\n",
    "Этап с максимальным отсевом пользователей - это *страница с предожениями продуктов*.\n",
    "\n",
    "Найдем количество пользователей, сделавших первый шаг и дошедших до конца воронки событий."
   ]
  },
  {
   "cell_type": "code",
   "execution_count": 30,
   "metadata": {},
   "outputs": [
    {
     "data": {
      "text/plain": [
       "user_cnt    47.7\n",
       "dtype: float64"
      ]
     },
     "execution_count": 30,
     "metadata": {},
     "output_type": "execute_result"
    }
   ],
   "source": [
    "(event_freq_per_user.agg({'user_cnt': lambda x: x.min()/x.max()}) * 100).round(2)"
   ]
  },
  {
   "cell_type": "markdown",
   "metadata": {},
   "source": [
    "Более 47% пользователей из оказавшихся на главном экране по итогу оплачивает заказ.\n",
    "\n",
    "Теперь визуализируем нашу воронку событий."
   ]
  },
  {
   "cell_type": "code",
   "execution_count": 33,
   "metadata": {},
   "outputs": [
    {
     "data": {
      "image/png": "[encoded data removed]",
      "text/plain": [
       "<Figure size 1080x360 with 1 Axes>"
      ]
     },
     "metadata": {
      "needs_background": "light"
     },
     "output_type": "display_data"
    }
   ],
   "source": [
    "event_share = event_share.query('event_name != \"Tutorial\"')\n",
    "plt.figure(figsize=(15, 5))\n",
    "plt.title('Воронка событий / Доля пользователей от общего числа, дошедших до события')\n",
    "sns.barplot(y=event_share['event_name'], x=event_share['user_cnt'])\n",
    "plt.xlabel('Процент пользователей')\n",
    "plt.ylabel('Название события')\n",
    "plt.show()"
   ]
  },
  {
   "cell_type": "markdown",
   "metadata": {},
   "source": [
    "### Вывод по п.4"
   ]
  },
  {
   "cell_type": "markdown",
   "metadata": {},
   "source": [
    "Составили воронку событий, исключив события с руководством. Нашли количество пользователей для каждого этапа и относительно предыдущего этапа и визуализировали воронку событий.\n",
    "\n",
    "* Воронка событий выглядит так: **MainScreenAppear → OffersScreenAppear → CartScreenAppear → PaymentScreenSuccessful**. Событие **Tutorial** стоит отдельно и не включается в воронку событий, поэтому на дальнейшем этапе оценки результатов эксперимента учитываться не будет.\n",
    "* Более 47% пользователей приложения доходят до успешной оплаты заказа.\n",
    "* Наибольшее количество пользователей отсеивается на этапе перехода с главной страницы на страницу выбора продуктов."
   ]
  },
  {
   "cell_type": "markdown",
   "metadata": {},
   "source": [
    "## Оценка результатов эксперимента A/A/B-теста"
   ]
  },
  {
   "cell_type": "markdown",
   "metadata": {},
   "source": [
    "### Количество пользователей в каждой группе"
   ]
  },
  {
   "cell_type": "code",
   "execution_count": 36,
   "metadata": {},
   "outputs": [
    {
     "data": {
      "text/html": [
       "<div>\n",
       "<style scoped>\n",
       "    .dataframe tbody tr th:only-of-type {\n",
       "        vertical-align: middle;\n",
       "    }\n",
       "\n",
       "    .dataframe tbody tr th {\n",
       "        vertical-align: top;\n",
       "    }\n",
       "\n",
       "    .dataframe thead th {\n",
       "        text-align: right;\n",
       "    }\n",
       "</style>\n",
       "<table border=\"1\" class=\"dataframe\">\n",
       "  <thead>\n",
       "    <tr style=\"text-align: right;\">\n",
       "      <th></th>\n",
       "      <th>user_cnt</th>\n",
       "    </tr>\n",
       "    <tr>\n",
       "      <th>group</th>\n",
       "      <th></th>\n",
       "    </tr>\n",
       "  </thead>\n",
       "  <tbody>\n",
       "    <tr>\n",
       "      <th>248</th>\n",
       "      <td>2535</td>\n",
       "    </tr>\n",
       "    <tr>\n",
       "      <th>247</th>\n",
       "      <td>2512</td>\n",
       "    </tr>\n",
       "    <tr>\n",
       "      <th>246</th>\n",
       "      <td>2483</td>\n",
       "    </tr>\n",
       "  </tbody>\n",
       "</table>\n",
       "</div>"
      ],
      "text/plain": [
       "       user_cnt\n",
       "group          \n",
       "248        2535\n",
       "247        2512\n",
       "246        2483"
      ]
     },
     "execution_count": 36,
     "metadata": {},
     "output_type": "execute_result"
    }
   ],
   "source": [
    "groups_size = (\n",
    "    log\n",
    "    .groupby('group')\n",
    "    .agg({'user_id':'nunique'})\n",
    "    .sort_values(by='user_id', ascending=False)\n",
    "    .rename(columns={'user_id':'user_cnt'})\n",
    ")\n",
    "groups_size"
   ]
  },
  {
   "cell_type": "markdown",
   "metadata": {},
   "source": [
    "Теперь проверим пересечение пользователей по группам."
   ]
  },
  {
   "cell_type": "code",
   "execution_count": 38,
   "metadata": {},
   "outputs": [
    {
     "name": "stdout",
     "output_type": "stream",
     "text": [
      "Число уникальных пользователей контрольной группы  246: 2483\n",
      "Число уникальных пользователей контрольной группы  247: 2512\n",
      "Число уникальных пользователей экспериментальной группы 248: 2535\n",
      "Сумма уникальных пользователей трёх групп: 7530\n",
      "Число уникальных пользователей трёх групп: 7530\n"
     ]
    }
   ],
   "source": [
    "cnt_246 = log[log['group']==246]['user_id'].nunique()\n",
    "cnt_247 = log[log['group']==247]['user_id'].nunique()\n",
    "cnt_248 = log[log['group']==248]['user_id'].nunique()\n",
    "\n",
    "print('Число уникальных пользователей контрольной группы  246:', cnt_246)\n",
    "print('Число уникальных пользователей контрольной группы  247:', cnt_247)\n",
    "print('Число уникальных пользователей экспериментальной группы 248:', cnt_248)\n",
    "print('Сумма уникальных пользователей трёх групп:', (cnt_246 + cnt_247 + cnt_248))\n",
    "print('Число уникальных пользователей трёх групп:', log['user_id'].nunique())"
   ]
  },
  {
   "cell_type": "markdown",
   "metadata": {},
   "source": [
    "Существует пересечение пользователей, но его нельзя назвать большим. 7 человек из 7530. Дальнейшей работе это не помешает."
   ]
  },
  {
   "cell_type": "markdown",
   "metadata": {},
   "source": [
    "### Статистический критерий контрольных групп A/A"
   ]
  },
  {
   "cell_type": "markdown",
   "metadata": {},
   "source": [
    "Сначала проверим корректность расчётов между двумя контрольными группами - 246 и 247. Узнаем, есть ли в статистическом критерии разница между выборками данных групп.\n",
    "Ограничим нашу выборку двумя группами."
   ]
  },
  {
   "cell_type": "code",
   "execution_count": 40,
   "metadata": {},
   "outputs": [],
   "source": [
    "group_246 = (\n",
    "    log\n",
    "    .query('group == 246')\n",
    ")\n",
    "\n",
    "group_247 = (\n",
    "    log\n",
    "    .query('group == 247')\n",
    ")"
   ]
  },
  {
   "cell_type": "markdown",
   "metadata": {},
   "source": [
    "Сгруппировали данные по группам и будем сравнивать число дошедших с первого этапа до последнего относительно групп.\n",
    "Сформулируем гипотезы, на которые проверяем данные выборки:\n",
    "* Нулевая гипотеза: между пропорциями выборок двух контрольных групп нет разницы.\n",
    "* Альтернативная гипотеза: между пропорциями выборок двух контрольных групп есть разница."
   ]
  },
  {
   "cell_type": "code",
   "execution_count": 41,
   "metadata": {},
   "outputs": [
    {
     "name": "stdout",
     "output_type": "stream",
     "text": [
      "p-значение:  0.12044299485641763\n",
      "Не получилось отвергнуть нулевую гипотезу, нет оснований считать пропорции разными\n"
     ]
    }
   ],
   "source": [
    "alpha = 0.05  # критический уровень статистической значимости\n",
    "\n",
    "#последний этап воронки\n",
    "last_event = np.array([group_246[group_246['event_name']=='PaymentScreenSuccessful']['user_id'].nunique(), group_247[group_247['event_name']=='PaymentScreenSuccessful']['user_id'].nunique()])\n",
    "#первый этап воронки\n",
    "first_event = np.array([group_246[group_246['event_name']=='MainScreenAppear']['user_id'].nunique(), group_247[group_247['event_name']=='MainScreenAppear']['user_id'].nunique()])\n",
    "\n",
    "p1 = last_event[0]/first_event[0]\n",
    "p2 = last_event[1]/first_event[1]\n",
    "\n",
    "p_combined = (last_event[0] + last_event[1]) / (first_event[0] + first_event[1])\n",
    "difference = p1 - p2\n",
    "\n",
    "z_value = difference / mth.sqrt(p_combined * (1- p_combined) * (1/first_event[0] + 1/first_event[1]))\n",
    "\n",
    "distr = st.norm(0, 1)\n",
    "\n",
    "p_value = (1 - distr.cdf(abs(z_value))) * 2\n",
    "\n",
    "print('p-значение: ', p_value)\n",
    "\n",
    "if p_value < alpha:\n",
    "    print('Отвергаем нулевую гипотезу: между пропорциями есть значимая разница')\n",
    "else:\n",
    "    print(\n",
    "        'Не получилось отвергнуть нулевую гипотезу, нет оснований считать пропорции разными'\n",
    "    )"
   ]
  },
  {
   "cell_type": "markdown",
   "metadata": {},
   "source": [
    "Наш полученный критерий статистической значимости более чем в 2 раза выше критического уровня статистической значимости, что означает, что нулевая гипотеза о равенстве не может быть отвергнута, пропорции равны."
   ]
  },
  {
   "cell_type": "markdown",
   "metadata": {},
   "source": [
    "### Статистическая разница контрольных групп по событиям"
   ]
  },
  {
   "cell_type": "markdown",
   "metadata": {},
   "source": [
    "Теперь, используя сформированные на прошлом этапе выборки, найдем критерий статистической разницы отношения самого популярного события в группе к общему числу пользователей группы.\n",
    "\n",
    "Исходя из прошлых пунктов, мы знаем, что наиболее популярный этап у пользователей это **главная страница** или **MainScreenAppear**.\n",
    "Гипотезы, на которые проверяем данные выборки:\n",
    "* Нулевая гипотеза: между пропорциями выборок двух контрольных групп нет разницы.\n",
    "* Альтернативная гипотеза: между пропорциями выборок двух контрольных групп есть разница."
   ]
  },
  {
   "cell_type": "code",
   "execution_count": 42,
   "metadata": {},
   "outputs": [
    {
     "name": "stdout",
     "output_type": "stream",
     "text": [
      "p-значение:  0.7526703436483038\n",
      "Не получилось отвергнуть нулевую гипотезу, нет оснований считать пропорции разными\n"
     ]
    }
   ],
   "source": [
    "alpha = 0.05  # критический уровень статистической значимости\n",
    "\n",
    "#Число пользователей на самом популярном событии воронки\n",
    "main_page = np.array([group_246[group_246['event_name']=='MainScreenAppear']['user_id'].nunique(), group_247[group_247['event_name']=='MainScreenAppear']['user_id'].nunique()])\n",
    "#Общее число пользователей в группе\n",
    "user_cnt = np.array([group_246['user_id'].nunique(), group_247['user_id'].nunique()])\n",
    "\n",
    "p1 = main_page[0]/user_cnt[0]\n",
    "p2 = main_page[1]/user_cnt[1]\n",
    "\n",
    "p_combined = (main_page[0] + main_page[1]) / (user_cnt[0] + user_cnt[1])\n",
    "difference = p1 - p2\n",
    "\n",
    "z_value = difference / mth.sqrt(p_combined * (1- p_combined) * (1/user_cnt[0] + 1/user_cnt[1]))\n",
    "\n",
    "distr = st.norm(0, 1)\n",
    "\n",
    "p_value = (1 - distr.cdf(abs(z_value))) * 2\n",
    "\n",
    "print('p-значение: ', p_value)\n",
    "\n",
    "if p_value < alpha:\n",
    "    print('Отвергаем нулевую гипотезу: между пропорциями есть значимая разница')\n",
    "else:\n",
    "    print(\n",
    "        'Не получилось отвергнуть нулевую гипотезу, нет оснований считать пропорции разными'\n",
    "    )"
   ]
  },
  {
   "cell_type": "markdown",
   "metadata": {},
   "source": [
    "При расчёте статистической значимости контрольных групп по самому популярному событию было выяснено, что `p_value` в 10 раз выше критического уровня статистической значимости, оснований отвергать нулевую гипотезу - нет.\n",
    "\n",
    "Далее, найдем статистическую разницу по обеим контрольным группам уже по каждому событию в разрезе общего числа пользователей группы. Обернём всё это в функцию. Но перед этим, продублируем гипотезы:\n",
    "* Нулевая гипотеза: между пропорциями выборок двух групп нет разницы.\n",
    "* Альтернативная гипотеза: между пропорциями выборок двух групп есть разница."
   ]
  },
  {
   "cell_type": "code",
   "execution_count": 43,
   "metadata": {},
   "outputs": [],
   "source": [
    "def stat_difference(t1, t2, event_name):\n",
    "    alpha = 0.05  # критический уровень статистической значимости\n",
    "\n",
    "    #Число пользователей события воронки\n",
    "    event_page = np.array([t1[t1['event_name']==event_name]['user_id'].nunique(), t2[t2['event_name']==event_name]['user_id'].nunique()])\n",
    "    #Общее число пользователей в группе\n",
    "    user_cnt = np.array([t1['user_id'].nunique(), t2['user_id'].nunique()])\n",
    "\n",
    "    p1 = event_page[0]/user_cnt[0]\n",
    "    p2 = event_page[1]/user_cnt[1]\n",
    "\n",
    "    p_combined = (event_page[0] + event_page[1]) / (user_cnt[0] + user_cnt[1])\n",
    "    difference = p1 - p2\n",
    "\n",
    "    z_value = difference / mth.sqrt(p_combined * (1- p_combined) * (1/user_cnt[0] + 1/user_cnt[1]))\n",
    "\n",
    "    distr = st.norm(0, 1)\n",
    "\n",
    "    p_value = (1 - distr.cdf(abs(z_value))) * 2\n",
    "\n",
    "    print('Событие: ', event_name)\n",
    "    print('p-значение: ', p_value)\n",
    "\n",
    "    if p_value < alpha:\n",
    "        print('Отвергаем нулевую гипотезу: между пропорциями есть значимая разница\\n')\n",
    "    else:\n",
    "        print( 'Не получилось отвергнуть нулевую гипотезу, нет оснований считать пропорции разными\\n')"
   ]
  },
  {
   "cell_type": "code",
   "execution_count": 44,
   "metadata": {},
   "outputs": [
    {
     "name": "stdout",
     "output_type": "stream",
     "text": [
      "Событие:  MainScreenAppear\n",
      "p-значение:  0.7526703436483038\n",
      "Не получилось отвергнуть нулевую гипотезу, нет оснований считать пропорции разными\n",
      "\n",
      "Событие:  OffersScreenAppear\n",
      "p-значение:  0.24786096925282264\n",
      "Не получилось отвергнуть нулевую гипотезу, нет оснований считать пропорции разными\n",
      "\n",
      "Событие:  CartScreenAppear\n",
      "p-значение:  0.22867643757335676\n",
      "Не получилось отвергнуть нулевую гипотезу, нет оснований считать пропорции разными\n",
      "\n",
      "Событие:  PaymentScreenSuccessful\n",
      "p-значение:  0.11446627829276612\n",
      "Не получилось отвергнуть нулевую гипотезу, нет оснований считать пропорции разными\n",
      "\n"
     ]
    }
   ],
   "source": [
    "event_names = ['MainScreenAppear', 'OffersScreenAppear', 'CartScreenAppear', 'PaymentScreenSuccessful']\n",
    "for i in event_names:\n",
    "    stat_difference(group_246, group_247, i)"
   ]
  },
  {
   "cell_type": "markdown",
   "metadata": {},
   "source": [
    "Теперь мы можем с точностью утверждать, что статистической разницы между контрольными группами нет. Значит, **разбиение на контрольные группы происходит корректно**."
   ]
  },
  {
   "cell_type": "markdown",
   "metadata": {},
   "source": [
    "### Статистическая разница экспериментальной и контрольных групп по событиям"
   ]
  },
  {
   "cell_type": "markdown",
   "metadata": {},
   "source": [
    "Чтобы сравнить статистическую разницу между экспериментальной и контрольной группой, сначала сформируем переменную с экспериментальной группой, а затем уже \"прогоним\" её вместе с каждой из контрольных групп по отдельности."
   ]
  },
  {
   "cell_type": "code",
   "execution_count": 45,
   "metadata": {},
   "outputs": [],
   "source": [
    "group_248 = (\n",
    "    log\n",
    "    .query('group == 248')\n",
    ")"
   ]
  },
  {
   "cell_type": "markdown",
   "metadata": {},
   "source": [
    "#### Сравнение экспериментальной 248 группы с контрольной 246 группой"
   ]
  },
  {
   "cell_type": "markdown",
   "metadata": {},
   "source": [
    "* Нулевая гипотеза: между пропорциями выборок экспериментальной и контрольной групп нет разницы.\n",
    "* Альтернативная гипотеза: между пропорциями выборок экспериментальной и контрольной групп есть разница."
   ]
  },
  {
   "cell_type": "code",
   "execution_count": 46,
   "metadata": {},
   "outputs": [
    {
     "name": "stdout",
     "output_type": "stream",
     "text": [
      "Событие:  MainScreenAppear\n",
      "p-значение:  0.3387114076159288\n",
      "Не получилось отвергнуть нулевую гипотезу, нет оснований считать пропорции разными\n",
      "\n",
      "Событие:  OffersScreenAppear\n",
      "p-значение:  0.21442476639710506\n",
      "Не получилось отвергнуть нулевую гипотезу, нет оснований считать пропорции разными\n",
      "\n",
      "Событие:  CartScreenAppear\n",
      "p-значение:  0.08067367598823139\n",
      "Не получилось отвергнуть нулевую гипотезу, нет оснований считать пропорции разными\n",
      "\n",
      "Событие:  PaymentScreenSuccessful\n",
      "p-значение:  0.21693033984516674\n",
      "Не получилось отвергнуть нулевую гипотезу, нет оснований считать пропорции разными\n",
      "\n"
     ]
    }
   ],
   "source": [
    "for i in event_names:\n",
    "    stat_difference(group_246, group_248, i)"
   ]
  },
  {
   "cell_type": "markdown",
   "metadata": {},
   "source": [
    "Функция не нашла статистической разницы между экспериментальной группой 248 и контрольной группой 246 ни по одному из событий."
   ]
  },
  {
   "cell_type": "markdown",
   "metadata": {},
   "source": [
    "#### Сравнение экспериментальной 248 группы с контрольной 247 группой"
   ]
  },
  {
   "cell_type": "markdown",
   "metadata": {},
   "source": [
    "* Нулевая гипотеза: между пропорциями выборок экспериментальной и контрольной групп нет разницы.\n",
    "* Альтернативная гипотеза: между пропорциями выборок экспериментальной и контрольной групп есть разница."
   ]
  },
  {
   "cell_type": "code",
   "execution_count": 47,
   "metadata": {},
   "outputs": [
    {
     "name": "stdout",
     "output_type": "stream",
     "text": [
      "Событие:  MainScreenAppear\n",
      "p-значение:  0.5194964354051703\n",
      "Не получилось отвергнуть нулевую гипотезу, нет оснований считать пропорции разными\n",
      "\n",
      "Событие:  OffersScreenAppear\n",
      "p-значение:  0.9333751305879443\n",
      "Не получилось отвергнуть нулевую гипотезу, нет оснований считать пропорции разными\n",
      "\n",
      "Событие:  CartScreenAppear\n",
      "p-значение:  0.5878284605111943\n",
      "Не получилось отвергнуть нулевую гипотезу, нет оснований считать пропорции разными\n",
      "\n",
      "Событие:  PaymentScreenSuccessful\n",
      "p-значение:  0.7275718682261119\n",
      "Не получилось отвергнуть нулевую гипотезу, нет оснований считать пропорции разными\n",
      "\n"
     ]
    }
   ],
   "source": [
    "for i in event_names:\n",
    "    stat_difference(group_247, group_248, i)"
   ]
  },
  {
   "cell_type": "markdown",
   "metadata": {},
   "source": [
    "Функция не нашла статистической разницы между экспериментальной группой 248 и контрольной группой 247 ни по одному из событий."
   ]
  },
  {
   "cell_type": "markdown",
   "metadata": {},
   "source": [
    "#### Сравнение экспериментальной 248 группы с объединённой контрольной группой"
   ]
  },
  {
   "cell_type": "markdown",
   "metadata": {},
   "source": [
    "Сначала создадим объединенную переменную с двумя контрольными группами."
   ]
  },
  {
   "cell_type": "code",
   "execution_count": 48,
   "metadata": {},
   "outputs": [],
   "source": [
    "union_group = pd.concat([group_246, group_247])"
   ]
  },
  {
   "cell_type": "markdown",
   "metadata": {},
   "source": [
    "* Нулевая гипотеза: между пропорциями выборок экспериментальной и объединенной контрольной группой нет разницы.\n",
    "* Альтернативная гипотеза: между пропорциями выборок экспериментальной и объединенной контрольной группой есть разница."
   ]
  },
  {
   "cell_type": "code",
   "execution_count": 49,
   "metadata": {},
   "outputs": [
    {
     "name": "stdout",
     "output_type": "stream",
     "text": [
      "Событие:  MainScreenAppear\n",
      "p-значение:  0.3486684291093256\n",
      "Не получилось отвергнуть нулевую гипотезу, нет оснований считать пропорции разными\n",
      "\n",
      "Событие:  OffersScreenAppear\n",
      "p-значение:  0.44582745409482394\n",
      "Не получилось отвергнуть нулевую гипотезу, нет оснований считать пропорции разными\n",
      "\n",
      "Событие:  CartScreenAppear\n",
      "p-значение:  0.18683558686831558\n",
      "Не получилось отвергнуть нулевую гипотезу, нет оснований считать пропорции разными\n",
      "\n",
      "Событие:  PaymentScreenSuccessful\n",
      "p-значение:  0.6107918742187335\n",
      "Не получилось отвергнуть нулевую гипотезу, нет оснований считать пропорции разными\n",
      "\n"
     ]
    }
   ],
   "source": [
    "for i in event_names:\n",
    "    stat_difference(union_group, group_248, i)"
   ]
  },
  {
   "cell_type": "markdown",
   "metadata": {},
   "source": [
    "И тут функция не нашла статистической разницы между экспериментальной группой 248 и объединенными контрольными группами ни по одному из событий, значит, можно сделать вывод, что изменение шрифта не повлияло на пользователей никак."
   ]
  },
  {
   "cell_type": "markdown",
   "metadata": {},
   "source": [
    "### Выбор статистической значимости"
   ]
  },
  {
   "cell_type": "markdown",
   "metadata": {},
   "source": [
    "Выбор значения `alpha = 0.05` обусловлен балансом между значимостью и мощностью. Исходя из теории, вероятность допустить ошибку первого рода равна уровню `alpha`. При уровне значимости в `0.1` мы имеем шанс в **10%** получить ложнопозитивный результат теста. По моему мнению, выбирая значения `alpha` между `0.01`, `0.05` и `0.1`, в данном случае имеет смысл остановить выбор на `0.05`, так как это самый сбалансированный вариант.\n",
    "\n",
    "Даже при условии, что наш выбор пал бы на уровень статистической значимости равный `0.1`, все нулевые гипотезы всё равно нельзя было бы отвергнуть, так как все наши значения `p-value` больше `0.1`."
   ]
  },
  {
   "cell_type": "markdown",
   "metadata": {},
   "source": [
    "### Вывод по п.5"
   ]
  },
  {
   "cell_type": "markdown",
   "metadata": {},
   "source": [
    "В данном пункте мы оценивали результаты A/A/B-теста и считали статистическую разницу между тремя группами пользователей.\n",
    "* Количество пользователей:\n",
    "    \n",
    "    1) Экспериментальная группа 248\tсостоит из 2538 пользователей;\n",
    "    \n",
    "    2) Контрольная группа 247 состоит из 2519 пользователей;\n",
    "    \n",
    "    3) Контрольная группа 246 состоит из 2486 пользователей.\n",
    "    \n",
    "    \n",
    "* Статистический критерий контрольных групп, то есть, A/A-тест показал нам, что эти группы поделены между собой в равной степени и разницы между ними нет.\n",
    "* Также, как и нет оснований отвергать гипотезу о том, что экспериментальная группа и контрольные группы (вместе и по отдельности) равны.\n",
    "* Размер критического уровеня статистической значимости был выбран как `0.05`, что означает, что мы можем допустить ошибку первого рода в одном (1) из двадцати (20) тестов. Нами было произведено 18 тестов.\n",
    "* Из всего вышесказанного можно сделать вывод, что изменения шрифта никак не повлияло на пользователей."
   ]
  },
  {
   "cell_type": "markdown",
   "metadata": {},
   "source": [
    "## Общий вывод"
   ]
  },
  {
   "cell_type": "markdown",
   "metadata": {},
   "source": [
    "Входными данными в задании были логи с действиями пользователей. \n",
    "В проекте были осуществены такие пункты:\n",
    "* Загрузка и изучение данных. Было выяснено, что в изначальной таблице *244125* записей событий, привязанных к пользователю и дате с временем.\n",
    "* В ходе подготовки и предобработки данных были изменены регистр и формат записи данных. В ходе поиска пропусков проблем не обнаружилось, в ходе поиска дубликатов - 413 дублируемых строчек. Добавили столбец с одной датой события.\n",
    "* Во время анализа и проверки данных было найдено количество уникальных пользователей - *7551*, среднее число событий, равное *32* на одного пользователя. Также, в ходе выбора временного диапазона было обнаружено, что почти половину A/A/B-теста фактически никаких данных в таблицу не загружалось, что я могу связать с ошибкой на сервере записи. *Рекомендую в дальнейшем обратить внимание на данную проблему*. По итогу, почти неделю данных пришлось срезать в которых было *384* записи.\n",
    "* В ходе изучения воронки событий была составлена таблица событий по частоте повторения, а также, таблица с частотой событий на одного пользователя. По итогам составления цепочки воронки событий было выяснено, что больше всего пользователей теряется на этапе перехода с *Главной страницы* на *Страницу с выбором товаров*. Также, на данном этапе избавились от событий, связанных с переходом на страницу с *Руководством*, так как она не является звеном воронки событий.\n",
    "* По итогам оценки результатов эксперимента A/A/B-теста было выявлено, что группы статистически значимой разницы между группами нет и изменение шрифта никак не повлияло на пользователей. Было произведено 18 тестов. Уровень статистической значимости ни разу не был ниже критического уровня статистической значимости."
   ]
  }
 ],
 "metadata": {
  "ExecuteTimeLog": [
   {
    "duration": 1164,
    "start_time": "2024-03-08T16:02:07.815Z"
   },
   {
    "duration": 718,
    "start_time": "2024-03-08T16:03:30.230Z"
   },
   {
    "duration": 649,
    "start_time": "2024-03-08T16:03:58.724Z"
   },
   {
    "duration": 10,
    "start_time": "2024-03-08T16:04:43.622Z"
   },
   {
    "duration": 596,
    "start_time": "2024-03-08T16:05:48.940Z"
   },
   {
    "duration": 6,
    "start_time": "2024-03-08T16:05:50.977Z"
   },
   {
    "duration": 70,
    "start_time": "2024-03-08T16:05:57.929Z"
   },
   {
    "duration": 372,
    "start_time": "2024-03-08T16:06:15.858Z"
   },
   {
    "duration": 8,
    "start_time": "2024-03-08T16:06:17.593Z"
   },
   {
    "duration": 29,
    "start_time": "2024-03-08T16:06:44.320Z"
   },
   {
    "duration": 3,
    "start_time": "2024-03-08T16:12:10.003Z"
   },
   {
    "duration": 8,
    "start_time": "2024-03-08T16:12:15.821Z"
   },
   {
    "duration": 2,
    "start_time": "2024-03-08T16:13:02.042Z"
   },
   {
    "duration": 569,
    "start_time": "2024-03-08T16:13:02.447Z"
   },
   {
    "duration": 7,
    "start_time": "2024-03-08T16:13:03.018Z"
   },
   {
    "duration": 18,
    "start_time": "2024-03-08T16:13:03.137Z"
   },
   {
    "duration": 7,
    "start_time": "2024-03-08T16:14:03.771Z"
   },
   {
    "duration": 95,
    "start_time": "2024-03-08T16:14:09.964Z"
   },
   {
    "duration": 10,
    "start_time": "2024-03-08T16:14:21.876Z"
   },
   {
    "duration": 11,
    "start_time": "2024-03-08T16:14:29.183Z"
   },
   {
    "duration": 3,
    "start_time": "2024-03-08T16:14:40.602Z"
   },
   {
    "duration": 378,
    "start_time": "2024-03-08T16:14:41.246Z"
   },
   {
    "duration": 7,
    "start_time": "2024-03-08T16:14:42.121Z"
   },
   {
    "duration": 22,
    "start_time": "2024-03-08T16:14:42.515Z"
   },
   {
    "duration": 10,
    "start_time": "2024-03-08T16:14:46.077Z"
   },
   {
    "duration": 11,
    "start_time": "2024-03-08T16:14:50.644Z"
   },
   {
    "duration": 3,
    "start_time": "2024-03-08T16:15:00.622Z"
   },
   {
    "duration": 435,
    "start_time": "2024-03-08T16:15:01.060Z"
   },
   {
    "duration": 7,
    "start_time": "2024-03-08T16:15:01.497Z"
   },
   {
    "duration": 21,
    "start_time": "2024-03-08T16:15:01.613Z"
   },
   {
    "duration": 5,
    "start_time": "2024-03-08T16:15:05.940Z"
   },
   {
    "duration": 4,
    "start_time": "2024-03-08T16:15:09.592Z"
   },
   {
    "duration": 4,
    "start_time": "2024-03-08T16:15:31.529Z"
   },
   {
    "duration": 382,
    "start_time": "2024-03-08T16:15:31.852Z"
   },
   {
    "duration": 7,
    "start_time": "2024-03-08T16:15:32.236Z"
   },
   {
    "duration": 23,
    "start_time": "2024-03-08T16:15:32.690Z"
   },
   {
    "duration": 9,
    "start_time": "2024-03-08T16:15:34.013Z"
   },
   {
    "duration": 8,
    "start_time": "2024-03-08T16:15:34.714Z"
   },
   {
    "duration": 15,
    "start_time": "2024-03-08T16:19:27.696Z"
   },
   {
    "duration": 47,
    "start_time": "2024-03-08T16:19:58.608Z"
   },
   {
    "duration": 71,
    "start_time": "2024-03-08T16:21:35.556Z"
   },
   {
    "duration": 8,
    "start_time": "2024-03-08T16:24:14.803Z"
   },
   {
    "duration": 3,
    "start_time": "2024-03-08T16:27:00.793Z"
   },
   {
    "duration": 545,
    "start_time": "2024-03-08T16:27:01.167Z"
   },
   {
    "duration": 7,
    "start_time": "2024-03-08T16:27:01.837Z"
   },
   {
    "duration": 20,
    "start_time": "2024-03-08T16:27:02.680Z"
   },
   {
    "duration": 11,
    "start_time": "2024-03-08T16:27:04.260Z"
   },
   {
    "duration": 561,
    "start_time": "2024-03-08T16:27:14.336Z"
   },
   {
    "duration": 3,
    "start_time": "2024-03-08T16:27:37.535Z"
   },
   {
    "duration": 441,
    "start_time": "2024-03-08T16:27:37.945Z"
   },
   {
    "duration": 8,
    "start_time": "2024-03-08T16:27:38.388Z"
   },
   {
    "duration": 20,
    "start_time": "2024-03-08T16:27:38.513Z"
   },
   {
    "duration": 8,
    "start_time": "2024-03-08T16:27:39.851Z"
   },
   {
    "duration": 8,
    "start_time": "2024-03-08T16:27:41.697Z"
   },
   {
    "duration": 16,
    "start_time": "2024-03-08T16:27:44.054Z"
   },
   {
    "duration": 48,
    "start_time": "2024-03-08T16:27:44.693Z"
   },
   {
    "duration": 58,
    "start_time": "2024-03-08T16:27:45.574Z"
   },
   {
    "duration": 101,
    "start_time": "2024-03-08T16:28:33.856Z"
   },
   {
    "duration": 15,
    "start_time": "2024-03-08T16:29:47.204Z"
   },
   {
    "duration": 8,
    "start_time": "2024-03-08T16:29:48.668Z"
   },
   {
    "duration": 3,
    "start_time": "2024-03-08T16:29:51.482Z"
   },
   {
    "duration": 447,
    "start_time": "2024-03-08T16:29:51.852Z"
   },
   {
    "duration": 7,
    "start_time": "2024-03-08T16:29:52.301Z"
   },
   {
    "duration": 21,
    "start_time": "2024-03-08T16:29:52.916Z"
   },
   {
    "duration": 7,
    "start_time": "2024-03-08T16:29:54.929Z"
   },
   {
    "duration": 7,
    "start_time": "2024-03-08T16:29:55.832Z"
   },
   {
    "duration": 10,
    "start_time": "2024-03-08T16:30:22.057Z"
   },
   {
    "duration": 7,
    "start_time": "2024-03-08T16:30:22.436Z"
   },
   {
    "duration": 10,
    "start_time": "2024-03-08T16:30:28.313Z"
   },
   {
    "duration": 8,
    "start_time": "2024-03-08T16:30:28.740Z"
   },
   {
    "duration": 3,
    "start_time": "2024-03-08T16:30:32.051Z"
   },
   {
    "duration": 323,
    "start_time": "2024-03-08T16:30:32.384Z"
   },
   {
    "duration": 8,
    "start_time": "2024-03-08T16:30:32.742Z"
   },
   {
    "duration": 20,
    "start_time": "2024-03-08T16:30:32.906Z"
   },
   {
    "duration": 7,
    "start_time": "2024-03-08T16:30:33.771Z"
   },
   {
    "duration": 8,
    "start_time": "2024-03-08T16:30:33.948Z"
   },
   {
    "duration": 16,
    "start_time": "2024-03-08T16:30:35.280Z"
   },
   {
    "duration": 51,
    "start_time": "2024-03-08T16:30:35.696Z"
   },
   {
    "duration": 58,
    "start_time": "2024-03-08T16:30:36.092Z"
   },
   {
    "duration": 84,
    "start_time": "2024-03-08T16:30:37.475Z"
   },
   {
    "duration": 25,
    "start_time": "2024-03-08T16:31:23.047Z"
   },
   {
    "duration": 87,
    "start_time": "2024-03-08T16:34:03.872Z"
   },
   {
    "duration": 85,
    "start_time": "2024-03-08T16:36:37.476Z"
   },
   {
    "duration": 79,
    "start_time": "2024-03-08T16:36:46.189Z"
   },
   {
    "duration": 72,
    "start_time": "2024-03-08T16:36:56.508Z"
   },
   {
    "duration": 19,
    "start_time": "2024-03-08T16:37:14.840Z"
   },
   {
    "duration": 73,
    "start_time": "2024-03-08T16:41:39.510Z"
   },
   {
    "duration": 76,
    "start_time": "2024-03-08T16:41:47.825Z"
   },
   {
    "duration": 71,
    "start_time": "2024-03-08T16:41:57.760Z"
   },
   {
    "duration": 77,
    "start_time": "2024-03-08T16:42:04.909Z"
   },
   {
    "duration": 109,
    "start_time": "2024-03-08T16:42:10.710Z"
   },
   {
    "duration": 105,
    "start_time": "2024-03-08T16:42:32.120Z"
   },
   {
    "duration": 83,
    "start_time": "2024-03-08T16:42:38.547Z"
   },
   {
    "duration": 110,
    "start_time": "2024-03-08T16:42:42.716Z"
   },
   {
    "duration": 86,
    "start_time": "2024-03-08T16:43:22.206Z"
   },
   {
    "duration": 137,
    "start_time": "2024-03-08T16:43:25.333Z"
   },
   {
    "duration": 700,
    "start_time": "2024-03-08T16:44:46.901Z"
   },
   {
    "duration": 669,
    "start_time": "2024-03-08T16:45:04.476Z"
   },
   {
    "duration": 703,
    "start_time": "2024-03-08T16:45:13.429Z"
   },
   {
    "duration": 134,
    "start_time": "2024-03-08T16:46:18.116Z"
   },
   {
    "duration": 113,
    "start_time": "2024-03-08T16:46:29.846Z"
   },
   {
    "duration": 122,
    "start_time": "2024-03-08T16:46:32.406Z"
   },
   {
    "duration": 140,
    "start_time": "2024-03-08T16:46:46.562Z"
   },
   {
    "duration": 113,
    "start_time": "2024-03-08T16:46:59.945Z"
   },
   {
    "duration": 22,
    "start_time": "2024-03-08T17:02:44.040Z"
   },
   {
    "duration": 4,
    "start_time": "2024-03-08T17:03:12.926Z"
   },
   {
    "duration": 459,
    "start_time": "2024-03-08T17:03:13.632Z"
   },
   {
    "duration": 7,
    "start_time": "2024-03-08T17:03:14.093Z"
   },
   {
    "duration": 20,
    "start_time": "2024-03-08T17:03:14.101Z"
   },
   {
    "duration": 8,
    "start_time": "2024-03-08T17:03:14.123Z"
   },
   {
    "duration": 12,
    "start_time": "2024-03-08T17:03:14.132Z"
   },
   {
    "duration": 32,
    "start_time": "2024-03-08T17:03:14.145Z"
   },
   {
    "duration": 49,
    "start_time": "2024-03-08T17:03:14.179Z"
   },
   {
    "duration": 91,
    "start_time": "2024-03-08T17:03:14.229Z"
   },
   {
    "duration": 109,
    "start_time": "2024-03-08T17:03:15.748Z"
   },
   {
    "duration": 22,
    "start_time": "2024-03-08T17:03:19.391Z"
   },
   {
    "duration": 3,
    "start_time": "2024-03-08T17:03:35.054Z"
   },
   {
    "duration": 564,
    "start_time": "2024-03-08T17:03:35.385Z"
   },
   {
    "duration": 8,
    "start_time": "2024-03-08T17:03:35.950Z"
   },
   {
    "duration": 18,
    "start_time": "2024-03-08T17:03:35.964Z"
   },
   {
    "duration": 8,
    "start_time": "2024-03-08T17:03:36.621Z"
   },
   {
    "duration": 7,
    "start_time": "2024-03-08T17:03:36.859Z"
   },
   {
    "duration": 14,
    "start_time": "2024-03-08T17:03:37.993Z"
   },
   {
    "duration": 45,
    "start_time": "2024-03-08T17:03:38.752Z"
   },
   {
    "duration": 52,
    "start_time": "2024-03-08T17:03:39.656Z"
   },
   {
    "duration": 108,
    "start_time": "2024-03-08T17:03:41.991Z"
   },
   {
    "duration": 21,
    "start_time": "2024-03-08T17:03:49.211Z"
   },
   {
    "duration": 7,
    "start_time": "2024-03-08T17:04:37.807Z"
   },
   {
    "duration": 8,
    "start_time": "2024-03-08T17:09:53.369Z"
   },
   {
    "duration": 20,
    "start_time": "2024-03-08T17:10:06.160Z"
   },
   {
    "duration": 16,
    "start_time": "2024-03-08T17:10:18.538Z"
   },
   {
    "duration": 15,
    "start_time": "2024-03-08T17:10:42.337Z"
   },
   {
    "duration": 4,
    "start_time": "2024-03-08T17:23:47.754Z"
   },
   {
    "duration": 4,
    "start_time": "2024-03-08T17:23:52.722Z"
   },
   {
    "duration": 3,
    "start_time": "2024-03-08T17:24:16.856Z"
   },
   {
    "duration": 4,
    "start_time": "2024-03-08T17:24:21.866Z"
   },
   {
    "duration": 7,
    "start_time": "2024-03-08T17:25:16.141Z"
   },
   {
    "duration": 6,
    "start_time": "2024-03-08T17:25:23.332Z"
   },
   {
    "duration": 4,
    "start_time": "2024-03-08T17:25:47.181Z"
   },
   {
    "duration": 9,
    "start_time": "2024-03-08T17:32:54.609Z"
   },
   {
    "duration": 30,
    "start_time": "2024-03-08T17:33:00.065Z"
   },
   {
    "duration": 24,
    "start_time": "2024-03-08T17:33:35.699Z"
   },
   {
    "duration": 71,
    "start_time": "2024-03-08T17:33:59.319Z"
   },
   {
    "duration": 289,
    "start_time": "2024-03-08T17:34:05.917Z"
   },
   {
    "duration": 259,
    "start_time": "2024-03-08T17:36:00.585Z"
   },
   {
    "duration": 542,
    "start_time": "2024-03-08T17:36:12.432Z"
   },
   {
    "duration": 638,
    "start_time": "2024-03-08T17:37:33.950Z"
   },
   {
    "duration": 989,
    "start_time": "2024-03-08T17:38:44.304Z"
   },
   {
    "duration": 25,
    "start_time": "2024-03-08T17:39:02.326Z"
   },
   {
    "duration": 740,
    "start_time": "2024-03-08T17:39:11.961Z"
   },
   {
    "duration": 954,
    "start_time": "2024-03-08T17:39:28.419Z"
   },
   {
    "duration": 4589,
    "start_time": "2024-03-08T17:39:35.694Z"
   },
   {
    "duration": 2681,
    "start_time": "2024-03-08T17:39:45.385Z"
   },
   {
    "duration": 1352,
    "start_time": "2024-03-08T17:39:55.648Z"
   },
   {
    "duration": 785,
    "start_time": "2024-03-08T17:40:24.056Z"
   },
   {
    "duration": 22,
    "start_time": "2024-03-08T17:44:34.740Z"
   },
   {
    "duration": 4,
    "start_time": "2024-03-08T17:44:51.121Z"
   },
   {
    "duration": 583,
    "start_time": "2024-03-08T17:45:27.950Z"
   },
   {
    "duration": 10,
    "start_time": "2024-03-08T17:45:39.974Z"
   },
   {
    "duration": 18,
    "start_time": "2024-03-08T17:45:50.816Z"
   },
   {
    "duration": 378,
    "start_time": "2024-03-08T17:46:03.011Z"
   },
   {
    "duration": 147,
    "start_time": "2024-03-08T17:46:13.199Z"
   },
   {
    "duration": 261,
    "start_time": "2024-03-08T17:46:23.904Z"
   },
   {
    "duration": 31,
    "start_time": "2024-03-08T17:48:01.430Z"
   },
   {
    "duration": 654,
    "start_time": "2024-03-08T17:48:18.575Z"
   },
   {
    "duration": 25,
    "start_time": "2024-03-08T17:51:05.575Z"
   },
   {
    "duration": 28,
    "start_time": "2024-03-08T17:51:28.123Z"
   },
   {
    "duration": 1500,
    "start_time": "2024-03-08T17:51:38.078Z"
   },
   {
    "duration": 27,
    "start_time": "2024-03-08T17:51:46.936Z"
   },
   {
    "duration": 1427,
    "start_time": "2024-03-08T17:51:59.445Z"
   },
   {
    "duration": 20,
    "start_time": "2024-03-08T17:53:47.170Z"
   },
   {
    "duration": 4,
    "start_time": "2024-03-08T17:54:21.663Z"
   },
   {
    "duration": 4,
    "start_time": "2024-03-08T17:54:36.845Z"
   },
   {
    "duration": 12,
    "start_time": "2024-03-08T18:06:13.099Z"
   },
   {
    "duration": 30,
    "start_time": "2024-03-08T18:06:41.212Z"
   },
   {
    "duration": 24,
    "start_time": "2024-03-08T18:06:59.983Z"
   },
   {
    "duration": 29,
    "start_time": "2024-03-08T18:07:16.918Z"
   },
   {
    "duration": 16,
    "start_time": "2024-03-08T18:09:58.392Z"
   },
   {
    "duration": 8,
    "start_time": "2024-03-08T18:10:01.766Z"
   },
   {
    "duration": 24,
    "start_time": "2024-03-08T18:11:33.311Z"
   },
   {
    "duration": 26,
    "start_time": "2024-03-08T18:11:40.318Z"
   },
   {
    "duration": 808,
    "start_time": "2024-03-08T18:13:15.675Z"
   },
   {
    "duration": 168,
    "start_time": "2024-03-08T18:16:55.485Z"
   },
   {
    "duration": 167,
    "start_time": "2024-03-08T18:17:06.378Z"
   },
   {
    "duration": 815,
    "start_time": "2024-03-08T18:17:33.459Z"
   },
   {
    "duration": 30,
    "start_time": "2024-03-08T18:17:41.660Z"
   },
   {
    "duration": 289,
    "start_time": "2024-03-08T18:18:04.511Z"
   },
   {
    "duration": 172,
    "start_time": "2024-03-08T18:19:02.680Z"
   },
   {
    "duration": 716,
    "start_time": "2024-03-08T18:21:34.696Z"
   },
   {
    "duration": 969,
    "start_time": "2024-03-08T18:21:41.090Z"
   },
   {
    "duration": 20,
    "start_time": "2024-03-08T18:21:49.284Z"
   },
   {
    "duration": 944,
    "start_time": "2024-03-08T18:22:34.052Z"
   },
   {
    "duration": 869,
    "start_time": "2024-03-08T18:22:38.498Z"
   },
   {
    "duration": 32,
    "start_time": "2024-03-08T18:23:10.685Z"
   },
   {
    "duration": 961,
    "start_time": "2024-03-08T18:23:43.940Z"
   },
   {
    "duration": 31,
    "start_time": "2024-03-08T18:25:25.965Z"
   },
   {
    "duration": 191,
    "start_time": "2024-03-08T18:25:29.983Z"
   },
   {
    "duration": 37,
    "start_time": "2024-03-08T18:25:56.161Z"
   },
   {
    "duration": 33,
    "start_time": "2024-03-08T18:26:02.112Z"
   },
   {
    "duration": 1388,
    "start_time": "2024-03-08T18:27:05.624Z"
   },
   {
    "duration": 1415,
    "start_time": "2024-03-08T18:27:18.267Z"
   },
   {
    "duration": 27,
    "start_time": "2024-03-08T18:27:23.255Z"
   },
   {
    "duration": 25,
    "start_time": "2024-03-08T18:27:32.010Z"
   },
   {
    "duration": 936,
    "start_time": "2024-03-08T18:27:36.356Z"
   },
   {
    "duration": 23,
    "start_time": "2024-03-08T18:27:45.689Z"
   },
   {
    "duration": 20,
    "start_time": "2024-03-08T18:27:50.711Z"
   },
   {
    "duration": 25,
    "start_time": "2024-03-08T18:27:57.889Z"
   },
   {
    "duration": 24,
    "start_time": "2024-03-08T18:29:51.018Z"
   },
   {
    "duration": 259,
    "start_time": "2024-03-08T18:36:10.963Z"
   },
   {
    "duration": 46,
    "start_time": "2024-03-08T18:36:43.179Z"
   },
   {
    "duration": 179,
    "start_time": "2024-03-08T18:37:00.375Z"
   },
   {
    "duration": 41,
    "start_time": "2024-03-08T18:37:18.145Z"
   },
   {
    "duration": 37,
    "start_time": "2024-03-08T18:37:35.973Z"
   },
   {
    "duration": 248,
    "start_time": "2024-03-08T18:45:11.337Z"
   },
   {
    "duration": 274,
    "start_time": "2024-03-08T18:45:23.558Z"
   },
   {
    "duration": 30,
    "start_time": "2024-03-08T18:47:27.468Z"
   },
   {
    "duration": 25,
    "start_time": "2024-03-08T18:47:41.591Z"
   },
   {
    "duration": 754,
    "start_time": "2024-03-08T18:47:48.932Z"
   },
   {
    "duration": 243,
    "start_time": "2024-03-08T18:48:28.136Z"
   },
   {
    "duration": 34,
    "start_time": "2024-03-08T18:48:39.810Z"
   },
   {
    "duration": 197,
    "start_time": "2024-03-08T18:49:08.409Z"
   },
   {
    "duration": 212,
    "start_time": "2024-03-08T18:49:27.574Z"
   },
   {
    "duration": 326,
    "start_time": "2024-03-08T18:49:34.061Z"
   },
   {
    "duration": 27,
    "start_time": "2024-03-08T18:52:42.633Z"
   },
   {
    "duration": 205,
    "start_time": "2024-03-08T18:54:02.496Z"
   },
   {
    "duration": 233,
    "start_time": "2024-03-08T18:54:26.652Z"
   },
   {
    "duration": 11,
    "start_time": "2024-03-08T18:56:59.540Z"
   },
   {
    "duration": 10,
    "start_time": "2024-03-08T18:57:35.987Z"
   },
   {
    "duration": 32,
    "start_time": "2024-03-08T18:57:50.597Z"
   },
   {
    "duration": 102,
    "start_time": "2024-03-08T18:58:34.240Z"
   },
   {
    "duration": 76,
    "start_time": "2024-03-08T18:59:04.455Z"
   },
   {
    "duration": 42,
    "start_time": "2024-03-08T18:59:12.111Z"
   },
   {
    "duration": 27,
    "start_time": "2024-03-08T19:01:04.091Z"
   },
   {
    "duration": 20,
    "start_time": "2024-03-08T19:01:28.622Z"
   },
   {
    "duration": 25,
    "start_time": "2024-03-08T19:03:09.074Z"
   },
   {
    "duration": 22,
    "start_time": "2024-03-08T19:03:15.125Z"
   },
   {
    "duration": 64,
    "start_time": "2024-03-08T19:05:48.807Z"
   },
   {
    "duration": 51,
    "start_time": "2024-03-08T19:06:23.850Z"
   },
   {
    "duration": 29,
    "start_time": "2024-03-08T19:09:47.246Z"
   },
   {
    "duration": 26,
    "start_time": "2024-03-08T19:09:52.897Z"
   },
   {
    "duration": 23,
    "start_time": "2024-03-08T19:10:13.856Z"
   },
   {
    "duration": 24,
    "start_time": "2024-03-08T19:10:30.813Z"
   },
   {
    "duration": 24,
    "start_time": "2024-03-08T19:13:04.245Z"
   },
   {
    "duration": 52,
    "start_time": "2024-03-08T19:13:07.435Z"
   },
   {
    "duration": 7,
    "start_time": "2024-03-08T19:15:35.420Z"
   },
   {
    "duration": 8,
    "start_time": "2024-03-08T19:16:41.909Z"
   },
   {
    "duration": 7,
    "start_time": "2024-03-08T19:16:50.449Z"
   },
   {
    "duration": 7,
    "start_time": "2024-03-08T19:17:27.505Z"
   },
   {
    "duration": 71,
    "start_time": "2024-03-08T19:18:06.599Z"
   },
   {
    "duration": 8,
    "start_time": "2024-03-08T19:18:12.276Z"
   },
   {
    "duration": 7,
    "start_time": "2024-03-08T19:18:19.937Z"
   },
   {
    "duration": 6,
    "start_time": "2024-03-08T19:18:30.142Z"
   },
   {
    "duration": 8,
    "start_time": "2024-03-08T19:18:36.682Z"
   },
   {
    "duration": 63,
    "start_time": "2024-03-08T20:02:46.560Z"
   },
   {
    "duration": 25,
    "start_time": "2024-03-08T20:03:18.218Z"
   },
   {
    "duration": 38,
    "start_time": "2024-03-08T20:03:24.666Z"
   },
   {
    "duration": 16,
    "start_time": "2024-03-08T20:03:42.938Z"
   },
   {
    "duration": 28,
    "start_time": "2024-03-08T20:06:50.827Z"
   },
   {
    "duration": 25,
    "start_time": "2024-03-08T20:07:00.744Z"
   },
   {
    "duration": 50,
    "start_time": "2024-03-08T20:07:14.457Z"
   },
   {
    "duration": 8,
    "start_time": "2024-03-08T20:07:17.583Z"
   },
   {
    "duration": 24,
    "start_time": "2024-03-08T20:08:50.542Z"
   },
   {
    "duration": 10,
    "start_time": "2024-03-08T20:09:29.327Z"
   },
   {
    "duration": 13,
    "start_time": "2024-03-08T20:10:17.535Z"
   },
   {
    "duration": 7,
    "start_time": "2024-03-08T20:10:25.241Z"
   },
   {
    "duration": 7,
    "start_time": "2024-03-08T20:10:34.641Z"
   },
   {
    "duration": 7,
    "start_time": "2024-03-08T20:11:55.476Z"
   },
   {
    "duration": 8,
    "start_time": "2024-03-08T20:12:06.050Z"
   },
   {
    "duration": 10,
    "start_time": "2024-03-08T20:12:26.361Z"
   },
   {
    "duration": 7,
    "start_time": "2024-03-08T20:12:48.054Z"
   },
   {
    "duration": 11,
    "start_time": "2024-03-08T20:13:27.763Z"
   },
   {
    "duration": 51,
    "start_time": "2024-03-08T20:13:41.343Z"
   },
   {
    "duration": 7,
    "start_time": "2024-03-08T20:13:46.813Z"
   },
   {
    "duration": 1149,
    "start_time": "2024-03-08T20:21:00.568Z"
   },
   {
    "duration": 53,
    "start_time": "2024-03-08T20:21:24.825Z"
   },
   {
    "duration": 8,
    "start_time": "2024-03-08T20:21:26.264Z"
   },
   {
    "duration": 17,
    "start_time": "2024-03-08T20:21:27.078Z"
   },
   {
    "duration": 6,
    "start_time": "2024-03-08T20:21:27.953Z"
   },
   {
    "duration": 1113,
    "start_time": "2024-03-08T20:21:28.884Z"
   },
   {
    "duration": 1149,
    "start_time": "2024-03-08T20:22:25.405Z"
   },
   {
    "duration": 1066,
    "start_time": "2024-03-08T20:22:46.531Z"
   },
   {
    "duration": 1195,
    "start_time": "2024-03-08T20:23:31.245Z"
   },
   {
    "duration": 8,
    "start_time": "2024-03-08T20:24:04.884Z"
   },
   {
    "duration": 10,
    "start_time": "2024-03-08T20:24:10.791Z"
   },
   {
    "duration": 9,
    "start_time": "2024-03-08T20:25:09.382Z"
   },
   {
    "duration": 10,
    "start_time": "2024-03-08T20:25:18.474Z"
   },
   {
    "duration": 11,
    "start_time": "2024-03-08T20:26:15.835Z"
   },
   {
    "duration": 10,
    "start_time": "2024-03-08T20:27:19.226Z"
   },
   {
    "duration": 3,
    "start_time": "2024-03-08T20:29:10.086Z"
   },
   {
    "duration": 1150,
    "start_time": "2024-03-08T20:29:34.627Z"
   },
   {
    "duration": 4,
    "start_time": "2024-03-08T20:31:10.846Z"
   },
   {
    "duration": 66,
    "start_time": "2024-03-08T20:31:22.677Z"
   },
   {
    "duration": 11,
    "start_time": "2024-03-08T20:32:30.266Z"
   },
   {
    "duration": 11,
    "start_time": "2024-03-08T20:33:32.620Z"
   },
   {
    "duration": 25,
    "start_time": "2024-03-08T20:33:40.960Z"
   },
   {
    "duration": 50,
    "start_time": "2024-03-08T20:33:41.594Z"
   },
   {
    "duration": 7,
    "start_time": "2024-03-08T20:33:42.016Z"
   },
   {
    "duration": 15,
    "start_time": "2024-03-08T20:33:42.780Z"
   },
   {
    "duration": 7,
    "start_time": "2024-03-08T20:33:43.744Z"
   },
   {
    "duration": 1148,
    "start_time": "2024-03-08T20:33:44.589Z"
   },
   {
    "duration": 8,
    "start_time": "2024-03-08T20:33:57.376Z"
   },
   {
    "duration": 9,
    "start_time": "2024-03-08T20:35:32.403Z"
   },
   {
    "duration": 9,
    "start_time": "2024-03-08T20:37:41.916Z"
   },
   {
    "duration": 1271,
    "start_time": "2024-03-08T20:38:44.920Z"
   },
   {
    "duration": 1164,
    "start_time": "2024-03-08T20:38:59.220Z"
   },
   {
    "duration": 6,
    "start_time": "2024-03-08T20:39:47.336Z"
   },
   {
    "duration": 9,
    "start_time": "2024-03-08T20:43:25.321Z"
   },
   {
    "duration": 6,
    "start_time": "2024-03-08T20:43:40.424Z"
   },
   {
    "duration": 7,
    "start_time": "2024-03-08T20:43:59.997Z"
   },
   {
    "duration": 7,
    "start_time": "2024-03-08T20:44:08.228Z"
   },
   {
    "duration": 1167,
    "start_time": "2024-03-09T11:13:34.852Z"
   },
   {
    "duration": 555,
    "start_time": "2024-03-09T11:13:36.021Z"
   },
   {
    "duration": 12,
    "start_time": "2024-03-09T11:13:36.577Z"
   },
   {
    "duration": 35,
    "start_time": "2024-03-09T11:13:36.591Z"
   },
   {
    "duration": 12,
    "start_time": "2024-03-09T11:13:37.860Z"
   },
   {
    "duration": 7,
    "start_time": "2024-03-09T11:13:38.128Z"
   },
   {
    "duration": 16,
    "start_time": "2024-03-09T11:13:39.014Z"
   },
   {
    "duration": 66,
    "start_time": "2024-03-09T11:13:39.676Z"
   },
   {
    "duration": 49,
    "start_time": "2024-03-09T11:13:40.289Z"
   },
   {
    "duration": 106,
    "start_time": "2024-03-09T11:13:41.356Z"
   },
   {
    "duration": 21,
    "start_time": "2024-03-09T11:13:45.028Z"
   },
   {
    "duration": 7,
    "start_time": "2024-03-09T11:13:48.495Z"
   },
   {
    "duration": 21,
    "start_time": "2024-03-09T11:13:52.138Z"
   },
   {
    "duration": 6,
    "start_time": "2024-03-09T11:13:53.202Z"
   },
   {
    "duration": 5,
    "start_time": "2024-03-09T11:13:53.814Z"
   },
   {
    "duration": 53,
    "start_time": "2024-03-09T11:14:17.654Z"
   },
   {
    "duration": 9,
    "start_time": "2024-03-09T11:14:18.853Z"
   },
   {
    "duration": 13,
    "start_time": "2024-03-09T11:14:20.327Z"
   },
   {
    "duration": 7,
    "start_time": "2024-03-09T11:14:21.475Z"
   },
   {
    "duration": 6,
    "start_time": "2024-03-09T11:14:25.634Z"
   },
   {
    "duration": 32,
    "start_time": "2024-03-09T11:15:24.310Z"
   },
   {
    "duration": 33,
    "start_time": "2024-03-09T11:15:30.533Z"
   },
   {
    "duration": 14,
    "start_time": "2024-03-09T11:18:25.496Z"
   },
   {
    "duration": 5,
    "start_time": "2024-03-09T11:18:26.490Z"
   },
   {
    "duration": 7,
    "start_time": "2024-03-09T11:18:27.162Z"
   },
   {
    "duration": 50,
    "start_time": "2024-03-09T11:18:44.390Z"
   },
   {
    "duration": 8,
    "start_time": "2024-03-09T11:18:45.217Z"
   },
   {
    "duration": 14,
    "start_time": "2024-03-09T11:18:48.269Z"
   },
   {
    "duration": 5,
    "start_time": "2024-03-09T11:18:49.251Z"
   },
   {
    "duration": 6,
    "start_time": "2024-03-09T11:18:53.881Z"
   },
   {
    "duration": 7,
    "start_time": "2024-03-09T11:19:12.803Z"
   },
   {
    "duration": 3,
    "start_time": "2024-03-09T11:19:16.451Z"
   },
   {
    "duration": 408,
    "start_time": "2024-03-09T11:19:16.990Z"
   },
   {
    "duration": 7,
    "start_time": "2024-03-09T11:19:17.400Z"
   },
   {
    "duration": 27,
    "start_time": "2024-03-09T11:19:17.408Z"
   },
   {
    "duration": 7,
    "start_time": "2024-03-09T11:19:17.437Z"
   },
   {
    "duration": 7,
    "start_time": "2024-03-09T11:19:17.445Z"
   },
   {
    "duration": 17,
    "start_time": "2024-03-09T11:19:17.453Z"
   },
   {
    "duration": 75,
    "start_time": "2024-03-09T11:19:17.472Z"
   },
   {
    "duration": 51,
    "start_time": "2024-03-09T11:19:17.549Z"
   },
   {
    "duration": 127,
    "start_time": "2024-03-09T11:19:17.602Z"
   },
   {
    "duration": 21,
    "start_time": "2024-03-09T11:19:17.845Z"
   },
   {
    "duration": 7,
    "start_time": "2024-03-09T11:19:17.951Z"
   },
   {
    "duration": 17,
    "start_time": "2024-03-09T11:19:18.044Z"
   },
   {
    "duration": 6,
    "start_time": "2024-03-09T11:19:19.205Z"
   },
   {
    "duration": 4,
    "start_time": "2024-03-09T11:19:19.431Z"
   },
   {
    "duration": 225,
    "start_time": "2024-03-09T11:19:20.272Z"
   },
   {
    "duration": 235,
    "start_time": "2024-03-09T11:19:20.744Z"
   },
   {
    "duration": 32,
    "start_time": "2024-03-09T11:19:23.351Z"
   },
   {
    "duration": 25,
    "start_time": "2024-03-09T11:19:34.011Z"
   },
   {
    "duration": 52,
    "start_time": "2024-03-09T11:19:35.050Z"
   },
   {
    "duration": 9,
    "start_time": "2024-03-09T11:19:36.835Z"
   },
   {
    "duration": 11,
    "start_time": "2024-03-09T11:19:38.050Z"
   },
   {
    "duration": 7,
    "start_time": "2024-03-09T11:19:39.769Z"
   },
   {
    "duration": 6,
    "start_time": "2024-03-09T11:19:41.429Z"
   },
   {
    "duration": 34,
    "start_time": "2024-03-09T11:24:00.051Z"
   },
   {
    "duration": 30,
    "start_time": "2024-03-09T11:26:33.720Z"
   },
   {
    "duration": 33,
    "start_time": "2024-03-09T11:26:44.563Z"
   },
   {
    "duration": 374,
    "start_time": "2024-03-09T11:26:57.404Z"
   },
   {
    "duration": 83,
    "start_time": "2024-03-09T11:27:52.104Z"
   },
   {
    "duration": 95,
    "start_time": "2024-03-09T11:28:17.500Z"
   },
   {
    "duration": 245,
    "start_time": "2024-03-09T11:28:41.656Z"
   },
   {
    "duration": 3,
    "start_time": "2024-03-09T11:28:53.781Z"
   },
   {
    "duration": 526,
    "start_time": "2024-03-09T11:28:54.326Z"
   },
   {
    "duration": 8,
    "start_time": "2024-03-09T11:28:54.853Z"
   },
   {
    "duration": 20,
    "start_time": "2024-03-09T11:28:54.862Z"
   },
   {
    "duration": 7,
    "start_time": "2024-03-09T11:28:54.936Z"
   },
   {
    "duration": 8,
    "start_time": "2024-03-09T11:28:55.133Z"
   },
   {
    "duration": 17,
    "start_time": "2024-03-09T11:28:55.756Z"
   },
   {
    "duration": 50,
    "start_time": "2024-03-09T11:28:56.161Z"
   },
   {
    "duration": 48,
    "start_time": "2024-03-09T11:28:56.627Z"
   },
   {
    "duration": 108,
    "start_time": "2024-03-09T11:28:57.484Z"
   },
   {
    "duration": 22,
    "start_time": "2024-03-09T11:28:59.257Z"
   },
   {
    "duration": 8,
    "start_time": "2024-03-09T11:28:59.905Z"
   },
   {
    "duration": 18,
    "start_time": "2024-03-09T11:29:00.576Z"
   },
   {
    "duration": 6,
    "start_time": "2024-03-09T11:29:02.381Z"
   },
   {
    "duration": 4,
    "start_time": "2024-03-09T11:29:02.595Z"
   },
   {
    "duration": 250,
    "start_time": "2024-03-09T11:29:03.716Z"
   },
   {
    "duration": 222,
    "start_time": "2024-03-09T11:29:20.156Z"
   },
   {
    "duration": 226,
    "start_time": "2024-03-09T11:30:36.043Z"
   },
   {
    "duration": 281,
    "start_time": "2024-03-09T11:31:58.263Z"
   },
   {
    "duration": 277,
    "start_time": "2024-03-09T11:32:03.637Z"
   },
   {
    "duration": 42,
    "start_time": "2024-03-09T11:38:41.894Z"
   },
   {
    "duration": 42,
    "start_time": "2024-03-09T11:39:02.834Z"
   },
   {
    "duration": 47,
    "start_time": "2024-03-09T11:39:09.520Z"
   },
   {
    "duration": 45,
    "start_time": "2024-03-09T11:39:19.094Z"
   },
   {
    "duration": 112,
    "start_time": "2024-03-09T11:41:32.586Z"
   },
   {
    "duration": 186,
    "start_time": "2024-03-09T11:41:38.481Z"
   },
   {
    "duration": 197,
    "start_time": "2024-03-09T11:42:00.422Z"
   },
   {
    "duration": 16,
    "start_time": "2024-03-09T11:43:24.622Z"
   },
   {
    "duration": 261,
    "start_time": "2024-03-09T11:44:30.251Z"
   },
   {
    "duration": 267,
    "start_time": "2024-03-09T11:44:39.283Z"
   },
   {
    "duration": 260,
    "start_time": "2024-03-09T11:45:11.749Z"
   },
   {
    "duration": 9,
    "start_time": "2024-03-09T11:48:04.763Z"
   },
   {
    "duration": 52,
    "start_time": "2024-03-09T11:52:36.265Z"
   },
   {
    "duration": 1061,
    "start_time": "2024-03-09T11:52:40.292Z"
   },
   {
    "duration": 571,
    "start_time": "2024-03-09T11:52:41.355Z"
   },
   {
    "duration": 10,
    "start_time": "2024-03-09T11:52:41.928Z"
   },
   {
    "duration": 25,
    "start_time": "2024-03-09T11:52:41.939Z"
   },
   {
    "duration": 10,
    "start_time": "2024-03-09T11:52:41.966Z"
   },
   {
    "duration": 8,
    "start_time": "2024-03-09T11:52:42.048Z"
   },
   {
    "duration": 16,
    "start_time": "2024-03-09T11:52:42.139Z"
   },
   {
    "duration": 61,
    "start_time": "2024-03-09T11:52:42.202Z"
   },
   {
    "duration": 49,
    "start_time": "2024-03-09T11:52:42.280Z"
   },
   {
    "duration": 105,
    "start_time": "2024-03-09T11:52:42.374Z"
   },
   {
    "duration": 21,
    "start_time": "2024-03-09T11:52:43.779Z"
   },
   {
    "duration": 7,
    "start_time": "2024-03-09T11:52:44.437Z"
   },
   {
    "duration": 20,
    "start_time": "2024-03-09T11:52:45.050Z"
   },
   {
    "duration": 6,
    "start_time": "2024-03-09T11:52:45.828Z"
   },
   {
    "duration": 4,
    "start_time": "2024-03-09T11:52:46.450Z"
   },
   {
    "duration": 288,
    "start_time": "2024-03-09T11:52:46.886Z"
   },
   {
    "duration": 17,
    "start_time": "2024-03-09T11:52:47.770Z"
   },
   {
    "duration": 14,
    "start_time": "2024-03-09T11:52:53.350Z"
   },
   {
    "duration": 45,
    "start_time": "2024-03-09T11:53:29.757Z"
   },
   {
    "duration": 1006,
    "start_time": "2024-03-09T11:53:41.146Z"
   },
   {
    "duration": 420,
    "start_time": "2024-03-09T11:53:42.153Z"
   },
   {
    "duration": 10,
    "start_time": "2024-03-09T11:53:42.575Z"
   },
   {
    "duration": 34,
    "start_time": "2024-03-09T11:53:42.587Z"
   },
   {
    "duration": 11,
    "start_time": "2024-03-09T11:53:42.622Z"
   },
   {
    "duration": 7,
    "start_time": "2024-03-09T11:53:42.634Z"
   },
   {
    "duration": 20,
    "start_time": "2024-03-09T11:53:42.643Z"
   },
   {
    "duration": 89,
    "start_time": "2024-03-09T11:53:42.665Z"
   },
   {
    "duration": 63,
    "start_time": "2024-03-09T11:53:42.755Z"
   },
   {
    "duration": 108,
    "start_time": "2024-03-09T11:53:42.820Z"
   },
   {
    "duration": 20,
    "start_time": "2024-03-09T11:53:42.929Z"
   },
   {
    "duration": 7,
    "start_time": "2024-03-09T11:53:43.406Z"
   },
   {
    "duration": 20,
    "start_time": "2024-03-09T11:53:43.498Z"
   },
   {
    "duration": 6,
    "start_time": "2024-03-09T11:53:44.350Z"
   },
   {
    "duration": 4,
    "start_time": "2024-03-09T11:53:44.609Z"
   },
   {
    "duration": 291,
    "start_time": "2024-03-09T11:53:45.047Z"
   },
   {
    "duration": 18,
    "start_time": "2024-03-09T11:53:45.871Z"
   },
   {
    "duration": 13,
    "start_time": "2024-03-09T11:53:47.644Z"
   },
   {
    "duration": 11,
    "start_time": "2024-03-09T11:53:48.584Z"
   },
   {
    "duration": 33,
    "start_time": "2024-03-09T11:53:52.786Z"
   },
   {
    "duration": 3,
    "start_time": "2024-03-09T11:54:35.743Z"
   },
   {
    "duration": 556,
    "start_time": "2024-03-09T11:54:36.116Z"
   },
   {
    "duration": 7,
    "start_time": "2024-03-09T11:54:36.674Z"
   },
   {
    "duration": 35,
    "start_time": "2024-03-09T11:54:36.683Z"
   },
   {
    "duration": 8,
    "start_time": "2024-03-09T11:54:37.333Z"
   },
   {
    "duration": 7,
    "start_time": "2024-03-09T11:54:37.508Z"
   },
   {
    "duration": 17,
    "start_time": "2024-03-09T11:54:38.520Z"
   },
   {
    "duration": 52,
    "start_time": "2024-03-09T11:54:39.066Z"
   },
   {
    "duration": 49,
    "start_time": "2024-03-09T11:54:39.895Z"
   },
   {
    "duration": 102,
    "start_time": "2024-03-09T11:54:41.047Z"
   },
   {
    "duration": 20,
    "start_time": "2024-03-09T11:54:43.465Z"
   },
   {
    "duration": 7,
    "start_time": "2024-03-09T11:54:44.555Z"
   },
   {
    "duration": 32,
    "start_time": "2024-03-09T11:54:45.238Z"
   },
   {
    "duration": 17,
    "start_time": "2024-03-09T11:54:48.125Z"
   },
   {
    "duration": 6,
    "start_time": "2024-03-09T11:54:48.957Z"
   },
   {
    "duration": 3,
    "start_time": "2024-03-09T11:54:49.167Z"
   },
   {
    "duration": 290,
    "start_time": "2024-03-09T11:54:49.550Z"
   },
   {
    "duration": 15,
    "start_time": "2024-03-09T11:54:49.968Z"
   },
   {
    "duration": 12,
    "start_time": "2024-03-09T11:54:51.031Z"
   },
   {
    "duration": 11,
    "start_time": "2024-03-09T11:54:51.589Z"
   },
   {
    "duration": 31,
    "start_time": "2024-03-09T11:54:52.137Z"
   },
   {
    "duration": 7,
    "start_time": "2024-03-09T11:56:06.273Z"
   },
   {
    "duration": 7,
    "start_time": "2024-03-09T12:01:26.087Z"
   },
   {
    "duration": 57,
    "start_time": "2024-03-09T12:07:06.138Z"
   },
   {
    "duration": 4,
    "start_time": "2024-03-09T12:07:11.566Z"
   },
   {
    "duration": 3,
    "start_time": "2024-03-09T12:09:21.332Z"
   },
   {
    "duration": 544,
    "start_time": "2024-03-09T12:09:21.831Z"
   },
   {
    "duration": 7,
    "start_time": "2024-03-09T12:09:22.377Z"
   },
   {
    "duration": 21,
    "start_time": "2024-03-09T12:09:22.851Z"
   },
   {
    "duration": 8,
    "start_time": "2024-03-09T12:09:24.162Z"
   },
   {
    "duration": 8,
    "start_time": "2024-03-09T12:09:24.463Z"
   },
   {
    "duration": 17,
    "start_time": "2024-03-09T12:09:26.022Z"
   },
   {
    "duration": 49,
    "start_time": "2024-03-09T12:09:26.931Z"
   },
   {
    "duration": 49,
    "start_time": "2024-03-09T12:09:27.643Z"
   },
   {
    "duration": 119,
    "start_time": "2024-03-09T12:09:28.906Z"
   },
   {
    "duration": 22,
    "start_time": "2024-03-09T12:09:31.928Z"
   },
   {
    "duration": 7,
    "start_time": "2024-03-09T12:09:33.108Z"
   },
   {
    "duration": 18,
    "start_time": "2024-03-09T12:09:34.018Z"
   },
   {
    "duration": 6,
    "start_time": "2024-03-09T12:09:35.485Z"
   },
   {
    "duration": 4,
    "start_time": "2024-03-09T12:09:35.860Z"
   },
   {
    "duration": 261,
    "start_time": "2024-03-09T12:09:36.892Z"
   },
   {
    "duration": 7,
    "start_time": "2024-03-09T12:09:38.647Z"
   },
   {
    "duration": 13,
    "start_time": "2024-03-09T12:09:40.070Z"
   },
   {
    "duration": 9,
    "start_time": "2024-03-09T12:09:41.341Z"
   },
   {
    "duration": 32,
    "start_time": "2024-03-09T12:09:41.707Z"
   },
   {
    "duration": 6,
    "start_time": "2024-03-09T12:09:43.129Z"
   },
   {
    "duration": 24,
    "start_time": "2024-03-09T12:09:57.478Z"
   },
   {
    "duration": 63,
    "start_time": "2024-03-09T12:10:03.629Z"
   },
   {
    "duration": 7,
    "start_time": "2024-03-09T12:10:07.230Z"
   },
   {
    "duration": 14,
    "start_time": "2024-03-09T12:10:14.132Z"
   },
   {
    "duration": 7,
    "start_time": "2024-03-09T12:10:16.623Z"
   },
   {
    "duration": 7,
    "start_time": "2024-03-09T12:10:25.224Z"
   },
   {
    "duration": 32,
    "start_time": "2024-03-09T12:10:57.471Z"
   },
   {
    "duration": 3,
    "start_time": "2024-03-09T12:15:41.566Z"
   },
   {
    "duration": 17,
    "start_time": "2024-03-09T12:30:21.741Z"
   },
   {
    "duration": 33,
    "start_time": "2024-03-09T14:22:08.446Z"
   },
   {
    "duration": 1091,
    "start_time": "2024-03-09T14:22:52.052Z"
   },
   {
    "duration": 25,
    "start_time": "2024-03-09T14:33:08.756Z"
   },
   {
    "duration": 28,
    "start_time": "2024-03-09T14:33:20.858Z"
   },
   {
    "duration": 26,
    "start_time": "2024-03-09T14:34:48.168Z"
   },
   {
    "duration": 28,
    "start_time": "2024-03-09T14:34:59.648Z"
   },
   {
    "duration": 25,
    "start_time": "2024-03-09T14:35:45.685Z"
   },
   {
    "duration": 49,
    "start_time": "2024-03-09T14:36:02.018Z"
   },
   {
    "duration": 48,
    "start_time": "2024-03-09T14:36:31.115Z"
   },
   {
    "duration": 62,
    "start_time": "2024-03-09T14:37:09.337Z"
   },
   {
    "duration": 47,
    "start_time": "2024-03-09T14:37:42.882Z"
   },
   {
    "duration": 42,
    "start_time": "2024-03-09T14:37:51.143Z"
   },
   {
    "duration": 48,
    "start_time": "2024-03-09T14:40:00.577Z"
   },
   {
    "duration": 45,
    "start_time": "2024-03-09T14:40:09.732Z"
   },
   {
    "duration": 16,
    "start_time": "2024-03-09T14:43:14.106Z"
   },
   {
    "duration": 3,
    "start_time": "2024-03-09T14:43:50.992Z"
   },
   {
    "duration": 8,
    "start_time": "2024-03-09T14:43:54.321Z"
   },
   {
    "duration": 7,
    "start_time": "2024-03-09T14:49:23.005Z"
   },
   {
    "duration": 49,
    "start_time": "2024-03-09T14:51:02.777Z"
   },
   {
    "duration": 11,
    "start_time": "2024-03-09T14:51:03.546Z"
   },
   {
    "duration": 28,
    "start_time": "2024-03-09T15:01:21.924Z"
   },
   {
    "duration": 26,
    "start_time": "2024-03-09T15:01:26.832Z"
   },
   {
    "duration": 11,
    "start_time": "2024-03-09T15:01:42.317Z"
   },
   {
    "duration": 48,
    "start_time": "2024-03-09T15:02:02.225Z"
   },
   {
    "duration": 49,
    "start_time": "2024-03-09T15:02:08.605Z"
   },
   {
    "duration": 16,
    "start_time": "2024-03-09T15:03:20.077Z"
   },
   {
    "duration": 16,
    "start_time": "2024-03-09T15:03:42.957Z"
   },
   {
    "duration": 12,
    "start_time": "2024-03-09T15:07:33.518Z"
   },
   {
    "duration": 13,
    "start_time": "2024-03-09T15:07:48.100Z"
   },
   {
    "duration": 12,
    "start_time": "2024-03-09T15:08:02.964Z"
   },
   {
    "duration": 8,
    "start_time": "2024-03-09T15:08:11.292Z"
   },
   {
    "duration": 7,
    "start_time": "2024-03-09T15:08:14.145Z"
   },
   {
    "duration": 86,
    "start_time": "2024-03-09T15:10:34.447Z"
   },
   {
    "duration": 9,
    "start_time": "2024-03-09T15:10:44.640Z"
   },
   {
    "duration": 49,
    "start_time": "2024-03-09T15:18:43.016Z"
   },
   {
    "duration": 44,
    "start_time": "2024-03-09T15:18:54.024Z"
   },
   {
    "duration": 15,
    "start_time": "2024-03-09T15:24:03.599Z"
   },
   {
    "duration": 42,
    "start_time": "2024-03-09T15:27:39.418Z"
   },
   {
    "duration": 23,
    "start_time": "2024-03-09T15:28:54.601Z"
   },
   {
    "duration": 22,
    "start_time": "2024-03-09T15:29:27.867Z"
   },
   {
    "duration": 24,
    "start_time": "2024-03-09T15:29:37.923Z"
   },
   {
    "duration": 24,
    "start_time": "2024-03-09T15:29:54.351Z"
   },
   {
    "duration": 14,
    "start_time": "2024-03-09T15:30:08.999Z"
   },
   {
    "duration": 34,
    "start_time": "2024-03-09T15:30:09.635Z"
   },
   {
    "duration": 23,
    "start_time": "2024-03-09T15:30:12.581Z"
   },
   {
    "duration": 6,
    "start_time": "2024-03-09T15:33:49.100Z"
   },
   {
    "duration": 66,
    "start_time": "2024-03-09T15:35:42.026Z"
   },
   {
    "duration": 64,
    "start_time": "2024-03-09T15:36:46.131Z"
   },
   {
    "duration": 6,
    "start_time": "2024-03-09T15:37:20.947Z"
   },
   {
    "duration": 67,
    "start_time": "2024-03-09T15:37:22.547Z"
   },
   {
    "duration": 12,
    "start_time": "2024-03-09T15:41:38.716Z"
   },
   {
    "duration": 67,
    "start_time": "2024-03-09T15:42:54.600Z"
   },
   {
    "duration": 6,
    "start_time": "2024-03-09T15:44:33.583Z"
   },
   {
    "duration": 66,
    "start_time": "2024-03-09T15:44:36.355Z"
   },
   {
    "duration": 68,
    "start_time": "2024-03-09T15:54:00.017Z"
   },
   {
    "duration": 11,
    "start_time": "2024-03-09T15:59:24.195Z"
   },
   {
    "duration": 8,
    "start_time": "2024-03-09T15:59:57.023Z"
   },
   {
    "duration": 18,
    "start_time": "2024-03-09T16:00:02.735Z"
   },
   {
    "duration": 7,
    "start_time": "2024-03-09T16:00:12.431Z"
   },
   {
    "duration": 99,
    "start_time": "2024-03-09T16:00:28.534Z"
   },
   {
    "duration": 3,
    "start_time": "2024-03-09T16:41:08.157Z"
   },
   {
    "duration": 521,
    "start_time": "2024-03-09T16:41:08.701Z"
   },
   {
    "duration": 9,
    "start_time": "2024-03-09T16:41:09.223Z"
   },
   {
    "duration": 20,
    "start_time": "2024-03-09T16:41:09.578Z"
   },
   {
    "duration": 8,
    "start_time": "2024-03-09T16:41:09.700Z"
   },
   {
    "duration": 7,
    "start_time": "2024-03-09T16:41:09.735Z"
   },
   {
    "duration": 17,
    "start_time": "2024-03-09T16:41:09.844Z"
   },
   {
    "duration": 47,
    "start_time": "2024-03-09T16:41:09.905Z"
   },
   {
    "duration": 51,
    "start_time": "2024-03-09T16:41:09.967Z"
   },
   {
    "duration": 105,
    "start_time": "2024-03-09T16:41:10.064Z"
   },
   {
    "duration": 34,
    "start_time": "2024-03-09T16:41:10.335Z"
   },
   {
    "duration": 9,
    "start_time": "2024-03-09T16:41:10.442Z"
   },
   {
    "duration": 17,
    "start_time": "2024-03-09T16:41:10.534Z"
   },
   {
    "duration": 5,
    "start_time": "2024-03-09T16:41:10.656Z"
   },
   {
    "duration": 4,
    "start_time": "2024-03-09T16:41:10.701Z"
   },
   {
    "duration": 340,
    "start_time": "2024-03-09T16:41:10.763Z"
   },
   {
    "duration": 15,
    "start_time": "2024-03-09T16:41:11.105Z"
   },
   {
    "duration": 12,
    "start_time": "2024-03-09T16:41:11.121Z"
   },
   {
    "duration": 10,
    "start_time": "2024-03-09T16:41:11.135Z"
   },
   {
    "duration": 30,
    "start_time": "2024-03-09T16:41:11.146Z"
   },
   {
    "duration": 6,
    "start_time": "2024-03-09T16:41:11.177Z"
   },
   {
    "duration": 24,
    "start_time": "2024-03-09T16:41:11.368Z"
   },
   {
    "duration": 49,
    "start_time": "2024-03-09T16:41:11.459Z"
   },
   {
    "duration": 7,
    "start_time": "2024-03-09T16:41:11.522Z"
   },
   {
    "duration": 19,
    "start_time": "2024-03-09T16:41:11.616Z"
   },
   {
    "duration": 8,
    "start_time": "2024-03-09T16:41:11.723Z"
   },
   {
    "duration": 6,
    "start_time": "2024-03-09T16:41:11.786Z"
   },
   {
    "duration": 32,
    "start_time": "2024-03-09T16:41:11.990Z"
   },
   {
    "duration": 15,
    "start_time": "2024-03-09T16:41:12.083Z"
   },
   {
    "duration": 32,
    "start_time": "2024-03-09T16:41:12.146Z"
   },
   {
    "duration": 23,
    "start_time": "2024-03-09T16:41:12.285Z"
   },
   {
    "duration": 5,
    "start_time": "2024-03-09T16:41:12.349Z"
   },
   {
    "duration": 64,
    "start_time": "2024-03-09T16:41:12.378Z"
   },
   {
    "duration": 8,
    "start_time": "2024-03-09T16:41:12.518Z"
   },
   {
    "duration": 63,
    "start_time": "2024-03-09T16:41:12.616Z"
   },
   {
    "duration": 63,
    "start_time": "2024-03-09T16:41:12.737Z"
   },
   {
    "duration": 8,
    "start_time": "2024-03-09T16:41:12.878Z"
   },
   {
    "duration": 97,
    "start_time": "2024-03-09T16:41:12.941Z"
   },
   {
    "duration": 1200,
    "start_time": "2024-03-09T16:53:36.957Z"
   },
   {
    "duration": 496,
    "start_time": "2024-03-09T16:53:38.159Z"
   },
   {
    "duration": 11,
    "start_time": "2024-03-09T16:53:38.657Z"
   },
   {
    "duration": 23,
    "start_time": "2024-03-09T16:53:38.670Z"
   },
   {
    "duration": 9,
    "start_time": "2024-03-09T16:53:38.695Z"
   },
   {
    "duration": 7,
    "start_time": "2024-03-09T16:53:38.706Z"
   },
   {
    "duration": 40,
    "start_time": "2024-03-09T16:53:38.714Z"
   },
   {
    "duration": 55,
    "start_time": "2024-03-09T16:53:38.755Z"
   },
   {
    "duration": 64,
    "start_time": "2024-03-09T16:53:38.811Z"
   },
   {
    "duration": 115,
    "start_time": "2024-03-09T16:53:38.877Z"
   },
   {
    "duration": 19,
    "start_time": "2024-03-09T16:53:38.994Z"
   },
   {
    "duration": 6,
    "start_time": "2024-03-09T16:53:39.015Z"
   },
   {
    "duration": 39,
    "start_time": "2024-03-09T16:53:39.023Z"
   },
   {
    "duration": 7,
    "start_time": "2024-03-09T16:53:39.064Z"
   },
   {
    "duration": 4,
    "start_time": "2024-03-09T16:53:39.073Z"
   },
   {
    "duration": 338,
    "start_time": "2024-03-09T16:53:39.079Z"
   },
   {
    "duration": 7,
    "start_time": "2024-03-09T16:53:39.419Z"
   },
   {
    "duration": 24,
    "start_time": "2024-03-09T16:53:39.428Z"
   },
   {
    "duration": 11,
    "start_time": "2024-03-09T16:53:39.453Z"
   },
   {
    "duration": 34,
    "start_time": "2024-03-09T16:53:39.465Z"
   },
   {
    "duration": 6,
    "start_time": "2024-03-09T16:53:39.500Z"
   },
   {
    "duration": 48,
    "start_time": "2024-03-09T16:53:39.508Z"
   },
   {
    "duration": 49,
    "start_time": "2024-03-09T16:53:39.558Z"
   },
   {
    "duration": 7,
    "start_time": "2024-03-09T16:53:39.609Z"
   },
   {
    "duration": 39,
    "start_time": "2024-03-09T16:53:39.617Z"
   },
   {
    "duration": 7,
    "start_time": "2024-03-09T16:53:39.658Z"
   },
   {
    "duration": 8,
    "start_time": "2024-03-09T16:53:39.666Z"
   },
   {
    "duration": 33,
    "start_time": "2024-03-09T16:53:39.678Z"
   },
   {
    "duration": 33,
    "start_time": "2024-03-09T16:53:39.713Z"
   },
   {
    "duration": 33,
    "start_time": "2024-03-09T16:53:39.747Z"
   },
   {
    "duration": 22,
    "start_time": "2024-03-09T16:53:39.782Z"
   },
   {
    "duration": 6,
    "start_time": "2024-03-09T16:53:39.805Z"
   },
   {
    "duration": 85,
    "start_time": "2024-03-09T16:53:39.813Z"
   },
   {
    "duration": 8,
    "start_time": "2024-03-09T16:53:39.900Z"
   },
   {
    "duration": 79,
    "start_time": "2024-03-09T16:53:39.909Z"
   },
   {
    "duration": 73,
    "start_time": "2024-03-09T16:53:39.990Z"
   },
   {
    "duration": 10,
    "start_time": "2024-03-09T16:53:40.065Z"
   },
   {
    "duration": 113,
    "start_time": "2024-03-09T16:53:40.076Z"
   },
   {
    "duration": 43,
    "start_time": "2024-03-09T17:36:14.601Z"
   },
   {
    "duration": 4,
    "start_time": "2024-03-09T17:36:18.505Z"
   },
   {
    "duration": 450,
    "start_time": "2024-03-09T17:36:19.051Z"
   },
   {
    "duration": 8,
    "start_time": "2024-03-09T17:36:19.502Z"
   },
   {
    "duration": 21,
    "start_time": "2024-03-09T17:36:19.517Z"
   },
   {
    "duration": 9,
    "start_time": "2024-03-09T17:36:19.539Z"
   },
   {
    "duration": 7,
    "start_time": "2024-03-09T17:36:19.549Z"
   },
   {
    "duration": 21,
    "start_time": "2024-03-09T17:36:19.557Z"
   },
   {
    "duration": 76,
    "start_time": "2024-03-09T17:36:19.579Z"
   },
   {
    "duration": 61,
    "start_time": "2024-03-09T17:36:19.657Z"
   },
   {
    "duration": 134,
    "start_time": "2024-03-09T17:36:19.719Z"
   },
   {
    "duration": 20,
    "start_time": "2024-03-09T17:36:19.971Z"
   },
   {
    "duration": 7,
    "start_time": "2024-03-09T17:36:20.069Z"
   },
   {
    "duration": 19,
    "start_time": "2024-03-09T17:36:20.964Z"
   },
   {
    "duration": 5,
    "start_time": "2024-03-09T17:36:21.830Z"
   },
   {
    "duration": 4,
    "start_time": "2024-03-09T17:36:22.053Z"
   },
   {
    "duration": 261,
    "start_time": "2024-03-09T17:36:22.961Z"
   },
   {
    "duration": 8,
    "start_time": "2024-03-09T17:36:23.760Z"
   },
   {
    "duration": 64,
    "start_time": "2024-03-09T17:36:25.727Z"
   },
   {
    "duration": 61,
    "start_time": "2024-03-09T17:37:23.273Z"
   },
   {
    "duration": 2,
    "start_time": "2024-03-09T17:37:30.511Z"
   },
   {
    "duration": 456,
    "start_time": "2024-03-09T17:37:30.961Z"
   },
   {
    "duration": 8,
    "start_time": "2024-03-09T17:37:31.822Z"
   },
   {
    "duration": 21,
    "start_time": "2024-03-09T17:37:32.202Z"
   },
   {
    "duration": 12,
    "start_time": "2024-03-09T17:37:33.620Z"
   },
   {
    "duration": 7,
    "start_time": "2024-03-09T17:37:33.971Z"
   },
   {
    "duration": 16,
    "start_time": "2024-03-09T17:37:34.992Z"
   },
   {
    "duration": 46,
    "start_time": "2024-03-09T17:37:35.567Z"
   },
   {
    "duration": 47,
    "start_time": "2024-03-09T17:37:36.101Z"
   },
   {
    "duration": 101,
    "start_time": "2024-03-09T17:37:37.038Z"
   },
   {
    "duration": 21,
    "start_time": "2024-03-09T17:37:39.323Z"
   },
   {
    "duration": 8,
    "start_time": "2024-03-09T17:37:40.398Z"
   },
   {
    "duration": 18,
    "start_time": "2024-03-09T17:37:41.011Z"
   },
   {
    "duration": 7,
    "start_time": "2024-03-09T17:37:42.342Z"
   },
   {
    "duration": 4,
    "start_time": "2024-03-09T17:37:42.694Z"
   },
   {
    "duration": 264,
    "start_time": "2024-03-09T17:37:43.584Z"
   },
   {
    "duration": 7,
    "start_time": "2024-03-09T17:37:44.883Z"
   },
   {
    "duration": 43,
    "start_time": "2024-03-09T17:37:45.846Z"
   },
   {
    "duration": 7,
    "start_time": "2024-03-09T17:38:02.148Z"
   },
   {
    "duration": 68,
    "start_time": "2024-03-09T17:38:14.423Z"
   },
   {
    "duration": 39,
    "start_time": "2024-03-09T17:38:19.160Z"
   },
   {
    "duration": 38,
    "start_time": "2024-03-09T17:38:44.163Z"
   },
   {
    "duration": 3,
    "start_time": "2024-03-09T17:39:39.795Z"
   },
   {
    "duration": 388,
    "start_time": "2024-03-09T17:39:40.477Z"
   },
   {
    "duration": 7,
    "start_time": "2024-03-09T17:39:41.113Z"
   },
   {
    "duration": 19,
    "start_time": "2024-03-09T17:39:41.399Z"
   },
   {
    "duration": 12,
    "start_time": "2024-03-09T17:39:42.832Z"
   },
   {
    "duration": 7,
    "start_time": "2024-03-09T17:39:42.846Z"
   },
   {
    "duration": 16,
    "start_time": "2024-03-09T17:39:43.474Z"
   },
   {
    "duration": 51,
    "start_time": "2024-03-09T17:39:43.887Z"
   },
   {
    "duration": 48,
    "start_time": "2024-03-09T17:39:44.297Z"
   },
   {
    "duration": 104,
    "start_time": "2024-03-09T17:39:45.023Z"
   },
   {
    "duration": 20,
    "start_time": "2024-03-09T17:39:46.862Z"
   },
   {
    "duration": 7,
    "start_time": "2024-03-09T17:39:47.734Z"
   },
   {
    "duration": 16,
    "start_time": "2024-03-09T17:39:48.396Z"
   },
   {
    "duration": 6,
    "start_time": "2024-03-09T17:39:49.964Z"
   },
   {
    "duration": 3,
    "start_time": "2024-03-09T17:39:50.266Z"
   },
   {
    "duration": 263,
    "start_time": "2024-03-09T17:39:51.416Z"
   },
   {
    "duration": 7,
    "start_time": "2024-03-09T17:39:53.643Z"
   },
   {
    "duration": 40,
    "start_time": "2024-03-09T17:39:54.754Z"
   },
   {
    "duration": 17,
    "start_time": "2024-03-09T17:42:11.028Z"
   },
   {
    "duration": 3,
    "start_time": "2024-03-09T17:42:16.551Z"
   },
   {
    "duration": 292,
    "start_time": "2024-03-09T17:42:17.103Z"
   },
   {
    "duration": 9,
    "start_time": "2024-03-09T17:42:17.626Z"
   },
   {
    "duration": 20,
    "start_time": "2024-03-09T17:42:18.066Z"
   },
   {
    "duration": 12,
    "start_time": "2024-03-09T17:42:19.841Z"
   },
   {
    "duration": 8,
    "start_time": "2024-03-09T17:42:20.757Z"
   },
   {
    "duration": 16,
    "start_time": "2024-03-09T17:42:21.662Z"
   },
   {
    "duration": 45,
    "start_time": "2024-03-09T17:42:22.190Z"
   },
   {
    "duration": 60,
    "start_time": "2024-03-09T17:42:22.669Z"
   },
   {
    "duration": 100,
    "start_time": "2024-03-09T17:42:23.871Z"
   },
   {
    "duration": 21,
    "start_time": "2024-03-09T17:42:28.363Z"
   },
   {
    "duration": 10,
    "start_time": "2024-03-09T17:42:29.239Z"
   },
   {
    "duration": 18,
    "start_time": "2024-03-09T17:42:30.187Z"
   },
   {
    "duration": 5,
    "start_time": "2024-03-09T17:42:31.478Z"
   },
   {
    "duration": 3,
    "start_time": "2024-03-09T17:42:32.280Z"
   },
   {
    "duration": 278,
    "start_time": "2024-03-09T17:42:33.171Z"
   },
   {
    "duration": 7,
    "start_time": "2024-03-09T17:42:35.821Z"
   },
   {
    "duration": 17,
    "start_time": "2024-03-09T17:42:36.985Z"
   },
   {
    "duration": 16,
    "start_time": "2024-03-09T17:43:48.833Z"
   },
   {
    "duration": 349,
    "start_time": "2024-03-09T17:44:01.384Z"
   },
   {
    "duration": 21,
    "start_time": "2024-03-09T18:04:26.714Z"
   },
   {
    "duration": 254,
    "start_time": "2024-03-09T18:04:37.188Z"
   },
   {
    "duration": 244,
    "start_time": "2024-03-09T18:05:02.560Z"
   },
   {
    "duration": 8371,
    "start_time": "2024-03-09T18:05:14.496Z"
   },
   {
    "duration": 6808,
    "start_time": "2024-03-09T18:05:55.724Z"
   },
   {
    "duration": 189,
    "start_time": "2024-03-09T18:06:09.013Z"
   },
   {
    "duration": 14,
    "start_time": "2024-03-09T18:08:23.826Z"
   },
   {
    "duration": 13,
    "start_time": "2024-03-09T18:08:40.938Z"
   },
   {
    "duration": 202,
    "start_time": "2024-03-09T18:08:47.481Z"
   },
   {
    "duration": 5,
    "start_time": "2024-03-09T18:10:28.002Z"
   },
   {
    "duration": 9,
    "start_time": "2024-03-09T18:10:32.866Z"
   },
   {
    "duration": 9,
    "start_time": "2024-03-09T18:11:38.903Z"
   },
   {
    "duration": 7,
    "start_time": "2024-03-09T18:16:01.341Z"
   },
   {
    "duration": 9,
    "start_time": "2024-03-09T18:16:06.434Z"
   },
   {
    "duration": 8,
    "start_time": "2024-03-09T18:17:27.944Z"
   },
   {
    "duration": 11,
    "start_time": "2024-03-09T18:17:33.144Z"
   },
   {
    "duration": 3,
    "start_time": "2024-03-09T18:17:49.333Z"
   },
   {
    "duration": 615,
    "start_time": "2024-03-09T18:17:49.726Z"
   },
   {
    "duration": 8,
    "start_time": "2024-03-09T18:17:50.343Z"
   },
   {
    "duration": 21,
    "start_time": "2024-03-09T18:17:50.352Z"
   },
   {
    "duration": 7,
    "start_time": "2024-03-09T18:17:51.135Z"
   },
   {
    "duration": 10,
    "start_time": "2024-03-09T18:17:51.315Z"
   },
   {
    "duration": 17,
    "start_time": "2024-03-09T18:17:51.879Z"
   },
   {
    "duration": 46,
    "start_time": "2024-03-09T18:17:52.228Z"
   },
   {
    "duration": 51,
    "start_time": "2024-03-09T18:17:52.604Z"
   },
   {
    "duration": 111,
    "start_time": "2024-03-09T18:17:53.167Z"
   },
   {
    "duration": 21,
    "start_time": "2024-03-09T18:17:55.780Z"
   },
   {
    "duration": 7,
    "start_time": "2024-03-09T18:17:56.394Z"
   },
   {
    "duration": 18,
    "start_time": "2024-03-09T18:17:57.020Z"
   },
   {
    "duration": 5,
    "start_time": "2024-03-09T18:17:57.618Z"
   },
   {
    "duration": 4,
    "start_time": "2024-03-09T18:17:57.732Z"
   },
   {
    "duration": 273,
    "start_time": "2024-03-09T18:17:58.173Z"
   },
   {
    "duration": 8,
    "start_time": "2024-03-09T18:17:58.710Z"
   },
   {
    "duration": 455,
    "start_time": "2024-03-09T18:17:59.468Z"
   },
   {
    "duration": 14,
    "start_time": "2024-03-09T18:18:00.978Z"
   },
   {
    "duration": 8,
    "start_time": "2024-03-09T18:18:02.508Z"
   },
   {
    "duration": 11,
    "start_time": "2024-03-09T18:18:11.085Z"
   },
   {
    "duration": 100,
    "start_time": "2024-03-09T18:19:38.900Z"
   },
   {
    "duration": 4,
    "start_time": "2024-03-09T18:23:36.104Z"
   },
   {
    "duration": 7,
    "start_time": "2024-03-09T18:23:42.629Z"
   },
   {
    "duration": 3,
    "start_time": "2024-03-09T18:23:52.426Z"
   },
   {
    "duration": 393,
    "start_time": "2024-03-09T18:23:52.966Z"
   },
   {
    "duration": 8,
    "start_time": "2024-03-09T18:23:53.360Z"
   },
   {
    "duration": 31,
    "start_time": "2024-03-09T18:23:53.369Z"
   },
   {
    "duration": 16,
    "start_time": "2024-03-09T18:23:53.402Z"
   },
   {
    "duration": 7,
    "start_time": "2024-03-09T18:23:53.419Z"
   },
   {
    "duration": 16,
    "start_time": "2024-03-09T18:23:53.428Z"
   },
   {
    "duration": 46,
    "start_time": "2024-03-09T18:23:53.446Z"
   },
   {
    "duration": 68,
    "start_time": "2024-03-09T18:23:53.493Z"
   },
   {
    "duration": 102,
    "start_time": "2024-03-09T18:23:53.598Z"
   },
   {
    "duration": 21,
    "start_time": "2024-03-09T18:23:53.897Z"
   },
   {
    "duration": 8,
    "start_time": "2024-03-09T18:23:53.988Z"
   },
   {
    "duration": 17,
    "start_time": "2024-03-09T18:23:54.085Z"
   },
   {
    "duration": 6,
    "start_time": "2024-03-09T18:23:54.212Z"
   },
   {
    "duration": 4,
    "start_time": "2024-03-09T18:23:54.261Z"
   },
   {
    "duration": 259,
    "start_time": "2024-03-09T18:23:54.681Z"
   },
   {
    "duration": 7,
    "start_time": "2024-03-09T18:23:55.092Z"
   },
   {
    "duration": 198,
    "start_time": "2024-03-09T18:23:55.484Z"
   },
   {
    "duration": 12,
    "start_time": "2024-03-09T18:23:56.101Z"
   },
   {
    "duration": 8,
    "start_time": "2024-03-09T18:23:56.525Z"
   },
   {
    "duration": 16,
    "start_time": "2024-03-09T18:23:56.940Z"
   },
   {
    "duration": 10,
    "start_time": "2024-03-09T18:23:57.455Z"
   },
   {
    "duration": 31,
    "start_time": "2024-03-09T18:23:57.667Z"
   },
   {
    "duration": 7,
    "start_time": "2024-03-09T18:23:58.167Z"
   },
   {
    "duration": 25,
    "start_time": "2024-03-09T18:24:00.442Z"
   },
   {
    "duration": 51,
    "start_time": "2024-03-09T18:24:01.339Z"
   },
   {
    "duration": 7,
    "start_time": "2024-03-09T18:24:04.281Z"
   },
   {
    "duration": 8,
    "start_time": "2024-03-09T18:24:31.407Z"
   },
   {
    "duration": 9,
    "start_time": "2024-03-09T18:26:09.995Z"
   },
   {
    "duration": 10,
    "start_time": "2024-03-09T18:26:28.429Z"
   },
   {
    "duration": 10,
    "start_time": "2024-03-09T18:26:33.424Z"
   },
   {
    "duration": 217,
    "start_time": "2024-03-09T18:28:55.334Z"
   },
   {
    "duration": 168,
    "start_time": "2024-03-09T18:29:01.927Z"
   },
   {
    "duration": 90,
    "start_time": "2024-03-09T18:31:47.091Z"
   },
   {
    "duration": 16,
    "start_time": "2024-03-09T18:31:58.289Z"
   },
   {
    "duration": 20,
    "start_time": "2024-03-09T18:33:08.232Z"
   },
   {
    "duration": 19,
    "start_time": "2024-03-09T18:33:11.084Z"
   },
   {
    "duration": 15,
    "start_time": "2024-03-09T18:34:39.102Z"
   },
   {
    "duration": 14,
    "start_time": "2024-03-09T18:35:29.078Z"
   },
   {
    "duration": 87,
    "start_time": "2024-03-09T18:35:47.354Z"
   },
   {
    "duration": 15,
    "start_time": "2024-03-09T18:35:50.334Z"
   },
   {
    "duration": 14,
    "start_time": "2024-03-09T18:38:34.402Z"
   },
   {
    "duration": 3,
    "start_time": "2024-03-09T18:38:47.402Z"
   },
   {
    "duration": 554,
    "start_time": "2024-03-09T18:38:47.787Z"
   },
   {
    "duration": 8,
    "start_time": "2024-03-09T18:38:48.343Z"
   },
   {
    "duration": 23,
    "start_time": "2024-03-09T18:38:48.379Z"
   },
   {
    "duration": 8,
    "start_time": "2024-03-09T18:38:49.018Z"
   },
   {
    "duration": 7,
    "start_time": "2024-03-09T18:38:49.044Z"
   },
   {
    "duration": 16,
    "start_time": "2024-03-09T18:38:49.154Z"
   },
   {
    "duration": 47,
    "start_time": "2024-03-09T18:38:49.217Z"
   },
   {
    "duration": 47,
    "start_time": "2024-03-09T18:38:49.279Z"
   },
   {
    "duration": 104,
    "start_time": "2024-03-09T18:38:49.373Z"
   },
   {
    "duration": 28,
    "start_time": "2024-03-09T18:38:49.688Z"
   },
   {
    "duration": 7,
    "start_time": "2024-03-09T18:38:50.565Z"
   },
   {
    "duration": 17,
    "start_time": "2024-03-09T18:38:50.672Z"
   },
   {
    "duration": 6,
    "start_time": "2024-03-09T18:38:50.801Z"
   },
   {
    "duration": 4,
    "start_time": "2024-03-09T18:38:51.171Z"
   },
   {
    "duration": 277,
    "start_time": "2024-03-09T18:38:51.863Z"
   },
   {
    "duration": 7,
    "start_time": "2024-03-09T18:38:52.142Z"
   },
   {
    "duration": 323,
    "start_time": "2024-03-09T18:38:52.151Z"
   },
   {
    "duration": 14,
    "start_time": "2024-03-09T18:38:52.682Z"
   },
   {
    "duration": 8,
    "start_time": "2024-03-09T18:38:53.147Z"
   },
   {
    "duration": 11,
    "start_time": "2024-03-09T18:38:53.632Z"
   },
   {
    "duration": 11,
    "start_time": "2024-03-09T18:38:54.123Z"
   },
   {
    "duration": 32,
    "start_time": "2024-03-09T18:38:54.329Z"
   },
   {
    "duration": 7,
    "start_time": "2024-03-09T18:38:54.822Z"
   },
   {
    "duration": 24,
    "start_time": "2024-03-09T18:38:57.985Z"
   },
   {
    "duration": 51,
    "start_time": "2024-03-09T18:38:58.716Z"
   },
   {
    "duration": 9,
    "start_time": "2024-03-09T18:38:59.160Z"
   },
   {
    "duration": 19,
    "start_time": "2024-03-09T18:38:59.871Z"
   },
   {
    "duration": 8,
    "start_time": "2024-03-09T18:39:00.571Z"
   },
   {
    "duration": 6,
    "start_time": "2024-03-09T18:39:01.021Z"
   },
   {
    "duration": 40,
    "start_time": "2024-03-09T18:39:01.532Z"
   },
   {
    "duration": 3,
    "start_time": "2024-03-09T18:40:24.596Z"
   },
   {
    "duration": 380,
    "start_time": "2024-03-09T18:40:25.168Z"
   },
   {
    "duration": 7,
    "start_time": "2024-03-09T18:40:25.550Z"
   },
   {
    "duration": 21,
    "start_time": "2024-03-09T18:40:25.558Z"
   },
   {
    "duration": 6,
    "start_time": "2024-03-09T18:40:25.581Z"
   },
   {
    "duration": 7,
    "start_time": "2024-03-09T18:40:25.588Z"
   },
   {
    "duration": 36,
    "start_time": "2024-03-09T18:40:25.596Z"
   },
   {
    "duration": 49,
    "start_time": "2024-03-09T18:40:25.634Z"
   },
   {
    "duration": 64,
    "start_time": "2024-03-09T18:40:25.685Z"
   },
   {
    "duration": 108,
    "start_time": "2024-03-09T18:40:25.755Z"
   },
   {
    "duration": 21,
    "start_time": "2024-03-09T18:40:26.052Z"
   },
   {
    "duration": 7,
    "start_time": "2024-03-09T18:40:26.146Z"
   },
   {
    "duration": 18,
    "start_time": "2024-03-09T18:40:26.253Z"
   },
   {
    "duration": 6,
    "start_time": "2024-03-09T18:40:27.345Z"
   },
   {
    "duration": 4,
    "start_time": "2024-03-09T18:40:27.604Z"
   },
   {
    "duration": 250,
    "start_time": "2024-03-09T18:40:28.205Z"
   },
   {
    "duration": 7,
    "start_time": "2024-03-09T18:40:29.038Z"
   },
   {
    "duration": 186,
    "start_time": "2024-03-09T18:40:29.670Z"
   },
   {
    "duration": 19,
    "start_time": "2024-03-09T18:40:30.611Z"
   },
   {
    "duration": 9,
    "start_time": "2024-03-09T18:40:31.179Z"
   },
   {
    "duration": 10,
    "start_time": "2024-03-09T18:40:31.742Z"
   },
   {
    "duration": 10,
    "start_time": "2024-03-09T18:40:32.246Z"
   },
   {
    "duration": 32,
    "start_time": "2024-03-09T18:40:32.512Z"
   },
   {
    "duration": 8,
    "start_time": "2024-03-09T18:40:33.004Z"
   },
   {
    "duration": 24,
    "start_time": "2024-03-09T18:40:34.963Z"
   },
   {
    "duration": 51,
    "start_time": "2024-03-09T18:40:35.689Z"
   },
   {
    "duration": 12,
    "start_time": "2024-03-09T18:40:36.208Z"
   },
   {
    "duration": 15,
    "start_time": "2024-03-09T18:40:36.987Z"
   },
   {
    "duration": 7,
    "start_time": "2024-03-09T18:40:37.723Z"
   },
   {
    "duration": 6,
    "start_time": "2024-03-09T18:40:39.248Z"
   },
   {
    "duration": 41,
    "start_time": "2024-03-09T18:40:42.500Z"
   },
   {
    "duration": 3,
    "start_time": "2024-03-09T18:41:07.211Z"
   },
   {
    "duration": 40,
    "start_time": "2024-03-09T18:41:20.666Z"
   },
   {
    "duration": 43,
    "start_time": "2024-03-09T18:41:26.273Z"
   },
   {
    "duration": 25,
    "start_time": "2024-03-09T18:47:45.565Z"
   },
   {
    "duration": 3,
    "start_time": "2024-03-09T18:48:00.695Z"
   },
   {
    "duration": 439,
    "start_time": "2024-03-09T18:48:01.231Z"
   },
   {
    "duration": 8,
    "start_time": "2024-03-09T18:48:01.671Z"
   },
   {
    "duration": 76,
    "start_time": "2024-03-09T18:48:01.680Z"
   },
   {
    "duration": 42,
    "start_time": "2024-03-09T18:48:01.758Z"
   },
   {
    "duration": 40,
    "start_time": "2024-03-09T18:48:01.802Z"
   },
   {
    "duration": 78,
    "start_time": "2024-03-09T18:48:01.844Z"
   },
   {
    "duration": 73,
    "start_time": "2024-03-09T18:48:01.923Z"
   },
   {
    "duration": 58,
    "start_time": "2024-03-09T18:48:01.998Z"
   },
   {
    "duration": 118,
    "start_time": "2024-03-09T18:48:02.058Z"
   },
   {
    "duration": 20,
    "start_time": "2024-03-09T18:48:02.178Z"
   },
   {
    "duration": 7,
    "start_time": "2024-03-09T18:48:02.256Z"
   },
   {
    "duration": 18,
    "start_time": "2024-03-09T18:48:02.352Z"
   },
   {
    "duration": 6,
    "start_time": "2024-03-09T18:48:02.494Z"
   },
   {
    "duration": 4,
    "start_time": "2024-03-09T18:48:02.524Z"
   },
   {
    "duration": 299,
    "start_time": "2024-03-09T18:48:02.586Z"
   },
   {
    "duration": 8,
    "start_time": "2024-03-09T18:48:02.887Z"
   },
   {
    "duration": 228,
    "start_time": "2024-03-09T18:48:02.896Z"
   },
   {
    "duration": 14,
    "start_time": "2024-03-09T18:48:03.125Z"
   },
   {
    "duration": 16,
    "start_time": "2024-03-09T18:48:03.140Z"
   },
   {
    "duration": 11,
    "start_time": "2024-03-09T18:48:03.158Z"
   },
   {
    "duration": 34,
    "start_time": "2024-03-09T18:48:03.171Z"
   },
   {
    "duration": 34,
    "start_time": "2024-03-09T18:48:03.206Z"
   },
   {
    "duration": 7,
    "start_time": "2024-03-09T18:48:03.241Z"
   },
   {
    "duration": 25,
    "start_time": "2024-03-09T18:48:04.370Z"
   },
   {
    "duration": 50,
    "start_time": "2024-03-09T18:48:04.480Z"
   },
   {
    "duration": 7,
    "start_time": "2024-03-09T18:48:04.543Z"
   },
   {
    "duration": 14,
    "start_time": "2024-03-09T18:48:04.638Z"
   },
   {
    "duration": 8,
    "start_time": "2024-03-09T18:48:04.731Z"
   },
   {
    "duration": 6,
    "start_time": "2024-03-09T18:48:05.035Z"
   },
   {
    "duration": 44,
    "start_time": "2024-03-09T18:48:05.567Z"
   },
   {
    "duration": 33,
    "start_time": "2024-03-09T18:48:06.689Z"
   },
   {
    "duration": 23,
    "start_time": "2024-03-09T18:48:07.397Z"
   },
   {
    "duration": 23,
    "start_time": "2024-03-09T18:48:26.433Z"
   },
   {
    "duration": 38,
    "start_time": "2024-03-09T18:49:38.846Z"
   },
   {
    "duration": 6,
    "start_time": "2024-03-09T18:49:41.055Z"
   },
   {
    "duration": 3,
    "start_time": "2024-03-09T18:49:47.857Z"
   },
   {
    "duration": 438,
    "start_time": "2024-03-09T18:49:48.547Z"
   },
   {
    "duration": 7,
    "start_time": "2024-03-09T18:49:48.987Z"
   },
   {
    "duration": 38,
    "start_time": "2024-03-09T18:49:48.995Z"
   },
   {
    "duration": 8,
    "start_time": "2024-03-09T18:49:49.035Z"
   },
   {
    "duration": 7,
    "start_time": "2024-03-09T18:49:49.044Z"
   },
   {
    "duration": 15,
    "start_time": "2024-03-09T18:49:49.052Z"
   },
   {
    "duration": 72,
    "start_time": "2024-03-09T18:49:49.068Z"
   },
   {
    "duration": 50,
    "start_time": "2024-03-09T18:49:49.142Z"
   },
   {
    "duration": 131,
    "start_time": "2024-03-09T18:49:49.194Z"
   },
   {
    "duration": 30,
    "start_time": "2024-03-09T18:49:49.473Z"
   },
   {
    "duration": 9,
    "start_time": "2024-03-09T18:49:49.578Z"
   },
   {
    "duration": 25,
    "start_time": "2024-03-09T18:49:49.672Z"
   },
   {
    "duration": 6,
    "start_time": "2024-03-09T18:49:49.799Z"
   },
   {
    "duration": 5,
    "start_time": "2024-03-09T18:49:49.830Z"
   },
   {
    "duration": 258,
    "start_time": "2024-03-09T18:49:49.909Z"
   },
   {
    "duration": 7,
    "start_time": "2024-03-09T18:49:50.169Z"
   },
   {
    "duration": 214,
    "start_time": "2024-03-09T18:49:50.177Z"
   },
   {
    "duration": 14,
    "start_time": "2024-03-09T18:49:51.525Z"
   },
   {
    "duration": 9,
    "start_time": "2024-03-09T18:49:51.588Z"
   },
   {
    "duration": 12,
    "start_time": "2024-03-09T18:49:51.647Z"
   },
   {
    "duration": 42,
    "start_time": "2024-03-09T18:49:51.714Z"
   },
   {
    "duration": 13,
    "start_time": "2024-03-09T18:49:51.758Z"
   },
   {
    "duration": 4,
    "start_time": "2024-03-09T18:49:52.294Z"
   },
   {
    "duration": 27,
    "start_time": "2024-03-09T18:51:01.476Z"
   },
   {
    "duration": 3,
    "start_time": "2024-03-09T18:51:07.273Z"
   },
   {
    "duration": 527,
    "start_time": "2024-03-09T18:51:07.804Z"
   },
   {
    "duration": 7,
    "start_time": "2024-03-09T18:51:08.333Z"
   },
   {
    "duration": 21,
    "start_time": "2024-03-09T18:51:08.341Z"
   },
   {
    "duration": 6,
    "start_time": "2024-03-09T18:51:08.364Z"
   },
   {
    "duration": 7,
    "start_time": "2024-03-09T18:51:08.372Z"
   },
   {
    "duration": 45,
    "start_time": "2024-03-09T18:51:08.380Z"
   },
   {
    "duration": 48,
    "start_time": "2024-03-09T18:51:08.427Z"
   },
   {
    "duration": 76,
    "start_time": "2024-03-09T18:51:08.477Z"
   },
   {
    "duration": 112,
    "start_time": "2024-03-09T18:51:08.555Z"
   },
   {
    "duration": 21,
    "start_time": "2024-03-09T18:51:08.737Z"
   },
   {
    "duration": 6,
    "start_time": "2024-03-09T18:51:08.832Z"
   },
   {
    "duration": 18,
    "start_time": "2024-03-09T18:51:08.923Z"
   },
   {
    "duration": 5,
    "start_time": "2024-03-09T18:51:09.067Z"
   },
   {
    "duration": 4,
    "start_time": "2024-03-09T18:51:09.097Z"
   },
   {
    "duration": 284,
    "start_time": "2024-03-09T18:51:09.158Z"
   },
   {
    "duration": 7,
    "start_time": "2024-03-09T18:51:09.444Z"
   },
   {
    "duration": 224,
    "start_time": "2024-03-09T18:51:09.452Z"
   },
   {
    "duration": 16,
    "start_time": "2024-03-09T18:51:09.678Z"
   },
   {
    "duration": 28,
    "start_time": "2024-03-09T18:51:09.695Z"
   },
   {
    "duration": 10,
    "start_time": "2024-03-09T18:51:09.725Z"
   },
   {
    "duration": 43,
    "start_time": "2024-03-09T18:51:09.737Z"
   },
   {
    "duration": 8,
    "start_time": "2024-03-09T18:51:09.781Z"
   },
   {
    "duration": 25,
    "start_time": "2024-03-09T18:51:10.708Z"
   },
   {
    "duration": 57,
    "start_time": "2024-03-09T18:51:11.981Z"
   },
   {
    "duration": 8,
    "start_time": "2024-03-09T18:51:12.512Z"
   },
   {
    "duration": 14,
    "start_time": "2024-03-09T18:51:13.127Z"
   },
   {
    "duration": 10,
    "start_time": "2024-03-09T18:51:13.714Z"
   },
   {
    "duration": 6,
    "start_time": "2024-03-09T18:51:14.204Z"
   },
   {
    "duration": 40,
    "start_time": "2024-03-09T18:51:14.681Z"
   },
   {
    "duration": 33,
    "start_time": "2024-03-09T18:51:17.746Z"
   },
   {
    "duration": 22,
    "start_time": "2024-03-09T18:51:38.184Z"
   },
   {
    "duration": 3,
    "start_time": "2024-03-09T18:53:08.614Z"
   },
   {
    "duration": 349,
    "start_time": "2024-03-09T18:53:08.952Z"
   },
   {
    "duration": 10,
    "start_time": "2024-03-09T18:53:09.304Z"
   },
   {
    "duration": 20,
    "start_time": "2024-03-09T18:53:09.442Z"
   },
   {
    "duration": 9,
    "start_time": "2024-03-09T18:53:10.292Z"
   },
   {
    "duration": 7,
    "start_time": "2024-03-09T18:53:10.473Z"
   },
   {
    "duration": 17,
    "start_time": "2024-03-09T18:53:11.295Z"
   },
   {
    "duration": 48,
    "start_time": "2024-03-09T18:53:11.355Z"
   },
   {
    "duration": 49,
    "start_time": "2024-03-09T18:53:11.500Z"
   },
   {
    "duration": 108,
    "start_time": "2024-03-09T18:53:12.426Z"
   },
   {
    "duration": 31,
    "start_time": "2024-03-09T18:53:13.295Z"
   },
   {
    "duration": 8,
    "start_time": "2024-03-09T18:53:13.388Z"
   },
   {
    "duration": 18,
    "start_time": "2024-03-09T18:53:13.495Z"
   },
   {
    "duration": 5,
    "start_time": "2024-03-09T18:53:13.971Z"
   },
   {
    "duration": 4,
    "start_time": "2024-03-09T18:53:14.476Z"
   },
   {
    "duration": 266,
    "start_time": "2024-03-09T18:53:14.536Z"
   },
   {
    "duration": 7,
    "start_time": "2024-03-09T18:53:14.803Z"
   },
   {
    "duration": 191,
    "start_time": "2024-03-09T18:53:15.412Z"
   },
   {
    "duration": 13,
    "start_time": "2024-03-09T18:53:16.592Z"
   },
   {
    "duration": 9,
    "start_time": "2024-03-09T18:53:17.501Z"
   },
   {
    "duration": 12,
    "start_time": "2024-03-09T18:53:18.480Z"
   },
   {
    "duration": 40,
    "start_time": "2024-03-09T18:53:19.324Z"
   },
   {
    "duration": 7,
    "start_time": "2024-03-09T18:53:23.300Z"
   },
   {
    "duration": 25,
    "start_time": "2024-03-09T18:53:30.516Z"
   },
   {
    "duration": 52,
    "start_time": "2024-03-09T18:53:31.369Z"
   },
   {
    "duration": 8,
    "start_time": "2024-03-09T18:53:33.171Z"
   },
   {
    "duration": 15,
    "start_time": "2024-03-09T18:53:33.973Z"
   },
   {
    "duration": 7,
    "start_time": "2024-03-09T18:53:34.872Z"
   },
   {
    "duration": 7,
    "start_time": "2024-03-09T18:53:35.382Z"
   },
   {
    "duration": 43,
    "start_time": "2024-03-09T18:53:36.460Z"
   },
   {
    "duration": 32,
    "start_time": "2024-03-09T18:53:42.586Z"
   },
   {
    "duration": 23,
    "start_time": "2024-03-09T18:53:45.977Z"
   },
   {
    "duration": 7,
    "start_time": "2024-03-09T18:56:08.128Z"
   },
   {
    "duration": 16,
    "start_time": "2024-03-09T18:57:36.175Z"
   },
   {
    "duration": 3,
    "start_time": "2024-03-09T18:57:39.013Z"
   },
   {
    "duration": 309,
    "start_time": "2024-03-09T18:57:39.558Z"
   },
   {
    "duration": 8,
    "start_time": "2024-03-09T18:57:39.868Z"
   },
   {
    "duration": 51,
    "start_time": "2024-03-09T18:57:39.878Z"
   },
   {
    "duration": 9,
    "start_time": "2024-03-09T18:57:39.931Z"
   },
   {
    "duration": 9,
    "start_time": "2024-03-09T18:57:39.942Z"
   },
   {
    "duration": 18,
    "start_time": "2024-03-09T18:57:39.953Z"
   },
   {
    "duration": 49,
    "start_time": "2024-03-09T18:57:40.011Z"
   },
   {
    "duration": 55,
    "start_time": "2024-03-09T18:57:40.074Z"
   },
   {
    "duration": 108,
    "start_time": "2024-03-09T18:57:40.186Z"
   },
   {
    "duration": 34,
    "start_time": "2024-03-09T18:57:41.274Z"
   },
   {
    "duration": 8,
    "start_time": "2024-03-09T18:57:41.856Z"
   },
   {
    "duration": 17,
    "start_time": "2024-03-09T18:57:42.412Z"
   },
   {
    "duration": 7,
    "start_time": "2024-03-09T18:57:43.223Z"
   },
   {
    "duration": 3,
    "start_time": "2024-03-09T18:57:43.417Z"
   },
   {
    "duration": 298,
    "start_time": "2024-03-09T18:57:43.866Z"
   },
   {
    "duration": 8,
    "start_time": "2024-03-09T18:57:44.306Z"
   },
   {
    "duration": 190,
    "start_time": "2024-03-09T18:57:44.781Z"
   },
   {
    "duration": 14,
    "start_time": "2024-03-09T18:57:45.478Z"
   },
   {
    "duration": 9,
    "start_time": "2024-03-09T18:57:46.347Z"
   },
   {
    "duration": 13,
    "start_time": "2024-03-09T18:57:46.804Z"
   },
   {
    "duration": 39,
    "start_time": "2024-03-09T18:57:47.421Z"
   },
   {
    "duration": 12,
    "start_time": "2024-03-09T18:57:48.185Z"
   },
   {
    "duration": 45,
    "start_time": "2024-03-09T18:57:56.562Z"
   },
   {
    "duration": 57,
    "start_time": "2024-03-09T18:58:02.370Z"
   },
   {
    "duration": 8,
    "start_time": "2024-03-09T18:58:15.164Z"
   },
   {
    "duration": 18,
    "start_time": "2024-03-09T18:58:19.092Z"
   },
   {
    "duration": 8,
    "start_time": "2024-03-09T18:58:25.264Z"
   },
   {
    "duration": 7,
    "start_time": "2024-03-09T18:58:35.965Z"
   },
   {
    "duration": 186,
    "start_time": "2024-03-09T18:58:57.789Z"
   },
   {
    "duration": 44,
    "start_time": "2024-03-09T18:59:43.849Z"
   },
   {
    "duration": 41,
    "start_time": "2024-03-09T18:59:51.885Z"
   },
   {
    "duration": 44,
    "start_time": "2024-03-09T19:00:10.858Z"
   },
   {
    "duration": 8,
    "start_time": "2024-03-09T19:00:15.179Z"
   },
   {
    "duration": 14,
    "start_time": "2024-03-09T19:00:18.010Z"
   },
   {
    "duration": 5,
    "start_time": "2024-03-09T19:00:53.070Z"
   },
   {
    "duration": 9,
    "start_time": "2024-03-09T19:00:59.535Z"
   },
   {
    "duration": 12,
    "start_time": "2024-03-09T19:01:16.190Z"
   },
   {
    "duration": 2,
    "start_time": "2024-03-09T19:01:20.037Z"
   },
   {
    "duration": 329,
    "start_time": "2024-03-09T19:01:20.363Z"
   },
   {
    "duration": 8,
    "start_time": "2024-03-09T19:01:20.694Z"
   },
   {
    "duration": 21,
    "start_time": "2024-03-09T19:01:20.840Z"
   },
   {
    "duration": 8,
    "start_time": "2024-03-09T19:01:21.652Z"
   },
   {
    "duration": 10,
    "start_time": "2024-03-09T19:01:21.805Z"
   },
   {
    "duration": 16,
    "start_time": "2024-03-09T19:01:22.287Z"
   },
   {
    "duration": 50,
    "start_time": "2024-03-09T19:01:22.621Z"
   },
   {
    "duration": 50,
    "start_time": "2024-03-09T19:01:22.968Z"
   },
   {
    "duration": 112,
    "start_time": "2024-03-09T19:01:23.471Z"
   },
   {
    "duration": 21,
    "start_time": "2024-03-09T19:01:25.040Z"
   },
   {
    "duration": 9,
    "start_time": "2024-03-09T19:01:26.123Z"
   },
   {
    "duration": 18,
    "start_time": "2024-03-09T19:01:26.842Z"
   },
   {
    "duration": 6,
    "start_time": "2024-03-09T19:01:32.355Z"
   },
   {
    "duration": 4,
    "start_time": "2024-03-09T19:01:32.542Z"
   },
   {
    "duration": 279,
    "start_time": "2024-03-09T19:01:32.890Z"
   },
   {
    "duration": 8,
    "start_time": "2024-03-09T19:01:33.242Z"
   },
   {
    "duration": 198,
    "start_time": "2024-03-09T19:01:33.612Z"
   },
   {
    "duration": 12,
    "start_time": "2024-03-09T19:01:35.548Z"
   },
   {
    "duration": 8,
    "start_time": "2024-03-09T19:01:36.619Z"
   },
   {
    "duration": 10,
    "start_time": "2024-03-09T19:01:39.080Z"
   },
   {
    "duration": 40,
    "start_time": "2024-03-09T19:01:40.245Z"
   },
   {
    "duration": 8,
    "start_time": "2024-03-09T19:01:43.089Z"
   },
   {
    "duration": 25,
    "start_time": "2024-03-09T19:01:46.783Z"
   },
   {
    "duration": 58,
    "start_time": "2024-03-09T19:01:49.691Z"
   },
   {
    "duration": 9,
    "start_time": "2024-03-09T19:01:53.842Z"
   },
   {
    "duration": 17,
    "start_time": "2024-03-09T19:02:02.532Z"
   },
   {
    "duration": 6,
    "start_time": "2024-03-09T19:02:05.435Z"
   },
   {
    "duration": 8,
    "start_time": "2024-03-09T19:02:08.388Z"
   },
   {
    "duration": 41,
    "start_time": "2024-03-09T19:02:11.358Z"
   },
   {
    "duration": 26,
    "start_time": "2024-03-09T19:03:26.332Z"
   },
   {
    "duration": 8,
    "start_time": "2024-03-09T19:03:29.561Z"
   },
   {
    "duration": 4,
    "start_time": "2024-03-09T19:03:31.953Z"
   },
   {
    "duration": 547,
    "start_time": "2024-03-09T19:03:32.498Z"
   },
   {
    "duration": 7,
    "start_time": "2024-03-09T19:03:33.047Z"
   },
   {
    "duration": 23,
    "start_time": "2024-03-09T19:03:33.110Z"
   },
   {
    "duration": 7,
    "start_time": "2024-03-09T19:03:34.020Z"
   },
   {
    "duration": 7,
    "start_time": "2024-03-09T19:03:34.202Z"
   },
   {
    "duration": 16,
    "start_time": "2024-03-09T19:03:34.738Z"
   },
   {
    "duration": 46,
    "start_time": "2024-03-09T19:03:35.085Z"
   },
   {
    "duration": 53,
    "start_time": "2024-03-09T19:03:35.429Z"
   },
   {
    "duration": 120,
    "start_time": "2024-03-09T19:03:35.978Z"
   },
   {
    "duration": 20,
    "start_time": "2024-03-09T19:03:37.721Z"
   },
   {
    "duration": 6,
    "start_time": "2024-03-09T19:03:38.326Z"
   },
   {
    "duration": 17,
    "start_time": "2024-03-09T19:03:38.913Z"
   },
   {
    "duration": 5,
    "start_time": "2024-03-09T19:03:40.198Z"
   },
   {
    "duration": 4,
    "start_time": "2024-03-09T19:03:40.424Z"
   },
   {
    "duration": 261,
    "start_time": "2024-03-09T19:03:40.967Z"
   },
   {
    "duration": 7,
    "start_time": "2024-03-09T19:03:41.675Z"
   },
   {
    "duration": 200,
    "start_time": "2024-03-09T19:03:42.360Z"
   },
   {
    "duration": 12,
    "start_time": "2024-03-09T19:03:43.327Z"
   },
   {
    "duration": 9,
    "start_time": "2024-03-09T19:03:44.144Z"
   },
   {
    "duration": 11,
    "start_time": "2024-03-09T19:03:45.035Z"
   },
   {
    "duration": 39,
    "start_time": "2024-03-09T19:03:48.395Z"
   },
   {
    "duration": 7,
    "start_time": "2024-03-09T19:03:49.357Z"
   },
   {
    "duration": 25,
    "start_time": "2024-03-09T19:03:52.719Z"
   },
   {
    "duration": 57,
    "start_time": "2024-03-09T19:03:55.583Z"
   },
   {
    "duration": 6,
    "start_time": "2024-03-09T19:04:17.976Z"
   },
   {
    "duration": 6,
    "start_time": "2024-03-09T19:04:36.521Z"
   },
   {
    "duration": 58,
    "start_time": "2024-03-09T19:04:38.690Z"
   },
   {
    "duration": 5,
    "start_time": "2024-03-09T19:04:40.134Z"
   },
   {
    "duration": 6,
    "start_time": "2024-03-09T19:04:43.665Z"
   },
   {
    "duration": 53,
    "start_time": "2024-03-09T19:04:58.202Z"
   },
   {
    "duration": 6,
    "start_time": "2024-03-09T19:05:00.581Z"
   },
   {
    "duration": 5,
    "start_time": "2024-03-09T19:05:13.195Z"
   },
   {
    "duration": 51,
    "start_time": "2024-03-09T19:05:15.485Z"
   },
   {
    "duration": 6,
    "start_time": "2024-03-09T19:05:16.304Z"
   },
   {
    "duration": 3,
    "start_time": "2024-03-09T19:05:19.162Z"
   },
   {
    "duration": 319,
    "start_time": "2024-03-09T19:05:19.700Z"
   },
   {
    "duration": 7,
    "start_time": "2024-03-09T19:05:20.022Z"
   },
   {
    "duration": 32,
    "start_time": "2024-03-09T19:05:20.030Z"
   },
   {
    "duration": 9,
    "start_time": "2024-03-09T19:05:20.063Z"
   },
   {
    "duration": 7,
    "start_time": "2024-03-09T19:05:20.074Z"
   },
   {
    "duration": 16,
    "start_time": "2024-03-09T19:05:20.114Z"
   },
   {
    "duration": 45,
    "start_time": "2024-03-09T19:05:20.165Z"
   },
   {
    "duration": 48,
    "start_time": "2024-03-09T19:05:20.228Z"
   },
   {
    "duration": 103,
    "start_time": "2024-03-09T19:05:20.321Z"
   },
   {
    "duration": 21,
    "start_time": "2024-03-09T19:05:20.615Z"
   },
   {
    "duration": 7,
    "start_time": "2024-03-09T19:05:20.723Z"
   },
   {
    "duration": 21,
    "start_time": "2024-03-09T19:05:20.823Z"
   },
   {
    "duration": 6,
    "start_time": "2024-03-09T19:05:20.945Z"
   },
   {
    "duration": 4,
    "start_time": "2024-03-09T19:05:20.991Z"
   },
   {
    "duration": 255,
    "start_time": "2024-03-09T19:05:21.056Z"
   },
   {
    "duration": 7,
    "start_time": "2024-03-09T19:05:21.317Z"
   },
   {
    "duration": 200,
    "start_time": "2024-03-09T19:05:21.325Z"
   },
   {
    "duration": 12,
    "start_time": "2024-03-09T19:05:21.527Z"
   },
   {
    "duration": 7,
    "start_time": "2024-03-09T19:05:21.541Z"
   },
   {
    "duration": 9,
    "start_time": "2024-03-09T19:05:21.549Z"
   },
   {
    "duration": 38,
    "start_time": "2024-03-09T19:05:21.715Z"
   },
   {
    "duration": 7,
    "start_time": "2024-03-09T19:05:22.073Z"
   },
   {
    "duration": 25,
    "start_time": "2024-03-09T19:05:23.889Z"
   },
   {
    "duration": 54,
    "start_time": "2024-03-09T19:05:24.893Z"
   },
   {
    "duration": 8,
    "start_time": "2024-03-09T19:05:29.630Z"
   },
   {
    "duration": 8,
    "start_time": "2024-03-09T19:05:43.064Z"
   },
   {
    "duration": 20,
    "start_time": "2024-03-09T19:05:47.132Z"
   },
   {
    "duration": 8,
    "start_time": "2024-03-09T19:06:01.275Z"
   },
   {
    "duration": 6,
    "start_time": "2024-03-09T19:06:09.527Z"
   },
   {
    "duration": 42,
    "start_time": "2024-03-09T19:06:46.470Z"
   },
   {
    "duration": 3,
    "start_time": "2024-03-09T19:07:54.400Z"
   },
   {
    "duration": 378,
    "start_time": "2024-03-09T19:07:54.937Z"
   },
   {
    "duration": 8,
    "start_time": "2024-03-09T19:07:55.316Z"
   },
   {
    "duration": 21,
    "start_time": "2024-03-09T19:07:55.325Z"
   },
   {
    "duration": 8,
    "start_time": "2024-03-09T19:07:55.347Z"
   },
   {
    "duration": 7,
    "start_time": "2024-03-09T19:07:55.357Z"
   },
   {
    "duration": 15,
    "start_time": "2024-03-09T19:07:55.366Z"
   },
   {
    "duration": 58,
    "start_time": "2024-03-09T19:07:55.398Z"
   },
   {
    "duration": 57,
    "start_time": "2024-03-09T19:07:55.461Z"
   },
   {
    "duration": 131,
    "start_time": "2024-03-09T19:07:55.557Z"
   },
   {
    "duration": 20,
    "start_time": "2024-03-09T19:07:55.867Z"
   },
   {
    "duration": 9,
    "start_time": "2024-03-09T19:07:55.963Z"
   },
   {
    "duration": 28,
    "start_time": "2024-03-09T19:07:56.058Z"
   },
   {
    "duration": 9,
    "start_time": "2024-03-09T19:07:56.182Z"
   },
   {
    "duration": 6,
    "start_time": "2024-03-09T19:07:56.228Z"
   },
   {
    "duration": 260,
    "start_time": "2024-03-09T19:07:56.289Z"
   },
   {
    "duration": 8,
    "start_time": "2024-03-09T19:07:56.550Z"
   },
   {
    "duration": 208,
    "start_time": "2024-03-09T19:07:56.559Z"
   },
   {
    "duration": 13,
    "start_time": "2024-03-09T19:07:56.769Z"
   },
   {
    "duration": 9,
    "start_time": "2024-03-09T19:07:56.783Z"
   },
   {
    "duration": 26,
    "start_time": "2024-03-09T19:07:56.793Z"
   },
   {
    "duration": 39,
    "start_time": "2024-03-09T19:07:56.821Z"
   },
   {
    "duration": 8,
    "start_time": "2024-03-09T19:07:56.862Z"
   },
   {
    "duration": 26,
    "start_time": "2024-03-09T19:07:57.040Z"
   },
   {
    "duration": 54,
    "start_time": "2024-03-09T19:07:57.152Z"
   },
   {
    "duration": 8,
    "start_time": "2024-03-09T19:07:57.212Z"
   },
   {
    "duration": 18,
    "start_time": "2024-03-09T19:07:57.307Z"
   },
   {
    "duration": 8,
    "start_time": "2024-03-09T19:07:57.403Z"
   },
   {
    "duration": 7,
    "start_time": "2024-03-09T19:07:57.480Z"
   },
   {
    "duration": 45,
    "start_time": "2024-03-09T19:07:57.545Z"
   },
   {
    "duration": 33,
    "start_time": "2024-03-09T19:07:57.840Z"
   },
   {
    "duration": 24,
    "start_time": "2024-03-09T19:07:57.902Z"
   },
   {
    "duration": 11,
    "start_time": "2024-03-09T19:10:43.143Z"
   },
   {
    "duration": 3,
    "start_time": "2024-03-09T19:10:50.927Z"
   },
   {
    "duration": 12,
    "start_time": "2024-03-09T19:10:56.250Z"
   },
   {
    "duration": 3,
    "start_time": "2024-03-09T19:11:46.636Z"
   },
   {
    "duration": 316,
    "start_time": "2024-03-09T19:11:47.186Z"
   },
   {
    "duration": 7,
    "start_time": "2024-03-09T19:11:47.504Z"
   },
   {
    "duration": 24,
    "start_time": "2024-03-09T19:11:47.512Z"
   },
   {
    "duration": 13,
    "start_time": "2024-03-09T19:11:47.538Z"
   },
   {
    "duration": 8,
    "start_time": "2024-03-09T19:11:47.552Z"
   },
   {
    "duration": 15,
    "start_time": "2024-03-09T19:11:47.574Z"
   },
   {
    "duration": 50,
    "start_time": "2024-03-09T19:11:47.638Z"
   },
   {
    "duration": 50,
    "start_time": "2024-03-09T19:11:47.698Z"
   },
   {
    "duration": 104,
    "start_time": "2024-03-09T19:11:47.806Z"
   },
   {
    "duration": 21,
    "start_time": "2024-03-09T19:11:48.100Z"
   },
   {
    "duration": 9,
    "start_time": "2024-03-09T19:11:48.195Z"
   },
   {
    "duration": 16,
    "start_time": "2024-03-09T19:11:48.288Z"
   },
   {
    "duration": 6,
    "start_time": "2024-03-09T19:11:48.428Z"
   },
   {
    "duration": 3,
    "start_time": "2024-03-09T19:11:48.459Z"
   },
   {
    "duration": 267,
    "start_time": "2024-03-09T19:11:48.520Z"
   },
   {
    "duration": 8,
    "start_time": "2024-03-09T19:11:48.788Z"
   },
   {
    "duration": 214,
    "start_time": "2024-03-09T19:11:48.797Z"
   },
   {
    "duration": 14,
    "start_time": "2024-03-09T19:11:49.013Z"
   },
   {
    "duration": 15,
    "start_time": "2024-03-09T19:11:49.029Z"
   },
   {
    "duration": 22,
    "start_time": "2024-03-09T19:11:49.045Z"
   },
   {
    "duration": 38,
    "start_time": "2024-03-09T19:11:49.068Z"
   },
   {
    "duration": 15,
    "start_time": "2024-03-09T19:11:49.107Z"
   },
   {
    "duration": 26,
    "start_time": "2024-03-09T19:11:49.279Z"
   },
   {
    "duration": 52,
    "start_time": "2024-03-09T19:11:49.390Z"
   },
   {
    "duration": 7,
    "start_time": "2024-03-09T19:11:49.452Z"
   },
   {
    "duration": 17,
    "start_time": "2024-03-09T19:11:50.487Z"
   },
   {
    "duration": 9,
    "start_time": "2024-03-09T19:11:51.092Z"
   },
   {
    "duration": 7,
    "start_time": "2024-03-09T19:11:51.524Z"
   },
   {
    "duration": 12,
    "start_time": "2024-03-09T19:11:51.979Z"
   },
   {
    "duration": 10,
    "start_time": "2024-03-09T20:42:26.207Z"
   },
   {
    "duration": 218,
    "start_time": "2024-03-09T20:42:27.947Z"
   },
   {
    "duration": 7,
    "start_time": "2024-03-09T20:42:36.090Z"
   },
   {
    "duration": 3,
    "start_time": "2024-03-09T20:42:48.361Z"
   },
   {
    "duration": 468,
    "start_time": "2024-03-09T20:42:48.826Z"
   },
   {
    "duration": 8,
    "start_time": "2024-03-09T20:42:49.295Z"
   },
   {
    "duration": 21,
    "start_time": "2024-03-09T20:42:49.491Z"
   },
   {
    "duration": 8,
    "start_time": "2024-03-09T20:42:50.579Z"
   },
   {
    "duration": 8,
    "start_time": "2024-03-09T20:42:50.800Z"
   },
   {
    "duration": 17,
    "start_time": "2024-03-09T20:42:51.437Z"
   },
   {
    "duration": 53,
    "start_time": "2024-03-09T20:42:51.844Z"
   },
   {
    "duration": 49,
    "start_time": "2024-03-09T20:42:52.260Z"
   },
   {
    "duration": 145,
    "start_time": "2024-03-09T20:42:53.204Z"
   },
   {
    "duration": 37,
    "start_time": "2024-03-09T20:42:54.707Z"
   },
   {
    "duration": 15,
    "start_time": "2024-03-09T20:42:54.816Z"
   },
   {
    "duration": 18,
    "start_time": "2024-03-09T20:42:55.527Z"
   },
   {
    "duration": 5,
    "start_time": "2024-03-09T20:42:56.456Z"
   },
   {
    "duration": 7,
    "start_time": "2024-03-09T20:42:56.725Z"
   },
   {
    "duration": 296,
    "start_time": "2024-03-09T20:42:57.940Z"
   },
   {
    "duration": 7,
    "start_time": "2024-03-09T20:42:58.659Z"
   },
   {
    "duration": 218,
    "start_time": "2024-03-09T20:43:00.703Z"
   },
   {
    "duration": 13,
    "start_time": "2024-03-09T20:43:02.490Z"
   },
   {
    "duration": 9,
    "start_time": "2024-03-09T20:43:03.695Z"
   },
   {
    "duration": 225,
    "start_time": "2024-03-09T20:44:11.195Z"
   },
   {
    "duration": 477,
    "start_time": "2024-03-09T20:44:52.112Z"
   },
   {
    "duration": 219,
    "start_time": "2024-03-09T20:45:15.080Z"
   },
   {
    "duration": 216,
    "start_time": "2024-03-09T20:45:18.420Z"
   },
   {
    "duration": 237,
    "start_time": "2024-03-09T20:45:36.698Z"
   },
   {
    "duration": 193,
    "start_time": "2024-03-09T20:45:57.792Z"
   },
   {
    "duration": 18,
    "start_time": "2024-03-09T20:49:11.513Z"
   },
   {
    "duration": 19,
    "start_time": "2024-03-09T20:51:44.792Z"
   },
   {
    "duration": 16,
    "start_time": "2024-03-09T20:52:17.067Z"
   },
   {
    "duration": 14,
    "start_time": "2024-03-09T20:52:31.637Z"
   },
   {
    "duration": 18,
    "start_time": "2024-03-09T20:52:41.794Z"
   },
   {
    "duration": 3,
    "start_time": "2024-03-09T20:52:45.195Z"
   },
   {
    "duration": 3,
    "start_time": "2024-03-09T20:52:51.268Z"
   },
   {
    "duration": 377,
    "start_time": "2024-03-09T20:52:52.439Z"
   },
   {
    "duration": 7,
    "start_time": "2024-03-09T20:52:52.818Z"
   },
   {
    "duration": 19,
    "start_time": "2024-03-09T20:52:52.827Z"
   },
   {
    "duration": 7,
    "start_time": "2024-03-09T20:52:52.848Z"
   },
   {
    "duration": 7,
    "start_time": "2024-03-09T20:52:52.856Z"
   },
   {
    "duration": 24,
    "start_time": "2024-03-09T20:52:52.864Z"
   },
   {
    "duration": 54,
    "start_time": "2024-03-09T20:52:52.899Z"
   },
   {
    "duration": 59,
    "start_time": "2024-03-09T20:52:52.959Z"
   },
   {
    "duration": 111,
    "start_time": "2024-03-09T20:52:53.056Z"
   },
   {
    "duration": 22,
    "start_time": "2024-03-09T20:52:53.354Z"
   },
   {
    "duration": 7,
    "start_time": "2024-03-09T20:52:53.943Z"
   },
   {
    "duration": 25,
    "start_time": "2024-03-09T20:52:54.573Z"
   },
   {
    "duration": 6,
    "start_time": "2024-03-09T20:52:55.449Z"
   },
   {
    "duration": 4,
    "start_time": "2024-03-09T20:52:55.651Z"
   },
   {
    "duration": 248,
    "start_time": "2024-03-09T20:52:56.269Z"
   },
   {
    "duration": 7,
    "start_time": "2024-03-09T20:52:58.015Z"
   },
   {
    "duration": 18,
    "start_time": "2024-03-09T20:52:59.363Z"
   },
   {
    "duration": 16,
    "start_time": "2024-03-09T20:54:39.891Z"
   },
   {
    "duration": 71,
    "start_time": "2024-03-09T20:54:55.187Z"
   },
   {
    "duration": 1271,
    "start_time": "2024-03-09T20:55:01.736Z"
   },
   {
    "duration": 16,
    "start_time": "2024-03-09T20:55:46.531Z"
   },
   {
    "duration": 378,
    "start_time": "2024-03-09T20:56:15.726Z"
   },
   {
    "duration": 20,
    "start_time": "2024-03-09T20:56:35.792Z"
   },
   {
    "duration": 18,
    "start_time": "2024-03-09T20:56:58.452Z"
   },
   {
    "duration": 427,
    "start_time": "2024-03-09T20:58:21.971Z"
   },
   {
    "duration": 3,
    "start_time": "2024-03-09T21:01:01.339Z"
   },
   {
    "duration": 478,
    "start_time": "2024-03-09T21:01:01.821Z"
   },
   {
    "duration": 8,
    "start_time": "2024-03-09T21:01:02.300Z"
   },
   {
    "duration": 21,
    "start_time": "2024-03-09T21:01:02.543Z"
   },
   {
    "duration": 8,
    "start_time": "2024-03-09T21:01:03.667Z"
   },
   {
    "duration": 8,
    "start_time": "2024-03-09T21:01:03.890Z"
   },
   {
    "duration": 16,
    "start_time": "2024-03-09T21:01:04.547Z"
   },
   {
    "duration": 44,
    "start_time": "2024-03-09T21:01:05.016Z"
   },
   {
    "duration": 48,
    "start_time": "2024-03-09T21:01:05.463Z"
   },
   {
    "duration": 103,
    "start_time": "2024-03-09T21:01:06.692Z"
   },
   {
    "duration": 21,
    "start_time": "2024-03-09T21:01:08.804Z"
   },
   {
    "duration": 7,
    "start_time": "2024-03-09T21:01:09.526Z"
   },
   {
    "duration": 19,
    "start_time": "2024-03-09T21:01:10.302Z"
   },
   {
    "duration": 7,
    "start_time": "2024-03-09T21:01:11.624Z"
   },
   {
    "duration": 4,
    "start_time": "2024-03-09T21:01:11.888Z"
   },
   {
    "duration": 258,
    "start_time": "2024-03-09T21:01:14.627Z"
   },
   {
    "duration": 318,
    "start_time": "2024-03-09T21:03:26.501Z"
   },
   {
    "duration": 16,
    "start_time": "2024-03-09T21:05:24.802Z"
   },
   {
    "duration": 16,
    "start_time": "2024-03-09T21:05:32.397Z"
   },
   {
    "duration": 177,
    "start_time": "2024-03-09T21:06:11.378Z"
   },
   {
    "duration": 2,
    "start_time": "2024-03-09T21:06:31.312Z"
   },
   {
    "duration": 3,
    "start_time": "2024-03-09T21:06:46.392Z"
   },
   {
    "duration": 471,
    "start_time": "2024-03-09T21:06:46.713Z"
   },
   {
    "duration": 9,
    "start_time": "2024-03-09T21:06:47.425Z"
   },
   {
    "duration": 22,
    "start_time": "2024-03-09T21:06:47.640Z"
   },
   {
    "duration": 8,
    "start_time": "2024-03-09T21:06:48.672Z"
   },
   {
    "duration": 8,
    "start_time": "2024-03-09T21:06:48.876Z"
   },
   {
    "duration": 17,
    "start_time": "2024-03-09T21:06:49.575Z"
   },
   {
    "duration": 68,
    "start_time": "2024-03-09T21:06:50.100Z"
   },
   {
    "duration": 53,
    "start_time": "2024-03-09T21:06:50.598Z"
   },
   {
    "duration": 116,
    "start_time": "2024-03-09T21:06:51.365Z"
   },
   {
    "duration": 21,
    "start_time": "2024-03-09T21:06:54.045Z"
   },
   {
    "duration": 9,
    "start_time": "2024-03-09T21:06:55.059Z"
   },
   {
    "duration": 19,
    "start_time": "2024-03-09T21:06:55.793Z"
   },
   {
    "duration": 6,
    "start_time": "2024-03-09T21:06:57.497Z"
   },
   {
    "duration": 4,
    "start_time": "2024-03-09T21:06:57.800Z"
   },
   {
    "duration": 266,
    "start_time": "2024-03-09T21:06:58.956Z"
   },
   {
    "duration": 6,
    "start_time": "2024-03-09T21:07:00.415Z"
   },
   {
    "duration": 236,
    "start_time": "2024-03-09T21:07:01.448Z"
   },
   {
    "duration": 170,
    "start_time": "2024-03-09T21:07:24.180Z"
   },
   {
    "duration": 18,
    "start_time": "2024-03-09T21:07:30.587Z"
   },
   {
    "duration": 178,
    "start_time": "2024-03-09T21:07:58.484Z"
   },
   {
    "duration": 143,
    "start_time": "2024-03-09T21:08:07.193Z"
   },
   {
    "duration": 310,
    "start_time": "2024-03-09T21:08:11.779Z"
   },
   {
    "duration": 67,
    "start_time": "2024-03-09T21:08:50.335Z"
   },
   {
    "duration": 18,
    "start_time": "2024-03-09T21:08:52.965Z"
   },
   {
    "duration": 267,
    "start_time": "2024-03-09T21:09:02.056Z"
   },
   {
    "duration": 74,
    "start_time": "2024-03-09T21:09:11.700Z"
   },
   {
    "duration": 17,
    "start_time": "2024-03-09T21:09:14.933Z"
   },
   {
    "duration": 296,
    "start_time": "2024-03-09T21:09:47.723Z"
   },
   {
    "duration": 3,
    "start_time": "2024-03-09T21:11:16.929Z"
   },
   {
    "duration": 513,
    "start_time": "2024-03-09T21:11:16.934Z"
   },
   {
    "duration": 7,
    "start_time": "2024-03-09T21:11:17.449Z"
   },
   {
    "duration": 76,
    "start_time": "2024-03-09T21:11:17.457Z"
   },
   {
    "duration": 7,
    "start_time": "2024-03-09T21:11:17.534Z"
   },
   {
    "duration": 7,
    "start_time": "2024-03-09T21:11:17.543Z"
   },
   {
    "duration": 79,
    "start_time": "2024-03-09T21:11:17.552Z"
   },
   {
    "duration": 123,
    "start_time": "2024-03-09T21:11:17.633Z"
   },
   {
    "duration": 97,
    "start_time": "2024-03-09T21:11:17.759Z"
   },
   {
    "duration": 281,
    "start_time": "2024-03-09T21:11:17.858Z"
   },
   {
    "duration": 77,
    "start_time": "2024-03-09T21:11:18.142Z"
   },
   {
    "duration": 7,
    "start_time": "2024-03-09T21:11:18.221Z"
   },
   {
    "duration": 18,
    "start_time": "2024-03-09T21:11:18.230Z"
   },
   {
    "duration": 5,
    "start_time": "2024-03-09T21:11:18.250Z"
   },
   {
    "duration": 4,
    "start_time": "2024-03-09T21:11:18.257Z"
   },
   {
    "duration": 587,
    "start_time": "2024-03-09T21:11:18.263Z"
   },
   {
    "duration": 6,
    "start_time": "2024-03-09T21:11:18.852Z"
   },
   {
    "duration": 322,
    "start_time": "2024-03-09T21:11:41.875Z"
   },
   {
    "duration": 170,
    "start_time": "2024-03-09T21:12:36.604Z"
   },
   {
    "duration": 3,
    "start_time": "2024-03-09T21:12:52.569Z"
   },
   {
    "duration": 553,
    "start_time": "2024-03-09T21:12:52.954Z"
   },
   {
    "duration": 9,
    "start_time": "2024-03-09T21:12:53.509Z"
   },
   {
    "duration": 22,
    "start_time": "2024-03-09T21:12:53.519Z"
   },
   {
    "duration": 8,
    "start_time": "2024-03-09T21:12:54.307Z"
   },
   {
    "duration": 8,
    "start_time": "2024-03-09T21:12:54.466Z"
   },
   {
    "duration": 16,
    "start_time": "2024-03-09T21:12:54.980Z"
   },
   {
    "duration": 45,
    "start_time": "2024-03-09T21:12:55.332Z"
   },
   {
    "duration": 47,
    "start_time": "2024-03-09T21:12:55.682Z"
   },
   {
    "duration": 109,
    "start_time": "2024-03-09T21:12:56.186Z"
   },
   {
    "duration": 20,
    "start_time": "2024-03-09T21:12:57.760Z"
   },
   {
    "duration": 8,
    "start_time": "2024-03-09T21:12:58.524Z"
   },
   {
    "duration": 18,
    "start_time": "2024-03-09T21:12:59.082Z"
   },
   {
    "duration": 5,
    "start_time": "2024-03-09T21:12:59.819Z"
   },
   {
    "duration": 3,
    "start_time": "2024-03-09T21:13:00.020Z"
   },
   {
    "duration": 254,
    "start_time": "2024-03-09T21:13:00.390Z"
   },
   {
    "duration": 7,
    "start_time": "2024-03-09T21:13:01.444Z"
   },
   {
    "duration": 177,
    "start_time": "2024-03-09T21:13:02.005Z"
   },
   {
    "duration": 309,
    "start_time": "2024-03-09T21:13:15.548Z"
   },
   {
    "duration": 354,
    "start_time": "2024-03-09T21:13:28.239Z"
   },
   {
    "duration": 297,
    "start_time": "2024-03-09T21:14:49.571Z"
   },
   {
    "duration": 1237,
    "start_time": "2024-03-09T21:15:51.131Z"
   },
   {
    "duration": 274,
    "start_time": "2024-03-09T21:16:23.001Z"
   },
   {
    "duration": 289,
    "start_time": "2024-03-09T21:22:18.974Z"
   },
   {
    "duration": 13,
    "start_time": "2024-03-09T21:22:20.082Z"
   },
   {
    "duration": 9,
    "start_time": "2024-03-09T21:22:20.923Z"
   },
   {
    "duration": 14,
    "start_time": "2024-03-09T21:22:46.645Z"
   },
   {
    "duration": 84,
    "start_time": "2024-03-09T21:26:14.101Z"
   },
   {
    "duration": 463,
    "start_time": "2024-03-09T21:26:18.016Z"
   },
   {
    "duration": 45,
    "start_time": "2024-03-09T21:27:22.687Z"
   },
   {
    "duration": 3,
    "start_time": "2024-03-09T21:27:26.206Z"
   },
   {
    "duration": 442,
    "start_time": "2024-03-09T21:27:26.651Z"
   },
   {
    "duration": 7,
    "start_time": "2024-03-09T21:27:27.095Z"
   },
   {
    "duration": 19,
    "start_time": "2024-03-09T21:27:27.261Z"
   },
   {
    "duration": 13,
    "start_time": "2024-03-09T21:27:28.553Z"
   },
   {
    "duration": 8,
    "start_time": "2024-03-09T21:27:28.772Z"
   },
   {
    "duration": 15,
    "start_time": "2024-03-09T21:27:29.473Z"
   },
   {
    "duration": 45,
    "start_time": "2024-03-09T21:27:29.889Z"
   },
   {
    "duration": 50,
    "start_time": "2024-03-09T21:27:30.341Z"
   },
   {
    "duration": 108,
    "start_time": "2024-03-09T21:27:31.038Z"
   },
   {
    "duration": 21,
    "start_time": "2024-03-09T21:27:33.064Z"
   },
   {
    "duration": 7,
    "start_time": "2024-03-09T21:27:33.760Z"
   },
   {
    "duration": 18,
    "start_time": "2024-03-09T21:27:34.500Z"
   },
   {
    "duration": 6,
    "start_time": "2024-03-09T21:27:35.407Z"
   },
   {
    "duration": 4,
    "start_time": "2024-03-09T21:27:35.659Z"
   },
   {
    "duration": 262,
    "start_time": "2024-03-09T21:27:36.460Z"
   },
   {
    "duration": 6,
    "start_time": "2024-03-09T21:27:38.032Z"
   },
   {
    "duration": 280,
    "start_time": "2024-03-09T21:27:53.938Z"
   },
   {
    "duration": 12,
    "start_time": "2024-03-09T21:27:56.310Z"
   },
   {
    "duration": 9,
    "start_time": "2024-03-09T21:27:57.126Z"
   },
   {
    "duration": 11,
    "start_time": "2024-03-09T21:27:57.824Z"
   },
   {
    "duration": 40,
    "start_time": "2024-03-09T21:27:58.561Z"
   },
   {
    "duration": 7,
    "start_time": "2024-03-09T21:28:00.551Z"
   },
   {
    "duration": 24,
    "start_time": "2024-03-09T21:28:12.413Z"
   },
   {
    "duration": 52,
    "start_time": "2024-03-09T21:28:13.258Z"
   },
   {
    "duration": 8,
    "start_time": "2024-03-09T21:28:13.793Z"
   },
   {
    "duration": 16,
    "start_time": "2024-03-09T21:28:14.558Z"
   },
   {
    "duration": 8,
    "start_time": "2024-03-09T21:28:15.396Z"
   },
   {
    "duration": 6,
    "start_time": "2024-03-09T21:28:18.673Z"
   },
   {
    "duration": 9,
    "start_time": "2024-03-09T21:30:54.795Z"
   },
   {
    "duration": 17,
    "start_time": "2024-03-09T21:31:29.499Z"
   },
   {
    "duration": 8,
    "start_time": "2024-03-09T21:31:31.837Z"
   },
   {
    "duration": 6,
    "start_time": "2024-03-09T21:31:35.176Z"
   },
   {
    "duration": 2,
    "start_time": "2024-03-09T21:31:58.188Z"
   },
   {
    "duration": 71,
    "start_time": "2024-03-09T21:33:11.995Z"
   },
   {
    "duration": 42,
    "start_time": "2024-03-09T21:33:16.787Z"
   },
   {
    "duration": 16,
    "start_time": "2024-03-09T21:35:05.968Z"
   },
   {
    "duration": 33,
    "start_time": "2024-03-09T21:36:17.071Z"
   },
   {
    "duration": 3,
    "start_time": "2024-03-09T21:36:30.004Z"
   },
   {
    "duration": 34,
    "start_time": "2024-03-09T21:36:37.618Z"
   },
   {
    "duration": 8,
    "start_time": "2024-03-09T21:36:48.406Z"
   },
   {
    "duration": 1223,
    "start_time": "2024-03-09T21:36:52.701Z"
   },
   {
    "duration": 81,
    "start_time": "2024-03-09T21:37:40.046Z"
   },
   {
    "duration": 33,
    "start_time": "2024-03-09T21:37:44.916Z"
   },
   {
    "duration": 1107,
    "start_time": "2024-03-09T21:37:53.498Z"
   },
   {
    "duration": 9,
    "start_time": "2024-03-09T21:38:04.301Z"
   },
   {
    "duration": 14,
    "start_time": "2024-03-09T21:38:12.648Z"
   },
   {
    "duration": 33,
    "start_time": "2024-03-09T21:38:33.561Z"
   },
   {
    "duration": 43,
    "start_time": "2024-03-09T21:42:37.619Z"
   },
   {
    "duration": 3,
    "start_time": "2024-03-09T21:43:26.527Z"
   },
   {
    "duration": 424,
    "start_time": "2024-03-09T21:43:28.843Z"
   },
   {
    "duration": 8,
    "start_time": "2024-03-09T21:43:29.268Z"
   },
   {
    "duration": 23,
    "start_time": "2024-03-09T21:43:29.277Z"
   },
   {
    "duration": 16,
    "start_time": "2024-03-09T21:43:29.302Z"
   },
   {
    "duration": 8,
    "start_time": "2024-03-09T21:43:29.319Z"
   },
   {
    "duration": 16,
    "start_time": "2024-03-09T21:43:29.328Z"
   },
   {
    "duration": 47,
    "start_time": "2024-03-09T21:43:29.345Z"
   },
   {
    "duration": 50,
    "start_time": "2024-03-09T21:43:29.417Z"
   },
   {
    "duration": 110,
    "start_time": "2024-03-09T21:43:29.469Z"
   },
   {
    "duration": 21,
    "start_time": "2024-03-09T21:43:29.746Z"
   },
   {
    "duration": 8,
    "start_time": "2024-03-09T21:43:29.840Z"
   },
   {
    "duration": 18,
    "start_time": "2024-03-09T21:43:29.949Z"
   },
   {
    "duration": 5,
    "start_time": "2024-03-09T21:43:30.076Z"
   },
   {
    "duration": 3,
    "start_time": "2024-03-09T21:43:30.107Z"
   },
   {
    "duration": 279,
    "start_time": "2024-03-09T21:43:30.172Z"
   },
   {
    "duration": 7,
    "start_time": "2024-03-09T21:43:30.452Z"
   },
   {
    "duration": 313,
    "start_time": "2024-03-09T21:43:30.460Z"
   },
   {
    "duration": 13,
    "start_time": "2024-03-09T21:43:31.383Z"
   },
   {
    "duration": 9,
    "start_time": "2024-03-09T21:43:32.092Z"
   },
   {
    "duration": 12,
    "start_time": "2024-03-09T21:43:32.517Z"
   },
   {
    "duration": 41,
    "start_time": "2024-03-09T21:43:32.956Z"
   },
   {
    "duration": 7,
    "start_time": "2024-03-09T21:43:33.412Z"
   },
   {
    "duration": 24,
    "start_time": "2024-03-09T21:43:35.396Z"
   },
   {
    "duration": 52,
    "start_time": "2024-03-09T21:43:36.549Z"
   },
   {
    "duration": 10,
    "start_time": "2024-03-09T21:43:37.882Z"
   },
   {
    "duration": 17,
    "start_time": "2024-03-09T21:43:38.780Z"
   },
   {
    "duration": 8,
    "start_time": "2024-03-09T21:43:40.077Z"
   },
   {
    "duration": 6,
    "start_time": "2024-03-09T21:43:40.530Z"
   },
   {
    "duration": 42,
    "start_time": "2024-03-09T21:43:42.242Z"
   },
   {
    "duration": 40,
    "start_time": "2024-03-09T21:44:46.785Z"
   },
   {
    "duration": 3,
    "start_time": "2024-03-09T21:47:22.534Z"
   },
   {
    "duration": 399,
    "start_time": "2024-03-09T21:47:22.946Z"
   },
   {
    "duration": 9,
    "start_time": "2024-03-09T21:47:23.383Z"
   },
   {
    "duration": 23,
    "start_time": "2024-03-09T21:47:23.597Z"
   },
   {
    "duration": 9,
    "start_time": "2024-03-09T21:47:25.171Z"
   },
   {
    "duration": 7,
    "start_time": "2024-03-09T21:47:25.426Z"
   },
   {
    "duration": 18,
    "start_time": "2024-03-09T21:47:26.110Z"
   },
   {
    "duration": 47,
    "start_time": "2024-03-09T21:47:26.530Z"
   },
   {
    "duration": 49,
    "start_time": "2024-03-09T21:47:26.939Z"
   },
   {
    "duration": 113,
    "start_time": "2024-03-09T21:47:27.565Z"
   },
   {
    "duration": 23,
    "start_time": "2024-03-09T21:47:29.505Z"
   },
   {
    "duration": 10,
    "start_time": "2024-03-09T21:47:30.168Z"
   },
   {
    "duration": 18,
    "start_time": "2024-03-09T21:47:31.119Z"
   },
   {
    "duration": 6,
    "start_time": "2024-03-09T21:47:31.241Z"
   },
   {
    "duration": 4,
    "start_time": "2024-03-09T21:47:31.270Z"
   },
   {
    "duration": 283,
    "start_time": "2024-03-09T21:47:31.707Z"
   },
   {
    "duration": 7,
    "start_time": "2024-03-09T21:47:32.151Z"
   },
   {
    "duration": 291,
    "start_time": "2024-03-09T21:47:33.064Z"
   },
   {
    "duration": 14,
    "start_time": "2024-03-09T21:47:33.789Z"
   },
   {
    "duration": 12,
    "start_time": "2024-03-09T21:47:34.259Z"
   },
   {
    "duration": 11,
    "start_time": "2024-03-09T21:47:34.702Z"
   },
   {
    "duration": 39,
    "start_time": "2024-03-09T21:47:35.181Z"
   },
   {
    "duration": 9,
    "start_time": "2024-03-09T21:47:35.673Z"
   },
   {
    "duration": 24,
    "start_time": "2024-03-09T21:47:37.938Z"
   },
   {
    "duration": 50,
    "start_time": "2024-03-09T21:47:40.374Z"
   },
   {
    "duration": 9,
    "start_time": "2024-03-09T21:47:41.215Z"
   },
   {
    "duration": 16,
    "start_time": "2024-03-09T21:47:42.123Z"
   },
   {
    "duration": 8,
    "start_time": "2024-03-09T21:47:42.868Z"
   },
   {
    "duration": 7,
    "start_time": "2024-03-09T21:47:43.436Z"
   },
   {
    "duration": 40,
    "start_time": "2024-03-09T21:47:44.226Z"
   },
   {
    "duration": 123,
    "start_time": "2024-03-09T21:48:26.538Z"
   },
   {
    "duration": 9,
    "start_time": "2024-03-09T21:49:00.540Z"
   },
   {
    "duration": 8,
    "start_time": "2024-03-09T21:49:04.475Z"
   },
   {
    "duration": 18,
    "start_time": "2024-03-09T21:49:05.124Z"
   },
   {
    "duration": 9,
    "start_time": "2024-03-09T21:49:06.790Z"
   },
   {
    "duration": 7,
    "start_time": "2024-03-09T21:49:08.511Z"
   },
   {
    "duration": 14,
    "start_time": "2024-03-09T21:49:58.629Z"
   },
   {
    "duration": 14,
    "start_time": "2024-03-09T21:50:16.539Z"
   },
   {
    "duration": 38,
    "start_time": "2024-03-09T21:50:57.004Z"
   },
   {
    "duration": 39,
    "start_time": "2024-03-09T21:51:14.756Z"
   },
   {
    "duration": 18,
    "start_time": "2024-03-09T21:53:34.460Z"
   },
   {
    "duration": 49,
    "start_time": "2024-03-09T21:53:40.450Z"
   },
   {
    "duration": 9,
    "start_time": "2024-03-09T21:53:41.317Z"
   },
   {
    "duration": 3,
    "start_time": "2024-03-09T21:53:50.955Z"
   },
   {
    "duration": 519,
    "start_time": "2024-03-09T21:53:51.493Z"
   },
   {
    "duration": 9,
    "start_time": "2024-03-09T21:53:52.017Z"
   },
   {
    "duration": 25,
    "start_time": "2024-03-09T21:53:52.028Z"
   },
   {
    "duration": 9,
    "start_time": "2024-03-09T21:53:52.055Z"
   },
   {
    "duration": 7,
    "start_time": "2024-03-09T21:53:52.066Z"
   },
   {
    "duration": 50,
    "start_time": "2024-03-09T21:53:52.075Z"
   },
   {
    "duration": 47,
    "start_time": "2024-03-09T21:53:52.127Z"
   },
   {
    "duration": 71,
    "start_time": "2024-03-09T21:53:52.175Z"
   },
   {
    "duration": 119,
    "start_time": "2024-03-09T21:53:52.249Z"
   },
   {
    "duration": 20,
    "start_time": "2024-03-09T21:53:53.276Z"
   },
   {
    "duration": 9,
    "start_time": "2024-03-09T21:53:53.367Z"
   },
   {
    "duration": 18,
    "start_time": "2024-03-09T21:53:53.476Z"
   },
   {
    "duration": 7,
    "start_time": "2024-03-09T21:53:54.322Z"
   },
   {
    "duration": 4,
    "start_time": "2024-03-09T21:53:54.352Z"
   },
   {
    "duration": 258,
    "start_time": "2024-03-09T21:53:54.430Z"
   },
   {
    "duration": 6,
    "start_time": "2024-03-09T21:53:54.690Z"
   },
   {
    "duration": 282,
    "start_time": "2024-03-09T21:53:55.643Z"
   },
   {
    "duration": 13,
    "start_time": "2024-03-09T21:53:56.619Z"
   },
   {
    "duration": 8,
    "start_time": "2024-03-09T21:53:56.680Z"
   },
   {
    "duration": 11,
    "start_time": "2024-03-09T21:53:56.753Z"
   },
   {
    "duration": 41,
    "start_time": "2024-03-09T21:53:56.815Z"
   },
   {
    "duration": 6,
    "start_time": "2024-03-09T21:53:56.875Z"
   },
   {
    "duration": 23,
    "start_time": "2024-03-09T21:53:57.829Z"
   },
   {
    "duration": 51,
    "start_time": "2024-03-09T21:53:59.759Z"
   },
   {
    "duration": 9,
    "start_time": "2024-03-09T21:54:01.506Z"
   },
   {
    "duration": 17,
    "start_time": "2024-03-09T21:54:04.294Z"
   },
   {
    "duration": 9,
    "start_time": "2024-03-09T21:54:07.055Z"
   },
   {
    "duration": 6,
    "start_time": "2024-03-09T21:54:08.175Z"
   },
   {
    "duration": 40,
    "start_time": "2024-03-09T21:54:09.178Z"
   },
   {
    "duration": 3,
    "start_time": "2024-03-09T21:55:36.005Z"
   },
   {
    "duration": 456,
    "start_time": "2024-03-09T21:55:36.084Z"
   },
   {
    "duration": 8,
    "start_time": "2024-03-09T21:55:36.543Z"
   },
   {
    "duration": 52,
    "start_time": "2024-03-09T21:55:36.553Z"
   },
   {
    "duration": 15,
    "start_time": "2024-03-09T21:55:36.607Z"
   },
   {
    "duration": 26,
    "start_time": "2024-03-09T21:55:36.624Z"
   },
   {
    "duration": 34,
    "start_time": "2024-03-09T21:55:36.652Z"
   },
   {
    "duration": 67,
    "start_time": "2024-03-09T21:55:36.688Z"
   },
   {
    "duration": 50,
    "start_time": "2024-03-09T21:55:36.757Z"
   },
   {
    "duration": 110,
    "start_time": "2024-03-09T21:55:36.817Z"
   },
   {
    "duration": 22,
    "start_time": "2024-03-09T21:55:37.001Z"
   },
   {
    "duration": 7,
    "start_time": "2024-03-09T21:55:37.096Z"
   },
   {
    "duration": 18,
    "start_time": "2024-03-09T21:55:37.189Z"
   },
   {
    "duration": 6,
    "start_time": "2024-03-09T21:55:37.337Z"
   },
   {
    "duration": 4,
    "start_time": "2024-03-09T21:55:37.363Z"
   },
   {
    "duration": 288,
    "start_time": "2024-03-09T21:55:37.583Z"
   },
   {
    "duration": 7,
    "start_time": "2024-03-09T21:55:38.126Z"
   },
   {
    "duration": 282,
    "start_time": "2024-03-09T21:55:38.219Z"
   },
   {
    "duration": 21,
    "start_time": "2024-03-09T21:55:38.502Z"
   },
   {
    "duration": 14,
    "start_time": "2024-03-09T21:55:38.524Z"
   },
   {
    "duration": 12,
    "start_time": "2024-03-09T21:55:38.540Z"
   },
   {
    "duration": 42,
    "start_time": "2024-03-09T21:55:38.554Z"
   },
   {
    "duration": 8,
    "start_time": "2024-03-09T21:55:38.872Z"
   },
   {
    "duration": 36,
    "start_time": "2024-03-09T21:55:39.603Z"
   },
   {
    "duration": 51,
    "start_time": "2024-03-09T21:55:40.607Z"
   },
   {
    "duration": 8,
    "start_time": "2024-03-09T21:55:40.663Z"
   },
   {
    "duration": 17,
    "start_time": "2024-03-09T21:55:41.372Z"
   },
   {
    "duration": 8,
    "start_time": "2024-03-09T21:55:42.203Z"
   },
   {
    "duration": 7,
    "start_time": "2024-03-09T21:55:42.787Z"
   },
   {
    "duration": 41,
    "start_time": "2024-03-09T21:55:43.751Z"
   },
   {
    "duration": 44,
    "start_time": "2024-03-09T21:56:47.579Z"
   },
   {
    "duration": 41,
    "start_time": "2024-03-09T21:58:26.384Z"
   },
   {
    "duration": 2,
    "start_time": "2024-03-09T21:58:45.363Z"
   },
   {
    "duration": 2,
    "start_time": "2024-03-09T21:58:50.478Z"
   },
   {
    "duration": 2,
    "start_time": "2024-03-09T22:06:57.860Z"
   },
   {
    "duration": 332,
    "start_time": "2024-03-09T22:07:04.191Z"
   },
   {
    "duration": 0,
    "start_time": "2024-03-09T22:07:04.524Z"
   },
   {
    "duration": 52,
    "start_time": "2024-03-09T22:08:07.451Z"
   },
   {
    "duration": 480,
    "start_time": "2024-03-09T22:08:09.319Z"
   },
   {
    "duration": 7,
    "start_time": "2024-03-09T22:08:10.487Z"
   },
   {
    "duration": 20,
    "start_time": "2024-03-09T22:08:10.751Z"
   },
   {
    "duration": 8,
    "start_time": "2024-03-09T22:08:12.023Z"
   },
   {
    "duration": 8,
    "start_time": "2024-03-09T22:08:12.389Z"
   },
   {
    "duration": 15,
    "start_time": "2024-03-09T22:08:13.671Z"
   },
   {
    "duration": 48,
    "start_time": "2024-03-09T22:08:14.357Z"
   },
   {
    "duration": 50,
    "start_time": "2024-03-09T22:08:14.906Z"
   },
   {
    "duration": 105,
    "start_time": "2024-03-09T22:08:15.815Z"
   },
   {
    "duration": 29,
    "start_time": "2024-03-09T22:08:18.532Z"
   },
   {
    "duration": 7,
    "start_time": "2024-03-09T22:08:19.509Z"
   },
   {
    "duration": 19,
    "start_time": "2024-03-09T22:08:20.375Z"
   },
   {
    "duration": 7,
    "start_time": "2024-03-09T22:08:21.614Z"
   },
   {
    "duration": 4,
    "start_time": "2024-03-09T22:08:21.956Z"
   },
   {
    "duration": 266,
    "start_time": "2024-03-09T22:08:25.978Z"
   },
   {
    "duration": 6,
    "start_time": "2024-03-09T22:08:29.891Z"
   },
   {
    "duration": 838,
    "start_time": "2024-03-09T22:12:00.852Z"
   },
   {
    "duration": 251,
    "start_time": "2024-03-09T22:12:13.252Z"
   },
   {
    "duration": 255,
    "start_time": "2024-03-09T22:12:34.366Z"
   },
   {
    "duration": 240,
    "start_time": "2024-03-09T22:16:12.897Z"
   },
   {
    "duration": 233,
    "start_time": "2024-03-09T22:16:22.654Z"
   },
   {
    "duration": 234,
    "start_time": "2024-03-09T22:19:07.948Z"
   },
   {
    "duration": 228,
    "start_time": "2024-03-09T22:19:32.036Z"
   },
   {
    "duration": 44,
    "start_time": "2024-03-09T22:21:14.474Z"
   },
   {
    "duration": 3,
    "start_time": "2024-03-09T22:21:22.031Z"
   },
   {
    "duration": 377,
    "start_time": "2024-03-09T22:21:22.569Z"
   },
   {
    "duration": 8,
    "start_time": "2024-03-09T22:21:22.948Z"
   },
   {
    "duration": 20,
    "start_time": "2024-03-09T22:21:22.957Z"
   },
   {
    "duration": 7,
    "start_time": "2024-03-09T22:21:22.979Z"
   },
   {
    "duration": 7,
    "start_time": "2024-03-09T22:21:22.987Z"
   },
   {
    "duration": 15,
    "start_time": "2024-03-09T22:21:23.018Z"
   },
   {
    "duration": 46,
    "start_time": "2024-03-09T22:21:23.035Z"
   },
   {
    "duration": 65,
    "start_time": "2024-03-09T22:21:23.089Z"
   },
   {
    "duration": 102,
    "start_time": "2024-03-09T22:21:23.200Z"
   },
   {
    "duration": 23,
    "start_time": "2024-03-09T22:21:25.364Z"
   },
   {
    "duration": 7,
    "start_time": "2024-03-09T22:21:25.456Z"
   },
   {
    "duration": 17,
    "start_time": "2024-03-09T22:21:25.562Z"
   },
   {
    "duration": 6,
    "start_time": "2024-03-09T22:21:25.687Z"
   },
   {
    "duration": 3,
    "start_time": "2024-03-09T22:21:25.721Z"
   },
   {
    "duration": 249,
    "start_time": "2024-03-09T22:21:25.783Z"
   },
   {
    "duration": 40,
    "start_time": "2024-03-09T22:21:26.033Z"
   },
   {
    "duration": 6,
    "start_time": "2024-03-09T22:21:41.103Z"
   },
   {
    "duration": 7,
    "start_time": "2024-03-09T22:23:02.457Z"
   },
   {
    "duration": 13,
    "start_time": "2024-03-09T22:23:02.869Z"
   },
   {
    "duration": 9,
    "start_time": "2024-03-09T22:23:17.546Z"
   },
   {
    "duration": 1217,
    "start_time": "2024-03-09T22:24:35.025Z"
   },
   {
    "duration": 12,
    "start_time": "2024-03-09T22:24:44.165Z"
   },
   {
    "duration": 12,
    "start_time": "2024-03-09T22:25:47.943Z"
   },
   {
    "duration": 4,
    "start_time": "2024-03-09T22:29:11.035Z"
   },
   {
    "duration": 34,
    "start_time": "2024-03-09T22:30:39.458Z"
   },
   {
    "duration": 3,
    "start_time": "2024-03-09T22:31:29.028Z"
   },
   {
    "duration": 506,
    "start_time": "2024-03-09T22:31:29.844Z"
   },
   {
    "duration": 8,
    "start_time": "2024-03-09T22:31:30.352Z"
   },
   {
    "duration": 47,
    "start_time": "2024-03-09T22:31:30.362Z"
   },
   {
    "duration": 58,
    "start_time": "2024-03-09T22:31:30.412Z"
   },
   {
    "duration": 54,
    "start_time": "2024-03-09T22:31:30.472Z"
   },
   {
    "duration": 109,
    "start_time": "2024-03-09T22:31:30.527Z"
   },
   {
    "duration": 106,
    "start_time": "2024-03-09T22:31:30.637Z"
   },
   {
    "duration": 62,
    "start_time": "2024-03-09T22:31:30.744Z"
   },
   {
    "duration": 148,
    "start_time": "2024-03-09T22:31:30.808Z"
   },
   {
    "duration": 21,
    "start_time": "2024-03-09T22:31:30.957Z"
   },
   {
    "duration": 7,
    "start_time": "2024-03-09T22:31:32.013Z"
   },
   {
    "duration": 19,
    "start_time": "2024-03-09T22:31:32.775Z"
   },
   {
    "duration": 7,
    "start_time": "2024-03-09T22:31:33.617Z"
   },
   {
    "duration": 4,
    "start_time": "2024-03-09T22:31:34.303Z"
   },
   {
    "duration": 240,
    "start_time": "2024-03-09T22:31:34.539Z"
   },
   {
    "duration": 230,
    "start_time": "2024-03-09T22:31:37.046Z"
   },
   {
    "duration": 219,
    "start_time": "2024-03-09T22:31:37.793Z"
   },
   {
    "duration": 16,
    "start_time": "2024-03-09T22:31:39.782Z"
   },
   {
    "duration": 6,
    "start_time": "2024-03-09T22:31:42.488Z"
   },
   {
    "duration": 3,
    "start_time": "2024-03-09T22:32:06.816Z"
   },
   {
    "duration": 483,
    "start_time": "2024-03-09T22:32:06.875Z"
   },
   {
    "duration": 7,
    "start_time": "2024-03-09T22:32:07.360Z"
   },
   {
    "duration": 22,
    "start_time": "2024-03-09T22:32:07.369Z"
   },
   {
    "duration": 7,
    "start_time": "2024-03-09T22:32:07.393Z"
   },
   {
    "duration": 23,
    "start_time": "2024-03-09T22:32:07.401Z"
   },
   {
    "duration": 16,
    "start_time": "2024-03-09T22:32:07.425Z"
   },
   {
    "duration": 46,
    "start_time": "2024-03-09T22:32:07.442Z"
   },
   {
    "duration": 73,
    "start_time": "2024-03-09T22:32:07.490Z"
   },
   {
    "duration": 124,
    "start_time": "2024-03-09T22:32:07.565Z"
   },
   {
    "duration": 21,
    "start_time": "2024-03-09T22:32:07.795Z"
   },
   {
    "duration": 7,
    "start_time": "2024-03-09T22:32:07.889Z"
   },
   {
    "duration": 19,
    "start_time": "2024-03-09T22:32:13.409Z"
   },
   {
    "duration": 6,
    "start_time": "2024-03-09T22:32:14.136Z"
   },
   {
    "duration": 3,
    "start_time": "2024-03-09T22:32:14.361Z"
   },
   {
    "duration": 234,
    "start_time": "2024-03-09T22:32:16.093Z"
   },
   {
    "duration": 230,
    "start_time": "2024-03-09T22:32:17.920Z"
   },
   {
    "duration": 404,
    "start_time": "2024-03-09T22:32:18.702Z"
   },
   {
    "duration": 15,
    "start_time": "2024-03-09T22:32:21.163Z"
   },
   {
    "duration": 14,
    "start_time": "2024-03-09T22:32:23.354Z"
   },
   {
    "duration": 15,
    "start_time": "2024-03-09T22:32:38.547Z"
   },
   {
    "duration": 8,
    "start_time": "2024-03-09T22:33:25.297Z"
   },
   {
    "duration": 7,
    "start_time": "2024-03-09T22:35:28.043Z"
   },
   {
    "duration": 20,
    "start_time": "2024-03-09T22:44:20.229Z"
   },
   {
    "duration": 21,
    "start_time": "2024-03-09T22:44:41.039Z"
   },
   {
    "duration": 4,
    "start_time": "2024-03-09T22:45:06.432Z"
   },
   {
    "duration": 85,
    "start_time": "2024-03-09T22:45:17.101Z"
   },
   {
    "duration": 19,
    "start_time": "2024-03-09T22:46:03.052Z"
   },
   {
    "duration": 3,
    "start_time": "2024-03-09T22:46:13.950Z"
   },
   {
    "duration": 549,
    "start_time": "2024-03-09T22:46:14.013Z"
   },
   {
    "duration": 7,
    "start_time": "2024-03-09T22:46:14.564Z"
   },
   {
    "duration": 24,
    "start_time": "2024-03-09T22:46:14.572Z"
   },
   {
    "duration": 25,
    "start_time": "2024-03-09T22:46:14.598Z"
   },
   {
    "duration": 18,
    "start_time": "2024-03-09T22:46:14.624Z"
   },
   {
    "duration": 32,
    "start_time": "2024-03-09T22:46:14.644Z"
   },
   {
    "duration": 47,
    "start_time": "2024-03-09T22:46:14.678Z"
   },
   {
    "duration": 51,
    "start_time": "2024-03-09T22:46:14.727Z"
   },
   {
    "duration": 116,
    "start_time": "2024-03-09T22:46:14.780Z"
   },
   {
    "duration": 20,
    "start_time": "2024-03-09T22:46:14.939Z"
   },
   {
    "duration": 7,
    "start_time": "2024-03-09T22:46:15.047Z"
   },
   {
    "duration": 19,
    "start_time": "2024-03-09T22:46:15.138Z"
   },
   {
    "duration": 6,
    "start_time": "2024-03-09T22:46:15.716Z"
   },
   {
    "duration": 4,
    "start_time": "2024-03-09T22:46:16.228Z"
   },
   {
    "duration": 242,
    "start_time": "2024-03-09T22:46:16.290Z"
   },
   {
    "duration": 243,
    "start_time": "2024-03-09T22:46:16.911Z"
   },
   {
    "duration": 224,
    "start_time": "2024-03-09T22:46:17.373Z"
   },
   {
    "duration": 7,
    "start_time": "2024-03-09T22:46:18.252Z"
   },
   {
    "duration": 14,
    "start_time": "2024-03-09T22:46:18.939Z"
   },
   {
    "duration": 13,
    "start_time": "2024-03-09T22:46:20.872Z"
   },
   {
    "duration": 20,
    "start_time": "2024-03-09T22:46:22.160Z"
   },
   {
    "duration": 20,
    "start_time": "2024-03-09T22:47:36.672Z"
   },
   {
    "duration": 3,
    "start_time": "2024-03-09T22:47:42.788Z"
   },
   {
    "duration": 444,
    "start_time": "2024-03-09T22:47:42.850Z"
   },
   {
    "duration": 7,
    "start_time": "2024-03-09T22:47:43.296Z"
   },
   {
    "duration": 30,
    "start_time": "2024-03-09T22:47:43.304Z"
   },
   {
    "duration": 12,
    "start_time": "2024-03-09T22:47:43.336Z"
   },
   {
    "duration": 22,
    "start_time": "2024-03-09T22:47:43.349Z"
   },
   {
    "duration": 25,
    "start_time": "2024-03-09T22:47:43.373Z"
   },
   {
    "duration": 51,
    "start_time": "2024-03-09T22:47:43.400Z"
   },
   {
    "duration": 50,
    "start_time": "2024-03-09T22:47:43.452Z"
   },
   {
    "duration": 124,
    "start_time": "2024-03-09T22:47:43.503Z"
   },
   {
    "duration": 21,
    "start_time": "2024-03-09T22:47:43.777Z"
   },
   {
    "duration": 7,
    "start_time": "2024-03-09T22:47:43.870Z"
   },
   {
    "duration": 17,
    "start_time": "2024-03-09T22:47:43.978Z"
   },
   {
    "duration": 6,
    "start_time": "2024-03-09T22:47:44.102Z"
   },
   {
    "duration": 3,
    "start_time": "2024-03-09T22:47:44.134Z"
   },
   {
    "duration": 237,
    "start_time": "2024-03-09T22:47:44.212Z"
   },
   {
    "duration": 268,
    "start_time": "2024-03-09T22:47:44.516Z"
   },
   {
    "duration": 223,
    "start_time": "2024-03-09T22:47:45.122Z"
   },
   {
    "duration": 7,
    "start_time": "2024-03-09T22:47:46.323Z"
   },
   {
    "duration": 13,
    "start_time": "2024-03-09T22:47:46.522Z"
   },
   {
    "duration": 12,
    "start_time": "2024-03-09T22:47:46.919Z"
   },
   {
    "duration": 20,
    "start_time": "2024-03-09T22:47:47.328Z"
   },
   {
    "duration": 32,
    "start_time": "2024-03-09T22:47:48.083Z"
   },
   {
    "duration": 7,
    "start_time": "2024-03-09T22:47:48.973Z"
   },
   {
    "duration": 20,
    "start_time": "2024-03-09T22:48:52.066Z"
   },
   {
    "duration": 3,
    "start_time": "2024-03-09T22:49:07.238Z"
   },
   {
    "duration": 4,
    "start_time": "2024-03-09T22:49:11.175Z"
   },
   {
    "duration": 3,
    "start_time": "2024-03-09T22:49:31.907Z"
   },
   {
    "duration": 4,
    "start_time": "2024-03-09T22:49:37.338Z"
   },
   {
    "duration": 428,
    "start_time": "2024-03-09T22:49:37.874Z"
   },
   {
    "duration": 7,
    "start_time": "2024-03-09T22:49:38.304Z"
   },
   {
    "duration": 19,
    "start_time": "2024-03-09T22:49:38.317Z"
   },
   {
    "duration": 7,
    "start_time": "2024-03-09T22:49:38.338Z"
   },
   {
    "duration": 7,
    "start_time": "2024-03-09T22:49:38.346Z"
   },
   {
    "duration": 15,
    "start_time": "2024-03-09T22:49:38.355Z"
   },
   {
    "duration": 72,
    "start_time": "2024-03-09T22:49:38.371Z"
   },
   {
    "duration": 56,
    "start_time": "2024-03-09T22:49:38.445Z"
   },
   {
    "duration": 124,
    "start_time": "2024-03-09T22:49:38.503Z"
   },
   {
    "duration": 23,
    "start_time": "2024-03-09T22:49:38.798Z"
   },
   {
    "duration": 8,
    "start_time": "2024-03-09T22:49:39.751Z"
   },
   {
    "duration": 18,
    "start_time": "2024-03-09T22:49:39.845Z"
   },
   {
    "duration": 6,
    "start_time": "2024-03-09T22:49:40.692Z"
   },
   {
    "duration": 4,
    "start_time": "2024-03-09T22:49:41.078Z"
   },
   {
    "duration": 242,
    "start_time": "2024-03-09T22:49:41.523Z"
   },
   {
    "duration": 237,
    "start_time": "2024-03-09T22:49:42.671Z"
   },
   {
    "duration": 221,
    "start_time": "2024-03-09T22:49:43.133Z"
   },
   {
    "duration": 7,
    "start_time": "2024-03-09T22:49:44.174Z"
   },
   {
    "duration": 12,
    "start_time": "2024-03-09T22:49:44.635Z"
   },
   {
    "duration": 12,
    "start_time": "2024-03-09T22:49:47.896Z"
   },
   {
    "duration": 18,
    "start_time": "2024-03-09T22:50:14.893Z"
   },
   {
    "duration": 4,
    "start_time": "2024-03-09T22:50:16.709Z"
   },
   {
    "duration": 4,
    "start_time": "2024-03-09T22:50:28.231Z"
   },
   {
    "duration": 4,
    "start_time": "2024-03-09T22:50:37.688Z"
   },
   {
    "duration": 4,
    "start_time": "2024-03-09T22:50:58.444Z"
   },
   {
    "duration": 4,
    "start_time": "2024-03-09T22:51:13.059Z"
   },
   {
    "duration": 3,
    "start_time": "2024-03-09T22:52:04.248Z"
   },
   {
    "duration": 10,
    "start_time": "2024-03-09T22:52:26.053Z"
   },
   {
    "duration": 4,
    "start_time": "2024-03-09T22:53:10.904Z"
   },
   {
    "duration": 4,
    "start_time": "2024-03-09T22:53:16.827Z"
   },
   {
    "duration": 3,
    "start_time": "2024-03-09T22:54:11.203Z"
   },
   {
    "duration": 544,
    "start_time": "2024-03-09T22:54:11.618Z"
   },
   {
    "duration": 7,
    "start_time": "2024-03-09T22:54:12.163Z"
   },
   {
    "duration": 20,
    "start_time": "2024-03-09T22:54:12.192Z"
   },
   {
    "duration": 7,
    "start_time": "2024-03-09T22:54:13.675Z"
   },
   {
    "duration": 7,
    "start_time": "2024-03-09T22:54:13.701Z"
   },
   {
    "duration": 16,
    "start_time": "2024-03-09T22:54:13.793Z"
   },
   {
    "duration": 48,
    "start_time": "2024-03-09T22:54:14.443Z"
   },
   {
    "duration": 52,
    "start_time": "2024-03-09T22:54:14.502Z"
   },
   {
    "duration": 102,
    "start_time": "2024-03-09T22:54:14.595Z"
   },
   {
    "duration": 22,
    "start_time": "2024-03-09T22:54:16.104Z"
   },
   {
    "duration": 8,
    "start_time": "2024-03-09T22:54:16.869Z"
   },
   {
    "duration": 19,
    "start_time": "2024-03-09T22:54:17.483Z"
   },
   {
    "duration": 6,
    "start_time": "2024-03-09T22:54:18.347Z"
   },
   {
    "duration": 5,
    "start_time": "2024-03-09T22:54:18.564Z"
   },
   {
    "duration": 267,
    "start_time": "2024-03-09T22:54:18.990Z"
   },
   {
    "duration": 265,
    "start_time": "2024-03-09T22:54:20.377Z"
   },
   {
    "duration": 226,
    "start_time": "2024-03-09T22:54:21.091Z"
   },
   {
    "duration": 6,
    "start_time": "2024-03-09T22:54:23.147Z"
   },
   {
    "duration": 13,
    "start_time": "2024-03-09T22:54:23.885Z"
   },
   {
    "duration": 12,
    "start_time": "2024-03-09T22:54:25.719Z"
   },
   {
    "duration": 19,
    "start_time": "2024-03-09T22:54:27.103Z"
   },
   {
    "duration": 3,
    "start_time": "2024-03-09T22:54:49.332Z"
   },
   {
    "duration": 455,
    "start_time": "2024-03-09T22:54:49.871Z"
   },
   {
    "duration": 8,
    "start_time": "2024-03-09T22:54:50.328Z"
   },
   {
    "duration": 30,
    "start_time": "2024-03-09T22:54:50.337Z"
   },
   {
    "duration": 25,
    "start_time": "2024-03-09T22:54:50.370Z"
   },
   {
    "duration": 10,
    "start_time": "2024-03-09T22:54:50.397Z"
   },
   {
    "duration": 23,
    "start_time": "2024-03-09T22:54:50.409Z"
   },
   {
    "duration": 45,
    "start_time": "2024-03-09T22:54:50.433Z"
   },
   {
    "duration": 67,
    "start_time": "2024-03-09T22:54:50.480Z"
   },
   {
    "duration": 104,
    "start_time": "2024-03-09T22:54:50.549Z"
   },
   {
    "duration": 20,
    "start_time": "2024-03-09T22:54:50.793Z"
   },
   {
    "duration": 7,
    "start_time": "2024-03-09T22:54:50.886Z"
   },
   {
    "duration": 17,
    "start_time": "2024-03-09T22:54:50.994Z"
   },
   {
    "duration": 6,
    "start_time": "2024-03-09T22:54:51.117Z"
   },
   {
    "duration": 4,
    "start_time": "2024-03-09T22:54:51.163Z"
   },
   {
    "duration": 432,
    "start_time": "2024-03-09T22:54:51.226Z"
   },
   {
    "duration": 270,
    "start_time": "2024-03-09T22:54:51.722Z"
   },
   {
    "duration": 230,
    "start_time": "2024-03-09T22:54:52.502Z"
   },
   {
    "duration": 6,
    "start_time": "2024-03-09T22:54:52.733Z"
   },
   {
    "duration": 13,
    "start_time": "2024-03-09T22:54:53.356Z"
   },
   {
    "duration": 12,
    "start_time": "2024-03-09T22:54:53.918Z"
   },
   {
    "duration": 19,
    "start_time": "2024-03-09T22:54:55.113Z"
   },
   {
    "duration": 34,
    "start_time": "2024-03-09T22:55:51.583Z"
   },
   {
    "duration": 3,
    "start_time": "2024-03-09T22:55:56.100Z"
   },
   {
    "duration": 448,
    "start_time": "2024-03-09T22:55:56.645Z"
   },
   {
    "duration": 7,
    "start_time": "2024-03-09T22:55:57.095Z"
   },
   {
    "duration": 29,
    "start_time": "2024-03-09T22:55:57.103Z"
   },
   {
    "duration": 7,
    "start_time": "2024-03-09T22:55:57.134Z"
   },
   {
    "duration": 7,
    "start_time": "2024-03-09T22:55:57.143Z"
   },
   {
    "duration": 16,
    "start_time": "2024-03-09T22:55:57.151Z"
   },
   {
    "duration": 79,
    "start_time": "2024-03-09T22:55:57.169Z"
   },
   {
    "duration": 48,
    "start_time": "2024-03-09T22:55:57.251Z"
   },
   {
    "duration": 118,
    "start_time": "2024-03-09T22:55:57.300Z"
   },
   {
    "duration": 20,
    "start_time": "2024-03-09T22:55:57.557Z"
   },
   {
    "duration": 7,
    "start_time": "2024-03-09T22:55:57.666Z"
   },
   {
    "duration": 17,
    "start_time": "2024-03-09T22:55:57.759Z"
   },
   {
    "duration": 5,
    "start_time": "2024-03-09T22:55:59.241Z"
   },
   {
    "duration": 3,
    "start_time": "2024-03-09T22:55:59.452Z"
   },
   {
    "duration": 240,
    "start_time": "2024-03-09T22:56:00.097Z"
   },
   {
    "duration": 261,
    "start_time": "2024-03-09T22:56:01.856Z"
   },
   {
    "duration": 229,
    "start_time": "2024-03-09T22:56:02.688Z"
   },
   {
    "duration": 6,
    "start_time": "2024-03-09T22:56:04.060Z"
   },
   {
    "duration": 12,
    "start_time": "2024-03-09T22:56:04.922Z"
   },
   {
    "duration": 11,
    "start_time": "2024-03-09T22:56:05.859Z"
   },
   {
    "duration": 20,
    "start_time": "2024-03-09T22:56:06.731Z"
   },
   {
    "duration": 33,
    "start_time": "2024-03-09T22:56:07.925Z"
   },
   {
    "duration": 8,
    "start_time": "2024-03-09T22:56:08.788Z"
   },
   {
    "duration": 5,
    "start_time": "2024-03-09T22:58:05.590Z"
   },
   {
    "duration": 25,
    "start_time": "2024-03-09T22:58:38.300Z"
   },
   {
    "duration": 52,
    "start_time": "2024-03-09T22:58:41.308Z"
   },
   {
    "duration": 9,
    "start_time": "2024-03-09T22:58:43.947Z"
   },
   {
    "duration": 18,
    "start_time": "2024-03-09T22:58:57.372Z"
   },
   {
    "duration": 8,
    "start_time": "2024-03-09T22:58:59.657Z"
   },
   {
    "duration": 6,
    "start_time": "2024-03-09T22:59:07.910Z"
   },
   {
    "duration": 10,
    "start_time": "2024-03-09T23:00:48.001Z"
   },
   {
    "duration": 135,
    "start_time": "2024-03-09T23:00:52.765Z"
   },
   {
    "duration": 34,
    "start_time": "2024-03-09T23:01:09.101Z"
   },
   {
    "duration": 24,
    "start_time": "2024-03-09T23:01:10.426Z"
   },
   {
    "duration": 15,
    "start_time": "2024-03-09T23:01:22.341Z"
   },
   {
    "duration": 34,
    "start_time": "2024-03-09T23:01:25.497Z"
   },
   {
    "duration": 23,
    "start_time": "2024-03-09T23:01:28.014Z"
   },
   {
    "duration": 3,
    "start_time": "2024-03-09T23:01:32.513Z"
   },
   {
    "duration": 662,
    "start_time": "2024-03-09T23:01:33.045Z"
   },
   {
    "duration": 11,
    "start_time": "2024-03-09T23:01:33.709Z"
   },
   {
    "duration": 21,
    "start_time": "2024-03-09T23:01:33.721Z"
   },
   {
    "duration": 7,
    "start_time": "2024-03-09T23:01:33.744Z"
   },
   {
    "duration": 8,
    "start_time": "2024-03-09T23:01:33.752Z"
   },
   {
    "duration": 17,
    "start_time": "2024-03-09T23:01:33.761Z"
   },
   {
    "duration": 76,
    "start_time": "2024-03-09T23:01:33.779Z"
   },
   {
    "duration": 74,
    "start_time": "2024-03-09T23:01:33.857Z"
   },
   {
    "duration": 110,
    "start_time": "2024-03-09T23:01:33.933Z"
   },
   {
    "duration": 24,
    "start_time": "2024-03-09T23:01:34.413Z"
   },
   {
    "duration": 8,
    "start_time": "2024-03-09T23:01:34.440Z"
   },
   {
    "duration": 18,
    "start_time": "2024-03-09T23:01:34.449Z"
   },
   {
    "duration": 6,
    "start_time": "2024-03-09T23:01:34.468Z"
   },
   {
    "duration": 4,
    "start_time": "2024-03-09T23:01:34.476Z"
   },
   {
    "duration": 282,
    "start_time": "2024-03-09T23:01:34.482Z"
   },
   {
    "duration": 240,
    "start_time": "2024-03-09T23:01:34.766Z"
   },
   {
    "duration": 228,
    "start_time": "2024-03-09T23:01:35.008Z"
   },
   {
    "duration": 7,
    "start_time": "2024-03-09T23:01:35.238Z"
   },
   {
    "duration": 17,
    "start_time": "2024-03-09T23:01:35.247Z"
   },
   {
    "duration": 12,
    "start_time": "2024-03-09T23:01:35.266Z"
   },
   {
    "duration": 47,
    "start_time": "2024-03-09T23:01:35.279Z"
   },
   {
    "duration": 31,
    "start_time": "2024-03-09T23:01:35.327Z"
   },
   {
    "duration": 6,
    "start_time": "2024-03-09T23:01:35.360Z"
   },
   {
    "duration": 22,
    "start_time": "2024-03-09T23:01:35.368Z"
   },
   {
    "duration": 51,
    "start_time": "2024-03-09T23:01:35.429Z"
   },
   {
    "duration": 8,
    "start_time": "2024-03-09T23:01:35.493Z"
   },
   {
    "duration": 18,
    "start_time": "2024-03-09T23:01:35.589Z"
   },
   {
    "duration": 9,
    "start_time": "2024-03-09T23:01:35.684Z"
   },
   {
    "duration": 6,
    "start_time": "2024-03-09T23:01:35.749Z"
   },
   {
    "duration": 2,
    "start_time": "2024-03-09T23:01:35.827Z"
   },
   {
    "duration": 3,
    "start_time": "2024-03-09T23:01:35.862Z"
   },
   {
    "duration": 132,
    "start_time": "2024-03-09T23:01:35.925Z"
   },
   {
    "duration": 33,
    "start_time": "2024-03-09T23:01:36.215Z"
   },
   {
    "duration": 24,
    "start_time": "2024-03-09T23:01:36.287Z"
   },
   {
    "duration": 15,
    "start_time": "2024-03-09T23:01:36.473Z"
   },
   {
    "duration": 33,
    "start_time": "2024-03-09T23:01:36.552Z"
   },
   {
    "duration": 24,
    "start_time": "2024-03-09T23:01:36.678Z"
   },
   {
    "duration": 6,
    "start_time": "2024-03-09T23:01:36.740Z"
   },
   {
    "duration": 64,
    "start_time": "2024-03-09T23:01:36.772Z"
   },
   {
    "duration": 10,
    "start_time": "2024-03-09T23:01:36.908Z"
   },
   {
    "duration": 66,
    "start_time": "2024-03-09T23:01:37.004Z"
   },
   {
    "duration": 68,
    "start_time": "2024-03-09T23:01:37.148Z"
   },
   {
    "duration": 10,
    "start_time": "2024-03-09T23:01:37.272Z"
   },
   {
    "duration": 94,
    "start_time": "2024-03-09T23:01:37.334Z"
   },
   {
    "duration": 7,
    "start_time": "2024-03-09T23:08:12.230Z"
   },
   {
    "duration": 3,
    "start_time": "2024-03-09T23:10:24.113Z"
   },
   {
    "duration": 1329,
    "start_time": "2024-03-09T23:10:52.201Z"
   },
   {
    "duration": 128,
    "start_time": "2024-03-09T23:11:18.231Z"
   },
   {
    "duration": 131,
    "start_time": "2024-03-09T23:11:34.575Z"
   },
   {
    "duration": 128,
    "start_time": "2024-03-09T23:11:40.334Z"
   },
   {
    "duration": 296,
    "start_time": "2024-03-09T23:11:43.536Z"
   },
   {
    "duration": 127,
    "start_time": "2024-03-09T23:12:09.400Z"
   },
   {
    "duration": 144,
    "start_time": "2024-03-09T23:12:56.831Z"
   },
   {
    "duration": 140,
    "start_time": "2024-03-09T23:13:05.747Z"
   },
   {
    "duration": 147,
    "start_time": "2024-03-09T23:13:18.905Z"
   },
   {
    "duration": 140,
    "start_time": "2024-03-09T23:13:26.544Z"
   },
   {
    "duration": 147,
    "start_time": "2024-03-09T23:13:32.442Z"
   },
   {
    "duration": 137,
    "start_time": "2024-03-09T23:14:43.112Z"
   },
   {
    "duration": 143,
    "start_time": "2024-03-09T23:15:48.436Z"
   },
   {
    "duration": 136,
    "start_time": "2024-03-09T23:16:11.250Z"
   },
   {
    "duration": 3,
    "start_time": "2024-03-09T23:16:20.891Z"
   },
   {
    "duration": 472,
    "start_time": "2024-03-09T23:16:21.296Z"
   },
   {
    "duration": 7,
    "start_time": "2024-03-09T23:16:21.930Z"
   },
   {
    "duration": 19,
    "start_time": "2024-03-09T23:16:22.178Z"
   },
   {
    "duration": 7,
    "start_time": "2024-03-09T23:16:23.369Z"
   },
   {
    "duration": 10,
    "start_time": "2024-03-09T23:16:23.586Z"
   },
   {
    "duration": 16,
    "start_time": "2024-03-09T23:16:24.217Z"
   },
   {
    "duration": 53,
    "start_time": "2024-03-09T23:16:24.664Z"
   },
   {
    "duration": 49,
    "start_time": "2024-03-09T23:16:25.120Z"
   },
   {
    "duration": 100,
    "start_time": "2024-03-09T23:16:25.754Z"
   },
   {
    "duration": 21,
    "start_time": "2024-03-09T23:16:27.826Z"
   },
   {
    "duration": 7,
    "start_time": "2024-03-09T23:16:28.540Z"
   },
   {
    "duration": 18,
    "start_time": "2024-03-09T23:16:29.259Z"
   },
   {
    "duration": 5,
    "start_time": "2024-03-09T23:16:30.196Z"
   },
   {
    "duration": 4,
    "start_time": "2024-03-09T23:16:30.444Z"
   },
   {
    "duration": 237,
    "start_time": "2024-03-09T23:16:30.960Z"
   },
   {
    "duration": 218,
    "start_time": "2024-03-09T23:16:38.183Z"
   },
   {
    "duration": 214,
    "start_time": "2024-03-09T23:16:40.703Z"
   },
   {
    "duration": 6,
    "start_time": "2024-03-09T23:16:42.386Z"
   },
   {
    "duration": 13,
    "start_time": "2024-03-09T23:16:43.602Z"
   },
   {
    "duration": 12,
    "start_time": "2024-03-09T23:16:44.799Z"
   },
   {
    "duration": 20,
    "start_time": "2024-03-09T23:16:47.762Z"
   },
   {
    "duration": 34,
    "start_time": "2024-03-09T23:16:50.901Z"
   },
   {
    "duration": 8,
    "start_time": "2024-03-09T23:16:52.058Z"
   },
   {
    "duration": 24,
    "start_time": "2024-03-09T23:17:00.576Z"
   },
   {
    "duration": 52,
    "start_time": "2024-03-09T23:17:00.678Z"
   },
   {
    "duration": 9,
    "start_time": "2024-03-09T23:17:00.741Z"
   },
   {
    "duration": 18,
    "start_time": "2024-03-09T23:17:00.835Z"
   },
   {
    "duration": 8,
    "start_time": "2024-03-09T23:17:05.388Z"
   },
   {
    "duration": 6,
    "start_time": "2024-03-09T23:17:06.145Z"
   },
   {
    "duration": 2,
    "start_time": "2024-03-09T23:17:07.596Z"
   },
   {
    "duration": 2,
    "start_time": "2024-03-09T23:17:07.926Z"
   },
   {
    "duration": 145,
    "start_time": "2024-03-09T23:17:08.780Z"
   },
   {
    "duration": 3,
    "start_time": "2024-03-09T23:30:13.478Z"
   },
   {
    "duration": 558,
    "start_time": "2024-03-09T23:30:14.015Z"
   },
   {
    "duration": 8,
    "start_time": "2024-03-09T23:30:14.675Z"
   },
   {
    "duration": 20,
    "start_time": "2024-03-09T23:30:15.077Z"
   },
   {
    "duration": 7,
    "start_time": "2024-03-09T23:30:16.607Z"
   },
   {
    "duration": 8,
    "start_time": "2024-03-09T23:30:16.903Z"
   },
   {
    "duration": 15,
    "start_time": "2024-03-09T23:30:17.864Z"
   },
   {
    "duration": 46,
    "start_time": "2024-03-09T23:30:18.405Z"
   },
   {
    "duration": 48,
    "start_time": "2024-03-09T23:30:19.020Z"
   },
   {
    "duration": 105,
    "start_time": "2024-03-09T23:30:19.997Z"
   },
   {
    "duration": 21,
    "start_time": "2024-03-09T23:30:24.088Z"
   },
   {
    "duration": 7,
    "start_time": "2024-03-09T23:30:25.348Z"
   },
   {
    "duration": 17,
    "start_time": "2024-03-09T23:30:26.245Z"
   },
   {
    "duration": 6,
    "start_time": "2024-03-09T23:30:27.642Z"
   },
   {
    "duration": 4,
    "start_time": "2024-03-09T23:30:28.087Z"
   },
   {
    "duration": 238,
    "start_time": "2024-03-09T23:30:32.983Z"
   },
   {
    "duration": 227,
    "start_time": "2024-03-09T23:30:36.652Z"
   },
   {
    "duration": 216,
    "start_time": "2024-03-09T23:30:38.082Z"
   },
   {
    "duration": 6,
    "start_time": "2024-03-09T23:30:59.193Z"
   },
   {
    "duration": 16,
    "start_time": "2024-03-09T23:31:00.142Z"
   },
   {
    "duration": 12,
    "start_time": "2024-03-09T23:31:01.804Z"
   },
   {
    "duration": 21,
    "start_time": "2024-03-09T23:31:10.930Z"
   },
   {
    "duration": 32,
    "start_time": "2024-03-09T23:31:12.342Z"
   },
   {
    "duration": 8,
    "start_time": "2024-03-09T23:31:13.791Z"
   },
   {
    "duration": 25,
    "start_time": "2024-03-09T23:31:16.449Z"
   },
   {
    "duration": 51,
    "start_time": "2024-03-09T23:31:17.784Z"
   },
   {
    "duration": 9,
    "start_time": "2024-03-09T23:31:24.423Z"
   },
   {
    "duration": 16,
    "start_time": "2024-03-09T23:31:25.962Z"
   },
   {
    "duration": 8,
    "start_time": "2024-03-09T23:31:27.906Z"
   },
   {
    "duration": 6,
    "start_time": "2024-03-09T23:31:29.257Z"
   },
   {
    "duration": 2,
    "start_time": "2024-03-09T23:31:30.122Z"
   },
   {
    "duration": 3,
    "start_time": "2024-03-09T23:31:30.407Z"
   },
   {
    "duration": 145,
    "start_time": "2024-03-09T23:31:31.533Z"
   },
   {
    "duration": 33,
    "start_time": "2024-03-09T23:31:45.070Z"
   },
   {
    "duration": 24,
    "start_time": "2024-03-09T23:31:45.949Z"
   },
   {
    "duration": 14,
    "start_time": "2024-03-09T23:31:47.829Z"
   },
   {
    "duration": 209,
    "start_time": "2024-03-09T23:31:47.892Z"
   },
   {
    "duration": 30,
    "start_time": "2024-03-09T23:31:48.103Z"
   },
   {
    "duration": 15,
    "start_time": "2024-03-09T23:32:05.011Z"
   },
   {
    "duration": 32,
    "start_time": "2024-03-09T23:32:05.552Z"
   },
   {
    "duration": 22,
    "start_time": "2024-03-09T23:32:06.628Z"
   },
   {
    "duration": 8,
    "start_time": "2024-03-09T23:32:07.196Z"
   },
   {
    "duration": 67,
    "start_time": "2024-03-09T23:32:07.502Z"
   },
   {
    "duration": 9,
    "start_time": "2024-03-09T23:32:08.662Z"
   },
   {
    "duration": 66,
    "start_time": "2024-03-09T23:32:09.488Z"
   },
   {
    "duration": 91,
    "start_time": "2024-03-09T23:32:09.613Z"
   },
   {
    "duration": 8,
    "start_time": "2024-03-09T23:32:09.753Z"
   },
   {
    "duration": 91,
    "start_time": "2024-03-09T23:32:09.816Z"
   },
   {
    "duration": 60,
    "start_time": "2024-03-10T09:04:23.207Z"
   },
   {
    "duration": 1326,
    "start_time": "2024-03-10T09:04:39.951Z"
   },
   {
    "duration": 480,
    "start_time": "2024-03-10T09:04:41.279Z"
   },
   {
    "duration": 11,
    "start_time": "2024-03-10T09:04:41.760Z"
   },
   {
    "duration": 21,
    "start_time": "2024-03-10T09:04:41.773Z"
   },
   {
    "duration": 26,
    "start_time": "2024-03-10T09:04:41.795Z"
   },
   {
    "duration": 8,
    "start_time": "2024-03-10T09:04:41.823Z"
   },
   {
    "duration": 16,
    "start_time": "2024-03-10T09:04:41.832Z"
   },
   {
    "duration": 78,
    "start_time": "2024-03-10T09:04:41.850Z"
   },
   {
    "duration": 53,
    "start_time": "2024-03-10T09:04:41.930Z"
   },
   {
    "duration": 138,
    "start_time": "2024-03-10T09:04:41.985Z"
   },
   {
    "duration": 22,
    "start_time": "2024-03-10T09:04:42.124Z"
   },
   {
    "duration": 7,
    "start_time": "2024-03-10T09:04:42.148Z"
   },
   {
    "duration": 20,
    "start_time": "2024-03-10T09:04:42.156Z"
   },
   {
    "duration": 6,
    "start_time": "2024-03-10T09:04:42.178Z"
   },
   {
    "duration": 35,
    "start_time": "2024-03-10T09:04:42.185Z"
   },
   {
    "duration": 265,
    "start_time": "2024-03-10T09:04:42.221Z"
   },
   {
    "duration": 256,
    "start_time": "2024-03-10T09:04:42.488Z"
   },
   {
    "duration": 235,
    "start_time": "2024-03-10T09:04:42.746Z"
   },
   {
    "duration": 6,
    "start_time": "2024-03-10T09:04:42.982Z"
   },
   {
    "duration": 29,
    "start_time": "2024-03-10T09:04:42.990Z"
   },
   {
    "duration": 15,
    "start_time": "2024-03-10T09:04:43.020Z"
   },
   {
    "duration": 21,
    "start_time": "2024-03-10T09:04:43.036Z"
   },
   {
    "duration": 32,
    "start_time": "2024-03-10T09:04:43.058Z"
   },
   {
    "duration": 27,
    "start_time": "2024-03-10T09:04:43.092Z"
   },
   {
    "duration": 24,
    "start_time": "2024-03-10T09:04:43.121Z"
   },
   {
    "duration": 50,
    "start_time": "2024-03-10T09:04:43.147Z"
   },
   {
    "duration": 10,
    "start_time": "2024-03-10T09:04:43.218Z"
   },
   {
    "duration": 13,
    "start_time": "2024-03-10T09:04:43.231Z"
   },
   {
    "duration": 8,
    "start_time": "2024-03-10T09:04:43.245Z"
   },
   {
    "duration": 9,
    "start_time": "2024-03-10T09:04:43.255Z"
   },
   {
    "duration": 3,
    "start_time": "2024-03-10T09:04:43.265Z"
   },
   {
    "duration": 3,
    "start_time": "2024-03-10T09:04:43.269Z"
   },
   {
    "duration": 176,
    "start_time": "2024-03-10T09:04:43.274Z"
   },
   {
    "duration": 6,
    "start_time": "2024-03-10T09:04:43.452Z"
   },
   {
    "duration": 1348,
    "start_time": "2024-03-10T09:04:43.460Z"
   },
   {
    "duration": 0,
    "start_time": "2024-03-10T09:04:44.810Z"
   },
   {
    "duration": 0,
    "start_time": "2024-03-10T09:04:44.811Z"
   },
   {
    "duration": 0,
    "start_time": "2024-03-10T09:04:44.812Z"
   },
   {
    "duration": 0,
    "start_time": "2024-03-10T09:04:44.812Z"
   },
   {
    "duration": 0,
    "start_time": "2024-03-10T09:04:44.814Z"
   },
   {
    "duration": 0,
    "start_time": "2024-03-10T09:04:44.814Z"
   },
   {
    "duration": 0,
    "start_time": "2024-03-10T09:04:44.815Z"
   },
   {
    "duration": 0,
    "start_time": "2024-03-10T09:04:44.817Z"
   },
   {
    "duration": 0,
    "start_time": "2024-03-10T09:04:44.818Z"
   },
   {
    "duration": 0,
    "start_time": "2024-03-10T09:04:44.819Z"
   },
   {
    "duration": 0,
    "start_time": "2024-03-10T09:04:44.820Z"
   },
   {
    "duration": 0,
    "start_time": "2024-03-10T09:04:44.821Z"
   },
   {
    "duration": 1170,
    "start_time": "2024-03-10T09:05:23.303Z"
   },
   {
    "duration": 330,
    "start_time": "2024-03-10T09:05:44.452Z"
   },
   {
    "duration": 1283,
    "start_time": "2024-03-10T09:06:28.285Z"
   },
   {
    "duration": 414,
    "start_time": "2024-03-10T09:06:29.570Z"
   },
   {
    "duration": 12,
    "start_time": "2024-03-10T09:06:29.985Z"
   },
   {
    "duration": 35,
    "start_time": "2024-03-10T09:06:29.999Z"
   },
   {
    "duration": 22,
    "start_time": "2024-03-10T09:06:30.036Z"
   },
   {
    "duration": 40,
    "start_time": "2024-03-10T09:06:30.059Z"
   },
   {
    "duration": 61,
    "start_time": "2024-03-10T09:06:30.100Z"
   },
   {
    "duration": 88,
    "start_time": "2024-03-10T09:06:30.163Z"
   },
   {
    "duration": 65,
    "start_time": "2024-03-10T09:06:30.253Z"
   },
   {
    "duration": 117,
    "start_time": "2024-03-10T09:06:30.320Z"
   },
   {
    "duration": 21,
    "start_time": "2024-03-10T09:06:30.438Z"
   },
   {
    "duration": 41,
    "start_time": "2024-03-10T09:06:30.461Z"
   },
   {
    "duration": 40,
    "start_time": "2024-03-10T09:06:30.503Z"
   },
   {
    "duration": 19,
    "start_time": "2024-03-10T09:06:30.545Z"
   },
   {
    "duration": 18,
    "start_time": "2024-03-10T09:06:30.566Z"
   },
   {
    "duration": 274,
    "start_time": "2024-03-10T09:06:30.586Z"
   },
   {
    "duration": 274,
    "start_time": "2024-03-10T09:06:30.862Z"
   },
   {
    "duration": 247,
    "start_time": "2024-03-10T09:06:31.139Z"
   },
   {
    "duration": 7,
    "start_time": "2024-03-10T09:06:31.387Z"
   },
   {
    "duration": 61,
    "start_time": "2024-03-10T09:06:31.395Z"
   },
   {
    "duration": 61,
    "start_time": "2024-03-10T09:06:31.458Z"
   },
   {
    "duration": 58,
    "start_time": "2024-03-10T09:06:31.521Z"
   },
   {
    "duration": 93,
    "start_time": "2024-03-10T09:06:31.580Z"
   },
   {
    "duration": 16,
    "start_time": "2024-03-10T09:06:31.675Z"
   },
   {
    "duration": 50,
    "start_time": "2024-03-10T09:06:31.693Z"
   },
   {
    "duration": 101,
    "start_time": "2024-03-10T09:06:31.745Z"
   },
   {
    "duration": 9,
    "start_time": "2024-03-10T09:06:31.848Z"
   },
   {
    "duration": 33,
    "start_time": "2024-03-10T09:06:31.860Z"
   },
   {
    "duration": 42,
    "start_time": "2024-03-10T09:06:31.894Z"
   },
   {
    "duration": 29,
    "start_time": "2024-03-10T09:06:31.938Z"
   },
   {
    "duration": 44,
    "start_time": "2024-03-10T09:06:31.969Z"
   },
   {
    "duration": 20,
    "start_time": "2024-03-10T09:06:32.015Z"
   },
   {
    "duration": 179,
    "start_time": "2024-03-10T09:06:32.037Z"
   },
   {
    "duration": 6,
    "start_time": "2024-03-10T09:06:32.217Z"
   },
   {
    "duration": 382,
    "start_time": "2024-03-10T09:06:32.225Z"
   },
   {
    "duration": 35,
    "start_time": "2024-03-10T09:06:32.609Z"
   },
   {
    "duration": 203,
    "start_time": "2024-03-10T09:06:32.646Z"
   },
   {
    "duration": 0,
    "start_time": "2024-03-10T09:06:32.851Z"
   },
   {
    "duration": 0,
    "start_time": "2024-03-10T09:06:32.852Z"
   },
   {
    "duration": 0,
    "start_time": "2024-03-10T09:06:32.853Z"
   },
   {
    "duration": 0,
    "start_time": "2024-03-10T09:06:32.855Z"
   },
   {
    "duration": 0,
    "start_time": "2024-03-10T09:06:32.856Z"
   },
   {
    "duration": 0,
    "start_time": "2024-03-10T09:06:32.857Z"
   },
   {
    "duration": 0,
    "start_time": "2024-03-10T09:06:32.858Z"
   },
   {
    "duration": 0,
    "start_time": "2024-03-10T09:06:32.859Z"
   },
   {
    "duration": 0,
    "start_time": "2024-03-10T09:06:32.861Z"
   },
   {
    "duration": 0,
    "start_time": "2024-03-10T09:06:32.862Z"
   },
   {
    "duration": 23,
    "start_time": "2024-03-10T09:07:25.166Z"
   },
   {
    "duration": 39,
    "start_time": "2024-03-10T09:08:08.241Z"
   },
   {
    "duration": 17,
    "start_time": "2024-03-10T09:08:11.804Z"
   },
   {
    "duration": 37,
    "start_time": "2024-03-10T09:08:12.185Z"
   },
   {
    "duration": 23,
    "start_time": "2024-03-10T09:08:13.472Z"
   },
   {
    "duration": 5,
    "start_time": "2024-03-10T09:08:14.124Z"
   },
   {
    "duration": 63,
    "start_time": "2024-03-10T09:08:14.346Z"
   },
   {
    "duration": 8,
    "start_time": "2024-03-10T09:08:15.210Z"
   },
   {
    "duration": 68,
    "start_time": "2024-03-10T09:08:15.991Z"
   },
   {
    "duration": 64,
    "start_time": "2024-03-10T09:08:16.968Z"
   },
   {
    "duration": 10,
    "start_time": "2024-03-10T09:08:18.054Z"
   },
   {
    "duration": 111,
    "start_time": "2024-03-10T09:08:18.479Z"
   }
  ],
  "kernelspec": {
   "display_name": "Python 3 (ipykernel)",
   "language": "python",
   "name": "python3"
  },
  "language_info": {
   "codemirror_mode": {
    "name": "ipython",
    "version": 3
   },
   "file_extension": ".py",
   "mimetype": "text/x-python",
   "name": "python",
   "nbconvert_exporter": "python",
   "pygments_lexer": "ipython3",
   "version": "3.11.7"
  },
  "toc": {
   "base_numbering": 1,
   "nav_menu": {},
   "number_sections": true,
   "sideBar": true,
   "skip_h1_title": true,
   "title_cell": "Table of Contents",
   "title_sidebar": "Contents",
   "toc_cell": false,
   "toc_position": {
    "height": "calc(100% - 180px)",
    "left": "10px",
    "top": "150px",
    "width": "409.6px"
   },
   "toc_section_display": true,
   "toc_window_display": true
  }
 },
 "nbformat": 4,
 "nbformat_minor": 4
}
