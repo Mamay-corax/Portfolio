{
 "cells": [
  {
   "cell_type": "markdown",
   "id": "f39e8e41",
   "metadata": {},
   "source": [
    "<h3> Сервис аренды самокатов GoFast. <a class=\"tocSkip\"> </h3>\n",
    "\n",
    "**Цель проекта:** проверить гипотезы, которые помогут бизнесу вырасти.\n",
    "    \n",
    "**Входные данные:** информация о пользователях, их поездках и подписках .\n",
    "    \n",
    "**Работа состоит из:**\n",
    "* Загрузки данных, ознакомления с ними;\n",
    "    \n",
    "* Предобработки данных, удаления дублируемой информации;\n",
    "    \n",
    "* Исследовательского анализа данных;\n",
    "    \n",
    "* Объединения данных;\n",
    "    \n",
    "* Подсчёта выручки и проверки гипотез.\n",
    "\n",
    "*Проект подготовил: Мамаев П.Р.*"
   ]
  },
  {
   "cell_type": "markdown",
   "id": "eefd5204-1275-4994-97fe-ecd2ac6ed297",
   "metadata": {},
   "source": [
    "## Загрузка данных"
   ]
  },
  {
   "cell_type": "markdown",
   "id": "f409dde1",
   "metadata": {},
   "source": [
    "### Подключаем библиотеки"
   ]
  },
  {
   "cell_type": "code",
   "execution_count": 1,
   "id": "72576667",
   "metadata": {},
   "outputs": [],
   "source": [
    "import pandas as pd\n",
    "import numpy as np\n",
    "import matplotlib.pyplot as plt\n",
    "from scipy import stats as st"
   ]
  },
  {
   "cell_type": "markdown",
   "id": "c42cbe00",
   "metadata": {},
   "source": [
    "### Загрузка данных"
   ]
  },
  {
   "cell_type": "code",
   "execution_count": 2,
   "id": "eff9f206",
   "metadata": {},
   "outputs": [],
   "source": [
    "users = pd.read_csv('/datasets/users_go.csv')\n",
    "rides = pd.read_csv('/datasets/rides_go.csv')\n",
    "subs = pd.read_csv('/datasets/subscriptions_go.csv')"
   ]
  },
  {
   "cell_type": "markdown",
   "id": "bb48cfe8",
   "metadata": {},
   "source": [
    "### Изучаем основную информацию в каждом датафрейме"
   ]
  },
  {
   "cell_type": "code",
   "execution_count": 3,
   "id": "c088b618",
   "metadata": {},
   "outputs": [
    {
     "data": {
      "text/html": [
       "<div>\n",
       "<style scoped>\n",
       "    .dataframe tbody tr th:only-of-type {\n",
       "        vertical-align: middle;\n",
       "    }\n",
       "\n",
       "    .dataframe tbody tr th {\n",
       "        vertical-align: top;\n",
       "    }\n",
       "\n",
       "    .dataframe thead th {\n",
       "        text-align: right;\n",
       "    }\n",
       "</style>\n",
       "<table border=\"1\" class=\"dataframe\">\n",
       "  <thead>\n",
       "    <tr style=\"text-align: right;\">\n",
       "      <th></th>\n",
       "      <th>user_id</th>\n",
       "      <th>name</th>\n",
       "      <th>age</th>\n",
       "      <th>city</th>\n",
       "      <th>subscription_type</th>\n",
       "    </tr>\n",
       "  </thead>\n",
       "  <tbody>\n",
       "    <tr>\n",
       "      <th>0</th>\n",
       "      <td>1</td>\n",
       "      <td>Кира</td>\n",
       "      <td>22</td>\n",
       "      <td>Тюмень</td>\n",
       "      <td>ultra</td>\n",
       "    </tr>\n",
       "    <tr>\n",
       "      <th>1</th>\n",
       "      <td>2</td>\n",
       "      <td>Станислав</td>\n",
       "      <td>31</td>\n",
       "      <td>Омск</td>\n",
       "      <td>ultra</td>\n",
       "    </tr>\n",
       "    <tr>\n",
       "      <th>2</th>\n",
       "      <td>3</td>\n",
       "      <td>Алексей</td>\n",
       "      <td>20</td>\n",
       "      <td>Москва</td>\n",
       "      <td>ultra</td>\n",
       "    </tr>\n",
       "    <tr>\n",
       "      <th>3</th>\n",
       "      <td>4</td>\n",
       "      <td>Константин</td>\n",
       "      <td>26</td>\n",
       "      <td>Ростов-на-Дону</td>\n",
       "      <td>ultra</td>\n",
       "    </tr>\n",
       "    <tr>\n",
       "      <th>4</th>\n",
       "      <td>5</td>\n",
       "      <td>Адель</td>\n",
       "      <td>28</td>\n",
       "      <td>Омск</td>\n",
       "      <td>ultra</td>\n",
       "    </tr>\n",
       "  </tbody>\n",
       "</table>\n",
       "</div>"
      ],
      "text/plain": [
       "   user_id        name  age            city subscription_type\n",
       "0        1        Кира   22          Тюмень             ultra\n",
       "1        2   Станислав   31            Омск             ultra\n",
       "2        3     Алексей   20          Москва             ultra\n",
       "3        4  Константин   26  Ростов-на-Дону             ultra\n",
       "4        5       Адель   28            Омск             ultra"
      ]
     },
     "execution_count": 3,
     "metadata": {},
     "output_type": "execute_result"
    }
   ],
   "source": [
    "users.head()"
   ]
  },
  {
   "cell_type": "code",
   "execution_count": 4,
   "id": "4c6c9d78",
   "metadata": {},
   "outputs": [
    {
     "name": "stdout",
     "output_type": "stream",
     "text": [
      "<class 'pandas.core.frame.DataFrame'>\n",
      "RangeIndex: 1565 entries, 0 to 1564\n",
      "Data columns (total 5 columns):\n",
      " #   Column             Non-Null Count  Dtype \n",
      "---  ------             --------------  ----- \n",
      " 0   user_id            1565 non-null   int64 \n",
      " 1   name               1565 non-null   object\n",
      " 2   age                1565 non-null   int64 \n",
      " 3   city               1565 non-null   object\n",
      " 4   subscription_type  1565 non-null   object\n",
      "dtypes: int64(2), object(3)\n",
      "memory usage: 61.3+ KB\n"
     ]
    }
   ],
   "source": [
    "users.info()"
   ]
  },
  {
   "cell_type": "code",
   "execution_count": 5,
   "id": "b680965c",
   "metadata": {},
   "outputs": [
    {
     "data": {
      "text/html": [
       "<div>\n",
       "<style scoped>\n",
       "    .dataframe tbody tr th:only-of-type {\n",
       "        vertical-align: middle;\n",
       "    }\n",
       "\n",
       "    .dataframe tbody tr th {\n",
       "        vertical-align: top;\n",
       "    }\n",
       "\n",
       "    .dataframe thead th {\n",
       "        text-align: right;\n",
       "    }\n",
       "</style>\n",
       "<table border=\"1\" class=\"dataframe\">\n",
       "  <thead>\n",
       "    <tr style=\"text-align: right;\">\n",
       "      <th></th>\n",
       "      <th>user_id</th>\n",
       "      <th>distance</th>\n",
       "      <th>duration</th>\n",
       "      <th>date</th>\n",
       "    </tr>\n",
       "  </thead>\n",
       "  <tbody>\n",
       "    <tr>\n",
       "      <th>0</th>\n",
       "      <td>1</td>\n",
       "      <td>4409.919140</td>\n",
       "      <td>25.599769</td>\n",
       "      <td>2021-01-01</td>\n",
       "    </tr>\n",
       "    <tr>\n",
       "      <th>1</th>\n",
       "      <td>1</td>\n",
       "      <td>2617.592153</td>\n",
       "      <td>15.816871</td>\n",
       "      <td>2021-01-18</td>\n",
       "    </tr>\n",
       "    <tr>\n",
       "      <th>2</th>\n",
       "      <td>1</td>\n",
       "      <td>754.159807</td>\n",
       "      <td>6.232113</td>\n",
       "      <td>2021-04-20</td>\n",
       "    </tr>\n",
       "    <tr>\n",
       "      <th>3</th>\n",
       "      <td>1</td>\n",
       "      <td>2694.783254</td>\n",
       "      <td>18.511000</td>\n",
       "      <td>2021-08-11</td>\n",
       "    </tr>\n",
       "    <tr>\n",
       "      <th>4</th>\n",
       "      <td>1</td>\n",
       "      <td>4028.687306</td>\n",
       "      <td>26.265803</td>\n",
       "      <td>2021-08-28</td>\n",
       "    </tr>\n",
       "  </tbody>\n",
       "</table>\n",
       "</div>"
      ],
      "text/plain": [
       "   user_id     distance   duration        date\n",
       "0        1  4409.919140  25.599769  2021-01-01\n",
       "1        1  2617.592153  15.816871  2021-01-18\n",
       "2        1   754.159807   6.232113  2021-04-20\n",
       "3        1  2694.783254  18.511000  2021-08-11\n",
       "4        1  4028.687306  26.265803  2021-08-28"
      ]
     },
     "execution_count": 5,
     "metadata": {},
     "output_type": "execute_result"
    }
   ],
   "source": [
    "rides.head()"
   ]
  },
  {
   "cell_type": "code",
   "execution_count": 6,
   "id": "050618f2",
   "metadata": {},
   "outputs": [
    {
     "name": "stdout",
     "output_type": "stream",
     "text": [
      "<class 'pandas.core.frame.DataFrame'>\n",
      "RangeIndex: 18068 entries, 0 to 18067\n",
      "Data columns (total 4 columns):\n",
      " #   Column    Non-Null Count  Dtype  \n",
      "---  ------    --------------  -----  \n",
      " 0   user_id   18068 non-null  int64  \n",
      " 1   distance  18068 non-null  float64\n",
      " 2   duration  18068 non-null  float64\n",
      " 3   date      18068 non-null  object \n",
      "dtypes: float64(2), int64(1), object(1)\n",
      "memory usage: 564.8+ KB\n"
     ]
    }
   ],
   "source": [
    "rides.info()"
   ]
  },
  {
   "cell_type": "code",
   "execution_count": 7,
   "id": "1b861f1a",
   "metadata": {},
   "outputs": [
    {
     "data": {
      "text/html": [
       "<div>\n",
       "<style scoped>\n",
       "    .dataframe tbody tr th:only-of-type {\n",
       "        vertical-align: middle;\n",
       "    }\n",
       "\n",
       "    .dataframe tbody tr th {\n",
       "        vertical-align: top;\n",
       "    }\n",
       "\n",
       "    .dataframe thead th {\n",
       "        text-align: right;\n",
       "    }\n",
       "</style>\n",
       "<table border=\"1\" class=\"dataframe\">\n",
       "  <thead>\n",
       "    <tr style=\"text-align: right;\">\n",
       "      <th></th>\n",
       "      <th>subscription_type</th>\n",
       "      <th>minute_price</th>\n",
       "      <th>start_ride_price</th>\n",
       "      <th>subscription_fee</th>\n",
       "    </tr>\n",
       "  </thead>\n",
       "  <tbody>\n",
       "    <tr>\n",
       "      <th>0</th>\n",
       "      <td>free</td>\n",
       "      <td>8</td>\n",
       "      <td>50</td>\n",
       "      <td>0</td>\n",
       "    </tr>\n",
       "    <tr>\n",
       "      <th>1</th>\n",
       "      <td>ultra</td>\n",
       "      <td>6</td>\n",
       "      <td>0</td>\n",
       "      <td>199</td>\n",
       "    </tr>\n",
       "  </tbody>\n",
       "</table>\n",
       "</div>"
      ],
      "text/plain": [
       "  subscription_type  minute_price  start_ride_price  subscription_fee\n",
       "0              free             8                50                 0\n",
       "1             ultra             6                 0               199"
      ]
     },
     "execution_count": 7,
     "metadata": {},
     "output_type": "execute_result"
    }
   ],
   "source": [
    "subs.head()"
   ]
  },
  {
   "cell_type": "code",
   "execution_count": 8,
   "id": "e351a25c",
   "metadata": {},
   "outputs": [
    {
     "name": "stdout",
     "output_type": "stream",
     "text": [
      "<class 'pandas.core.frame.DataFrame'>\n",
      "RangeIndex: 2 entries, 0 to 1\n",
      "Data columns (total 4 columns):\n",
      " #   Column             Non-Null Count  Dtype \n",
      "---  ------             --------------  ----- \n",
      " 0   subscription_type  2 non-null      object\n",
      " 1   minute_price       2 non-null      int64 \n",
      " 2   start_ride_price   2 non-null      int64 \n",
      " 3   subscription_fee   2 non-null      int64 \n",
      "dtypes: int64(3), object(1)\n",
      "memory usage: 192.0+ bytes\n"
     ]
    }
   ],
   "source": [
    "subs.info()"
   ]
  },
  {
   "cell_type": "markdown",
   "id": "007107cd",
   "metadata": {},
   "source": [
    "Данные в читаемом формате, всё понятно. \n",
    "\n",
    "Единственное, колонка с датой в `rides` в неверном формате, исправим это в следующем пункте."
   ]
  },
  {
   "cell_type": "markdown",
   "id": "e95ebca7",
   "metadata": {},
   "source": [
    "## Предобработка данных"
   ]
  },
  {
   "cell_type": "markdown",
   "id": "4fccc662-69d3-44ae-b0d4-99d69c9ca891",
   "metadata": {},
   "source": [
    "### Приведеные данных к нужному формату"
   ]
  },
  {
   "cell_type": "markdown",
   "id": "eab7f0a7",
   "metadata": {},
   "source": [
    "Приводим столбец с датой в нужный формат"
   ]
  },
  {
   "cell_type": "code",
   "execution_count": 9,
   "id": "af6d202c",
   "metadata": {},
   "outputs": [],
   "source": [
    "rides['date'] = pd.to_datetime(rides['date'], format = '%Y-%m-%d')"
   ]
  },
  {
   "cell_type": "markdown",
   "id": "043102ef",
   "metadata": {},
   "source": [
    "Привели данный столбик к нужному формату, проверим."
   ]
  },
  {
   "cell_type": "code",
   "execution_count": 10,
   "id": "69736b46",
   "metadata": {},
   "outputs": [
    {
     "name": "stdout",
     "output_type": "stream",
     "text": [
      "<class 'pandas.core.frame.DataFrame'>\n",
      "RangeIndex: 18068 entries, 0 to 18067\n",
      "Data columns (total 4 columns):\n",
      " #   Column    Non-Null Count  Dtype         \n",
      "---  ------    --------------  -----         \n",
      " 0   user_id   18068 non-null  int64         \n",
      " 1   distance  18068 non-null  float64       \n",
      " 2   duration  18068 non-null  float64       \n",
      " 3   date      18068 non-null  datetime64[ns]\n",
      "dtypes: datetime64[ns](1), float64(2), int64(1)\n",
      "memory usage: 564.8 KB\n"
     ]
    }
   ],
   "source": [
    "rides.info()"
   ]
  },
  {
   "cell_type": "markdown",
   "id": "5305acda",
   "metadata": {},
   "source": [
    "##### Создаем новый столбец с номером месяца"
   ]
  },
  {
   "cell_type": "markdown",
   "id": "7c2d5582",
   "metadata": {},
   "source": [
    "Cоздадим новый столбец в данном датафрейме с номером месяца."
   ]
  },
  {
   "cell_type": "code",
   "execution_count": 11,
   "id": "fe2604b7",
   "metadata": {},
   "outputs": [
    {
     "data": {
      "text/html": [
       "<div>\n",
       "<style scoped>\n",
       "    .dataframe tbody tr th:only-of-type {\n",
       "        vertical-align: middle;\n",
       "    }\n",
       "\n",
       "    .dataframe tbody tr th {\n",
       "        vertical-align: top;\n",
       "    }\n",
       "\n",
       "    .dataframe thead th {\n",
       "        text-align: right;\n",
       "    }\n",
       "</style>\n",
       "<table border=\"1\" class=\"dataframe\">\n",
       "  <thead>\n",
       "    <tr style=\"text-align: right;\">\n",
       "      <th></th>\n",
       "      <th>user_id</th>\n",
       "      <th>distance</th>\n",
       "      <th>duration</th>\n",
       "      <th>date</th>\n",
       "      <th>month</th>\n",
       "    </tr>\n",
       "  </thead>\n",
       "  <tbody>\n",
       "    <tr>\n",
       "      <th>0</th>\n",
       "      <td>1</td>\n",
       "      <td>4409.919140</td>\n",
       "      <td>25.599769</td>\n",
       "      <td>2021-01-01</td>\n",
       "      <td>1</td>\n",
       "    </tr>\n",
       "    <tr>\n",
       "      <th>1</th>\n",
       "      <td>1</td>\n",
       "      <td>2617.592153</td>\n",
       "      <td>15.816871</td>\n",
       "      <td>2021-01-18</td>\n",
       "      <td>1</td>\n",
       "    </tr>\n",
       "    <tr>\n",
       "      <th>2</th>\n",
       "      <td>1</td>\n",
       "      <td>754.159807</td>\n",
       "      <td>6.232113</td>\n",
       "      <td>2021-04-20</td>\n",
       "      <td>4</td>\n",
       "    </tr>\n",
       "    <tr>\n",
       "      <th>3</th>\n",
       "      <td>1</td>\n",
       "      <td>2694.783254</td>\n",
       "      <td>18.511000</td>\n",
       "      <td>2021-08-11</td>\n",
       "      <td>8</td>\n",
       "    </tr>\n",
       "    <tr>\n",
       "      <th>4</th>\n",
       "      <td>1</td>\n",
       "      <td>4028.687306</td>\n",
       "      <td>26.265803</td>\n",
       "      <td>2021-08-28</td>\n",
       "      <td>8</td>\n",
       "    </tr>\n",
       "  </tbody>\n",
       "</table>\n",
       "</div>"
      ],
      "text/plain": [
       "   user_id     distance   duration       date  month\n",
       "0        1  4409.919140  25.599769 2021-01-01      1\n",
       "1        1  2617.592153  15.816871 2021-01-18      1\n",
       "2        1   754.159807   6.232113 2021-04-20      4\n",
       "3        1  2694.783254  18.511000 2021-08-11      8\n",
       "4        1  4028.687306  26.265803 2021-08-28      8"
      ]
     },
     "execution_count": 11,
     "metadata": {},
     "output_type": "execute_result"
    }
   ],
   "source": [
    "rides['month'] = rides['date'].dt.month\n",
    "rides.head()"
   ]
  },
  {
   "cell_type": "code",
   "execution_count": 12,
   "id": "1fab18d3",
   "metadata": {},
   "outputs": [
    {
     "data": {
      "text/plain": [
       "array([2021])"
      ]
     },
     "execution_count": 12,
     "metadata": {},
     "output_type": "execute_result"
    }
   ],
   "source": [
    "rides['date'].dt.year.unique()"
   ]
  },
  {
   "cell_type": "markdown",
   "id": "815e9b24",
   "metadata": {},
   "source": [
    "### Поиск пропусков"
   ]
  },
  {
   "cell_type": "code",
   "execution_count": 13,
   "id": "453b4ee6",
   "metadata": {},
   "outputs": [
    {
     "data": {
      "text/plain": [
       "user_id              0\n",
       "name                 0\n",
       "age                  0\n",
       "city                 0\n",
       "subscription_type    0\n",
       "dtype: int64"
      ]
     },
     "execution_count": 13,
     "metadata": {},
     "output_type": "execute_result"
    }
   ],
   "source": [
    "users.isna().sum()"
   ]
  },
  {
   "cell_type": "code",
   "execution_count": 14,
   "id": "5a81141f",
   "metadata": {},
   "outputs": [
    {
     "data": {
      "text/plain": [
       "user_id     0\n",
       "distance    0\n",
       "duration    0\n",
       "date        0\n",
       "month       0\n",
       "dtype: int64"
      ]
     },
     "execution_count": 14,
     "metadata": {},
     "output_type": "execute_result"
    }
   ],
   "source": [
    "rides.isna().sum()"
   ]
  },
  {
   "cell_type": "code",
   "execution_count": 15,
   "id": "6de56df4",
   "metadata": {},
   "outputs": [
    {
     "data": {
      "text/plain": [
       "subscription_type    0\n",
       "minute_price         0\n",
       "start_ride_price     0\n",
       "subscription_fee     0\n",
       "dtype: int64"
      ]
     },
     "execution_count": 15,
     "metadata": {},
     "output_type": "execute_result"
    }
   ],
   "source": [
    "subs.isna().sum()"
   ]
  },
  {
   "cell_type": "markdown",
   "id": "e85f7902",
   "metadata": {},
   "source": [
    "Отлично, в данных отсутствуют пропуски. \n",
    "\n",
    "Теперь проверим на наличие дублирующихся строк."
   ]
  },
  {
   "cell_type": "markdown",
   "id": "0500dbec-0895-46db-87a6-60451b9d5968",
   "metadata": {},
   "source": [
    "### Поиск дубликатов"
   ]
  },
  {
   "cell_type": "code",
   "execution_count": 16,
   "id": "90246f3a",
   "metadata": {},
   "outputs": [
    {
     "data": {
      "text/plain": [
       "31"
      ]
     },
     "execution_count": 16,
     "metadata": {},
     "output_type": "execute_result"
    }
   ],
   "source": [
    "users.duplicated().sum()"
   ]
  },
  {
   "cell_type": "markdown",
   "id": "0c35b3d2",
   "metadata": {},
   "source": [
    "В датафрейме `users` есть дублирующиеся строчки, избавимся от них.\n",
    "\n",
    "В остальных двух таблицах таковых не имеется."
   ]
  },
  {
   "cell_type": "code",
   "execution_count": 17,
   "id": "f5f8880a",
   "metadata": {},
   "outputs": [],
   "source": [
    "users = users.drop_duplicates()\n",
    "users = users.reset_index(drop=True)"
   ]
  },
  {
   "cell_type": "code",
   "execution_count": 18,
   "id": "212e0a26",
   "metadata": {},
   "outputs": [
    {
     "data": {
      "text/plain": [
       "0"
      ]
     },
     "execution_count": 18,
     "metadata": {},
     "output_type": "execute_result"
    }
   ],
   "source": [
    "users.duplicated().sum()"
   ]
  },
  {
   "cell_type": "markdown",
   "id": "1ee26381",
   "metadata": {},
   "source": [
    "Данные удалены, всё хорошо."
   ]
  },
  {
   "cell_type": "markdown",
   "id": "212593c7",
   "metadata": {},
   "source": [
    "## Исследовательский анализ данных"
   ]
  },
  {
   "cell_type": "markdown",
   "id": "aa1abb4d",
   "metadata": {},
   "source": [
    "### Частота встречаемости городов"
   ]
  },
  {
   "cell_type": "code",
   "execution_count": 19,
   "id": "5f42549e",
   "metadata": {},
   "outputs": [
    {
     "data": {
      "text/plain": [
       "city\n",
       "Пятигорск         219\n",
       "Екатеринбург      204\n",
       "Ростов-на-Дону    198\n",
       "Краснодар         193\n",
       "Сочи              189\n",
       "Омск              183\n",
       "Тюмень            180\n",
       "Москва            168\n",
       "dtype: int64"
      ]
     },
     "execution_count": 19,
     "metadata": {},
     "output_type": "execute_result"
    }
   ],
   "source": [
    "popular_cities = users.value_counts('city')\n",
    "popular_cities"
   ]
  },
  {
   "cell_type": "code",
   "execution_count": 20,
   "id": "5c23e336",
   "metadata": {},
   "outputs": [
    {
     "data": {
      "text/plain": [
       "Text(0, 0.5, 'Количество пользователей')"
      ]
     },
     "execution_count": 20,
     "metadata": {},
     "output_type": "execute_result"
    },
    {
     "data": {
      "image/png": "[encoded data removed]",
      "text/plain": [
       "<Figure size 1080x360 with 1 Axes>"
      ]
     },
     "metadata": {
      "needs_background": "light"
     },
     "output_type": "display_data"
    }
   ],
   "source": [
    "(\n",
    "    popular_cities\n",
    "    .plot(kind='bar', grid=True, figsize=(15, 5), legend=False, rot=0, title='Частота встречаемости городов')\n",
    ")\n",
    "plt.xlabel('Город')\n",
    "plt.ylabel('Количество пользователей')"
   ]
  },
  {
   "cell_type": "markdown",
   "id": "e76ec19b",
   "metadata": {},
   "source": [
    "Сервис **GoFast** наиболее популярен в Пятигорске и менее - в Москве."
   ]
  },
  {
   "cell_type": "markdown",
   "id": "9db1561a",
   "metadata": {},
   "source": [
    "### Соотношение пользователей с подпиской и без подписки"
   ]
  },
  {
   "cell_type": "code",
   "execution_count": 21,
   "id": "c6e0915b",
   "metadata": {
    "scrolled": true
   },
   "outputs": [
    {
     "data": {
      "text/plain": [
       "subscription_type\n",
       "free     835\n",
       "ultra    699\n",
       "dtype: int64"
      ]
     },
     "execution_count": 21,
     "metadata": {},
     "output_type": "execute_result"
    }
   ],
   "source": [
    "users_ratio = users.value_counts('subscription_type')\n",
    "users_ratio"
   ]
  },
  {
   "cell_type": "code",
   "execution_count": 22,
   "id": "38f6755e",
   "metadata": {},
   "outputs": [
    {
     "data": {
      "text/plain": [
       "Text(0, 0.5, 'Подписка')"
      ]
     },
     "execution_count": 22,
     "metadata": {},
     "output_type": "execute_result"
    },
    {
     "data": {
      "image/png": "[encoded data removed]",
      "text/plain": [
       "<Figure size 576x576 with 1 Axes>"
      ]
     },
     "metadata": {},
     "output_type": "display_data"
    }
   ],
   "source": [
    "users_ratio.plot(kind='pie', figsize=(8,8), autopct= \"%.2f%%\", title='Соотношение пользователей с подпиской и без подписки')\n",
    "plt.ylabel('Подписка')"
   ]
  },
  {
   "cell_type": "markdown",
   "id": "a8fa533b",
   "metadata": {},
   "source": [
    "У сервиса **GoFast** чуть менее половины пользователей имеют месячную подписку. Это отличный результат!"
   ]
  },
  {
   "cell_type": "markdown",
   "id": "10ccc859",
   "metadata": {},
   "source": [
    "### Возраст пользователей"
   ]
  },
  {
   "cell_type": "code",
   "execution_count": 23,
   "id": "8f0284ec",
   "metadata": {},
   "outputs": [
    {
     "data": {
      "text/plain": [
       "25.0"
      ]
     },
     "execution_count": 23,
     "metadata": {},
     "output_type": "execute_result"
    }
   ],
   "source": [
    "users['age'].median()"
   ]
  },
  {
   "cell_type": "markdown",
   "id": "2affda5d",
   "metadata": {},
   "source": [
    "Медианный возраст пользователя сервиса - 25 лет."
   ]
  },
  {
   "cell_type": "code",
   "execution_count": 24,
   "id": "b7fdf3bf",
   "metadata": {},
   "outputs": [
    {
     "data": {
      "text/plain": [
       "Text(0, 0.5, 'Количество пользователей')"
      ]
     },
     "execution_count": 24,
     "metadata": {},
     "output_type": "execute_result"
    },
    {
     "data": {
      "image/png": "[encoded data removed]",
      "text/plain": [
       "<Figure size 1080x360 with 1 Axes>"
      ]
     },
     "metadata": {
      "needs_background": "light"
     },
     "output_type": "display_data"
    }
   ],
   "source": [
    "age_ratio = (\n",
    "    users\n",
    "    .value_counts('age')\n",
    "    .sort_index()\n",
    "    .plot(kind='bar', grid=True, figsize=(15, 5), legend=False, rot=0, title='Частота возрастов пользователей')\n",
    ")\n",
    "plt.xlabel('Возраст')\n",
    "plt.ylabel('Количество пользователей')"
   ]
  },
  {
   "cell_type": "markdown",
   "id": "eb9fa542",
   "metadata": {},
   "source": [
    "Из диаграммы видно, что сервис наиболее популярен у молодых людей и девушек возрастом 22-28 лет."
   ]
  },
  {
   "cell_type": "markdown",
   "id": "3b6abe92",
   "metadata": {},
   "source": [
    "### Расстояние, которое пользователь преодолел за одну поездку"
   ]
  },
  {
   "cell_type": "code",
   "execution_count": 25,
   "id": "8875bcd9",
   "metadata": {},
   "outputs": [
    {
     "data": {
      "text/plain": [
       "Text(0, 0.5, 'Частота')"
      ]
     },
     "execution_count": 25,
     "metadata": {},
     "output_type": "execute_result"
    },
    {
     "data": {
      "image/png": "[encoded data removed]",
      "text/plain": [
       "<Figure size 1080x360 with 1 Axes>"
      ]
     },
     "metadata": {
      "needs_background": "light"
     },
     "output_type": "display_data"
    }
   ],
   "source": [
    "user_distance = (\n",
    "    rides['distance']\n",
    "    .plot(kind='hist', bins=350, figsize=(15, 5), grid=True, title='Расстояние, преодолеваемое пользователем за одну поездку')\n",
    ")\n",
    "plt.xlabel('Расстояние в метрах')\n",
    "plt.ylabel('Частота')"
   ]
  },
  {
   "cell_type": "markdown",
   "id": "89e5170a",
   "metadata": {},
   "source": [
    "Чаще всего пользователи проезжают на самокатах сервиса порядка 2500-3500 метров."
   ]
  },
  {
   "cell_type": "markdown",
   "id": "9c0eb955",
   "metadata": {},
   "source": [
    "### Продолжительность поездок"
   ]
  },
  {
   "cell_type": "code",
   "execution_count": 26,
   "id": "d12136ee",
   "metadata": {},
   "outputs": [
    {
     "data": {
      "text/plain": [
       "Text(0, 0.5, 'Частота')"
      ]
     },
     "execution_count": 26,
     "metadata": {},
     "output_type": "execute_result"
    },
    {
     "data": {
      "image/png": "[encoded data removed]",
      "text/plain": [
       "<Figure size 1080x360 with 1 Axes>"
      ]
     },
     "metadata": {
      "needs_background": "light"
     },
     "output_type": "display_data"
    }
   ],
   "source": [
    "rides_duration = (\n",
    "    rides['duration']\n",
    "    .plot(kind='hist', bins=100, figsize=(15, 5), grid=True, title='Продолжительность поездок')\n",
    ")\n",
    "plt.xlabel('Длительность в минутах')\n",
    "plt.ylabel('Частота')"
   ]
  },
  {
   "cell_type": "markdown",
   "id": "6354af98",
   "metadata": {},
   "source": [
    "Типичная длительность поездки в сервисе **GoFast** составляет 15-20 минут."
   ]
  },
  {
   "cell_type": "code",
   "execution_count": 27,
   "id": "3dc4eba1",
   "metadata": {},
   "outputs": [
    {
     "data": {
      "text/plain": [
       "Text(0, 0.5, 'Частота')"
      ]
     },
     "execution_count": 27,
     "metadata": {},
     "output_type": "execute_result"
    },
    {
     "data": {
      "image/png": "[encoded data removed]",
      "text/plain": [
       "<Figure size 1080x360 with 1 Axes>"
      ]
     },
     "metadata": {
      "needs_background": "light"
     },
     "output_type": "display_data"
    }
   ],
   "source": [
    "rides_duration = (\n",
    "    rides.query('0 < duration < 5')\n",
    "    .plot(y='duration', kind='hist', bins=100, figsize=(15, 5), grid=True, title='Продолжительность поездок')\n",
    ")\n",
    "plt.xlabel('Длительность в минутах')\n",
    "plt.ylabel('Частота')"
   ]
  },
  {
   "cell_type": "code",
   "execution_count": 28,
   "id": "809328cc",
   "metadata": {},
   "outputs": [
    {
     "data": {
      "image/png": "[encoded data removed]",
      "text/plain": [
       "<Figure size 432x288 with 1 Axes>"
      ]
     },
     "metadata": {
      "needs_background": "light"
     },
     "output_type": "display_data"
    }
   ],
   "source": [
    "zero_duration = (\n",
    "    rides\n",
    "    .query('duration <= 1')\n",
    "    .plot(x='distance', y='duration', kind='scatter')\n",
    ")"
   ]
  },
  {
   "cell_type": "markdown",
   "id": "77d45571",
   "metadata": {},
   "source": [
    "**ВЫВОД ПО ПУНКТУ:**\n",
    "\n",
    "* Сервис наиболее популярен в Пятигорске, наименее - в Москве;\n",
    "\n",
    "* Соотношение пользователей с подпиской и без подписки - 45% к 55%;\n",
    "\n",
    "* **GoFast** пользуются преимущественно молодые люди от 20 до 30 лет;\n",
    "\n",
    "* Медианная поездка составляет около 3100 метров;\n",
    "\n",
    "* Типичная длительность поездки - 15-20 минут. Есть всплеск значений у нуля, но это можно объяснить стартом и резким завершением поездки по причине списания денег за старт."
   ]
  },
  {
   "cell_type": "markdown",
   "id": "4ef51331",
   "metadata": {},
   "source": [
    "## Объединение данных"
   ]
  },
  {
   "cell_type": "markdown",
   "id": "60aa4088",
   "metadata": {},
   "source": [
    "### Объединяем таблицы в одну"
   ]
  },
  {
   "cell_type": "code",
   "execution_count": 29,
   "id": "4d5d1453",
   "metadata": {},
   "outputs": [
    {
     "data": {
      "text/plain": [
       "18068"
      ]
     },
     "execution_count": 29,
     "metadata": {},
     "output_type": "execute_result"
    }
   ],
   "source": [
    "data = users.merge(rides, on='user_id')\n",
    "data.shape[0]"
   ]
  },
  {
   "cell_type": "code",
   "execution_count": 30,
   "id": "820a1a44",
   "metadata": {},
   "outputs": [
    {
     "data": {
      "text/html": [
       "<div>\n",
       "<style scoped>\n",
       "    .dataframe tbody tr th:only-of-type {\n",
       "        vertical-align: middle;\n",
       "    }\n",
       "\n",
       "    .dataframe tbody tr th {\n",
       "        vertical-align: top;\n",
       "    }\n",
       "\n",
       "    .dataframe thead th {\n",
       "        text-align: right;\n",
       "    }\n",
       "</style>\n",
       "<table border=\"1\" class=\"dataframe\">\n",
       "  <thead>\n",
       "    <tr style=\"text-align: right;\">\n",
       "      <th></th>\n",
       "      <th>user_id</th>\n",
       "      <th>name</th>\n",
       "      <th>age</th>\n",
       "      <th>city</th>\n",
       "      <th>subscription_type</th>\n",
       "      <th>distance</th>\n",
       "      <th>duration</th>\n",
       "      <th>date</th>\n",
       "      <th>month</th>\n",
       "      <th>minute_price</th>\n",
       "      <th>start_ride_price</th>\n",
       "      <th>subscription_fee</th>\n",
       "    </tr>\n",
       "  </thead>\n",
       "  <tbody>\n",
       "    <tr>\n",
       "      <th>0</th>\n",
       "      <td>1</td>\n",
       "      <td>Кира</td>\n",
       "      <td>22</td>\n",
       "      <td>Тюмень</td>\n",
       "      <td>ultra</td>\n",
       "      <td>4409.919140</td>\n",
       "      <td>25.599769</td>\n",
       "      <td>2021-01-01</td>\n",
       "      <td>1</td>\n",
       "      <td>6</td>\n",
       "      <td>0</td>\n",
       "      <td>199</td>\n",
       "    </tr>\n",
       "    <tr>\n",
       "      <th>1</th>\n",
       "      <td>1</td>\n",
       "      <td>Кира</td>\n",
       "      <td>22</td>\n",
       "      <td>Тюмень</td>\n",
       "      <td>ultra</td>\n",
       "      <td>2617.592153</td>\n",
       "      <td>15.816871</td>\n",
       "      <td>2021-01-18</td>\n",
       "      <td>1</td>\n",
       "      <td>6</td>\n",
       "      <td>0</td>\n",
       "      <td>199</td>\n",
       "    </tr>\n",
       "    <tr>\n",
       "      <th>2</th>\n",
       "      <td>1</td>\n",
       "      <td>Кира</td>\n",
       "      <td>22</td>\n",
       "      <td>Тюмень</td>\n",
       "      <td>ultra</td>\n",
       "      <td>754.159807</td>\n",
       "      <td>6.232113</td>\n",
       "      <td>2021-04-20</td>\n",
       "      <td>4</td>\n",
       "      <td>6</td>\n",
       "      <td>0</td>\n",
       "      <td>199</td>\n",
       "    </tr>\n",
       "    <tr>\n",
       "      <th>3</th>\n",
       "      <td>1</td>\n",
       "      <td>Кира</td>\n",
       "      <td>22</td>\n",
       "      <td>Тюмень</td>\n",
       "      <td>ultra</td>\n",
       "      <td>2694.783254</td>\n",
       "      <td>18.511000</td>\n",
       "      <td>2021-08-11</td>\n",
       "      <td>8</td>\n",
       "      <td>6</td>\n",
       "      <td>0</td>\n",
       "      <td>199</td>\n",
       "    </tr>\n",
       "    <tr>\n",
       "      <th>4</th>\n",
       "      <td>1</td>\n",
       "      <td>Кира</td>\n",
       "      <td>22</td>\n",
       "      <td>Тюмень</td>\n",
       "      <td>ultra</td>\n",
       "      <td>4028.687306</td>\n",
       "      <td>26.265803</td>\n",
       "      <td>2021-08-28</td>\n",
       "      <td>8</td>\n",
       "      <td>6</td>\n",
       "      <td>0</td>\n",
       "      <td>199</td>\n",
       "    </tr>\n",
       "  </tbody>\n",
       "</table>\n",
       "</div>"
      ],
      "text/plain": [
       "   user_id  name  age    city subscription_type     distance   duration  \\\n",
       "0        1  Кира   22  Тюмень             ultra  4409.919140  25.599769   \n",
       "1        1  Кира   22  Тюмень             ultra  2617.592153  15.816871   \n",
       "2        1  Кира   22  Тюмень             ultra   754.159807   6.232113   \n",
       "3        1  Кира   22  Тюмень             ultra  2694.783254  18.511000   \n",
       "4        1  Кира   22  Тюмень             ultra  4028.687306  26.265803   \n",
       "\n",
       "        date  month  minute_price  start_ride_price  subscription_fee  \n",
       "0 2021-01-01      1             6                 0               199  \n",
       "1 2021-01-18      1             6                 0               199  \n",
       "2 2021-04-20      4             6                 0               199  \n",
       "3 2021-08-11      8             6                 0               199  \n",
       "4 2021-08-28      8             6                 0               199  "
      ]
     },
     "execution_count": 30,
     "metadata": {},
     "output_type": "execute_result"
    }
   ],
   "source": [
    "data = data.merge(subs, on='subscription_type')\n",
    "data.head()"
   ]
  },
  {
   "cell_type": "code",
   "execution_count": 31,
   "id": "a7759d14",
   "metadata": {},
   "outputs": [
    {
     "data": {
      "text/plain": [
       "18068"
      ]
     },
     "execution_count": 31,
     "metadata": {},
     "output_type": "execute_result"
    }
   ],
   "source": [
    "data.shape[0]"
   ]
  },
  {
   "cell_type": "markdown",
   "id": "1f7a5e34",
   "metadata": {},
   "source": [
    "Таблицы объединили, никакие данные не потеряли."
   ]
  },
  {
   "cell_type": "markdown",
   "id": "1abcfe6e",
   "metadata": {},
   "source": [
    "### Создаем ещё два дополнительных датафрейма"
   ]
  },
  {
   "cell_type": "markdown",
   "id": "e09b9396",
   "metadata": {},
   "source": [
    "#### Таблица с пользователями платной подписки"
   ]
  },
  {
   "cell_type": "code",
   "execution_count": 32,
   "id": "f50e88fe",
   "metadata": {},
   "outputs": [
    {
     "name": "stdout",
     "output_type": "stream",
     "text": [
      "<class 'pandas.core.frame.DataFrame'>\n",
      "Int64Index: 6500 entries, 0 to 6499\n",
      "Data columns (total 12 columns):\n",
      " #   Column             Non-Null Count  Dtype         \n",
      "---  ------             --------------  -----         \n",
      " 0   user_id            6500 non-null   int64         \n",
      " 1   name               6500 non-null   object        \n",
      " 2   age                6500 non-null   int64         \n",
      " 3   city               6500 non-null   object        \n",
      " 4   subscription_type  6500 non-null   object        \n",
      " 5   distance           6500 non-null   float64       \n",
      " 6   duration           6500 non-null   float64       \n",
      " 7   date               6500 non-null   datetime64[ns]\n",
      " 8   month              6500 non-null   int64         \n",
      " 9   minute_price       6500 non-null   int64         \n",
      " 10  start_ride_price   6500 non-null   int64         \n",
      " 11  subscription_fee   6500 non-null   int64         \n",
      "dtypes: datetime64[ns](1), float64(2), int64(6), object(3)\n",
      "memory usage: 660.2+ KB\n"
     ]
    }
   ],
   "source": [
    "ultras = data[data['subscription_type'] == 'ultra']\n",
    "ultras.info()"
   ]
  },
  {
   "cell_type": "markdown",
   "id": "579587e9",
   "metadata": {},
   "source": [
    "#### Таблица с пользователями без подписки"
   ]
  },
  {
   "cell_type": "code",
   "execution_count": 33,
   "id": "61408524",
   "metadata": {},
   "outputs": [
    {
     "name": "stdout",
     "output_type": "stream",
     "text": [
      "<class 'pandas.core.frame.DataFrame'>\n",
      "Int64Index: 11568 entries, 6500 to 18067\n",
      "Data columns (total 12 columns):\n",
      " #   Column             Non-Null Count  Dtype         \n",
      "---  ------             --------------  -----         \n",
      " 0   user_id            11568 non-null  int64         \n",
      " 1   name               11568 non-null  object        \n",
      " 2   age                11568 non-null  int64         \n",
      " 3   city               11568 non-null  object        \n",
      " 4   subscription_type  11568 non-null  object        \n",
      " 5   distance           11568 non-null  float64       \n",
      " 6   duration           11568 non-null  float64       \n",
      " 7   date               11568 non-null  datetime64[ns]\n",
      " 8   month              11568 non-null  int64         \n",
      " 9   minute_price       11568 non-null  int64         \n",
      " 10  start_ride_price   11568 non-null  int64         \n",
      " 11  subscription_fee   11568 non-null  int64         \n",
      "dtypes: datetime64[ns](1), float64(2), int64(6), object(3)\n",
      "memory usage: 1.1+ MB\n"
     ]
    }
   ],
   "source": [
    "frees = data[data['subscription_type'] == 'free']\n",
    "frees.info()"
   ]
  },
  {
   "cell_type": "markdown",
   "id": "778626de",
   "metadata": {},
   "source": [
    "В сумме данные две таблицы дают 18068: 11568 + 6500. Значит, никакие данные не утеряны."
   ]
  },
  {
   "cell_type": "markdown",
   "id": "4c1fd923",
   "metadata": {},
   "source": [
    "### Визуализируем информацию о расстоянии и времени поездок для пользователей обеих категорий"
   ]
  },
  {
   "cell_type": "markdown",
   "id": "c08eddca",
   "metadata": {},
   "source": [
    "#### Расстояние и время поездок для пользователей с подпиской"
   ]
  },
  {
   "cell_type": "code",
   "execution_count": 34,
   "id": "b23e23f1",
   "metadata": {},
   "outputs": [
    {
     "data": {
      "text/plain": [
       "Text(0, 0.5, 'Количество поездок')"
      ]
     },
     "execution_count": 34,
     "metadata": {},
     "output_type": "execute_result"
    },
    {
     "data": {
      "image/png": "[encoded data removed]",
      "text/plain": [
       "<Figure size 1080x360 with 1 Axes>"
      ]
     },
     "metadata": {
      "needs_background": "light"
     },
     "output_type": "display_data"
    }
   ],
   "source": [
    "ultras_distance = (\n",
    "    ultras\n",
    "    .plot(y='distance', kind='hist', bins=100, figsize=(15,5), grid=True, title='Расстояние поездки для пользователей с подпиской')\n",
    ")\n",
    "plt.xlabel('Расстояние в метрах')\n",
    "plt.ylabel('Количество поездок')"
   ]
  },
  {
   "cell_type": "code",
   "execution_count": 35,
   "id": "85fb42da",
   "metadata": {},
   "outputs": [
    {
     "data": {
      "text/plain": [
       "3148.6372291760854"
      ]
     },
     "execution_count": 35,
     "metadata": {},
     "output_type": "execute_result"
    }
   ],
   "source": [
    "ultras['distance'].median()"
   ]
  },
  {
   "cell_type": "markdown",
   "id": "5f65cea2",
   "metadata": {},
   "source": [
    "**Пользователи с подпиской чаще всего ездят на расстояние от 2500 до 3500 метров. Медианным значением является 3148 метров.**"
   ]
  },
  {
   "cell_type": "code",
   "execution_count": 36,
   "id": "004945f8",
   "metadata": {},
   "outputs": [
    {
     "data": {
      "text/plain": [
       "Text(0, 0.5, 'Количество поездок')"
      ]
     },
     "execution_count": 36,
     "metadata": {},
     "output_type": "execute_result"
    },
    {
     "data": {
      "image/png": "[encoded data removed]",
      "text/plain": [
       "<Figure size 1080x360 with 1 Axes>"
      ]
     },
     "metadata": {
      "needs_background": "light"
     },
     "output_type": "display_data"
    }
   ],
   "source": [
    "ultras_duration = (\n",
    "    ultras\n",
    "    .plot(y='duration', kind='hist', bins=100, figsize=(15,5), grid=True, title='Время поездки для пользователей с подпиской')\n",
    ")\n",
    "plt.xlabel('Время в минутах')\n",
    "plt.ylabel('Количество поездок')"
   ]
  },
  {
   "cell_type": "code",
   "execution_count": 37,
   "id": "b7fa568c",
   "metadata": {},
   "outputs": [
    {
     "data": {
      "text/plain": [
       "18.17815320055055"
      ]
     },
     "execution_count": 37,
     "metadata": {},
     "output_type": "execute_result"
    }
   ],
   "source": [
    "ultras['duration'].median()"
   ]
  },
  {
   "cell_type": "markdown",
   "id": "0f87e52d",
   "metadata": {},
   "source": [
    "**Типичная длительность поездки пользователей с подпиской составляет от 13 до 22 минут. Медианным значением является 18 минут.**"
   ]
  },
  {
   "cell_type": "markdown",
   "id": "1aeec069",
   "metadata": {},
   "source": [
    "#### Расстояние и время поездок для пользователей без подписки"
   ]
  },
  {
   "cell_type": "code",
   "execution_count": 38,
   "id": "f9298cb7",
   "metadata": {},
   "outputs": [
    {
     "data": {
      "text/plain": [
       "Text(0, 0.5, 'Количество поездок')"
      ]
     },
     "execution_count": 38,
     "metadata": {},
     "output_type": "execute_result"
    },
    {
     "data": {
      "image/png": "[encoded data removed]",
      "text/plain": [
       "<Figure size 1080x360 with 1 Axes>"
      ]
     },
     "metadata": {
      "needs_background": "light"
     },
     "output_type": "display_data"
    }
   ],
   "source": [
    "frees_distance = (\n",
    "    frees\n",
    "    .plot(y='distance', kind='hist', bins=100, figsize=(15,5), grid=True, title='Расстояние поездки для пользователей без подписки')\n",
    ")\n",
    "plt.xlabel('Расстояние в метрах')\n",
    "plt.ylabel('Количество поездок')"
   ]
  },
  {
   "cell_type": "code",
   "execution_count": 39,
   "id": "713d9fc9",
   "metadata": {},
   "outputs": [
    {
     "data": {
      "text/plain": [
       "3114.648464847295"
      ]
     },
     "execution_count": 39,
     "metadata": {},
     "output_type": "execute_result"
    }
   ],
   "source": [
    "frees['distance'].median()"
   ]
  },
  {
   "cell_type": "markdown",
   "id": "82905fdd",
   "metadata": {},
   "source": [
    "**График расстояния поездки для пользователей без подписки более плавный с правой стороны, нет нетипичного взлета поездок на 4 километрах. Типичная дальность поездки составляет 2000-5000 метров, разброс довольно большой. Медианное расстояние поездки составляет 3114 метра.**"
   ]
  },
  {
   "cell_type": "code",
   "execution_count": 40,
   "id": "bd85df85",
   "metadata": {},
   "outputs": [
    {
     "data": {
      "text/plain": [
       "Text(0, 0.5, 'Количество поездок')"
      ]
     },
     "execution_count": 40,
     "metadata": {},
     "output_type": "execute_result"
    },
    {
     "data": {
      "image/png": "[encoded data removed]",
      "text/plain": [
       "<Figure size 1080x360 with 1 Axes>"
      ]
     },
     "metadata": {
      "needs_background": "light"
     },
     "output_type": "display_data"
    }
   ],
   "source": [
    "frees_duration = (\n",
    "    frees\n",
    "    .plot(y='duration', kind='hist', bins=100, figsize=(15,5), grid=True, title='Время поездки для пользователей без подписки')\n",
    ")\n",
    "plt.xlabel('Время в минутах')\n",
    "plt.ylabel('Количество поездок')"
   ]
  },
  {
   "cell_type": "code",
   "execution_count": 41,
   "id": "5d802923",
   "metadata": {},
   "outputs": [
    {
     "data": {
      "text/plain": [
       "17.326890226082043"
      ]
     },
     "execution_count": 41,
     "metadata": {},
     "output_type": "execute_result"
    }
   ],
   "source": [
    "frees['duration'].median()"
   ]
  },
  {
   "cell_type": "markdown",
   "id": "fae9f4c8",
   "metadata": {},
   "source": [
    "**График без резких взлетов, более плавный, но и данных у нас почти в 2 раза больше, чем по пользователям с подпиской. Медианное значение составляет 17 минут.**"
   ]
  },
  {
   "cell_type": "markdown",
   "id": "87d11791",
   "metadata": {},
   "source": [
    "Совместим обе категории пользователей на одном графике. Сначала расстояние"
   ]
  },
  {
   "cell_type": "code",
   "execution_count": 42,
   "id": "db700ac3",
   "metadata": {},
   "outputs": [
    {
     "data": {
      "image/png": "[encoded data removed]",
      "text/plain": [
       "<Figure size 1080x360 with 1 Axes>"
      ]
     },
     "metadata": {
      "needs_background": "light"
     },
     "output_type": "display_data"
    }
   ],
   "source": [
    "(\n",
    "    ultras['distance']\n",
    "    .hist(bins=100, figsize=(15,5), alpha=0.5, grid=True, label = 'ultra')\n",
    ")   \n",
    "(\n",
    "    frees['distance']\n",
    "    .hist(bins=100, figsize=(15,5), alpha=0.5, grid=True, label = 'free')\n",
    ")\n",
    "\n",
    "plt.xlabel('Расстояние в метрах')\n",
    "plt.ylabel('Количество поездок')\n",
    "plt.title('Совмещенные гистограммы обеих категорий пользователей сервиса по пройденному расстоянию')\n",
    "plt.legend()\n",
    "plt.show()"
   ]
  },
  {
   "cell_type": "markdown",
   "id": "e7f171d2",
   "metadata": {},
   "source": [
    "Теперь длительность поездки."
   ]
  },
  {
   "cell_type": "code",
   "execution_count": 43,
   "id": "1ca5ae38",
   "metadata": {},
   "outputs": [
    {
     "data": {
      "image/png": "[encoded data removed]",
      "text/plain": [
       "<Figure size 1080x360 with 1 Axes>"
      ]
     },
     "metadata": {
      "needs_background": "light"
     },
     "output_type": "display_data"
    }
   ],
   "source": [
    "(\n",
    "    ultras['duration']\n",
    "    .hist(bins=100, figsize=(15,5), alpha=0.5, grid=True, label = 'ultra')\n",
    ")   \n",
    "(\n",
    "    frees['duration']\n",
    "    .hist(bins=100, figsize=(15,5), alpha=0.5, grid=True, label = 'free')\n",
    ")\n",
    "\n",
    "plt.xlabel('Время в минутах')\n",
    "plt.ylabel('Количество поездок')\n",
    "plt.title('Совмещенные гистограммы обеих категорий пользователей сервиса по длительности поездки')\n",
    "plt.legend()\n",
    "plt.show()"
   ]
  },
  {
   "cell_type": "markdown",
   "id": "75524a77",
   "metadata": {},
   "source": [
    "**ВЫВОД ПО ПУНКТУ:**\n",
    "\n",
    "*Расстрояние поездки:*\n",
    "\n",
    "Для пользователей с подпиской она более однозначна, в то время как для пользователей без подписки разброс большой. Однако, медианные значения фактически равны: 3148 метра против 3144 метра.\n",
    "\n",
    "*Длительность поездки:*\n",
    "\n",
    "Опять же, графики похожи. Для пользователей с подпиской можно выделить диапазон, без подписки - нет. Медианные значения отличаются на почти на минуту. Также, обратим внимание на взлет окончания поездок у пользователей без подписки на первой минуте. Моё предположение - люди видят, что за старт снимают 50 рублей, расстраиваются и заканчивают поездку."
   ]
  },
  {
   "cell_type": "markdown",
   "id": "402d620f",
   "metadata": {},
   "source": [
    "## Подсчёт выручки"
   ]
  },
  {
   "cell_type": "markdown",
   "id": "968835ce",
   "metadata": {},
   "source": [
    "### Агрегация данных"
   ]
  },
  {
   "cell_type": "markdown",
   "id": "5679107a",
   "metadata": {},
   "source": [
    "Для корректной работы с данными округлим продолжительность каждой поездки пользователя до целых чисел"
   ]
  },
  {
   "cell_type": "code",
   "execution_count": 44,
   "id": "68791c40",
   "metadata": {},
   "outputs": [],
   "source": [
    "data['duration'] = np.ceil(data['duration'])"
   ]
  },
  {
   "cell_type": "code",
   "execution_count": 45,
   "id": "4262d8aa",
   "metadata": {},
   "outputs": [
    {
     "data": {
      "text/html": [
       "<div>\n",
       "<style scoped>\n",
       "    .dataframe tbody tr th:only-of-type {\n",
       "        vertical-align: middle;\n",
       "    }\n",
       "\n",
       "    .dataframe tbody tr th {\n",
       "        vertical-align: top;\n",
       "    }\n",
       "\n",
       "    .dataframe thead th {\n",
       "        text-align: right;\n",
       "    }\n",
       "</style>\n",
       "<table border=\"1\" class=\"dataframe\">\n",
       "  <thead>\n",
       "    <tr style=\"text-align: right;\">\n",
       "      <th></th>\n",
       "      <th>user_id</th>\n",
       "      <th>name</th>\n",
       "      <th>age</th>\n",
       "      <th>city</th>\n",
       "      <th>subscription_type</th>\n",
       "      <th>distance</th>\n",
       "      <th>duration</th>\n",
       "      <th>date</th>\n",
       "      <th>month</th>\n",
       "      <th>minute_price</th>\n",
       "      <th>start_ride_price</th>\n",
       "      <th>subscription_fee</th>\n",
       "    </tr>\n",
       "  </thead>\n",
       "  <tbody>\n",
       "    <tr>\n",
       "      <th>0</th>\n",
       "      <td>1</td>\n",
       "      <td>Кира</td>\n",
       "      <td>22</td>\n",
       "      <td>Тюмень</td>\n",
       "      <td>ultra</td>\n",
       "      <td>4409.919140</td>\n",
       "      <td>26.0</td>\n",
       "      <td>2021-01-01</td>\n",
       "      <td>1</td>\n",
       "      <td>6</td>\n",
       "      <td>0</td>\n",
       "      <td>199</td>\n",
       "    </tr>\n",
       "    <tr>\n",
       "      <th>1</th>\n",
       "      <td>1</td>\n",
       "      <td>Кира</td>\n",
       "      <td>22</td>\n",
       "      <td>Тюмень</td>\n",
       "      <td>ultra</td>\n",
       "      <td>2617.592153</td>\n",
       "      <td>16.0</td>\n",
       "      <td>2021-01-18</td>\n",
       "      <td>1</td>\n",
       "      <td>6</td>\n",
       "      <td>0</td>\n",
       "      <td>199</td>\n",
       "    </tr>\n",
       "    <tr>\n",
       "      <th>2</th>\n",
       "      <td>1</td>\n",
       "      <td>Кира</td>\n",
       "      <td>22</td>\n",
       "      <td>Тюмень</td>\n",
       "      <td>ultra</td>\n",
       "      <td>754.159807</td>\n",
       "      <td>7.0</td>\n",
       "      <td>2021-04-20</td>\n",
       "      <td>4</td>\n",
       "      <td>6</td>\n",
       "      <td>0</td>\n",
       "      <td>199</td>\n",
       "    </tr>\n",
       "    <tr>\n",
       "      <th>3</th>\n",
       "      <td>1</td>\n",
       "      <td>Кира</td>\n",
       "      <td>22</td>\n",
       "      <td>Тюмень</td>\n",
       "      <td>ultra</td>\n",
       "      <td>2694.783254</td>\n",
       "      <td>19.0</td>\n",
       "      <td>2021-08-11</td>\n",
       "      <td>8</td>\n",
       "      <td>6</td>\n",
       "      <td>0</td>\n",
       "      <td>199</td>\n",
       "    </tr>\n",
       "    <tr>\n",
       "      <th>4</th>\n",
       "      <td>1</td>\n",
       "      <td>Кира</td>\n",
       "      <td>22</td>\n",
       "      <td>Тюмень</td>\n",
       "      <td>ultra</td>\n",
       "      <td>4028.687306</td>\n",
       "      <td>27.0</td>\n",
       "      <td>2021-08-28</td>\n",
       "      <td>8</td>\n",
       "      <td>6</td>\n",
       "      <td>0</td>\n",
       "      <td>199</td>\n",
       "    </tr>\n",
       "  </tbody>\n",
       "</table>\n",
       "</div>"
      ],
      "text/plain": [
       "   user_id  name  age    city subscription_type     distance  duration  \\\n",
       "0        1  Кира   22  Тюмень             ultra  4409.919140      26.0   \n",
       "1        1  Кира   22  Тюмень             ultra  2617.592153      16.0   \n",
       "2        1  Кира   22  Тюмень             ultra   754.159807       7.0   \n",
       "3        1  Кира   22  Тюмень             ultra  2694.783254      19.0   \n",
       "4        1  Кира   22  Тюмень             ultra  4028.687306      27.0   \n",
       "\n",
       "        date  month  minute_price  start_ride_price  subscription_fee  \n",
       "0 2021-01-01      1             6                 0               199  \n",
       "1 2021-01-18      1             6                 0               199  \n",
       "2 2021-04-20      4             6                 0               199  \n",
       "3 2021-08-11      8             6                 0               199  \n",
       "4 2021-08-28      8             6                 0               199  "
      ]
     },
     "execution_count": 45,
     "metadata": {},
     "output_type": "execute_result"
    }
   ],
   "source": [
    "data.head()"
   ]
  },
  {
   "cell_type": "code",
   "execution_count": 46,
   "id": "a18a5cc4",
   "metadata": {},
   "outputs": [
    {
     "data": {
      "text/html": [
       "<div>\n",
       "<style scoped>\n",
       "    .dataframe tbody tr th:only-of-type {\n",
       "        vertical-align: middle;\n",
       "    }\n",
       "\n",
       "    .dataframe tbody tr th {\n",
       "        vertical-align: top;\n",
       "    }\n",
       "\n",
       "    .dataframe thead tr th {\n",
       "        text-align: left;\n",
       "    }\n",
       "\n",
       "    .dataframe thead tr:last-of-type th {\n",
       "        text-align: right;\n",
       "    }\n",
       "</style>\n",
       "<table border=\"1\" class=\"dataframe\">\n",
       "  <thead>\n",
       "    <tr>\n",
       "      <th></th>\n",
       "      <th></th>\n",
       "      <th>distance</th>\n",
       "      <th colspan=\"2\" halign=\"left\">duration</th>\n",
       "      <th>minute_price</th>\n",
       "      <th>start_ride_price</th>\n",
       "      <th>subscription_fee</th>\n",
       "      <th>subscription_type</th>\n",
       "    </tr>\n",
       "    <tr>\n",
       "      <th></th>\n",
       "      <th></th>\n",
       "      <th>sum</th>\n",
       "      <th>count</th>\n",
       "      <th>sum</th>\n",
       "      <th>first</th>\n",
       "      <th>first</th>\n",
       "      <th>first</th>\n",
       "      <th>first</th>\n",
       "    </tr>\n",
       "    <tr>\n",
       "      <th>user_id</th>\n",
       "      <th>month</th>\n",
       "      <th></th>\n",
       "      <th></th>\n",
       "      <th></th>\n",
       "      <th></th>\n",
       "      <th></th>\n",
       "      <th></th>\n",
       "      <th></th>\n",
       "    </tr>\n",
       "  </thead>\n",
       "  <tbody>\n",
       "    <tr>\n",
       "      <th rowspan=\"5\" valign=\"top\">1</th>\n",
       "      <th>1</th>\n",
       "      <td>7027.511294</td>\n",
       "      <td>2</td>\n",
       "      <td>42.0</td>\n",
       "      <td>6</td>\n",
       "      <td>0</td>\n",
       "      <td>199</td>\n",
       "      <td>ultra</td>\n",
       "    </tr>\n",
       "    <tr>\n",
       "      <th>4</th>\n",
       "      <td>754.159807</td>\n",
       "      <td>1</td>\n",
       "      <td>7.0</td>\n",
       "      <td>6</td>\n",
       "      <td>0</td>\n",
       "      <td>199</td>\n",
       "      <td>ultra</td>\n",
       "    </tr>\n",
       "    <tr>\n",
       "      <th>8</th>\n",
       "      <td>6723.470560</td>\n",
       "      <td>2</td>\n",
       "      <td>46.0</td>\n",
       "      <td>6</td>\n",
       "      <td>0</td>\n",
       "      <td>199</td>\n",
       "      <td>ultra</td>\n",
       "    </tr>\n",
       "    <tr>\n",
       "      <th>10</th>\n",
       "      <td>5809.911100</td>\n",
       "      <td>2</td>\n",
       "      <td>32.0</td>\n",
       "      <td>6</td>\n",
       "      <td>0</td>\n",
       "      <td>199</td>\n",
       "      <td>ultra</td>\n",
       "    </tr>\n",
       "    <tr>\n",
       "      <th>11</th>\n",
       "      <td>7003.499363</td>\n",
       "      <td>3</td>\n",
       "      <td>56.0</td>\n",
       "      <td>6</td>\n",
       "      <td>0</td>\n",
       "      <td>199</td>\n",
       "      <td>ultra</td>\n",
       "    </tr>\n",
       "    <tr>\n",
       "      <th>...</th>\n",
       "      <th>...</th>\n",
       "      <td>...</td>\n",
       "      <td>...</td>\n",
       "      <td>...</td>\n",
       "      <td>...</td>\n",
       "      <td>...</td>\n",
       "      <td>...</td>\n",
       "      <td>...</td>\n",
       "    </tr>\n",
       "    <tr>\n",
       "      <th rowspan=\"5\" valign=\"top\">1534</th>\n",
       "      <th>6</th>\n",
       "      <td>3409.468534</td>\n",
       "      <td>2</td>\n",
       "      <td>26.0</td>\n",
       "      <td>8</td>\n",
       "      <td>50</td>\n",
       "      <td>0</td>\n",
       "      <td>free</td>\n",
       "    </tr>\n",
       "    <tr>\n",
       "      <th>8</th>\n",
       "      <td>7622.453034</td>\n",
       "      <td>2</td>\n",
       "      <td>48.0</td>\n",
       "      <td>8</td>\n",
       "      <td>50</td>\n",
       "      <td>0</td>\n",
       "      <td>free</td>\n",
       "    </tr>\n",
       "    <tr>\n",
       "      <th>9</th>\n",
       "      <td>4928.173852</td>\n",
       "      <td>1</td>\n",
       "      <td>23.0</td>\n",
       "      <td>8</td>\n",
       "      <td>50</td>\n",
       "      <td>0</td>\n",
       "      <td>free</td>\n",
       "    </tr>\n",
       "    <tr>\n",
       "      <th>11</th>\n",
       "      <td>13350.015305</td>\n",
       "      <td>4</td>\n",
       "      <td>78.0</td>\n",
       "      <td>8</td>\n",
       "      <td>50</td>\n",
       "      <td>0</td>\n",
       "      <td>free</td>\n",
       "    </tr>\n",
       "    <tr>\n",
       "      <th>12</th>\n",
       "      <td>2371.711192</td>\n",
       "      <td>1</td>\n",
       "      <td>16.0</td>\n",
       "      <td>8</td>\n",
       "      <td>50</td>\n",
       "      <td>0</td>\n",
       "      <td>free</td>\n",
       "    </tr>\n",
       "  </tbody>\n",
       "</table>\n",
       "<p>11331 rows × 7 columns</p>\n",
       "</div>"
      ],
      "text/plain": [
       "                   distance duration       minute_price start_ride_price  \\\n",
       "                        sum    count   sum        first            first   \n",
       "user_id month                                                              \n",
       "1       1       7027.511294        2  42.0            6                0   \n",
       "        4        754.159807        1   7.0            6                0   \n",
       "        8       6723.470560        2  46.0            6                0   \n",
       "        10      5809.911100        2  32.0            6                0   \n",
       "        11      7003.499363        3  56.0            6                0   \n",
       "...                     ...      ...   ...          ...              ...   \n",
       "1534    6       3409.468534        2  26.0            8               50   \n",
       "        8       7622.453034        2  48.0            8               50   \n",
       "        9       4928.173852        1  23.0            8               50   \n",
       "        11     13350.015305        4  78.0            8               50   \n",
       "        12      2371.711192        1  16.0            8               50   \n",
       "\n",
       "              subscription_fee subscription_type  \n",
       "                         first             first  \n",
       "user_id month                                     \n",
       "1       1                  199             ultra  \n",
       "        4                  199             ultra  \n",
       "        8                  199             ultra  \n",
       "        10                 199             ultra  \n",
       "        11                 199             ultra  \n",
       "...                        ...               ...  \n",
       "1534    6                    0              free  \n",
       "        8                    0              free  \n",
       "        9                    0              free  \n",
       "        11                   0              free  \n",
       "        12                   0              free  \n",
       "\n",
       "[11331 rows x 7 columns]"
      ]
     },
     "execution_count": 46,
     "metadata": {},
     "output_type": "execute_result"
    }
   ],
   "source": [
    "grouped_data = (\n",
    "    data\n",
    "    .pivot_table(index=['user_id','month'], values=['distance','duration','subscription_type','minute_price','start_ride_price','subscription_fee'], aggfunc=({'distance':'sum','duration':['count','sum'],'subscription_type':'first','minute_price':'first','start_ride_price':'first','subscription_fee':'first'}))\n",
    ")\n",
    "grouped_data"
   ]
  },
  {
   "cell_type": "markdown",
   "id": "4ac88058",
   "metadata": {},
   "source": [
    "Да, группировка с `pivot_table` выглядит не очень изящно, зато работает.\n",
    "\n",
    "Переименуем столбцы для удобства ориентирования в таблице."
   ]
  },
  {
   "cell_type": "code",
   "execution_count": 47,
   "id": "36d9c30a",
   "metadata": {},
   "outputs": [
    {
     "data": {
      "text/html": [
       "<div>\n",
       "<style scoped>\n",
       "    .dataframe tbody tr th:only-of-type {\n",
       "        vertical-align: middle;\n",
       "    }\n",
       "\n",
       "    .dataframe tbody tr th {\n",
       "        vertical-align: top;\n",
       "    }\n",
       "\n",
       "    .dataframe thead th {\n",
       "        text-align: right;\n",
       "    }\n",
       "</style>\n",
       "<table border=\"1\" class=\"dataframe\">\n",
       "  <thead>\n",
       "    <tr style=\"text-align: right;\">\n",
       "      <th></th>\n",
       "      <th></th>\n",
       "      <th>distance_sum</th>\n",
       "      <th>rides_amount</th>\n",
       "      <th>rides_duration</th>\n",
       "      <th>minute_price</th>\n",
       "      <th>start_ride_price</th>\n",
       "      <th>subscription_fee</th>\n",
       "      <th>subscription_type</th>\n",
       "    </tr>\n",
       "    <tr>\n",
       "      <th>user_id</th>\n",
       "      <th>month</th>\n",
       "      <th></th>\n",
       "      <th></th>\n",
       "      <th></th>\n",
       "      <th></th>\n",
       "      <th></th>\n",
       "      <th></th>\n",
       "      <th></th>\n",
       "    </tr>\n",
       "  </thead>\n",
       "  <tbody>\n",
       "    <tr>\n",
       "      <th rowspan=\"5\" valign=\"top\">1</th>\n",
       "      <th>1</th>\n",
       "      <td>7027.511294</td>\n",
       "      <td>2</td>\n",
       "      <td>42.0</td>\n",
       "      <td>6</td>\n",
       "      <td>0</td>\n",
       "      <td>199</td>\n",
       "      <td>ultra</td>\n",
       "    </tr>\n",
       "    <tr>\n",
       "      <th>4</th>\n",
       "      <td>754.159807</td>\n",
       "      <td>1</td>\n",
       "      <td>7.0</td>\n",
       "      <td>6</td>\n",
       "      <td>0</td>\n",
       "      <td>199</td>\n",
       "      <td>ultra</td>\n",
       "    </tr>\n",
       "    <tr>\n",
       "      <th>8</th>\n",
       "      <td>6723.470560</td>\n",
       "      <td>2</td>\n",
       "      <td>46.0</td>\n",
       "      <td>6</td>\n",
       "      <td>0</td>\n",
       "      <td>199</td>\n",
       "      <td>ultra</td>\n",
       "    </tr>\n",
       "    <tr>\n",
       "      <th>10</th>\n",
       "      <td>5809.911100</td>\n",
       "      <td>2</td>\n",
       "      <td>32.0</td>\n",
       "      <td>6</td>\n",
       "      <td>0</td>\n",
       "      <td>199</td>\n",
       "      <td>ultra</td>\n",
       "    </tr>\n",
       "    <tr>\n",
       "      <th>11</th>\n",
       "      <td>7003.499363</td>\n",
       "      <td>3</td>\n",
       "      <td>56.0</td>\n",
       "      <td>6</td>\n",
       "      <td>0</td>\n",
       "      <td>199</td>\n",
       "      <td>ultra</td>\n",
       "    </tr>\n",
       "    <tr>\n",
       "      <th>...</th>\n",
       "      <th>...</th>\n",
       "      <td>...</td>\n",
       "      <td>...</td>\n",
       "      <td>...</td>\n",
       "      <td>...</td>\n",
       "      <td>...</td>\n",
       "      <td>...</td>\n",
       "      <td>...</td>\n",
       "    </tr>\n",
       "    <tr>\n",
       "      <th rowspan=\"5\" valign=\"top\">1534</th>\n",
       "      <th>6</th>\n",
       "      <td>3409.468534</td>\n",
       "      <td>2</td>\n",
       "      <td>26.0</td>\n",
       "      <td>8</td>\n",
       "      <td>50</td>\n",
       "      <td>0</td>\n",
       "      <td>free</td>\n",
       "    </tr>\n",
       "    <tr>\n",
       "      <th>8</th>\n",
       "      <td>7622.453034</td>\n",
       "      <td>2</td>\n",
       "      <td>48.0</td>\n",
       "      <td>8</td>\n",
       "      <td>50</td>\n",
       "      <td>0</td>\n",
       "      <td>free</td>\n",
       "    </tr>\n",
       "    <tr>\n",
       "      <th>9</th>\n",
       "      <td>4928.173852</td>\n",
       "      <td>1</td>\n",
       "      <td>23.0</td>\n",
       "      <td>8</td>\n",
       "      <td>50</td>\n",
       "      <td>0</td>\n",
       "      <td>free</td>\n",
       "    </tr>\n",
       "    <tr>\n",
       "      <th>11</th>\n",
       "      <td>13350.015305</td>\n",
       "      <td>4</td>\n",
       "      <td>78.0</td>\n",
       "      <td>8</td>\n",
       "      <td>50</td>\n",
       "      <td>0</td>\n",
       "      <td>free</td>\n",
       "    </tr>\n",
       "    <tr>\n",
       "      <th>12</th>\n",
       "      <td>2371.711192</td>\n",
       "      <td>1</td>\n",
       "      <td>16.0</td>\n",
       "      <td>8</td>\n",
       "      <td>50</td>\n",
       "      <td>0</td>\n",
       "      <td>free</td>\n",
       "    </tr>\n",
       "  </tbody>\n",
       "</table>\n",
       "<p>11331 rows × 7 columns</p>\n",
       "</div>"
      ],
      "text/plain": [
       "               distance_sum  rides_amount  rides_duration  minute_price  \\\n",
       "user_id month                                                             \n",
       "1       1       7027.511294             2            42.0             6   \n",
       "        4        754.159807             1             7.0             6   \n",
       "        8       6723.470560             2            46.0             6   \n",
       "        10      5809.911100             2            32.0             6   \n",
       "        11      7003.499363             3            56.0             6   \n",
       "...                     ...           ...             ...           ...   \n",
       "1534    6       3409.468534             2            26.0             8   \n",
       "        8       7622.453034             2            48.0             8   \n",
       "        9       4928.173852             1            23.0             8   \n",
       "        11     13350.015305             4            78.0             8   \n",
       "        12      2371.711192             1            16.0             8   \n",
       "\n",
       "               start_ride_price  subscription_fee subscription_type  \n",
       "user_id month                                                        \n",
       "1       1                     0               199             ultra  \n",
       "        4                     0               199             ultra  \n",
       "        8                     0               199             ultra  \n",
       "        10                    0               199             ultra  \n",
       "        11                    0               199             ultra  \n",
       "...                         ...               ...               ...  \n",
       "1534    6                    50                 0              free  \n",
       "        8                    50                 0              free  \n",
       "        9                    50                 0              free  \n",
       "        11                   50                 0              free  \n",
       "        12                   50                 0              free  \n",
       "\n",
       "[11331 rows x 7 columns]"
      ]
     },
     "execution_count": 47,
     "metadata": {},
     "output_type": "execute_result"
    }
   ],
   "source": [
    "grouped_data.columns = ['distance_sum','rides_amount','rides_duration','minute_price','start_ride_price','subscription_fee','subscription_type']\n",
    "grouped_data"
   ]
  },
  {
   "cell_type": "markdown",
   "id": "350236c4",
   "metadata": {},
   "source": [
    "### Добавление столбца с помесячной выручкой"
   ]
  },
  {
   "cell_type": "code",
   "execution_count": 48,
   "id": "4af1c2c3",
   "metadata": {},
   "outputs": [],
   "source": [
    "grouped_data['month_income'] = (\n",
    "    grouped_data['rides_amount'] * grouped_data['start_ride_price'] \n",
    "    + grouped_data['minute_price'] * grouped_data['rides_duration']\n",
    "    + grouped_data['subscription_fee']\n",
    ")"
   ]
  },
  {
   "cell_type": "code",
   "execution_count": 49,
   "id": "86880a2c",
   "metadata": {},
   "outputs": [
    {
     "data": {
      "text/html": [
       "<div>\n",
       "<style scoped>\n",
       "    .dataframe tbody tr th:only-of-type {\n",
       "        vertical-align: middle;\n",
       "    }\n",
       "\n",
       "    .dataframe tbody tr th {\n",
       "        vertical-align: top;\n",
       "    }\n",
       "\n",
       "    .dataframe thead th {\n",
       "        text-align: right;\n",
       "    }\n",
       "</style>\n",
       "<table border=\"1\" class=\"dataframe\">\n",
       "  <thead>\n",
       "    <tr style=\"text-align: right;\">\n",
       "      <th></th>\n",
       "      <th></th>\n",
       "      <th>distance_sum</th>\n",
       "      <th>rides_amount</th>\n",
       "      <th>rides_duration</th>\n",
       "      <th>minute_price</th>\n",
       "      <th>start_ride_price</th>\n",
       "      <th>subscription_fee</th>\n",
       "      <th>subscription_type</th>\n",
       "      <th>month_income</th>\n",
       "    </tr>\n",
       "    <tr>\n",
       "      <th>user_id</th>\n",
       "      <th>month</th>\n",
       "      <th></th>\n",
       "      <th></th>\n",
       "      <th></th>\n",
       "      <th></th>\n",
       "      <th></th>\n",
       "      <th></th>\n",
       "      <th></th>\n",
       "      <th></th>\n",
       "    </tr>\n",
       "  </thead>\n",
       "  <tbody>\n",
       "    <tr>\n",
       "      <th rowspan=\"6\" valign=\"top\">1</th>\n",
       "      <th>1</th>\n",
       "      <td>7027.511294</td>\n",
       "      <td>2</td>\n",
       "      <td>42.0</td>\n",
       "      <td>6</td>\n",
       "      <td>0</td>\n",
       "      <td>199</td>\n",
       "      <td>ultra</td>\n",
       "      <td>451.0</td>\n",
       "    </tr>\n",
       "    <tr>\n",
       "      <th>4</th>\n",
       "      <td>754.159807</td>\n",
       "      <td>1</td>\n",
       "      <td>7.0</td>\n",
       "      <td>6</td>\n",
       "      <td>0</td>\n",
       "      <td>199</td>\n",
       "      <td>ultra</td>\n",
       "      <td>241.0</td>\n",
       "    </tr>\n",
       "    <tr>\n",
       "      <th>8</th>\n",
       "      <td>6723.470560</td>\n",
       "      <td>2</td>\n",
       "      <td>46.0</td>\n",
       "      <td>6</td>\n",
       "      <td>0</td>\n",
       "      <td>199</td>\n",
       "      <td>ultra</td>\n",
       "      <td>475.0</td>\n",
       "    </tr>\n",
       "    <tr>\n",
       "      <th>10</th>\n",
       "      <td>5809.911100</td>\n",
       "      <td>2</td>\n",
       "      <td>32.0</td>\n",
       "      <td>6</td>\n",
       "      <td>0</td>\n",
       "      <td>199</td>\n",
       "      <td>ultra</td>\n",
       "      <td>391.0</td>\n",
       "    </tr>\n",
       "    <tr>\n",
       "      <th>11</th>\n",
       "      <td>7003.499363</td>\n",
       "      <td>3</td>\n",
       "      <td>56.0</td>\n",
       "      <td>6</td>\n",
       "      <td>0</td>\n",
       "      <td>199</td>\n",
       "      <td>ultra</td>\n",
       "      <td>535.0</td>\n",
       "    </tr>\n",
       "    <tr>\n",
       "      <th>12</th>\n",
       "      <td>6751.629942</td>\n",
       "      <td>2</td>\n",
       "      <td>28.0</td>\n",
       "      <td>6</td>\n",
       "      <td>0</td>\n",
       "      <td>199</td>\n",
       "      <td>ultra</td>\n",
       "      <td>367.0</td>\n",
       "    </tr>\n",
       "    <tr>\n",
       "      <th rowspan=\"4\" valign=\"top\">2</th>\n",
       "      <th>3</th>\n",
       "      <td>10187.723006</td>\n",
       "      <td>3</td>\n",
       "      <td>63.0</td>\n",
       "      <td>6</td>\n",
       "      <td>0</td>\n",
       "      <td>199</td>\n",
       "      <td>ultra</td>\n",
       "      <td>577.0</td>\n",
       "    </tr>\n",
       "    <tr>\n",
       "      <th>4</th>\n",
       "      <td>6164.381824</td>\n",
       "      <td>2</td>\n",
       "      <td>40.0</td>\n",
       "      <td>6</td>\n",
       "      <td>0</td>\n",
       "      <td>199</td>\n",
       "      <td>ultra</td>\n",
       "      <td>439.0</td>\n",
       "    </tr>\n",
       "    <tr>\n",
       "      <th>6</th>\n",
       "      <td>3255.338202</td>\n",
       "      <td>1</td>\n",
       "      <td>14.0</td>\n",
       "      <td>6</td>\n",
       "      <td>0</td>\n",
       "      <td>199</td>\n",
       "      <td>ultra</td>\n",
       "      <td>283.0</td>\n",
       "    </tr>\n",
       "    <tr>\n",
       "      <th>7</th>\n",
       "      <td>6780.722964</td>\n",
       "      <td>2</td>\n",
       "      <td>48.0</td>\n",
       "      <td>6</td>\n",
       "      <td>0</td>\n",
       "      <td>199</td>\n",
       "      <td>ultra</td>\n",
       "      <td>487.0</td>\n",
       "    </tr>\n",
       "  </tbody>\n",
       "</table>\n",
       "</div>"
      ],
      "text/plain": [
       "               distance_sum  rides_amount  rides_duration  minute_price  \\\n",
       "user_id month                                                             \n",
       "1       1       7027.511294             2            42.0             6   \n",
       "        4        754.159807             1             7.0             6   \n",
       "        8       6723.470560             2            46.0             6   \n",
       "        10      5809.911100             2            32.0             6   \n",
       "        11      7003.499363             3            56.0             6   \n",
       "        12      6751.629942             2            28.0             6   \n",
       "2       3      10187.723006             3            63.0             6   \n",
       "        4       6164.381824             2            40.0             6   \n",
       "        6       3255.338202             1            14.0             6   \n",
       "        7       6780.722964             2            48.0             6   \n",
       "\n",
       "               start_ride_price  subscription_fee subscription_type  \\\n",
       "user_id month                                                         \n",
       "1       1                     0               199             ultra   \n",
       "        4                     0               199             ultra   \n",
       "        8                     0               199             ultra   \n",
       "        10                    0               199             ultra   \n",
       "        11                    0               199             ultra   \n",
       "        12                    0               199             ultra   \n",
       "2       3                     0               199             ultra   \n",
       "        4                     0               199             ultra   \n",
       "        6                     0               199             ultra   \n",
       "        7                     0               199             ultra   \n",
       "\n",
       "               month_income  \n",
       "user_id month                \n",
       "1       1             451.0  \n",
       "        4             241.0  \n",
       "        8             475.0  \n",
       "        10            391.0  \n",
       "        11            535.0  \n",
       "        12            367.0  \n",
       "2       3             577.0  \n",
       "        4             439.0  \n",
       "        6             283.0  \n",
       "        7             487.0  "
      ]
     },
     "execution_count": 49,
     "metadata": {},
     "output_type": "execute_result"
    }
   ],
   "source": [
    "grouped_data.head(10)"
   ]
  },
  {
   "cell_type": "markdown",
   "id": "72fd2177",
   "metadata": {},
   "source": [
    "Успешно получилось добавить столбцев с месячной выручкой для каждого пользователя."
   ]
  },
  {
   "cell_type": "markdown",
   "id": "c781a764",
   "metadata": {},
   "source": [
    "**ВЫВОД ПО ПУНКТУ:**\n",
    "\n",
    "Округлил время до целых значений, сгруппировал информацию по пользователям и месяцам.\n",
    "\n",
    "Также, добавил месячную выручку для каждого пользователя."
   ]
  },
  {
   "cell_type": "markdown",
   "id": "41545ac0",
   "metadata": {},
   "source": [
    "## Проверка гипотез"
   ]
  },
  {
   "cell_type": "markdown",
   "id": "8c31e0c9",
   "metadata": {},
   "source": [
    "### Время поездок пользователей с подпиской"
   ]
  },
  {
   "cell_type": "markdown",
   "id": "d3c552b4",
   "metadata": {},
   "source": [
    "h0: *Пользователи с подпиской тратят столько же времени на поездки, сколько и пользователи без подписки.*\n",
    "\n",
    "h1: *Пользователи с подпиской тратят больше времени на поездки, чем и пользователи без подписки.*\n",
    "\n",
    "Данные будем анализировать по исходным, не агрегированным, данным."
   ]
  },
  {
   "cell_type": "code",
   "execution_count": 50,
   "id": "13d6f80c",
   "metadata": {
    "scrolled": true
   },
   "outputs": [
    {
     "name": "stdout",
     "output_type": "stream",
     "text": [
      "p-значение: 1.2804098316645618e-34\n",
      "Отвергаем нулевую гипотезу\n"
     ]
    }
   ],
   "source": [
    "ultras_duration = ultras['duration']\n",
    "frees_duration = frees['duration']\n",
    "\n",
    "alpha = 0.05\n",
    "\n",
    "results = st.ttest_ind(ultras_duration, frees_duration, alternative='greater')\n",
    "\n",
    "print('p-значение:', results.pvalue)\n",
    "\n",
    "if results.pvalue < alpha:\n",
    "    print('Отвергаем нулевую гипотезу')\n",
    "else:\n",
    "    print('Нет оснований отвергать нулевую гипотезу')"
   ]
  },
  {
   "cell_type": "markdown",
   "id": "afed3dcf",
   "metadata": {},
   "source": [
    "Значение `p-value` оказалось меньше, чем значение уровня статистической значимости.\n",
    "\n",
    "Соответственно, **нулевая гипотеза о равенстве времени на поездку у разных категорий пользователей отвергается.**\n",
    "Пользователи с подпиской тратят больше времени на поездки, чем и пользователи без подписки."
   ]
  },
  {
   "cell_type": "markdown",
   "id": "17265472",
   "metadata": {},
   "source": [
    "### Среднее расстояние, проезжаемое пользователями с подпиской"
   ]
  },
  {
   "cell_type": "markdown",
   "id": "806f05b4",
   "metadata": {},
   "source": [
    "h0: *Среднее расстояние, которое проезжают пользователи с подпиской не превышает 3130 метров.*\n",
    "\n",
    "h1: *Среднее расстояние, которое проезжают пользователи с подпиской более 3130 метров.*"
   ]
  },
  {
   "cell_type": "code",
   "execution_count": 51,
   "id": "6d2435fc",
   "metadata": {},
   "outputs": [
    {
     "name": "stdout",
     "output_type": "stream",
     "text": [
      "p-значение: 0.9195368847849785\n",
      "Нет оснований отвергать нулевую гипотезу\n"
     ]
    }
   ],
   "source": [
    "ultras_distance = ultras['distance']\n",
    "optimal_distance = 3130\n",
    "\n",
    "alpha = 0.05\n",
    "\n",
    "results = st.ttest_1samp(ultras_distance, optimal_distance, alternative='greater')\n",
    "\n",
    "print('p-значение:', results.pvalue)\n",
    "\n",
    "if results.pvalue < alpha:\n",
    "    print('Отвергаем нулевую гипотезу')\n",
    "else:\n",
    "    print('Нет оснований отвергать нулевую гипотезу')"
   ]
  },
  {
   "cell_type": "markdown",
   "id": "ef6beefd",
   "metadata": {},
   "source": [
    "В данном случае мы можем утверждать, что **пользователи с подпиской действительно проезжают не более 3130 метров.**"
   ]
  },
  {
   "cell_type": "markdown",
   "id": "881f921c",
   "metadata": {},
   "source": [
    "### Помесячная выручка от разных категорий пользователей"
   ]
  },
  {
   "cell_type": "markdown",
   "id": "dffdf686",
   "metadata": {},
   "source": [
    "h0: *Пользователи с подпиской приносят сервису столько же месячной выручки, сколько и пользователи без подписки.*\n",
    "\n",
    "h1: *Пользователи с подпиской приносят сервису больше месячной выручки в сравнении с пользователями без подписки.*"
   ]
  },
  {
   "cell_type": "code",
   "execution_count": 52,
   "id": "d6ab6b7d",
   "metadata": {},
   "outputs": [
    {
     "name": "stdout",
     "output_type": "stream",
     "text": [
      "p-value: 1.8850394384715216e-31\n",
      "Отвергаем нулевую гипотезу\n"
     ]
    }
   ],
   "source": [
    "ultras_income = grouped_data[grouped_data['subscription_type'] == 'ultra']['month_income']\n",
    "frees_income = grouped_data[grouped_data['subscription_type'] == 'free']['month_income']\n",
    "\n",
    "alpha = 0.05\n",
    "\n",
    "results = st.ttest_ind(ultras_income, frees_income, alternative='greater')\n",
    "\n",
    "print(f'p-value: {results.pvalue}')\n",
    "\n",
    "if results.pvalue < alpha:\n",
    "    print('Отвергаем нулевую гипотезу')\n",
    "else:\n",
    "    print('Нет оснований отвергать нулевую гипотезу')"
   ]
  },
  {
   "cell_type": "markdown",
   "id": "fcf6e8ac",
   "metadata": {},
   "source": [
    "Есть все основания полагать, что **пользователи с платной подпиской приносят больше выручки, чем пользователи без подписки.**"
   ]
  },
  {
   "cell_type": "markdown",
   "id": "ce85c13c",
   "metadata": {},
   "source": [
    "### Количество обращений в техподдержку"
   ]
  },
  {
   "cell_type": "markdown",
   "id": "ce8e7cad",
   "metadata": {},
   "source": [
    "h0: *Количество обращений в техподдержку не изменилось.*\n",
    "\n",
    "h1: *Количество обращений в техподдержку снизилось.*"
   ]
  },
  {
   "cell_type": "markdown",
   "id": "6dcbc7c7",
   "metadata": {},
   "source": [
    "```python\n",
    "before_update = your_data_before\n",
    "after_update = your_data_after\n",
    "\n",
    "alpha = 0.05 #Также можем воспользоваться значением 0.01\n",
    "\n",
    "results = st.ttest_rel(after_update, before_update, alternative='less')\n",
    "\n",
    "print(f'p-value: {results.pvalue}')\n",
    "\n",
    "if results.pvalue < alpha:\n",
    "    print('Отвергаем нулевую гипотезу')\n",
    "else:\n",
    "    print('Нет оснований отвергать нулевую гипотезу')\n",
    "```"
   ]
  },
  {
   "cell_type": "markdown",
   "id": "7323f58e",
   "metadata": {},
   "source": [
    "Шаблон сделан, осталось лишь добавить необходимую информацию."
   ]
  },
  {
   "cell_type": "markdown",
   "id": "8673233a",
   "metadata": {},
   "source": [
    "**ВЫВОД ПО ПУНКТУ:**\n",
    "\n",
    "*Гипотеза №1* - отвергнута.\n",
    "\n",
    "*Гипотеза №2* - не отвергнута.\n",
    "\n",
    "*Гипотеза №3* - отвергнута.\n",
    "\n",
    "*Гипотеза №4* - шаблон готов, ждём информацию от технической команды."
   ]
  },
  {
   "cell_type": "markdown",
   "id": "5d4ca823",
   "metadata": {},
   "source": [
    "## Общий вывод по работе:\n",
    "\n",
    "В данной проекте я работал с генеральной выборкой загруженых данных.\n",
    "\n",
    "* Данные были изученны и отчищены от дублирующихся строк. Пустых значений не было. Строки с датой изменил под стандартный формат.\n",
    "\n",
    "* У сервиса по аренде самокатов **GoFast** больше всего пользователей в Пятигорске. Соотношение платных и бесплатных пользователей 45% к 55%, что действительно удивляет, это очень хорошее отношение. \n",
    "\n",
    "* Типичная аудитория: 22-28 лет.\n",
    "\n",
    "* Длительность поездки 15-20 минут.\n",
    "\n",
    "* Расстояние - 3100 метров.\n",
    "\n",
    "Сравнивая пользователей с подпиской и без, было обнаружено, что медианная длительность и медианное расстрояние поездки почти равны для обеих категорий.\n",
    "\n",
    "Также, мною были сгруппированны данные по пользователям и месяцам, была посчитана выручка для каждого пользователя.\n",
    "\n",
    "В п.6 было рассмотрено четыре разных гипотезы, из которых:\n",
    "\n",
    "* *Пользователи с подпиской тратят больше времени на поездки, чем и пользователи без подписки* - отвергнута. Пользователи с подпиской тратят больше времени на поездки, чем и пользователи без подписки.\n",
    "\n",
    "* *Пользователи с подпиской проезжают не более 3130 метров.* - не отвергнута. Действительно, так и есть.\n",
    "\n",
    "* *Пользователи с подпиской приносят сервису столько же месячной выручки, сколько и пользователи без подписки.* - отвергнута. Пользователи с подпиской действительно приносят больше выручки.\n",
    "\n",
    "* *количество обращений в техподдержку снизилось* - данную гипотезу проверить или опровергнуть нельзя в связи с отсутствием данных."
   ]
  }
 ],
 "metadata": {
  "ExecuteTimeLog": [
   {
    "duration": 378,
    "start_time": "2023-12-09T14:26:27.038Z"
   },
   {
    "duration": 67,
    "start_time": "2023-12-09T14:27:11.717Z"
   },
   {
    "duration": 72,
    "start_time": "2023-12-09T14:28:13.603Z"
   },
   {
    "duration": 76,
    "start_time": "2023-12-09T14:29:25.028Z"
   },
   {
    "duration": 68,
    "start_time": "2023-12-09T14:29:39.059Z"
   },
   {
    "duration": 121,
    "start_time": "2023-12-09T14:29:48.039Z"
   },
   {
    "duration": 102,
    "start_time": "2023-12-09T14:30:14.689Z"
   },
   {
    "duration": 14,
    "start_time": "2023-12-09T14:30:51.286Z"
   },
   {
    "duration": 8,
    "start_time": "2023-12-09T14:31:08.812Z"
   },
   {
    "duration": 8,
    "start_time": "2023-12-09T14:31:11.456Z"
   },
   {
    "duration": 7,
    "start_time": "2023-12-09T14:31:20.736Z"
   },
   {
    "duration": 7,
    "start_time": "2023-12-09T14:31:23.897Z"
   },
   {
    "duration": 6,
    "start_time": "2023-12-09T14:31:31.951Z"
   },
   {
    "duration": 12,
    "start_time": "2023-12-09T14:32:52.406Z"
   },
   {
    "duration": 9,
    "start_time": "2023-12-09T14:33:11.231Z"
   },
   {
    "duration": 9,
    "start_time": "2023-12-09T14:34:01.453Z"
   },
   {
    "duration": 102,
    "start_time": "2023-12-09T14:35:10.519Z"
   },
   {
    "duration": 272,
    "start_time": "2023-12-09T14:37:24.613Z"
   },
   {
    "duration": 7,
    "start_time": "2023-12-09T14:37:26.238Z"
   },
   {
    "duration": 377,
    "start_time": "2023-12-09T14:37:50.338Z"
   },
   {
    "duration": 10,
    "start_time": "2023-12-09T14:41:08.511Z"
   },
   {
    "duration": 11,
    "start_time": "2023-12-09T14:42:09.253Z"
   },
   {
    "duration": 5,
    "start_time": "2023-12-09T14:43:55.034Z"
   },
   {
    "duration": 10,
    "start_time": "2023-12-09T14:44:04.377Z"
   },
   {
    "duration": 5,
    "start_time": "2023-12-09T14:48:35.332Z"
   },
   {
    "duration": 5,
    "start_time": "2023-12-09T14:48:51.961Z"
   },
   {
    "duration": 128,
    "start_time": "2023-12-09T14:49:36.903Z"
   },
   {
    "duration": 9,
    "start_time": "2023-12-09T14:49:42.456Z"
   },
   {
    "duration": 8,
    "start_time": "2023-12-09T14:49:42.695Z"
   },
   {
    "duration": 10,
    "start_time": "2023-12-09T14:49:42.884Z"
   },
   {
    "duration": 6,
    "start_time": "2023-12-09T14:49:43.091Z"
   },
   {
    "duration": 8,
    "start_time": "2023-12-09T14:49:44.288Z"
   },
   {
    "duration": 11,
    "start_time": "2023-12-09T14:49:44.947Z"
   },
   {
    "duration": 10,
    "start_time": "2023-12-09T14:49:46.722Z"
   },
   {
    "duration": 7,
    "start_time": "2023-12-09T14:49:48.035Z"
   },
   {
    "duration": 6,
    "start_time": "2023-12-09T14:49:48.427Z"
   },
   {
    "duration": 5,
    "start_time": "2023-12-09T14:49:56.473Z"
   },
   {
    "duration": 6,
    "start_time": "2023-12-09T14:51:09.903Z"
   },
   {
    "duration": 7,
    "start_time": "2023-12-09T14:51:33.610Z"
   },
   {
    "duration": 5,
    "start_time": "2023-12-09T14:51:41.663Z"
   },
   {
    "duration": 7,
    "start_time": "2023-12-09T14:54:07.130Z"
   },
   {
    "duration": 9,
    "start_time": "2023-12-09T14:54:14.565Z"
   },
   {
    "duration": 13,
    "start_time": "2023-12-09T14:56:13.512Z"
   },
   {
    "duration": 5,
    "start_time": "2023-12-09T14:56:27.648Z"
   },
   {
    "duration": 12,
    "start_time": "2023-12-09T14:56:29.919Z"
   },
   {
    "duration": 5,
    "start_time": "2023-12-09T14:58:35.506Z"
   },
   {
    "duration": 6,
    "start_time": "2023-12-09T14:58:44.606Z"
   },
   {
    "duration": 8,
    "start_time": "2023-12-09T14:58:47.630Z"
   },
   {
    "duration": 6,
    "start_time": "2023-12-09T14:58:50.796Z"
   },
   {
    "duration": 5,
    "start_time": "2023-12-09T14:59:04.024Z"
   },
   {
    "duration": 5,
    "start_time": "2023-12-09T14:59:14.127Z"
   },
   {
    "duration": 4,
    "start_time": "2023-12-09T15:04:47.204Z"
   },
   {
    "duration": 16,
    "start_time": "2023-12-09T15:05:08.606Z"
   },
   {
    "duration": 20,
    "start_time": "2023-12-09T15:06:55.837Z"
   },
   {
    "duration": 4,
    "start_time": "2023-12-09T15:08:10.240Z"
   },
   {
    "duration": 6,
    "start_time": "2023-12-09T15:08:17.697Z"
   },
   {
    "duration": 6,
    "start_time": "2023-12-09T15:17:13.361Z"
   },
   {
    "duration": 203,
    "start_time": "2023-12-09T15:17:47.522Z"
   },
   {
    "duration": 139,
    "start_time": "2023-12-09T15:17:54.819Z"
   },
   {
    "duration": 143,
    "start_time": "2023-12-09T15:18:07.061Z"
   },
   {
    "duration": 72,
    "start_time": "2023-12-09T15:18:20.324Z"
   },
   {
    "duration": 195,
    "start_time": "2023-12-09T15:18:23.971Z"
   },
   {
    "duration": 97,
    "start_time": "2023-12-09T15:19:16.719Z"
   },
   {
    "duration": 165,
    "start_time": "2023-12-09T15:19:33.680Z"
   },
   {
    "duration": 4,
    "start_time": "2023-12-09T15:21:50.688Z"
   },
   {
    "duration": 6,
    "start_time": "2023-12-09T15:21:55.798Z"
   },
   {
    "duration": 78,
    "start_time": "2023-12-09T15:22:47.984Z"
   },
   {
    "duration": 80,
    "start_time": "2023-12-09T15:22:56.601Z"
   },
   {
    "duration": 86,
    "start_time": "2023-12-09T15:22:59.585Z"
   },
   {
    "duration": 79,
    "start_time": "2023-12-09T15:23:19.936Z"
   },
   {
    "duration": 164,
    "start_time": "2023-12-09T15:23:28.857Z"
   },
   {
    "duration": 7,
    "start_time": "2023-12-09T15:24:58.818Z"
   },
   {
    "duration": 6,
    "start_time": "2023-12-09T15:25:02.355Z"
   },
   {
    "duration": 89,
    "start_time": "2023-12-09T15:25:02.916Z"
   },
   {
    "duration": 94,
    "start_time": "2023-12-09T15:25:46.461Z"
   },
   {
    "duration": 91,
    "start_time": "2023-12-09T15:26:01.285Z"
   },
   {
    "duration": 94,
    "start_time": "2023-12-09T15:26:11.955Z"
   },
   {
    "duration": 86,
    "start_time": "2023-12-09T15:26:41.120Z"
   },
   {
    "duration": 5,
    "start_time": "2023-12-09T15:30:14.028Z"
   },
   {
    "duration": 270,
    "start_time": "2023-12-09T15:31:39.350Z"
   },
   {
    "duration": 319,
    "start_time": "2023-12-09T15:32:06.168Z"
   },
   {
    "duration": 262,
    "start_time": "2023-12-09T15:32:46.996Z"
   },
   {
    "duration": 245,
    "start_time": "2023-12-09T15:32:51.017Z"
   },
   {
    "duration": 5,
    "start_time": "2023-12-09T15:35:04.764Z"
   },
   {
    "duration": 4,
    "start_time": "2023-12-09T15:35:18.681Z"
   },
   {
    "duration": 254,
    "start_time": "2023-12-09T15:36:34.166Z"
   },
   {
    "duration": 247,
    "start_time": "2023-12-09T15:36:53.185Z"
   },
   {
    "duration": 5,
    "start_time": "2023-12-09T15:37:19.951Z"
   },
   {
    "duration": 90,
    "start_time": "2023-12-09T15:37:20.465Z"
   },
   {
    "duration": 11,
    "start_time": "2023-12-09T15:40:48.703Z"
   },
   {
    "duration": 16920,
    "start_time": "2023-12-09T15:41:18.759Z"
   },
   {
    "duration": 156,
    "start_time": "2023-12-09T15:42:03.835Z"
   },
   {
    "duration": 17095,
    "start_time": "2023-12-09T15:42:14.573Z"
   },
   {
    "duration": 9,
    "start_time": "2023-12-09T15:44:32.978Z"
   },
   {
    "duration": 14,
    "start_time": "2023-12-09T15:44:42.678Z"
   },
   {
    "duration": 92,
    "start_time": "2023-12-09T15:50:48.738Z"
   },
   {
    "duration": 88,
    "start_time": "2023-12-09T15:51:01.853Z"
   },
   {
    "duration": 202,
    "start_time": "2023-12-09T15:51:11.850Z"
   },
   {
    "duration": 97,
    "start_time": "2023-12-09T15:51:17.616Z"
   },
   {
    "duration": 137,
    "start_time": "2023-12-09T15:55:10.076Z"
   },
   {
    "duration": 529,
    "start_time": "2023-12-09T15:56:18.539Z"
   },
   {
    "duration": 258,
    "start_time": "2023-12-09T15:56:38.247Z"
   },
   {
    "duration": 256,
    "start_time": "2023-12-09T15:57:15.039Z"
   },
   {
    "duration": 1293,
    "start_time": "2023-12-09T15:57:30.050Z"
   },
   {
    "duration": 828,
    "start_time": "2023-12-09T15:57:38.640Z"
   },
   {
    "duration": 536,
    "start_time": "2023-12-09T15:57:44.543Z"
   },
   {
    "duration": 247,
    "start_time": "2023-12-09T16:00:27.887Z"
   },
   {
    "duration": 258,
    "start_time": "2023-12-09T16:00:47.619Z"
   },
   {
    "duration": 15,
    "start_time": "2023-12-09T16:06:31.911Z"
   },
   {
    "duration": 16,
    "start_time": "2023-12-09T16:07:29.947Z"
   },
   {
    "duration": 22,
    "start_time": "2023-12-09T16:07:44.290Z"
   },
   {
    "duration": 22,
    "start_time": "2023-12-09T16:08:33.162Z"
   },
   {
    "duration": 3,
    "start_time": "2023-12-09T16:08:40.542Z"
   },
   {
    "duration": 236,
    "start_time": "2023-12-09T16:08:41.004Z"
   },
   {
    "duration": 7,
    "start_time": "2023-12-09T16:08:41.676Z"
   },
   {
    "duration": 7,
    "start_time": "2023-12-09T16:08:41.711Z"
   },
   {
    "duration": 11,
    "start_time": "2023-12-09T16:08:41.743Z"
   },
   {
    "duration": 6,
    "start_time": "2023-12-09T16:08:41.769Z"
   },
   {
    "duration": 7,
    "start_time": "2023-12-09T16:08:41.893Z"
   },
   {
    "duration": 10,
    "start_time": "2023-12-09T16:08:41.953Z"
   },
   {
    "duration": 12,
    "start_time": "2023-12-09T16:08:42.043Z"
   },
   {
    "duration": 6,
    "start_time": "2023-12-09T16:08:42.113Z"
   },
   {
    "duration": 7,
    "start_time": "2023-12-09T16:08:42.138Z"
   },
   {
    "duration": 5,
    "start_time": "2023-12-09T16:08:42.163Z"
   },
   {
    "duration": 6,
    "start_time": "2023-12-09T16:08:42.223Z"
   },
   {
    "duration": 5,
    "start_time": "2023-12-09T16:08:42.283Z"
   },
   {
    "duration": 6,
    "start_time": "2023-12-09T16:08:42.746Z"
   },
   {
    "duration": 5,
    "start_time": "2023-12-09T16:08:43.906Z"
   },
   {
    "duration": 144,
    "start_time": "2023-12-09T16:08:44.182Z"
   },
   {
    "duration": 5,
    "start_time": "2023-12-09T16:08:45.151Z"
   },
   {
    "duration": 90,
    "start_time": "2023-12-09T16:08:45.381Z"
   },
   {
    "duration": 4,
    "start_time": "2023-12-09T16:08:46.624Z"
   },
   {
    "duration": 257,
    "start_time": "2023-12-09T16:08:47.428Z"
   },
   {
    "duration": 748,
    "start_time": "2023-12-09T16:08:48.363Z"
   },
   {
    "duration": 252,
    "start_time": "2023-12-09T16:08:49.263Z"
   },
   {
    "duration": 16,
    "start_time": "2023-12-09T16:08:52.235Z"
   },
   {
    "duration": 20,
    "start_time": "2023-12-09T16:08:55.386Z"
   },
   {
    "duration": 8,
    "start_time": "2023-12-09T16:10:36.621Z"
   },
   {
    "duration": 6,
    "start_time": "2023-12-09T16:11:00.957Z"
   },
   {
    "duration": 9,
    "start_time": "2023-12-09T16:11:05.251Z"
   },
   {
    "duration": 10,
    "start_time": "2023-12-09T16:11:08.603Z"
   },
   {
    "duration": 9,
    "start_time": "2023-12-09T16:12:17.458Z"
   },
   {
    "duration": 7,
    "start_time": "2023-12-09T16:12:19.481Z"
   },
   {
    "duration": 10,
    "start_time": "2023-12-09T16:12:20.480Z"
   },
   {
    "duration": 14,
    "start_time": "2023-12-09T16:16:07.627Z"
   },
   {
    "duration": 12,
    "start_time": "2023-12-09T16:16:33.142Z"
   },
   {
    "duration": 9,
    "start_time": "2023-12-09T16:17:10.468Z"
   },
   {
    "duration": 16,
    "start_time": "2023-12-09T16:17:19.199Z"
   },
   {
    "duration": 23,
    "start_time": "2023-12-09T16:17:24.366Z"
   },
   {
    "duration": 12,
    "start_time": "2023-12-09T16:17:44.773Z"
   },
   {
    "duration": 11,
    "start_time": "2023-12-09T16:17:47.610Z"
   },
   {
    "duration": 9,
    "start_time": "2023-12-09T16:17:50.574Z"
   },
   {
    "duration": 8,
    "start_time": "2023-12-09T16:18:53.084Z"
   },
   {
    "duration": 12,
    "start_time": "2023-12-09T16:18:59.424Z"
   },
   {
    "duration": 19,
    "start_time": "2023-12-09T16:19:04.233Z"
   },
   {
    "duration": 3,
    "start_time": "2023-12-09T16:19:50.676Z"
   },
   {
    "duration": 123,
    "start_time": "2023-12-09T16:19:51.303Z"
   },
   {
    "duration": 8,
    "start_time": "2023-12-09T16:19:51.804Z"
   },
   {
    "duration": 9,
    "start_time": "2023-12-09T16:19:52.010Z"
   },
   {
    "duration": 10,
    "start_time": "2023-12-09T16:19:52.238Z"
   },
   {
    "duration": 6,
    "start_time": "2023-12-09T16:19:52.449Z"
   },
   {
    "duration": 9,
    "start_time": "2023-12-09T16:19:56.494Z"
   },
   {
    "duration": 10,
    "start_time": "2023-12-09T16:19:56.877Z"
   },
   {
    "duration": 10,
    "start_time": "2023-12-09T16:19:57.537Z"
   },
   {
    "duration": 5,
    "start_time": "2023-12-09T16:19:57.998Z"
   },
   {
    "duration": 6,
    "start_time": "2023-12-09T16:19:58.205Z"
   },
   {
    "duration": 5,
    "start_time": "2023-12-09T16:19:58.381Z"
   },
   {
    "duration": 7,
    "start_time": "2023-12-09T16:19:58.813Z"
   },
   {
    "duration": 5,
    "start_time": "2023-12-09T16:19:59.296Z"
   },
   {
    "duration": 7,
    "start_time": "2023-12-09T16:19:59.456Z"
   },
   {
    "duration": 6,
    "start_time": "2023-12-09T16:20:00.321Z"
   },
   {
    "duration": 153,
    "start_time": "2023-12-09T16:20:00.529Z"
   },
   {
    "duration": 6,
    "start_time": "2023-12-09T16:20:01.213Z"
   },
   {
    "duration": 90,
    "start_time": "2023-12-09T16:20:01.421Z"
   },
   {
    "duration": 5,
    "start_time": "2023-12-09T16:20:02.101Z"
   },
   {
    "duration": 260,
    "start_time": "2023-12-09T16:20:02.541Z"
   },
   {
    "duration": 771,
    "start_time": "2023-12-09T16:20:03.238Z"
   },
   {
    "duration": 254,
    "start_time": "2023-12-09T16:20:04.011Z"
   },
   {
    "duration": 10,
    "start_time": "2023-12-09T16:20:05.697Z"
   },
   {
    "duration": 16,
    "start_time": "2023-12-09T16:20:06.779Z"
   },
   {
    "duration": 3,
    "start_time": "2023-12-09T16:20:33.596Z"
   },
   {
    "duration": 7,
    "start_time": "2023-12-09T16:36:34.364Z"
   },
   {
    "duration": 13,
    "start_time": "2023-12-09T16:36:41.636Z"
   },
   {
    "duration": 14,
    "start_time": "2023-12-09T16:36:49.754Z"
   },
   {
    "duration": 13,
    "start_time": "2023-12-09T16:38:30.462Z"
   },
   {
    "duration": 296,
    "start_time": "2023-12-09T16:44:30.642Z"
   },
   {
    "duration": 317,
    "start_time": "2023-12-09T16:46:13.815Z"
   },
   {
    "duration": 7,
    "start_time": "2023-12-09T16:47:03.542Z"
   },
   {
    "duration": 4,
    "start_time": "2023-12-09T16:47:29.363Z"
   },
   {
    "duration": 4,
    "start_time": "2023-12-09T16:48:14.663Z"
   },
   {
    "duration": 309,
    "start_time": "2023-12-09T16:50:00.648Z"
   },
   {
    "duration": 291,
    "start_time": "2023-12-09T16:50:59.355Z"
   },
   {
    "duration": 283,
    "start_time": "2023-12-09T16:51:36.367Z"
   },
   {
    "duration": 281,
    "start_time": "2023-12-09T16:51:59.403Z"
   },
   {
    "duration": 4,
    "start_time": "2023-12-09T16:52:01.163Z"
   },
   {
    "duration": 336,
    "start_time": "2023-12-09T16:52:03.011Z"
   },
   {
    "duration": 319,
    "start_time": "2023-12-09T16:52:20.408Z"
   },
   {
    "duration": 4,
    "start_time": "2023-12-09T16:53:46.155Z"
   },
   {
    "duration": 561,
    "start_time": "2023-12-09T16:58:07.407Z"
   },
   {
    "duration": 5,
    "start_time": "2023-12-09T16:59:03.360Z"
   },
   {
    "duration": 4,
    "start_time": "2023-12-09T18:17:46.279Z"
   },
   {
    "duration": 13,
    "start_time": "2023-12-09T18:17:52.407Z"
   },
   {
    "duration": 3,
    "start_time": "2023-12-09T18:22:46.333Z"
   },
   {
    "duration": 55,
    "start_time": "2023-12-10T14:39:00.818Z"
   },
   {
    "duration": 826,
    "start_time": "2023-12-10T14:39:06.896Z"
   },
   {
    "duration": 284,
    "start_time": "2023-12-10T14:39:07.724Z"
   },
   {
    "duration": 13,
    "start_time": "2023-12-10T14:39:08.010Z"
   },
   {
    "duration": 14,
    "start_time": "2023-12-10T14:39:08.026Z"
   },
   {
    "duration": 29,
    "start_time": "2023-12-10T14:39:08.042Z"
   },
   {
    "duration": 49,
    "start_time": "2023-12-10T14:39:08.073Z"
   },
   {
    "duration": 27,
    "start_time": "2023-12-10T14:39:08.124Z"
   },
   {
    "duration": 29,
    "start_time": "2023-12-10T14:39:08.153Z"
   },
   {
    "duration": 31,
    "start_time": "2023-12-10T14:39:08.184Z"
   },
   {
    "duration": 9,
    "start_time": "2023-12-10T14:39:08.218Z"
   },
   {
    "duration": 30,
    "start_time": "2023-12-10T14:39:08.228Z"
   },
   {
    "duration": 21,
    "start_time": "2023-12-10T14:39:08.260Z"
   },
   {
    "duration": 25,
    "start_time": "2023-12-10T14:39:08.283Z"
   },
   {
    "duration": 16,
    "start_time": "2023-12-10T14:39:08.310Z"
   },
   {
    "duration": 8,
    "start_time": "2023-12-10T14:39:08.328Z"
   },
   {
    "duration": 15,
    "start_time": "2023-12-10T14:39:08.338Z"
   },
   {
    "duration": 219,
    "start_time": "2023-12-10T14:39:08.354Z"
   },
   {
    "duration": 6,
    "start_time": "2023-12-10T14:39:08.576Z"
   },
   {
    "duration": 134,
    "start_time": "2023-12-10T14:39:08.584Z"
   },
   {
    "duration": 5,
    "start_time": "2023-12-10T14:39:08.720Z"
   },
   {
    "duration": 299,
    "start_time": "2023-12-10T14:39:08.727Z"
   },
   {
    "duration": 683,
    "start_time": "2023-12-10T14:39:09.028Z"
   },
   {
    "duration": 327,
    "start_time": "2023-12-10T14:39:09.713Z"
   },
   {
    "duration": 11,
    "start_time": "2023-12-10T14:39:10.042Z"
   },
   {
    "duration": 33,
    "start_time": "2023-12-10T14:39:10.055Z"
   },
   {
    "duration": 3,
    "start_time": "2023-12-10T14:39:10.090Z"
   },
   {
    "duration": 18,
    "start_time": "2023-12-10T14:39:10.109Z"
   },
   {
    "duration": 16,
    "start_time": "2023-12-10T14:39:10.173Z"
   },
   {
    "duration": 338,
    "start_time": "2023-12-10T14:39:10.191Z"
   },
   {
    "duration": 4,
    "start_time": "2023-12-10T14:39:10.532Z"
   },
   {
    "duration": 352,
    "start_time": "2023-12-10T14:39:10.538Z"
   },
   {
    "duration": 6,
    "start_time": "2023-12-10T14:39:10.892Z"
   },
   {
    "duration": 417,
    "start_time": "2023-12-10T14:39:10.900Z"
   },
   {
    "duration": 6,
    "start_time": "2023-12-10T14:39:11.319Z"
   },
   {
    "duration": 343,
    "start_time": "2023-12-10T14:39:11.326Z"
   },
   {
    "duration": 6,
    "start_time": "2023-12-10T14:39:11.673Z"
   },
   {
    "duration": 17,
    "start_time": "2023-12-10T14:39:11.681Z"
   },
   {
    "duration": 68,
    "start_time": "2023-12-10T14:39:11.700Z"
   },
   {
    "duration": 33,
    "start_time": "2023-12-10T14:39:43.378Z"
   },
   {
    "duration": 32,
    "start_time": "2023-12-10T14:44:27.841Z"
   },
   {
    "duration": 32,
    "start_time": "2023-12-10T14:45:25.320Z"
   },
   {
    "duration": 46,
    "start_time": "2023-12-10T14:47:57.143Z"
   },
   {
    "duration": 5,
    "start_time": "2023-12-10T14:48:08.056Z"
   },
   {
    "duration": 13,
    "start_time": "2023-12-10T14:48:08.933Z"
   },
   {
    "duration": 13,
    "start_time": "2023-12-10T14:48:21.066Z"
   },
   {
    "duration": 35,
    "start_time": "2023-12-10T14:50:42.616Z"
   },
   {
    "duration": 43,
    "start_time": "2023-12-10T14:50:54.166Z"
   },
   {
    "duration": 36,
    "start_time": "2023-12-10T14:52:31.024Z"
   },
   {
    "duration": 37,
    "start_time": "2023-12-10T14:52:59.315Z"
   },
   {
    "duration": 56,
    "start_time": "2023-12-10T14:53:35.173Z"
   },
   {
    "duration": 54,
    "start_time": "2023-12-10T14:54:02.835Z"
   },
   {
    "duration": 49,
    "start_time": "2023-12-10T14:59:26.517Z"
   },
   {
    "duration": 5,
    "start_time": "2023-12-10T14:59:33.437Z"
   },
   {
    "duration": 190,
    "start_time": "2023-12-10T14:59:42.165Z"
   },
   {
    "duration": 17,
    "start_time": "2023-12-10T15:00:11.276Z"
   },
   {
    "duration": 216,
    "start_time": "2023-12-10T15:00:36.099Z"
   },
   {
    "duration": 190,
    "start_time": "2023-12-10T15:00:40.955Z"
   },
   {
    "duration": 56,
    "start_time": "2023-12-10T15:00:49.996Z"
   },
   {
    "duration": 217,
    "start_time": "2023-12-10T15:00:53.805Z"
   },
   {
    "duration": 3,
    "start_time": "2023-12-10T15:01:09.941Z"
   },
   {
    "duration": 129,
    "start_time": "2023-12-10T15:01:10.448Z"
   },
   {
    "duration": 8,
    "start_time": "2023-12-10T15:01:10.579Z"
   },
   {
    "duration": 14,
    "start_time": "2023-12-10T15:01:10.589Z"
   },
   {
    "duration": 28,
    "start_time": "2023-12-10T15:01:10.605Z"
   },
   {
    "duration": 14,
    "start_time": "2023-12-10T15:01:10.635Z"
   },
   {
    "duration": 7,
    "start_time": "2023-12-10T15:01:10.718Z"
   },
   {
    "duration": 10,
    "start_time": "2023-12-10T15:01:10.781Z"
   },
   {
    "duration": 10,
    "start_time": "2023-12-10T15:01:10.881Z"
   },
   {
    "duration": 6,
    "start_time": "2023-12-10T15:01:10.938Z"
   },
   {
    "duration": 6,
    "start_time": "2023-12-10T15:01:10.968Z"
   },
   {
    "duration": 7,
    "start_time": "2023-12-10T15:01:10.997Z"
   },
   {
    "duration": 7,
    "start_time": "2023-12-10T15:01:11.057Z"
   },
   {
    "duration": 7,
    "start_time": "2023-12-10T15:01:11.116Z"
   },
   {
    "duration": 7,
    "start_time": "2023-12-10T15:01:11.146Z"
   },
   {
    "duration": 6,
    "start_time": "2023-12-10T15:01:11.266Z"
   },
   {
    "duration": 163,
    "start_time": "2023-12-10T15:01:11.295Z"
   },
   {
    "duration": 5,
    "start_time": "2023-12-10T15:01:11.460Z"
   },
   {
    "duration": 100,
    "start_time": "2023-12-10T15:01:11.466Z"
   },
   {
    "duration": 7,
    "start_time": "2023-12-10T15:01:11.568Z"
   },
   {
    "duration": 290,
    "start_time": "2023-12-10T15:01:11.577Z"
   },
   {
    "duration": 698,
    "start_time": "2023-12-10T15:01:11.869Z"
   },
   {
    "duration": 281,
    "start_time": "2023-12-10T15:01:12.569Z"
   },
   {
    "duration": 10,
    "start_time": "2023-12-10T15:01:12.852Z"
   },
   {
    "duration": 16,
    "start_time": "2023-12-10T15:01:12.873Z"
   },
   {
    "duration": 3,
    "start_time": "2023-12-10T15:01:12.891Z"
   },
   {
    "duration": 21,
    "start_time": "2023-12-10T15:01:12.895Z"
   },
   {
    "duration": 15,
    "start_time": "2023-12-10T15:01:12.996Z"
   },
   {
    "duration": 323,
    "start_time": "2023-12-10T15:01:13.116Z"
   },
   {
    "duration": 4,
    "start_time": "2023-12-10T15:01:13.441Z"
   },
   {
    "duration": 333,
    "start_time": "2023-12-10T15:01:13.447Z"
   },
   {
    "duration": 6,
    "start_time": "2023-12-10T15:01:13.943Z"
   },
   {
    "duration": 312,
    "start_time": "2023-12-10T15:01:14.661Z"
   },
   {
    "duration": 5,
    "start_time": "2023-12-10T15:01:14.975Z"
   },
   {
    "duration": 465,
    "start_time": "2023-12-10T15:01:15.370Z"
   },
   {
    "duration": 6,
    "start_time": "2023-12-10T15:01:15.836Z"
   },
   {
    "duration": 3,
    "start_time": "2023-12-10T15:01:18.759Z"
   },
   {
    "duration": 12,
    "start_time": "2023-12-10T15:01:19.810Z"
   },
   {
    "duration": 53,
    "start_time": "2023-12-10T15:01:24.559Z"
   },
   {
    "duration": 212,
    "start_time": "2023-12-10T15:01:29.799Z"
   },
   {
    "duration": 18,
    "start_time": "2023-12-10T15:01:41.458Z"
   },
   {
    "duration": 56,
    "start_time": "2023-12-10T15:03:49.128Z"
   },
   {
    "duration": 20,
    "start_time": "2023-12-10T15:03:54.664Z"
   },
   {
    "duration": 7,
    "start_time": "2023-12-10T15:32:39.939Z"
   },
   {
    "duration": 12,
    "start_time": "2023-12-10T15:32:59.832Z"
   },
   {
    "duration": 5,
    "start_time": "2023-12-10T15:37:15.409Z"
   },
   {
    "duration": 20,
    "start_time": "2023-12-10T15:37:22.572Z"
   },
   {
    "duration": 4,
    "start_time": "2023-12-10T15:37:52.986Z"
   },
   {
    "duration": 13,
    "start_time": "2023-12-10T15:38:30.136Z"
   },
   {
    "duration": 6,
    "start_time": "2023-12-10T15:46:09.258Z"
   },
   {
    "duration": 14,
    "start_time": "2023-12-10T15:46:09.897Z"
   },
   {
    "duration": 9,
    "start_time": "2023-12-10T15:51:13.415Z"
   },
   {
    "duration": 448,
    "start_time": "2023-12-10T15:51:43.040Z"
   },
   {
    "duration": 278,
    "start_time": "2023-12-10T15:51:45.073Z"
   },
   {
    "duration": 8,
    "start_time": "2023-12-10T15:51:45.353Z"
   },
   {
    "duration": 15,
    "start_time": "2023-12-10T15:51:45.362Z"
   },
   {
    "duration": 14,
    "start_time": "2023-12-10T15:51:45.379Z"
   },
   {
    "duration": 6,
    "start_time": "2023-12-10T15:51:45.395Z"
   },
   {
    "duration": 22,
    "start_time": "2023-12-10T15:51:45.403Z"
   },
   {
    "duration": 19,
    "start_time": "2023-12-10T15:51:45.427Z"
   },
   {
    "duration": 11,
    "start_time": "2023-12-10T15:51:45.501Z"
   },
   {
    "duration": 6,
    "start_time": "2023-12-10T15:51:45.562Z"
   },
   {
    "duration": 5,
    "start_time": "2023-12-10T15:51:45.591Z"
   },
   {
    "duration": 5,
    "start_time": "2023-12-10T15:51:45.621Z"
   },
   {
    "duration": 8,
    "start_time": "2023-12-10T15:51:45.688Z"
   },
   {
    "duration": 6,
    "start_time": "2023-12-10T15:51:45.748Z"
   },
   {
    "duration": 7,
    "start_time": "2023-12-10T15:51:45.784Z"
   },
   {
    "duration": 6,
    "start_time": "2023-12-10T15:51:45.897Z"
   },
   {
    "duration": 163,
    "start_time": "2023-12-10T15:51:45.928Z"
   },
   {
    "duration": 6,
    "start_time": "2023-12-10T15:51:46.093Z"
   },
   {
    "duration": 159,
    "start_time": "2023-12-10T15:51:46.101Z"
   },
   {
    "duration": 15,
    "start_time": "2023-12-10T15:51:46.262Z"
   },
   {
    "duration": 305,
    "start_time": "2023-12-10T15:51:46.278Z"
   },
   {
    "duration": 767,
    "start_time": "2023-12-10T15:51:47.325Z"
   },
   {
    "duration": 288,
    "start_time": "2023-12-10T15:51:48.093Z"
   },
   {
    "duration": 12,
    "start_time": "2023-12-10T15:51:48.383Z"
   },
   {
    "duration": 22,
    "start_time": "2023-12-10T15:51:48.397Z"
   },
   {
    "duration": 4,
    "start_time": "2023-12-10T15:51:48.421Z"
   },
   {
    "duration": 32,
    "start_time": "2023-12-10T15:51:48.427Z"
   },
   {
    "duration": 25,
    "start_time": "2023-12-10T15:51:48.460Z"
   },
   {
    "duration": 336,
    "start_time": "2023-12-10T15:51:48.487Z"
   },
   {
    "duration": 5,
    "start_time": "2023-12-10T15:51:48.825Z"
   },
   {
    "duration": 338,
    "start_time": "2023-12-10T15:51:48.832Z"
   },
   {
    "duration": 5,
    "start_time": "2023-12-10T15:51:49.174Z"
   },
   {
    "duration": 341,
    "start_time": "2023-12-10T15:51:49.180Z"
   },
   {
    "duration": 5,
    "start_time": "2023-12-10T15:51:49.523Z"
   },
   {
    "duration": 341,
    "start_time": "2023-12-10T15:51:49.530Z"
   },
   {
    "duration": 4,
    "start_time": "2023-12-10T15:51:49.874Z"
   },
   {
    "duration": 10,
    "start_time": "2023-12-10T15:51:49.880Z"
   },
   {
    "duration": 22,
    "start_time": "2023-12-10T15:51:49.892Z"
   },
   {
    "duration": 70,
    "start_time": "2023-12-10T15:51:49.915Z"
   },
   {
    "duration": 19,
    "start_time": "2023-12-10T15:51:50.197Z"
   },
   {
    "duration": 6,
    "start_time": "2023-12-10T15:51:51.406Z"
   },
   {
    "duration": 14,
    "start_time": "2023-12-10T15:51:51.824Z"
   },
   {
    "duration": 5,
    "start_time": "2023-12-10T15:51:53.810Z"
   },
   {
    "duration": 8,
    "start_time": "2023-12-10T16:09:01.834Z"
   },
   {
    "duration": 6,
    "start_time": "2023-12-10T16:10:21.911Z"
   },
   {
    "duration": 7,
    "start_time": "2023-12-10T16:11:14.139Z"
   },
   {
    "duration": 4,
    "start_time": "2023-12-10T16:13:07.684Z"
   },
   {
    "duration": 5,
    "start_time": "2023-12-10T16:13:13.925Z"
   },
   {
    "duration": 7,
    "start_time": "2023-12-10T16:14:03.885Z"
   },
   {
    "duration": 6,
    "start_time": "2023-12-10T16:14:08.193Z"
   },
   {
    "duration": 6,
    "start_time": "2023-12-10T16:16:05.831Z"
   },
   {
    "duration": 5,
    "start_time": "2023-12-10T16:16:45.317Z"
   },
   {
    "duration": 56,
    "start_time": "2023-12-10T16:23:43.312Z"
   },
   {
    "duration": 7,
    "start_time": "2023-12-10T16:23:48.679Z"
   },
   {
    "duration": 7,
    "start_time": "2023-12-10T16:23:59.315Z"
   },
   {
    "duration": 10,
    "start_time": "2023-12-10T16:24:38.563Z"
   },
   {
    "duration": 5,
    "start_time": "2023-12-10T16:26:54.575Z"
   },
   {
    "duration": 10,
    "start_time": "2023-12-10T16:29:25.018Z"
   },
   {
    "duration": 10,
    "start_time": "2023-12-10T16:32:16.426Z"
   },
   {
    "duration": 9,
    "start_time": "2023-12-10T16:33:12.632Z"
   },
   {
    "duration": 5,
    "start_time": "2023-12-10T16:43:35.150Z"
   },
   {
    "duration": 5,
    "start_time": "2023-12-10T16:43:41.561Z"
   },
   {
    "duration": 5,
    "start_time": "2023-12-10T16:43:46.013Z"
   },
   {
    "duration": 1078,
    "start_time": "2023-12-10T17:26:45.234Z"
   },
   {
    "duration": 207,
    "start_time": "2023-12-10T17:26:46.314Z"
   },
   {
    "duration": 12,
    "start_time": "2023-12-10T17:26:46.522Z"
   },
   {
    "duration": 8,
    "start_time": "2023-12-10T17:26:46.535Z"
   },
   {
    "duration": 12,
    "start_time": "2023-12-10T17:26:46.545Z"
   },
   {
    "duration": 6,
    "start_time": "2023-12-10T17:26:46.558Z"
   },
   {
    "duration": 15,
    "start_time": "2023-12-10T17:26:46.565Z"
   },
   {
    "duration": 14,
    "start_time": "2023-12-10T17:26:46.581Z"
   },
   {
    "duration": 17,
    "start_time": "2023-12-10T17:26:46.596Z"
   },
   {
    "duration": 16,
    "start_time": "2023-12-10T17:26:46.614Z"
   },
   {
    "duration": 12,
    "start_time": "2023-12-10T17:26:46.631Z"
   },
   {
    "duration": 13,
    "start_time": "2023-12-10T17:26:46.644Z"
   },
   {
    "duration": 10,
    "start_time": "2023-12-10T17:26:46.658Z"
   },
   {
    "duration": 4,
    "start_time": "2023-12-10T17:26:46.671Z"
   },
   {
    "duration": 16,
    "start_time": "2023-12-10T17:26:46.677Z"
   },
   {
    "duration": 31,
    "start_time": "2023-12-10T17:26:46.694Z"
   },
   {
    "duration": 185,
    "start_time": "2023-12-10T17:26:46.727Z"
   },
   {
    "duration": 6,
    "start_time": "2023-12-10T17:26:46.913Z"
   },
   {
    "duration": 103,
    "start_time": "2023-12-10T17:26:46.920Z"
   },
   {
    "duration": 4,
    "start_time": "2023-12-10T17:26:47.025Z"
   },
   {
    "duration": 288,
    "start_time": "2023-12-10T17:26:47.031Z"
   },
   {
    "duration": 557,
    "start_time": "2023-12-10T17:26:47.321Z"
   },
   {
    "duration": 326,
    "start_time": "2023-12-10T17:26:47.880Z"
   },
   {
    "duration": 10,
    "start_time": "2023-12-10T17:26:48.207Z"
   },
   {
    "duration": 38,
    "start_time": "2023-12-10T17:26:48.219Z"
   },
   {
    "duration": 5,
    "start_time": "2023-12-10T17:26:48.258Z"
   },
   {
    "duration": 23,
    "start_time": "2023-12-10T17:26:48.264Z"
   },
   {
    "duration": 27,
    "start_time": "2023-12-10T17:26:48.289Z"
   },
   {
    "duration": 296,
    "start_time": "2023-12-10T17:26:48.317Z"
   },
   {
    "duration": 5,
    "start_time": "2023-12-10T17:26:48.614Z"
   },
   {
    "duration": 331,
    "start_time": "2023-12-10T17:26:48.620Z"
   },
   {
    "duration": 4,
    "start_time": "2023-12-10T17:26:48.953Z"
   },
   {
    "duration": 323,
    "start_time": "2023-12-10T17:26:48.959Z"
   },
   {
    "duration": 7,
    "start_time": "2023-12-10T17:26:49.283Z"
   },
   {
    "duration": 323,
    "start_time": "2023-12-10T17:26:49.292Z"
   },
   {
    "duration": 6,
    "start_time": "2023-12-10T17:26:49.617Z"
   },
   {
    "duration": 3,
    "start_time": "2023-12-10T17:26:49.625Z"
   },
   {
    "duration": 32,
    "start_time": "2023-12-10T17:26:49.629Z"
   },
   {
    "duration": 63,
    "start_time": "2023-12-10T17:26:49.662Z"
   },
   {
    "duration": 16,
    "start_time": "2023-12-10T17:26:49.727Z"
   },
   {
    "duration": 141,
    "start_time": "2023-12-10T17:26:49.747Z"
   },
   {
    "duration": 60,
    "start_time": "2023-12-10T17:26:49.890Z"
   },
   {
    "duration": 19,
    "start_time": "2023-12-10T17:26:49.952Z"
   },
   {
    "duration": 23,
    "start_time": "2023-12-10T17:26:49.973Z"
   },
   {
    "duration": 40,
    "start_time": "2023-12-10T17:26:49.998Z"
   },
   {
    "duration": 107,
    "start_time": "2023-12-10T17:26:50.039Z"
   },
   {
    "duration": 1075,
    "start_time": "2023-12-10T17:33:44.079Z"
   },
   {
    "duration": 146,
    "start_time": "2023-12-10T17:33:45.156Z"
   },
   {
    "duration": 12,
    "start_time": "2023-12-10T17:33:45.303Z"
   },
   {
    "duration": 8,
    "start_time": "2023-12-10T17:33:45.318Z"
   },
   {
    "duration": 30,
    "start_time": "2023-12-10T17:33:45.327Z"
   },
   {
    "duration": 21,
    "start_time": "2023-12-10T17:33:45.358Z"
   },
   {
    "duration": 30,
    "start_time": "2023-12-10T17:33:45.381Z"
   },
   {
    "duration": 9,
    "start_time": "2023-12-10T17:33:45.413Z"
   },
   {
    "duration": 10,
    "start_time": "2023-12-10T17:33:45.424Z"
   },
   {
    "duration": 21,
    "start_time": "2023-12-10T17:33:45.436Z"
   },
   {
    "duration": 6,
    "start_time": "2023-12-10T17:33:45.458Z"
   },
   {
    "duration": 5,
    "start_time": "2023-12-10T17:33:45.465Z"
   },
   {
    "duration": 9,
    "start_time": "2023-12-10T17:33:45.471Z"
   },
   {
    "duration": 16,
    "start_time": "2023-12-10T17:33:45.481Z"
   },
   {
    "duration": 20,
    "start_time": "2023-12-10T17:33:45.498Z"
   },
   {
    "duration": 7,
    "start_time": "2023-12-10T17:33:45.519Z"
   },
   {
    "duration": 190,
    "start_time": "2023-12-10T17:33:45.527Z"
   },
   {
    "duration": 6,
    "start_time": "2023-12-10T17:33:45.719Z"
   },
   {
    "duration": 116,
    "start_time": "2023-12-10T17:33:45.726Z"
   },
   {
    "duration": 4,
    "start_time": "2023-12-10T17:33:45.844Z"
   },
   {
    "duration": 293,
    "start_time": "2023-12-10T17:33:45.850Z"
   },
   {
    "duration": 574,
    "start_time": "2023-12-10T17:33:46.144Z"
   },
   {
    "duration": 326,
    "start_time": "2023-12-10T17:33:46.720Z"
   },
   {
    "duration": 10,
    "start_time": "2023-12-10T17:33:47.048Z"
   },
   {
    "duration": 31,
    "start_time": "2023-12-10T17:33:47.059Z"
   },
   {
    "duration": 3,
    "start_time": "2023-12-10T17:33:47.092Z"
   },
   {
    "duration": 17,
    "start_time": "2023-12-10T17:33:47.096Z"
   },
   {
    "duration": 13,
    "start_time": "2023-12-10T17:33:47.116Z"
   },
   {
    "duration": 334,
    "start_time": "2023-12-10T17:33:47.130Z"
   },
   {
    "duration": 4,
    "start_time": "2023-12-10T17:33:47.465Z"
   },
   {
    "duration": 317,
    "start_time": "2023-12-10T17:33:47.470Z"
   },
   {
    "duration": 5,
    "start_time": "2023-12-10T17:33:47.788Z"
   },
   {
    "duration": 323,
    "start_time": "2023-12-10T17:33:47.794Z"
   },
   {
    "duration": 5,
    "start_time": "2023-12-10T17:33:48.118Z"
   },
   {
    "duration": 326,
    "start_time": "2023-12-10T17:33:48.124Z"
   },
   {
    "duration": 5,
    "start_time": "2023-12-10T17:33:48.452Z"
   },
   {
    "duration": 12,
    "start_time": "2023-12-10T17:33:48.459Z"
   },
   {
    "duration": 22,
    "start_time": "2023-12-10T17:33:48.473Z"
   },
   {
    "duration": 75,
    "start_time": "2023-12-10T17:33:48.497Z"
   },
   {
    "duration": 17,
    "start_time": "2023-12-10T17:33:48.575Z"
   },
   {
    "duration": 5,
    "start_time": "2023-12-10T17:33:48.594Z"
   },
   {
    "duration": 21,
    "start_time": "2023-12-10T17:33:48.601Z"
   },
   {
    "duration": 14,
    "start_time": "2023-12-10T17:33:48.623Z"
   },
   {
    "duration": 18,
    "start_time": "2023-12-10T17:33:48.638Z"
   },
   {
    "duration": 9,
    "start_time": "2023-12-10T17:33:48.657Z"
   },
   {
    "duration": 97,
    "start_time": "2023-12-10T17:33:48.668Z"
   },
   {
    "duration": 8,
    "start_time": "2023-12-10T17:52:48.120Z"
   },
   {
    "duration": 1055,
    "start_time": "2023-12-10T17:53:35.892Z"
   },
   {
    "duration": 217,
    "start_time": "2023-12-10T17:53:36.949Z"
   },
   {
    "duration": 11,
    "start_time": "2023-12-10T17:53:37.167Z"
   },
   {
    "duration": 15,
    "start_time": "2023-12-10T17:53:37.180Z"
   },
   {
    "duration": 34,
    "start_time": "2023-12-10T17:53:37.197Z"
   },
   {
    "duration": 11,
    "start_time": "2023-12-10T17:53:37.233Z"
   },
   {
    "duration": 15,
    "start_time": "2023-12-10T17:53:37.245Z"
   },
   {
    "duration": 10,
    "start_time": "2023-12-10T17:53:37.262Z"
   },
   {
    "duration": 10,
    "start_time": "2023-12-10T17:53:37.274Z"
   },
   {
    "duration": 17,
    "start_time": "2023-12-10T17:53:37.285Z"
   },
   {
    "duration": 8,
    "start_time": "2023-12-10T17:53:37.304Z"
   },
   {
    "duration": 5,
    "start_time": "2023-12-10T17:53:37.314Z"
   },
   {
    "duration": 6,
    "start_time": "2023-12-10T17:53:37.321Z"
   },
   {
    "duration": 5,
    "start_time": "2023-12-10T17:53:37.330Z"
   },
   {
    "duration": 6,
    "start_time": "2023-12-10T17:53:37.336Z"
   },
   {
    "duration": 14,
    "start_time": "2023-12-10T17:53:37.344Z"
   },
   {
    "duration": 207,
    "start_time": "2023-12-10T17:53:37.360Z"
   },
   {
    "duration": 6,
    "start_time": "2023-12-10T17:53:37.569Z"
   },
   {
    "duration": 95,
    "start_time": "2023-12-10T17:53:37.576Z"
   },
   {
    "duration": 4,
    "start_time": "2023-12-10T17:53:37.673Z"
   },
   {
    "duration": 278,
    "start_time": "2023-12-10T17:53:37.679Z"
   },
   {
    "duration": 569,
    "start_time": "2023-12-10T17:53:37.959Z"
   },
   {
    "duration": 338,
    "start_time": "2023-12-10T17:53:38.530Z"
   },
   {
    "duration": 24,
    "start_time": "2023-12-10T17:53:38.869Z"
   },
   {
    "duration": 17,
    "start_time": "2023-12-10T17:53:38.895Z"
   },
   {
    "duration": 3,
    "start_time": "2023-12-10T17:53:38.914Z"
   },
   {
    "duration": 16,
    "start_time": "2023-12-10T17:53:38.919Z"
   },
   {
    "duration": 14,
    "start_time": "2023-12-10T17:53:38.937Z"
   },
   {
    "duration": 347,
    "start_time": "2023-12-10T17:53:38.953Z"
   },
   {
    "duration": 6,
    "start_time": "2023-12-10T17:53:39.302Z"
   },
   {
    "duration": 333,
    "start_time": "2023-12-10T17:53:39.309Z"
   },
   {
    "duration": 6,
    "start_time": "2023-12-10T17:53:39.644Z"
   },
   {
    "duration": 333,
    "start_time": "2023-12-10T17:53:39.651Z"
   },
   {
    "duration": 5,
    "start_time": "2023-12-10T17:53:39.988Z"
   },
   {
    "duration": 327,
    "start_time": "2023-12-10T17:53:39.995Z"
   },
   {
    "duration": 5,
    "start_time": "2023-12-10T17:53:40.324Z"
   },
   {
    "duration": 20,
    "start_time": "2023-12-10T17:53:40.331Z"
   },
   {
    "duration": 26,
    "start_time": "2023-12-10T17:53:40.352Z"
   },
   {
    "duration": 57,
    "start_time": "2023-12-10T17:53:40.379Z"
   },
   {
    "duration": 17,
    "start_time": "2023-12-10T17:53:40.438Z"
   },
   {
    "duration": 8,
    "start_time": "2023-12-10T17:53:40.458Z"
   },
   {
    "duration": 22,
    "start_time": "2023-12-10T17:53:40.467Z"
   },
   {
    "duration": 5,
    "start_time": "2023-12-10T17:53:40.490Z"
   },
   {
    "duration": 16,
    "start_time": "2023-12-10T17:53:40.496Z"
   },
   {
    "duration": 11,
    "start_time": "2023-12-10T17:53:40.514Z"
   },
   {
    "duration": 100,
    "start_time": "2023-12-10T17:53:40.527Z"
   },
   {
    "duration": 10,
    "start_time": "2023-12-10T18:11:42.808Z"
   },
   {
    "duration": 11,
    "start_time": "2023-12-10T18:11:52.217Z"
   },
   {
    "duration": 18825,
    "start_time": "2023-12-10T18:13:29.055Z"
   },
   {
    "duration": 3,
    "start_time": "2023-12-10T18:13:50.094Z"
   },
   {
    "duration": 145,
    "start_time": "2023-12-10T18:13:50.695Z"
   },
   {
    "duration": 7,
    "start_time": "2023-12-10T18:13:50.842Z"
   },
   {
    "duration": 39,
    "start_time": "2023-12-10T18:13:50.851Z"
   },
   {
    "duration": 16,
    "start_time": "2023-12-10T18:13:50.892Z"
   },
   {
    "duration": 17,
    "start_time": "2023-12-10T18:13:50.910Z"
   },
   {
    "duration": 6,
    "start_time": "2023-12-10T18:13:50.929Z"
   },
   {
    "duration": 17,
    "start_time": "2023-12-10T18:13:50.937Z"
   },
   {
    "duration": 7,
    "start_time": "2023-12-10T18:13:51.057Z"
   },
   {
    "duration": 11,
    "start_time": "2023-12-10T18:13:54.024Z"
   },
   {
    "duration": 13,
    "start_time": "2023-12-10T18:13:54.119Z"
   },
   {
    "duration": 7,
    "start_time": "2023-12-10T18:13:54.209Z"
   },
   {
    "duration": 7,
    "start_time": "2023-12-10T18:13:54.238Z"
   },
   {
    "duration": 6,
    "start_time": "2023-12-10T18:13:54.269Z"
   },
   {
    "duration": 6,
    "start_time": "2023-12-10T18:13:54.335Z"
   },
   {
    "duration": 7,
    "start_time": "2023-12-10T18:13:54.390Z"
   },
   {
    "duration": 6,
    "start_time": "2023-12-10T18:13:54.424Z"
   },
   {
    "duration": 6,
    "start_time": "2023-12-10T18:13:55.663Z"
   },
   {
    "duration": 178,
    "start_time": "2023-12-10T18:13:56.199Z"
   },
   {
    "duration": 6,
    "start_time": "2023-12-10T18:14:05.007Z"
   },
   {
    "duration": 102,
    "start_time": "2023-12-10T18:14:05.293Z"
   },
   {
    "duration": 4,
    "start_time": "2023-12-10T18:14:07.235Z"
   },
   {
    "duration": 19227,
    "start_time": "2023-12-10T18:14:09.316Z"
   },
   {
    "duration": 19865,
    "start_time": "2023-12-10T18:15:02.786Z"
   },
   {
    "duration": 6,
    "start_time": "2023-12-10T19:02:24.454Z"
   },
   {
    "duration": 19640,
    "start_time": "2023-12-10T19:03:52.397Z"
   },
   {
    "duration": 53,
    "start_time": "2023-12-10T19:05:45.932Z"
   },
   {
    "duration": 1047,
    "start_time": "2023-12-10T19:06:45.220Z"
   },
   {
    "duration": 315,
    "start_time": "2023-12-10T19:07:00.468Z"
   },
   {
    "duration": 19822,
    "start_time": "2023-12-10T19:10:01.495Z"
   },
   {
    "duration": 19851,
    "start_time": "2023-12-10T19:10:33.188Z"
   },
   {
    "duration": 3,
    "start_time": "2023-12-10T19:11:10.584Z"
   },
   {
    "duration": 382,
    "start_time": "2023-12-10T19:11:11.678Z"
   },
   {
    "duration": 9,
    "start_time": "2023-12-10T19:11:12.062Z"
   },
   {
    "duration": 27,
    "start_time": "2023-12-10T19:11:12.072Z"
   },
   {
    "duration": 39,
    "start_time": "2023-12-10T19:11:12.101Z"
   },
   {
    "duration": 11,
    "start_time": "2023-12-10T19:11:12.252Z"
   },
   {
    "duration": 8,
    "start_time": "2023-12-10T19:11:12.525Z"
   },
   {
    "duration": 11,
    "start_time": "2023-12-10T19:11:13.044Z"
   },
   {
    "duration": 7,
    "start_time": "2023-12-10T19:11:13.250Z"
   },
   {
    "duration": 11,
    "start_time": "2023-12-10T19:11:13.733Z"
   },
   {
    "duration": 11,
    "start_time": "2023-12-10T19:11:14.830Z"
   },
   {
    "duration": 6,
    "start_time": "2023-12-10T19:11:15.066Z"
   },
   {
    "duration": 6,
    "start_time": "2023-12-10T19:11:16.276Z"
   },
   {
    "duration": 6,
    "start_time": "2023-12-10T19:11:16.784Z"
   },
   {
    "duration": 5,
    "start_time": "2023-12-10T19:11:16.813Z"
   },
   {
    "duration": 6,
    "start_time": "2023-12-10T19:11:16.882Z"
   },
   {
    "duration": 5,
    "start_time": "2023-12-10T19:11:16.936Z"
   },
   {
    "duration": 7,
    "start_time": "2023-12-10T19:11:16.970Z"
   },
   {
    "duration": 6,
    "start_time": "2023-12-10T19:11:17.889Z"
   },
   {
    "duration": 170,
    "start_time": "2023-12-10T19:11:18.395Z"
   },
   {
    "duration": 11,
    "start_time": "2023-12-10T19:11:18.567Z"
   },
   {
    "duration": 114,
    "start_time": "2023-12-10T19:11:18.580Z"
   },
   {
    "duration": 5,
    "start_time": "2023-12-10T19:11:19.342Z"
   },
   {
    "duration": 19859,
    "start_time": "2023-12-10T19:11:20.249Z"
   },
   {
    "duration": 607,
    "start_time": "2023-12-10T19:11:40.110Z"
   },
   {
    "duration": 291,
    "start_time": "2023-12-10T19:11:40.719Z"
   },
   {
    "duration": 320,
    "start_time": "2023-12-10T19:11:41.013Z"
   },
   {
    "duration": 5,
    "start_time": "2023-12-10T19:13:25.984Z"
   },
   {
    "duration": 627,
    "start_time": "2023-12-10T19:19:56.524Z"
   },
   {
    "duration": 724,
    "start_time": "2023-12-10T19:20:32.366Z"
   },
   {
    "duration": 83,
    "start_time": "2023-12-10T19:20:56.682Z"
   },
   {
    "duration": 222,
    "start_time": "2023-12-10T19:21:52.711Z"
   },
   {
    "duration": 204,
    "start_time": "2023-12-10T19:21:59.541Z"
   },
   {
    "duration": 261,
    "start_time": "2023-12-10T19:23:25.883Z"
   },
   {
    "duration": 582,
    "start_time": "2023-12-10T19:23:42.369Z"
   },
   {
    "duration": 477,
    "start_time": "2023-12-10T19:24:01.516Z"
   },
   {
    "duration": 1661,
    "start_time": "2023-12-10T19:25:22.194Z"
   },
   {
    "duration": 493,
    "start_time": "2023-12-10T19:26:25.973Z"
   },
   {
    "duration": 6,
    "start_time": "2023-12-10T19:29:25.310Z"
   },
   {
    "duration": 22070,
    "start_time": "2023-12-10T19:30:32.066Z"
   },
   {
    "duration": 18754,
    "start_time": "2023-12-10T19:30:59.005Z"
   },
   {
    "duration": 19934,
    "start_time": "2023-12-10T19:31:40.229Z"
   },
   {
    "duration": 3,
    "start_time": "2023-12-10T19:32:34.256Z"
   },
   {
    "duration": 208,
    "start_time": "2023-12-10T19:32:35.303Z"
   },
   {
    "duration": 8,
    "start_time": "2023-12-10T19:32:35.895Z"
   },
   {
    "duration": 11,
    "start_time": "2023-12-10T19:32:36.129Z"
   },
   {
    "duration": 8,
    "start_time": "2023-12-10T19:32:36.378Z"
   },
   {
    "duration": 11,
    "start_time": "2023-12-10T19:32:36.753Z"
   },
   {
    "duration": 7,
    "start_time": "2023-12-10T19:32:36.948Z"
   },
   {
    "duration": 11,
    "start_time": "2023-12-10T19:32:37.173Z"
   },
   {
    "duration": 8,
    "start_time": "2023-12-10T19:32:38.575Z"
   },
   {
    "duration": 11,
    "start_time": "2023-12-10T19:32:39.267Z"
   },
   {
    "duration": 11,
    "start_time": "2023-12-10T19:32:40.176Z"
   },
   {
    "duration": 6,
    "start_time": "2023-12-10T19:32:40.419Z"
   },
   {
    "duration": 7,
    "start_time": "2023-12-10T19:32:41.342Z"
   },
   {
    "duration": 6,
    "start_time": "2023-12-10T19:32:41.565Z"
   },
   {
    "duration": 6,
    "start_time": "2023-12-10T19:32:41.786Z"
   },
   {
    "duration": 7,
    "start_time": "2023-12-10T19:32:42.257Z"
   },
   {
    "duration": 6,
    "start_time": "2023-12-10T19:32:42.716Z"
   },
   {
    "duration": 7,
    "start_time": "2023-12-10T19:32:42.933Z"
   },
   {
    "duration": 7,
    "start_time": "2023-12-10T19:32:44.048Z"
   },
   {
    "duration": 186,
    "start_time": "2023-12-10T19:32:44.274Z"
   },
   {
    "duration": 6,
    "start_time": "2023-12-10T19:32:45.267Z"
   },
   {
    "duration": 98,
    "start_time": "2023-12-10T19:32:45.806Z"
   },
   {
    "duration": 5,
    "start_time": "2023-12-10T19:32:47.148Z"
   },
   {
    "duration": 18661,
    "start_time": "2023-12-10T19:32:47.990Z"
   },
   {
    "duration": 14,
    "start_time": "2023-12-10T19:34:13.327Z"
   },
   {
    "duration": 6,
    "start_time": "2023-12-10T19:34:28.814Z"
   },
   {
    "duration": 9,
    "start_time": "2023-12-10T19:35:05.738Z"
   },
   {
    "duration": 5,
    "start_time": "2023-12-10T19:35:11.681Z"
   },
   {
    "duration": 6,
    "start_time": "2023-12-10T19:35:18.749Z"
   },
   {
    "duration": 8,
    "start_time": "2023-12-10T19:35:30.381Z"
   },
   {
    "duration": 6,
    "start_time": "2023-12-10T19:35:40.939Z"
   },
   {
    "duration": 9,
    "start_time": "2023-12-10T19:35:59.240Z"
   },
   {
    "duration": 7,
    "start_time": "2023-12-10T19:36:16.470Z"
   },
   {
    "duration": 6,
    "start_time": "2023-12-10T19:36:33.093Z"
   },
   {
    "duration": 7,
    "start_time": "2023-12-10T19:36:46.011Z"
   },
   {
    "duration": 291,
    "start_time": "2023-12-10T19:37:14.156Z"
   },
   {
    "duration": 4,
    "start_time": "2023-12-10T19:38:26.472Z"
   },
   {
    "duration": 8,
    "start_time": "2023-12-10T19:38:31.021Z"
   },
   {
    "duration": 7,
    "start_time": "2023-12-10T19:38:47.242Z"
   },
   {
    "duration": 9,
    "start_time": "2023-12-10T19:39:21.013Z"
   },
   {
    "duration": 7,
    "start_time": "2023-12-10T19:39:28.651Z"
   },
   {
    "duration": 12,
    "start_time": "2023-12-10T19:39:45.140Z"
   },
   {
    "duration": 4,
    "start_time": "2023-12-10T19:40:12.912Z"
   },
   {
    "duration": 5,
    "start_time": "2023-12-10T19:42:12.267Z"
   },
   {
    "duration": 4,
    "start_time": "2023-12-10T19:42:26.174Z"
   },
   {
    "duration": 11,
    "start_time": "2023-12-10T19:42:46.817Z"
   },
   {
    "duration": 3,
    "start_time": "2023-12-10T19:42:59.347Z"
   },
   {
    "duration": 5,
    "start_time": "2023-12-10T19:45:20.052Z"
   },
   {
    "duration": 10,
    "start_time": "2023-12-10T19:45:28.078Z"
   },
   {
    "duration": 3,
    "start_time": "2023-12-10T19:45:43.587Z"
   },
   {
    "duration": 7,
    "start_time": "2023-12-10T19:46:14.750Z"
   },
   {
    "duration": 5,
    "start_time": "2023-12-10T19:46:24.293Z"
   },
   {
    "duration": 5,
    "start_time": "2023-12-10T19:46:40.886Z"
   },
   {
    "duration": 46,
    "start_time": "2023-12-10T19:49:50.788Z"
   },
   {
    "duration": 1212,
    "start_time": "2023-12-11T09:00:07.401Z"
   },
   {
    "duration": 437,
    "start_time": "2023-12-11T09:00:08.615Z"
   },
   {
    "duration": 12,
    "start_time": "2023-12-11T09:00:09.053Z"
   },
   {
    "duration": 14,
    "start_time": "2023-12-11T09:00:09.067Z"
   },
   {
    "duration": 22,
    "start_time": "2023-12-11T09:00:09.082Z"
   },
   {
    "duration": 30,
    "start_time": "2023-12-11T09:00:09.105Z"
   },
   {
    "duration": 15,
    "start_time": "2023-12-11T09:00:09.136Z"
   },
   {
    "duration": 16,
    "start_time": "2023-12-11T09:00:09.153Z"
   },
   {
    "duration": 17,
    "start_time": "2023-12-11T09:00:09.170Z"
   },
   {
    "duration": 30,
    "start_time": "2023-12-11T09:00:09.190Z"
   },
   {
    "duration": 16,
    "start_time": "2023-12-11T09:00:09.222Z"
   },
   {
    "duration": 13,
    "start_time": "2023-12-11T09:00:09.240Z"
   },
   {
    "duration": 30,
    "start_time": "2023-12-11T09:00:09.255Z"
   },
   {
    "duration": 27,
    "start_time": "2023-12-11T09:00:09.286Z"
   },
   {
    "duration": 29,
    "start_time": "2023-12-11T09:00:09.315Z"
   },
   {
    "duration": 19,
    "start_time": "2023-12-11T09:00:09.346Z"
   },
   {
    "duration": 6,
    "start_time": "2023-12-11T09:00:09.367Z"
   },
   {
    "duration": 7,
    "start_time": "2023-12-11T09:00:09.375Z"
   },
   {
    "duration": 6,
    "start_time": "2023-12-11T09:00:09.384Z"
   },
   {
    "duration": 202,
    "start_time": "2023-12-11T09:00:09.392Z"
   },
   {
    "duration": 8,
    "start_time": "2023-12-11T09:00:09.596Z"
   },
   {
    "duration": 114,
    "start_time": "2023-12-11T09:00:09.606Z"
   },
   {
    "duration": 5,
    "start_time": "2023-12-11T09:00:09.730Z"
   },
   {
    "duration": 37,
    "start_time": "2023-12-11T09:00:09.737Z"
   },
   {
    "duration": 316,
    "start_time": "2023-12-11T09:00:09.776Z"
   },
   {
    "duration": 597,
    "start_time": "2023-12-11T09:00:10.094Z"
   },
   {
    "duration": 381,
    "start_time": "2023-12-11T09:00:10.693Z"
   },
   {
    "duration": 326,
    "start_time": "2023-12-11T09:00:11.077Z"
   },
   {
    "duration": 11,
    "start_time": "2023-12-11T09:00:11.404Z"
   },
   {
    "duration": 32,
    "start_time": "2023-12-11T09:00:11.417Z"
   },
   {
    "duration": 5,
    "start_time": "2023-12-11T09:00:11.450Z"
   },
   {
    "duration": 22,
    "start_time": "2023-12-11T09:00:11.456Z"
   },
   {
    "duration": 31,
    "start_time": "2023-12-11T09:00:11.480Z"
   },
   {
    "duration": 346,
    "start_time": "2023-12-11T09:00:11.513Z"
   },
   {
    "duration": 6,
    "start_time": "2023-12-11T09:00:11.861Z"
   },
   {
    "duration": 484,
    "start_time": "2023-12-11T09:00:11.869Z"
   },
   {
    "duration": 6,
    "start_time": "2023-12-11T09:00:12.355Z"
   },
   {
    "duration": 344,
    "start_time": "2023-12-11T09:00:12.363Z"
   },
   {
    "duration": 7,
    "start_time": "2023-12-11T09:00:12.709Z"
   },
   {
    "duration": 455,
    "start_time": "2023-12-11T09:00:12.718Z"
   },
   {
    "duration": 5,
    "start_time": "2023-12-11T09:00:13.175Z"
   },
   {
    "duration": 492,
    "start_time": "2023-12-11T09:00:13.181Z"
   },
   {
    "duration": 465,
    "start_time": "2023-12-11T09:00:13.675Z"
   },
   {
    "duration": 4,
    "start_time": "2023-12-11T09:00:14.142Z"
   },
   {
    "duration": 44,
    "start_time": "2023-12-11T09:00:14.147Z"
   },
   {
    "duration": 95,
    "start_time": "2023-12-11T09:00:14.193Z"
   },
   {
    "duration": 23,
    "start_time": "2023-12-11T09:00:14.289Z"
   },
   {
    "duration": 23,
    "start_time": "2023-12-11T09:00:14.314Z"
   },
   {
    "duration": 23,
    "start_time": "2023-12-11T09:00:14.339Z"
   },
   {
    "duration": 25,
    "start_time": "2023-12-11T09:00:14.364Z"
   },
   {
    "duration": 40,
    "start_time": "2023-12-11T09:00:14.391Z"
   },
   {
    "duration": 22,
    "start_time": "2023-12-11T09:00:14.432Z"
   },
   {
    "duration": 310,
    "start_time": "2023-12-11T09:12:19.427Z"
   },
   {
    "duration": 277,
    "start_time": "2023-12-11T09:12:46.312Z"
   },
   {
    "duration": 1094,
    "start_time": "2023-12-11T09:12:52.904Z"
   },
   {
    "duration": 205,
    "start_time": "2023-12-11T09:12:54.000Z"
   },
   {
    "duration": 14,
    "start_time": "2023-12-11T09:12:54.207Z"
   },
   {
    "duration": 20,
    "start_time": "2023-12-11T09:12:54.222Z"
   },
   {
    "duration": 28,
    "start_time": "2023-12-11T09:12:54.244Z"
   },
   {
    "duration": 24,
    "start_time": "2023-12-11T09:12:54.273Z"
   },
   {
    "duration": 7,
    "start_time": "2023-12-11T09:12:54.299Z"
   },
   {
    "duration": 16,
    "start_time": "2023-12-11T09:12:54.308Z"
   },
   {
    "duration": 25,
    "start_time": "2023-12-11T09:12:54.326Z"
   },
   {
    "duration": 22,
    "start_time": "2023-12-11T09:12:54.353Z"
   },
   {
    "duration": 18,
    "start_time": "2023-12-11T09:12:54.377Z"
   },
   {
    "duration": 17,
    "start_time": "2023-12-11T09:12:54.397Z"
   },
   {
    "duration": 15,
    "start_time": "2023-12-11T09:12:54.416Z"
   },
   {
    "duration": 12,
    "start_time": "2023-12-11T09:12:54.435Z"
   },
   {
    "duration": 7,
    "start_time": "2023-12-11T09:12:54.449Z"
   },
   {
    "duration": 32,
    "start_time": "2023-12-11T09:12:54.458Z"
   },
   {
    "duration": 23,
    "start_time": "2023-12-11T09:12:54.491Z"
   },
   {
    "duration": 20,
    "start_time": "2023-12-11T09:12:54.515Z"
   },
   {
    "duration": 10,
    "start_time": "2023-12-11T09:12:54.536Z"
   },
   {
    "duration": 193,
    "start_time": "2023-12-11T09:12:54.548Z"
   },
   {
    "duration": 8,
    "start_time": "2023-12-11T09:12:54.743Z"
   },
   {
    "duration": 125,
    "start_time": "2023-12-11T09:12:54.752Z"
   },
   {
    "duration": 5,
    "start_time": "2023-12-11T09:12:54.879Z"
   },
   {
    "duration": 9,
    "start_time": "2023-12-11T09:12:54.885Z"
   },
   {
    "duration": 286,
    "start_time": "2023-12-11T09:12:54.896Z"
   },
   {
    "duration": 614,
    "start_time": "2023-12-11T09:12:55.183Z"
   },
   {
    "duration": 355,
    "start_time": "2023-12-11T09:12:55.799Z"
   },
   {
    "duration": 297,
    "start_time": "2023-12-11T09:12:56.156Z"
   },
   {
    "duration": 12,
    "start_time": "2023-12-11T09:12:56.455Z"
   },
   {
    "duration": 30,
    "start_time": "2023-12-11T09:12:56.469Z"
   },
   {
    "duration": 23,
    "start_time": "2023-12-11T09:12:56.501Z"
   },
   {
    "duration": 39,
    "start_time": "2023-12-11T09:12:56.526Z"
   },
   {
    "duration": 18,
    "start_time": "2023-12-11T09:12:56.567Z"
   },
   {
    "duration": 316,
    "start_time": "2023-12-11T09:12:56.587Z"
   },
   {
    "duration": 5,
    "start_time": "2023-12-11T09:12:56.905Z"
   },
   {
    "duration": 335,
    "start_time": "2023-12-11T09:12:56.912Z"
   },
   {
    "duration": 5,
    "start_time": "2023-12-11T09:12:57.248Z"
   },
   {
    "duration": 328,
    "start_time": "2023-12-11T09:12:57.255Z"
   },
   {
    "duration": 4,
    "start_time": "2023-12-11T09:12:57.585Z"
   },
   {
    "duration": 461,
    "start_time": "2023-12-11T09:12:57.591Z"
   },
   {
    "duration": 5,
    "start_time": "2023-12-11T09:12:58.056Z"
   },
   {
    "duration": 485,
    "start_time": "2023-12-11T09:12:58.062Z"
   },
   {
    "duration": 495,
    "start_time": "2023-12-11T09:12:58.549Z"
   },
   {
    "duration": 4,
    "start_time": "2023-12-11T09:12:59.046Z"
   },
   {
    "duration": 40,
    "start_time": "2023-12-11T09:12:59.052Z"
   },
   {
    "duration": 93,
    "start_time": "2023-12-11T09:12:59.093Z"
   },
   {
    "duration": 20,
    "start_time": "2023-12-11T09:12:59.188Z"
   },
   {
    "duration": 22,
    "start_time": "2023-12-11T09:12:59.210Z"
   },
   {
    "duration": 33,
    "start_time": "2023-12-11T09:12:59.234Z"
   },
   {
    "duration": 24,
    "start_time": "2023-12-11T09:12:59.268Z"
   },
   {
    "duration": 20,
    "start_time": "2023-12-11T09:12:59.293Z"
   },
   {
    "duration": 56,
    "start_time": "2023-12-11T09:12:59.316Z"
   },
   {
    "duration": 1008,
    "start_time": "2023-12-11T09:44:48.091Z"
   },
   {
    "duration": 123,
    "start_time": "2023-12-11T09:44:49.101Z"
   },
   {
    "duration": 11,
    "start_time": "2023-12-11T09:44:49.226Z"
   },
   {
    "duration": 14,
    "start_time": "2023-12-11T09:44:49.238Z"
   },
   {
    "duration": 9,
    "start_time": "2023-12-11T09:44:49.254Z"
   },
   {
    "duration": 11,
    "start_time": "2023-12-11T09:44:49.264Z"
   },
   {
    "duration": 6,
    "start_time": "2023-12-11T09:44:49.277Z"
   },
   {
    "duration": 13,
    "start_time": "2023-12-11T09:44:49.284Z"
   },
   {
    "duration": 32,
    "start_time": "2023-12-11T09:44:49.299Z"
   },
   {
    "duration": 10,
    "start_time": "2023-12-11T09:44:49.332Z"
   },
   {
    "duration": 11,
    "start_time": "2023-12-11T09:44:49.344Z"
   },
   {
    "duration": 7,
    "start_time": "2023-12-11T09:44:49.356Z"
   },
   {
    "duration": 5,
    "start_time": "2023-12-11T09:44:49.364Z"
   },
   {
    "duration": 8,
    "start_time": "2023-12-11T09:44:49.372Z"
   },
   {
    "duration": 10,
    "start_time": "2023-12-11T09:44:49.381Z"
   },
   {
    "duration": 39,
    "start_time": "2023-12-11T09:44:49.392Z"
   },
   {
    "duration": 7,
    "start_time": "2023-12-11T09:44:49.433Z"
   },
   {
    "duration": 7,
    "start_time": "2023-12-11T09:44:49.442Z"
   },
   {
    "duration": 7,
    "start_time": "2023-12-11T09:44:49.450Z"
   },
   {
    "duration": 215,
    "start_time": "2023-12-11T09:44:49.458Z"
   },
   {
    "duration": 6,
    "start_time": "2023-12-11T09:44:49.674Z"
   },
   {
    "duration": 102,
    "start_time": "2023-12-11T09:44:49.682Z"
   },
   {
    "duration": 4,
    "start_time": "2023-12-11T09:44:49.786Z"
   },
   {
    "duration": 4,
    "start_time": "2023-12-11T09:44:49.792Z"
   },
   {
    "duration": 272,
    "start_time": "2023-12-11T09:44:49.797Z"
   },
   {
    "duration": 551,
    "start_time": "2023-12-11T09:44:50.071Z"
   },
   {
    "duration": 352,
    "start_time": "2023-12-11T09:44:50.624Z"
   },
   {
    "duration": 318,
    "start_time": "2023-12-11T09:44:50.978Z"
   },
   {
    "duration": 10,
    "start_time": "2023-12-11T09:44:51.298Z"
   },
   {
    "duration": 39,
    "start_time": "2023-12-11T09:44:51.309Z"
   },
   {
    "duration": 4,
    "start_time": "2023-12-11T09:44:51.349Z"
   },
   {
    "duration": 37,
    "start_time": "2023-12-11T09:44:51.354Z"
   },
   {
    "duration": 19,
    "start_time": "2023-12-11T09:44:51.392Z"
   },
   {
    "duration": 342,
    "start_time": "2023-12-11T09:44:51.413Z"
   },
   {
    "duration": 6,
    "start_time": "2023-12-11T09:44:51.756Z"
   },
   {
    "duration": 366,
    "start_time": "2023-12-11T09:44:51.763Z"
   },
   {
    "duration": 5,
    "start_time": "2023-12-11T09:44:52.131Z"
   },
   {
    "duration": 319,
    "start_time": "2023-12-11T09:44:52.137Z"
   },
   {
    "duration": 5,
    "start_time": "2023-12-11T09:44:52.458Z"
   },
   {
    "duration": 445,
    "start_time": "2023-12-11T09:44:52.464Z"
   },
   {
    "duration": 6,
    "start_time": "2023-12-11T09:44:52.913Z"
   },
   {
    "duration": 471,
    "start_time": "2023-12-11T09:44:52.921Z"
   },
   {
    "duration": 473,
    "start_time": "2023-12-11T09:44:53.393Z"
   },
   {
    "duration": 4,
    "start_time": "2023-12-11T09:44:53.868Z"
   },
   {
    "duration": 45,
    "start_time": "2023-12-11T09:44:53.874Z"
   },
   {
    "duration": 74,
    "start_time": "2023-12-11T09:44:53.921Z"
   },
   {
    "duration": 18,
    "start_time": "2023-12-11T09:44:53.997Z"
   },
   {
    "duration": 13,
    "start_time": "2023-12-11T09:44:54.017Z"
   },
   {
    "duration": 22,
    "start_time": "2023-12-11T09:44:54.031Z"
   },
   {
    "duration": 24,
    "start_time": "2023-12-11T09:44:54.055Z"
   },
   {
    "duration": 58,
    "start_time": "2023-12-11T09:44:54.081Z"
   },
   {
    "duration": 23,
    "start_time": "2023-12-11T09:44:54.141Z"
   },
   {
    "duration": 58,
    "start_time": "2023-12-11T15:53:52.094Z"
   },
   {
    "duration": 1323,
    "start_time": "2023-12-11T15:53:59.280Z"
   },
   {
    "duration": 266,
    "start_time": "2023-12-11T15:54:00.605Z"
   },
   {
    "duration": 12,
    "start_time": "2023-12-11T15:54:00.872Z"
   },
   {
    "duration": 53,
    "start_time": "2023-12-11T15:54:00.886Z"
   },
   {
    "duration": 18,
    "start_time": "2023-12-11T15:54:00.941Z"
   },
   {
    "duration": 11,
    "start_time": "2023-12-11T15:54:01.058Z"
   },
   {
    "duration": 6,
    "start_time": "2023-12-11T15:54:01.270Z"
   },
   {
    "duration": 10,
    "start_time": "2023-12-11T15:54:01.470Z"
   },
   {
    "duration": 7,
    "start_time": "2023-12-11T15:54:02.975Z"
   },
   {
    "duration": 16,
    "start_time": "2023-12-11T15:54:03.617Z"
   },
   {
    "duration": 11,
    "start_time": "2023-12-11T15:54:04.281Z"
   },
   {
    "duration": 6,
    "start_time": "2023-12-11T15:54:04.506Z"
   },
   {
    "duration": 5,
    "start_time": "2023-12-11T15:54:05.696Z"
   },
   {
    "duration": 5,
    "start_time": "2023-12-11T15:54:05.719Z"
   },
   {
    "duration": 5,
    "start_time": "2023-12-11T15:54:05.751Z"
   },
   {
    "duration": 9,
    "start_time": "2023-12-11T15:54:05.818Z"
   },
   {
    "duration": 4,
    "start_time": "2023-12-11T15:54:05.874Z"
   },
   {
    "duration": 6,
    "start_time": "2023-12-11T15:54:05.906Z"
   },
   {
    "duration": 9,
    "start_time": "2023-12-11T15:54:07.229Z"
   },
   {
    "duration": 173,
    "start_time": "2023-12-11T15:54:07.441Z"
   },
   {
    "duration": 5,
    "start_time": "2023-12-11T15:54:10.053Z"
   },
   {
    "duration": 90,
    "start_time": "2023-12-11T15:54:10.299Z"
   },
   {
    "duration": 4,
    "start_time": "2023-12-11T15:54:11.703Z"
   },
   {
    "duration": 63,
    "start_time": "2023-12-11T15:54:12.625Z"
   },
   {
    "duration": 11,
    "start_time": "2023-12-11T15:54:19.934Z"
   },
   {
    "duration": 16683,
    "start_time": "2023-12-11T15:54:47.521Z"
   },
   {
    "duration": 7,
    "start_time": "2023-12-11T16:34:02.723Z"
   },
   {
    "duration": 17,
    "start_time": "2023-12-11T16:34:13.276Z"
   },
   {
    "duration": 10,
    "start_time": "2023-12-11T16:34:27.855Z"
   },
   {
    "duration": 8,
    "start_time": "2023-12-11T16:34:36.284Z"
   },
   {
    "duration": 14,
    "start_time": "2023-12-11T16:37:35.737Z"
   },
   {
    "duration": 15,
    "start_time": "2023-12-11T16:38:13.788Z"
   },
   {
    "duration": 138,
    "start_time": "2023-12-11T16:38:44.723Z"
   },
   {
    "duration": 9,
    "start_time": "2023-12-11T16:39:27.321Z"
   },
   {
    "duration": 3,
    "start_time": "2023-12-11T16:39:35.422Z"
   },
   {
    "duration": 137,
    "start_time": "2023-12-11T16:39:36.020Z"
   },
   {
    "duration": 7,
    "start_time": "2023-12-11T16:39:36.159Z"
   },
   {
    "duration": 42,
    "start_time": "2023-12-11T16:39:36.168Z"
   },
   {
    "duration": 8,
    "start_time": "2023-12-11T16:39:36.212Z"
   },
   {
    "duration": 26,
    "start_time": "2023-12-11T16:39:36.221Z"
   },
   {
    "duration": 19,
    "start_time": "2023-12-11T16:39:36.248Z"
   },
   {
    "duration": 11,
    "start_time": "2023-12-11T16:39:36.269Z"
   },
   {
    "duration": 6,
    "start_time": "2023-12-11T16:39:36.443Z"
   },
   {
    "duration": 9,
    "start_time": "2023-12-11T16:39:36.536Z"
   },
   {
    "duration": 10,
    "start_time": "2023-12-11T16:39:36.623Z"
   },
   {
    "duration": 5,
    "start_time": "2023-12-11T16:39:36.658Z"
   },
   {
    "duration": 6,
    "start_time": "2023-12-11T16:39:36.807Z"
   },
   {
    "duration": 6,
    "start_time": "2023-12-11T16:39:36.830Z"
   },
   {
    "duration": 5,
    "start_time": "2023-12-11T16:39:36.862Z"
   },
   {
    "duration": 6,
    "start_time": "2023-12-11T16:39:36.926Z"
   },
   {
    "duration": 5,
    "start_time": "2023-12-11T16:39:36.988Z"
   },
   {
    "duration": 6,
    "start_time": "2023-12-11T16:39:37.023Z"
   },
   {
    "duration": 5,
    "start_time": "2023-12-11T16:39:37.172Z"
   },
   {
    "duration": 157,
    "start_time": "2023-12-11T16:39:37.197Z"
   },
   {
    "duration": 5,
    "start_time": "2023-12-11T16:39:37.356Z"
   },
   {
    "duration": 105,
    "start_time": "2023-12-11T16:39:37.363Z"
   },
   {
    "duration": 4,
    "start_time": "2023-12-11T16:39:37.480Z"
   },
   {
    "duration": 10,
    "start_time": "2023-12-11T16:39:37.536Z"
   },
   {
    "duration": 17108,
    "start_time": "2023-12-11T16:39:37.568Z"
   },
   {
    "duration": 794,
    "start_time": "2023-12-11T16:39:54.678Z"
   },
   {
    "duration": 266,
    "start_time": "2023-12-11T16:39:55.473Z"
   },
   {
    "duration": 289,
    "start_time": "2023-12-11T16:39:55.741Z"
   },
   {
    "duration": 15,
    "start_time": "2023-12-11T16:39:56.032Z"
   },
   {
    "duration": 0,
    "start_time": "2023-12-11T16:39:56.049Z"
   },
   {
    "duration": 0,
    "start_time": "2023-12-11T16:39:56.050Z"
   },
   {
    "duration": 0,
    "start_time": "2023-12-11T16:39:56.051Z"
   },
   {
    "duration": 0,
    "start_time": "2023-12-11T16:39:56.052Z"
   },
   {
    "duration": 0,
    "start_time": "2023-12-11T16:39:56.053Z"
   },
   {
    "duration": 0,
    "start_time": "2023-12-11T16:39:56.054Z"
   },
   {
    "duration": 0,
    "start_time": "2023-12-11T16:39:56.055Z"
   },
   {
    "duration": 0,
    "start_time": "2023-12-11T16:39:56.056Z"
   },
   {
    "duration": 0,
    "start_time": "2023-12-11T16:39:56.056Z"
   },
   {
    "duration": 0,
    "start_time": "2023-12-11T16:39:56.057Z"
   },
   {
    "duration": 0,
    "start_time": "2023-12-11T16:39:56.058Z"
   },
   {
    "duration": 0,
    "start_time": "2023-12-11T16:39:56.060Z"
   },
   {
    "duration": 0,
    "start_time": "2023-12-11T16:39:56.060Z"
   },
   {
    "duration": 0,
    "start_time": "2023-12-11T16:39:56.061Z"
   },
   {
    "duration": 6,
    "start_time": "2023-12-11T16:41:30.282Z"
   },
   {
    "duration": 17539,
    "start_time": "2023-12-11T16:42:19.327Z"
   },
   {
    "duration": 254,
    "start_time": "2023-12-11T16:43:39.111Z"
   },
   {
    "duration": 5,
    "start_time": "2023-12-11T16:47:18.332Z"
   },
   {
    "duration": 6,
    "start_time": "2023-12-11T16:47:32.331Z"
   },
   {
    "duration": 4,
    "start_time": "2023-12-11T16:47:43.961Z"
   },
   {
    "duration": 6,
    "start_time": "2023-12-11T16:47:46.557Z"
   },
   {
    "duration": 6,
    "start_time": "2023-12-11T16:47:56.703Z"
   },
   {
    "duration": 251,
    "start_time": "2023-12-11T16:48:16.797Z"
   },
   {
    "duration": 9,
    "start_time": "2023-12-11T16:54:46.321Z"
   },
   {
    "duration": 15,
    "start_time": "2023-12-11T16:55:40.430Z"
   },
   {
    "duration": 15,
    "start_time": "2023-12-11T16:55:49.686Z"
   },
   {
    "duration": 99,
    "start_time": "2023-12-11T16:56:00.206Z"
   },
   {
    "duration": 115,
    "start_time": "2023-12-11T16:56:16.416Z"
   },
   {
    "duration": 582,
    "start_time": "2023-12-11T16:57:53.499Z"
   },
   {
    "duration": 10,
    "start_time": "2023-12-11T16:58:17.243Z"
   },
   {
    "duration": 11,
    "start_time": "2023-12-11T16:58:33.489Z"
   },
   {
    "duration": 10,
    "start_time": "2023-12-11T16:58:52.576Z"
   },
   {
    "duration": 1107,
    "start_time": "2023-12-11T16:59:03.296Z"
   },
   {
    "duration": 10,
    "start_time": "2023-12-11T16:59:54.833Z"
   },
   {
    "duration": 18,
    "start_time": "2023-12-11T16:59:55.095Z"
   },
   {
    "duration": 3,
    "start_time": "2023-12-11T16:59:55.343Z"
   },
   {
    "duration": 14,
    "start_time": "2023-12-11T16:59:56.946Z"
   },
   {
    "duration": 16,
    "start_time": "2023-12-11T17:00:00.807Z"
   },
   {
    "duration": 288,
    "start_time": "2023-12-11T17:00:02.750Z"
   },
   {
    "duration": 5,
    "start_time": "2023-12-11T17:00:03.219Z"
   },
   {
    "duration": 295,
    "start_time": "2023-12-11T17:00:04.140Z"
   },
   {
    "duration": 4,
    "start_time": "2023-12-11T17:00:04.648Z"
   },
   {
    "duration": 305,
    "start_time": "2023-12-11T17:00:04.739Z"
   },
   {
    "duration": 4,
    "start_time": "2023-12-11T17:00:05.046Z"
   },
   {
    "duration": 326,
    "start_time": "2023-12-11T17:00:05.051Z"
   },
   {
    "duration": 4,
    "start_time": "2023-12-11T17:00:05.379Z"
   },
   {
    "duration": 477,
    "start_time": "2023-12-11T17:00:05.385Z"
   },
   {
    "duration": 936,
    "start_time": "2023-12-11T17:00:05.864Z"
   },
   {
    "duration": 11,
    "start_time": "2023-12-11T17:00:06.801Z"
   },
   {
    "duration": 48,
    "start_time": "2023-12-11T17:00:06.813Z"
   },
   {
    "duration": 114,
    "start_time": "2023-12-11T17:00:06.863Z"
   },
   {
    "duration": 15,
    "start_time": "2023-12-11T17:00:06.978Z"
   },
   {
    "duration": 12,
    "start_time": "2023-12-11T17:00:06.995Z"
   },
   {
    "duration": 14,
    "start_time": "2023-12-11T17:00:07.008Z"
   },
   {
    "duration": 18,
    "start_time": "2023-12-11T17:00:07.024Z"
   },
   {
    "duration": 10,
    "start_time": "2023-12-11T17:00:07.043Z"
   },
   {
    "duration": 13,
    "start_time": "2023-12-11T17:00:07.054Z"
   },
   {
    "duration": 466,
    "start_time": "2023-12-11T17:01:13.549Z"
   },
   {
    "duration": 9,
    "start_time": "2023-12-11T17:01:50.826Z"
   },
   {
    "duration": 11,
    "start_time": "2023-12-11T17:02:13.575Z"
   },
   {
    "duration": 112,
    "start_time": "2023-12-11T17:02:43.060Z"
   },
   {
    "duration": 113,
    "start_time": "2023-12-11T17:02:57.845Z"
   },
   {
    "duration": 154,
    "start_time": "2023-12-11T17:04:31.623Z"
   },
   {
    "duration": 112,
    "start_time": "2023-12-11T17:04:37.486Z"
   },
   {
    "duration": 5,
    "start_time": "2023-12-11T17:10:55.602Z"
   },
   {
    "duration": 15,
    "start_time": "2023-12-11T17:11:06.063Z"
   },
   {
    "duration": 5,
    "start_time": "2023-12-11T17:11:22.618Z"
   },
   {
    "duration": 10,
    "start_time": "2023-12-11T17:11:29.691Z"
   },
   {
    "duration": 16,
    "start_time": "2023-12-11T17:11:30.200Z"
   },
   {
    "duration": 6,
    "start_time": "2023-12-11T17:11:30.225Z"
   },
   {
    "duration": 14,
    "start_time": "2023-12-11T17:11:30.377Z"
   },
   {
    "duration": 14,
    "start_time": "2023-12-11T17:11:30.441Z"
   },
   {
    "duration": 298,
    "start_time": "2023-12-11T17:11:30.568Z"
   },
   {
    "duration": 5,
    "start_time": "2023-12-11T17:11:30.868Z"
   },
   {
    "duration": 347,
    "start_time": "2023-12-11T17:11:30.874Z"
   },
   {
    "duration": 4,
    "start_time": "2023-12-11T17:11:31.223Z"
   },
   {
    "duration": 315,
    "start_time": "2023-12-11T17:11:31.228Z"
   },
   {
    "duration": 4,
    "start_time": "2023-12-11T17:11:31.545Z"
   },
   {
    "duration": 354,
    "start_time": "2023-12-11T17:11:31.550Z"
   },
   {
    "duration": 7,
    "start_time": "2023-12-11T17:11:31.906Z"
   },
   {
    "duration": 481,
    "start_time": "2023-12-11T17:11:31.915Z"
   },
   {
    "duration": 463,
    "start_time": "2023-12-11T17:11:32.398Z"
   },
   {
    "duration": 4,
    "start_time": "2023-12-11T17:11:32.929Z"
   },
   {
    "duration": 14,
    "start_time": "2023-12-11T17:11:33.268Z"
   },
   {
    "duration": 51,
    "start_time": "2023-12-11T17:11:33.478Z"
   },
   {
    "duration": 17,
    "start_time": "2023-12-11T17:11:33.888Z"
   },
   {
    "duration": 6,
    "start_time": "2023-12-11T17:11:34.426Z"
   },
   {
    "duration": 12,
    "start_time": "2023-12-11T17:11:34.461Z"
   },
   {
    "duration": 5,
    "start_time": "2023-12-11T17:11:37.336Z"
   },
   {
    "duration": 5,
    "start_time": "2023-12-11T17:11:41.499Z"
   },
   {
    "duration": 1078,
    "start_time": "2023-12-11T23:20:16.434Z"
   },
   {
    "duration": 366,
    "start_time": "2023-12-11T23:20:17.513Z"
   },
   {
    "duration": 10,
    "start_time": "2023-12-11T23:20:17.881Z"
   },
   {
    "duration": 23,
    "start_time": "2023-12-11T23:20:17.892Z"
   },
   {
    "duration": 26,
    "start_time": "2023-12-11T23:20:17.917Z"
   },
   {
    "duration": 30,
    "start_time": "2023-12-11T23:20:17.944Z"
   },
   {
    "duration": 18,
    "start_time": "2023-12-11T23:20:17.975Z"
   },
   {
    "duration": 22,
    "start_time": "2023-12-11T23:20:17.994Z"
   },
   {
    "duration": 18,
    "start_time": "2023-12-11T23:20:18.017Z"
   },
   {
    "duration": 14,
    "start_time": "2023-12-11T23:20:18.036Z"
   },
   {
    "duration": 42,
    "start_time": "2023-12-11T23:20:18.051Z"
   },
   {
    "duration": 14,
    "start_time": "2023-12-11T23:20:18.094Z"
   },
   {
    "duration": 7,
    "start_time": "2023-12-11T23:20:18.109Z"
   },
   {
    "duration": 40,
    "start_time": "2023-12-11T23:20:18.118Z"
   },
   {
    "duration": 20,
    "start_time": "2023-12-11T23:20:18.159Z"
   },
   {
    "duration": 19,
    "start_time": "2023-12-11T23:20:18.180Z"
   },
   {
    "duration": 11,
    "start_time": "2023-12-11T23:20:18.200Z"
   },
   {
    "duration": 7,
    "start_time": "2023-12-11T23:20:18.213Z"
   },
   {
    "duration": 18,
    "start_time": "2023-12-11T23:20:18.222Z"
   },
   {
    "duration": 164,
    "start_time": "2023-12-11T23:20:18.241Z"
   },
   {
    "duration": 6,
    "start_time": "2023-12-11T23:20:18.406Z"
   },
   {
    "duration": 149,
    "start_time": "2023-12-11T23:20:18.413Z"
   },
   {
    "duration": 8,
    "start_time": "2023-12-11T23:20:18.564Z"
   },
   {
    "duration": 337,
    "start_time": "2023-12-11T23:20:18.573Z"
   },
   {
    "duration": 482,
    "start_time": "2023-12-11T23:20:18.912Z"
   },
   {
    "duration": 292,
    "start_time": "2023-12-11T23:20:19.395Z"
   },
   {
    "duration": 256,
    "start_time": "2023-12-11T23:20:19.688Z"
   },
   {
    "duration": 112,
    "start_time": "2023-12-11T23:20:19.946Z"
   },
   {
    "duration": 16,
    "start_time": "2023-12-11T23:20:20.059Z"
   },
   {
    "duration": 23,
    "start_time": "2023-12-11T23:20:20.076Z"
   },
   {
    "duration": 3,
    "start_time": "2023-12-11T23:20:20.100Z"
   },
   {
    "duration": 20,
    "start_time": "2023-12-11T23:20:20.104Z"
   },
   {
    "duration": 13,
    "start_time": "2023-12-11T23:20:20.125Z"
   },
   {
    "duration": 315,
    "start_time": "2023-12-11T23:20:20.139Z"
   },
   {
    "duration": 13,
    "start_time": "2023-12-11T23:20:20.456Z"
   },
   {
    "duration": 292,
    "start_time": "2023-12-11T23:20:20.471Z"
   },
   {
    "duration": 8,
    "start_time": "2023-12-11T23:20:20.764Z"
   },
   {
    "duration": 290,
    "start_time": "2023-12-11T23:20:20.773Z"
   },
   {
    "duration": 6,
    "start_time": "2023-12-11T23:20:21.065Z"
   },
   {
    "duration": 343,
    "start_time": "2023-12-11T23:20:21.073Z"
   },
   {
    "duration": 5,
    "start_time": "2023-12-11T23:20:21.421Z"
   },
   {
    "duration": 411,
    "start_time": "2023-12-11T23:20:21.427Z"
   },
   {
    "duration": 413,
    "start_time": "2023-12-11T23:20:21.840Z"
   },
   {
    "duration": 3,
    "start_time": "2023-12-11T23:20:22.254Z"
   },
   {
    "duration": 29,
    "start_time": "2023-12-11T23:20:22.259Z"
   },
   {
    "duration": 70,
    "start_time": "2023-12-11T23:20:22.290Z"
   },
   {
    "duration": 14,
    "start_time": "2023-12-11T23:20:22.362Z"
   },
   {
    "duration": 4,
    "start_time": "2023-12-11T23:20:22.378Z"
   },
   {
    "duration": 14,
    "start_time": "2023-12-11T23:20:22.383Z"
   },
   {
    "duration": 14,
    "start_time": "2023-12-11T23:20:22.398Z"
   },
   {
    "duration": 7,
    "start_time": "2023-12-11T23:20:22.414Z"
   },
   {
    "duration": 14,
    "start_time": "2023-12-11T23:20:22.422Z"
   }
  ],
  "kernelspec": {
   "display_name": "Python 3 (ipykernel)",
   "language": "python",
   "name": "python3"
  },
  "language_info": {
   "codemirror_mode": {
    "name": "ipython",
    "version": 3
   },
   "file_extension": ".py",
   "mimetype": "text/x-python",
   "name": "python",
   "nbconvert_exporter": "python",
   "pygments_lexer": "ipython3",
   "version": "3.11.7"
  },
  "toc": {
   "base_numbering": 1,
   "nav_menu": {},
   "number_sections": true,
   "sideBar": true,
   "skip_h1_title": true,
   "title_cell": "Table of Contents",
   "title_sidebar": "Contents",
   "toc_cell": false,
   "toc_position": {
    "height": "calc(100% - 180px)",
    "left": "10px",
    "top": "150px",
    "width": "284.8px"
   },
   "toc_section_display": true,
   "toc_window_display": false
  }
 },
 "nbformat": 4,
 "nbformat_minor": 5
}
